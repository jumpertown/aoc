{
 "cells": [
  {
   "cell_type": "markdown",
   "id": "90fde348",
   "metadata": {},
   "source": [
    "# Advent of Code 2021\n",
    "\n",
    "Never again.\n",
    "\n",
    "That's what I said in 2019. I both love https://adventofcode.com and hate that the puzzles are so beautifully put together that I can't resist doing one more little one - even though I really don't need anything else going on in my life over the festive season. Perhaps I'll just take a look at day 1... And then...\n",
    "\n",
    "Well if I'm going to do this I might as well record feelings I've had along the way and any insights into how I could approach other problems better.\n",
    "\n",
    "I'm no way committing to completing it this year. (Come on - you don't have to do this)\n",
    "\n",
    "Merry Christmas, J."
   ]
  },
  {
   "cell_type": "code",
   "execution_count": 2,
   "id": "8d8a1407",
   "metadata": {},
   "outputs": [],
   "source": [
    "from collections import (\n",
    "    Counter,\n",
    "    defaultdict,\n",
    "    deque,\n",
    "    namedtuple\n",
    ")\n",
    "\n",
    "from dataclasses import dataclass\n",
    "import re"
   ]
  },
  {
   "cell_type": "code",
   "execution_count": 3,
   "id": "855ab138",
   "metadata": {},
   "outputs": [],
   "source": [
    "def get_puzzle_input(file, strip_lines=True, remove_blank_lines=True):\n",
    "    \"\"\"Return the puzzle input as a list.\"\"\"\n",
    "    with open(file) as fh:\n",
    "        lines = fh.readlines()\n",
    "    \n",
    "    if strip_lines:\n",
    "        lines = [l.strip() for l in lines]\n",
    "    \n",
    "    if remove_blank_lines:\n",
    "        lines = [l for l in lines if l]\n",
    "        \n",
    "        \n",
    "    return lines"
   ]
  },
  {
   "cell_type": "markdown",
   "id": "e94b8c20",
   "metadata": {},
   "source": [
    "## Day 1 Sonar Sweep\n",
    "\n",
    "https://adventofcode.com/2021/day/1\n",
    "\n",
    "Count the number of times a depth measurement increases from the previous measurement. (There is no measurement before the first measurement.)"
   ]
  },
  {
   "cell_type": "code",
   "execution_count": 4,
   "id": "3f4c013b",
   "metadata": {},
   "outputs": [],
   "source": [
    "test_input = [\n",
    "    199,\n",
    "    200,\n",
    "    208,\n",
    "    210,\n",
    "    200,\n",
    "    207,\n",
    "    240,\n",
    "    269,\n",
    "    260,\n",
    "    263\n",
    "]\n",
    "real_input = get_puzzle_input('input.txt')\n",
    "real_input = [int(i) for i in real_input]"
   ]
  },
  {
   "cell_type": "code",
   "execution_count": 5,
   "id": "7f764b92",
   "metadata": {},
   "outputs": [],
   "source": [
    "def num_increases(puzzle_input):\n",
    "    num_increases = 0\n",
    "    current_num = None\n",
    "    for val in puzzle_input:\n",
    "        if current_num is not None and val > current_num:\n",
    "            num_increases += 1\n",
    "        current_num = val\n",
    "\n",
    "    return num_increases"
   ]
  },
  {
   "cell_type": "code",
   "execution_count": 6,
   "id": "7f2a95cb",
   "metadata": {},
   "outputs": [
    {
     "data": {
      "text/plain": [
       "(7, 1754)"
      ]
     },
     "execution_count": 6,
     "metadata": {},
     "output_type": "execute_result"
    }
   ],
   "source": [
    "num_increases(test_input), num_increases(real_input)"
   ]
  },
  {
   "cell_type": "markdown",
   "id": "afe0f5ec",
   "metadata": {},
   "source": [
    "### Day 1 Part 2\n",
    "Instead, consider sums of a three-measurement sliding window"
   ]
  },
  {
   "cell_type": "code",
   "execution_count": 7,
   "id": "4f43bec1",
   "metadata": {},
   "outputs": [],
   "source": [
    "def windows(puzzle_input, window_size):\n",
    "    output = []\n",
    "    puzzle_len = len(puzzle_input)\n",
    "    for puzzle_idx in range(puzzle_len):\n",
    "        window = []\n",
    "        for window_idx in range(window_size):\n",
    "            idx = puzzle_idx + window_idx\n",
    "            if idx < puzzle_len:\n",
    "                window.append(puzzle_input[idx])\n",
    "        output.append(tuple(window))\n",
    "    return output"
   ]
  },
  {
   "cell_type": "code",
   "execution_count": 8,
   "id": "58ff4443",
   "metadata": {},
   "outputs": [
    {
     "data": {
      "text/plain": [
       "[(199, 200, 208),\n",
       " (200, 208, 210),\n",
       " (208, 210, 200),\n",
       " (210, 200, 207),\n",
       " (200, 207, 240),\n",
       " (207, 240, 269),\n",
       " (240, 269, 260),\n",
       " (269, 260, 263),\n",
       " (260, 263),\n",
       " (263,)]"
      ]
     },
     "execution_count": 8,
     "metadata": {},
     "output_type": "execute_result"
    }
   ],
   "source": [
    "windows(test_input, 3)"
   ]
  },
  {
   "cell_type": "code",
   "execution_count": 9,
   "id": "fa165613",
   "metadata": {},
   "outputs": [
    {
     "data": {
      "text/plain": [
       "5"
      ]
     },
     "execution_count": 9,
     "metadata": {},
     "output_type": "execute_result"
    }
   ],
   "source": [
    "windowed_test_input = [sum(x) for x in windows(test_input, 3)]\n",
    "num_increases(windowed_test_input)"
   ]
  },
  {
   "cell_type": "code",
   "execution_count": 10,
   "id": "8ce605f3",
   "metadata": {},
   "outputs": [
    {
     "data": {
      "text/plain": [
       "1789"
      ]
     },
     "execution_count": 10,
     "metadata": {},
     "output_type": "execute_result"
    }
   ],
   "source": [
    "windowed_real_input = [sum(x) for x in windows(real_input, 3)]\n",
    "num_increases(windowed_real_input)"
   ]
  },
  {
   "cell_type": "markdown",
   "id": "25f2ff98",
   "metadata": {},
   "source": [
    "### Day 1 Observations\n",
    "\n",
    "I skipped last year's AOC and I realise that I always go into each of these puzzles with the expectation that I won't have a clue where to start and everyone else will be able to see the solution. Also interesting that I started on the windowing solution just as my train was pulling into the station with a 'write it and see what happens' mind set; it was turning into a real mess. During the next 10 minute bus ride I had a much clearer idea of what I was going to do. Sometimes it pays to walk away from the keyboard."
   ]
  },
  {
   "cell_type": "markdown",
   "id": "381d7ece",
   "metadata": {},
   "source": [
    "## Day 2 Dive!\n",
    "\n",
    "https://adventofcode.com/2021/day/2\n",
    "\n",
    "Calculate the horizontal position and depth you would have after following the planned course."
   ]
  },
  {
   "cell_type": "code",
   "execution_count": 11,
   "id": "35ccf729",
   "metadata": {},
   "outputs": [],
   "source": [
    "@dataclass(frozen=True)\n",
    "class Position:\n",
    "    horizontal: int = 0\n",
    "    depth: int = 0\n",
    "    \n",
    "    def move(self, command):\n",
    "        movement_map = {\n",
    "            'forward': (1, 0),\n",
    "            'down': (0, 1),\n",
    "            'up': (0, -1),\n",
    "        }\n",
    "        input_re = re.compile(r'(\\S+) ([0-9-]+)')\n",
    "        match = input_re.match(command)\n",
    "        if not match:\n",
    "            print(command)\n",
    "        \n",
    "        direction = match.groups()[0]\n",
    "        amount = int(match.groups()[1])\n",
    "        \n",
    "        diff = movement_map[direction]\n",
    "        return Position(\n",
    "            self.horizontal + diff[0] * amount,\n",
    "            self.depth + diff[1] * amount,\n",
    "        )\n"
   ]
  },
  {
   "cell_type": "code",
   "execution_count": 14,
   "id": "b0b24a07",
   "metadata": {},
   "outputs": [],
   "source": [
    "assert Position(0, 0).move('down 12') == Position(0, 12)\n",
    "assert Position(0, 12).move('up 12') == Position(0, 0)\n",
    "assert Position(100, 12).move('forward 12') == Position(112, 12)"
   ]
  },
  {
   "cell_type": "code",
   "execution_count": 17,
   "id": "acad43d7",
   "metadata": {},
   "outputs": [],
   "source": [
    "test_directions = [\n",
    "    'forward 5',\n",
    "    'down 5',\n",
    "    'forward 8',\n",
    "    'up 3',\n",
    "    'down 8',\n",
    "    'forward 2'\n",
    "]\n",
    "real_directions = get_puzzle_input('input_2.txt')"
   ]
  },
  {
   "cell_type": "code",
   "execution_count": 20,
   "id": "ef406881",
   "metadata": {},
   "outputs": [],
   "source": [
    "def play(directions, initial_position):\n",
    "    position = initial_position\n",
    "    for dir in directions:\n",
    "        position = position.move(dir)\n",
    "    return position.horizontal * position.depth\n"
   ]
  },
  {
   "cell_type": "code",
   "execution_count": 22,
   "id": "addad896",
   "metadata": {},
   "outputs": [
    {
     "data": {
      "text/plain": [
       "(150, 1524750)"
      ]
     },
     "execution_count": 22,
     "metadata": {},
     "output_type": "execute_result"
    }
   ],
   "source": [
    "play(test_directions, Position(0, 0)), play(real_directions, Position(0, 0))"
   ]
  },
  {
   "cell_type": "markdown",
   "id": "a04f028d",
   "metadata": {},
   "source": [
    "### Day 2 Part 2\n",
    "\n",
    "Calculate using the new interpretation as up and down as tilt."
   ]
  },
  {
   "cell_type": "code",
   "execution_count": 24,
   "id": "f75b3a8e",
   "metadata": {},
   "outputs": [],
   "source": [
    "@dataclass(frozen=True)\n",
    "class Position2:\n",
    "    horizontal: int = 0\n",
    "    depth: int = 0\n",
    "    aim: int = 0\n",
    "    \n",
    "    def move(self, command):\n",
    "        movement_map = {\n",
    "            'forward': (1, self.aim, 0),\n",
    "            'down': (0, 0, 1),\n",
    "            'up': (0, 0, -1),\n",
    "        }\n",
    "        input_re = re.compile(r'(\\S+) ([0-9-]+)')\n",
    "        match = input_re.match(command)\n",
    "        if not match:\n",
    "            print(command)\n",
    "        \n",
    "        direction = match.groups()[0]\n",
    "        amount = int(match.groups()[1])\n",
    "        \n",
    "        diff = movement_map[direction]\n",
    "        return Position2(\n",
    "            self.horizontal + diff[0] * amount,\n",
    "            self.depth + diff[1] * amount,\n",
    "            self.aim + diff[2] * amount,\n",
    "        )"
   ]
  },
  {
   "cell_type": "code",
   "execution_count": 25,
   "id": "cef30165",
   "metadata": {},
   "outputs": [
    {
     "data": {
      "text/plain": [
       "(900, 1592426537)"
      ]
     },
     "execution_count": 25,
     "metadata": {},
     "output_type": "execute_result"
    }
   ],
   "source": [
    "play(test_directions, Position2(0, 0)), play(real_directions, Position2(0, 0))"
   ]
  },
  {
   "cell_type": "markdown",
   "id": "64b5c019",
   "metadata": {},
   "source": [
    "### Day 2 Observations\n",
    "\n",
    "Frozen dataclasses have been the killer missing feature in Python. Once you've worked with Scala case classes or Kotlin data classes, you can't imagine why a language wouldn't have such a feature (I guess I wasn't aware of them when doing 2018 AOC!)"
   ]
  },
  {
   "cell_type": "markdown",
   "id": "52336557",
   "metadata": {},
   "source": [
    "## Day 3 Binary Diagnostic\n",
    "\n",
    "https://adventofcode.com/2021/day/3\n",
    "\n",
    "Use the binary numbers in your diagnostic report to calculate the gamma rate and epsilon rate, then multiply them together. What is the power consumption of the submarine? (Be sure to represent your answer in decimal, not binary.)"
   ]
  },
  {
   "cell_type": "code",
   "execution_count": 26,
   "id": "56600e2a",
   "metadata": {},
   "outputs": [],
   "source": [
    "test_input = [\n",
    "    '00100',\n",
    "    '11110',\n",
    "    '10110',\n",
    "    '10111',\n",
    "    '10101',\n",
    "    '01111',\n",
    "    '00111',\n",
    "    '11100',\n",
    "    '10000',\n",
    "    '11001',\n",
    "    '00010',\n",
    "    '01010',\n",
    "]\n",
    "real_input = get_puzzle_input('input3.txt')"
   ]
  },
  {
   "cell_type": "code",
   "execution_count": 27,
   "id": "ce244148",
   "metadata": {},
   "outputs": [],
   "source": [
    "def gamma_rate(input):\n",
    "    num_numbers = len(input)\n",
    "    num_figures = len(input[0])\n",
    "    running_count = [0] * num_figures\n",
    "    binaries = [int(x, base=2) for x in input]\n",
    "    \n",
    "    for binary in binaries:\n",
    "        for figure in range(num_figures):\n",
    "            mask = 2**figure\n",
    "            is_set = (binary & mask) // mask\n",
    "            running_count[figure] += is_set\n",
    "\n",
    "    return sum(\n",
    "        val * 2 // num_numbers * 2**idx\n",
    "        for (idx, val)\n",
    "        in enumerate(running_count)\n",
    "    )"
   ]
  },
  {
   "cell_type": "code",
   "execution_count": 28,
   "id": "57e6bf0c",
   "metadata": {},
   "outputs": [],
   "source": [
    "def epsilon_rate(gamma_rate, num_figures):\n",
    "    return (2**num_figures - 1) ^ gamma_rate"
   ]
  },
  {
   "cell_type": "code",
   "execution_count": 31,
   "id": "e5e66fa7",
   "metadata": {},
   "outputs": [
    {
     "data": {
      "text/plain": [
       "(22, 9, 198)"
      ]
     },
     "execution_count": 31,
     "metadata": {},
     "output_type": "execute_result"
    }
   ],
   "source": [
    "test_gamma_rate = gamma_rate(test_input)\n",
    "test_epsilon_rate = epsilon_rate(test_gamma_rate, len(test_input[0]))\n",
    "test_gamma_rate, test_epsilon_rate, test_gamma_rate * test_epsilon_rate\n"
   ]
  },
  {
   "cell_type": "code",
   "execution_count": 32,
   "id": "8ed30e26",
   "metadata": {},
   "outputs": [
    {
     "data": {
      "text/plain": [
       "(3808, 287, 1092896)"
      ]
     },
     "execution_count": 32,
     "metadata": {},
     "output_type": "execute_result"
    }
   ],
   "source": [
    "real_gamma_rate = gamma_rate(real_input)\n",
    "real_epsilon_rate = epsilon_rate(real_gamma_rate, len(real_input[0]))\n",
    "real_gamma_rate, real_epsilon_rate, real_gamma_rate * real_epsilon_rate"
   ]
  },
  {
   "cell_type": "markdown",
   "id": "6779bbe9",
   "metadata": {},
   "source": [
    "### Day 3, part 2\n",
    "\n",
    "Use the binary numbers in your diagnostic report to calculate the oxygen generator rating and CO2 scrubber rating, then multiply them together. What is the life support rating of the submarine? (Be sure to represent your answer in decimal, not binary.)"
   ]
  },
  {
   "cell_type": "code",
   "execution_count": 33,
   "id": "bb3ea95c",
   "metadata": {},
   "outputs": [],
   "source": [
    "def figure_filter(figures, figure_idx, is_most_common): \n",
    "    running_count = 0\n",
    "    num_numbers = len(figures)\n",
    "    mask = 2**figure_idx\n",
    "    ones = []\n",
    "    zeroes = []\n",
    "\n",
    "    for figure in figures:\n",
    "        is_set = (figure & mask) // mask\n",
    "        running_count += is_set\n",
    "        if is_set:\n",
    "            ones.append(figure)\n",
    "        else:\n",
    "            zeroes.append(figure)\n",
    "\n",
    "    more_ones = running_count * 2 >= num_numbers\n",
    "    \n",
    "    if (\n",
    "        more_ones and is_most_common or\n",
    "        not more_ones and not is_most_common\n",
    "    ):\n",
    "        return ones\n",
    "    else:\n",
    "        return zeroes"
   ]
  },
  {
   "cell_type": "code",
   "execution_count": 34,
   "id": "4983f82e",
   "metadata": {},
   "outputs": [],
   "source": [
    "def part2(figures, is_most_common):\n",
    "    int_figures = [int(x, base=2) for x in figures]\n",
    "    num_figures = len(figures[0])\n",
    "    # Count down to look at the most sig bit first\n",
    "    for figure_idx in range(num_figures - 1, -1, -1):\n",
    "        int_figures = figure_filter(int_figures, figure_idx, is_most_common)\n",
    "        \n",
    "        if len(int_figures) <= 1:\n",
    "            break\n",
    "    \n",
    "    return int_figures "
   ]
  },
  {
   "cell_type": "code",
   "execution_count": 36,
   "id": "f0325219",
   "metadata": {},
   "outputs": [
    {
     "data": {
      "text/plain": [
       "([23], [10], 230)"
      ]
     },
     "execution_count": 36,
     "metadata": {},
     "output_type": "execute_result"
    }
   ],
   "source": [
    "oxygen_rating = part2(test_input, True)\n",
    "co_rating = part2(test_input, False)\n",
    "oxygen_rating, co_rating, oxygen_rating[0] * co_rating[0]"
   ]
  },
  {
   "cell_type": "code",
   "execution_count": 38,
   "id": "1f48e0ed",
   "metadata": {},
   "outputs": [
    {
     "data": {
      "text/plain": [
       "([3443], [1357], 4672151)"
      ]
     },
     "execution_count": 38,
     "metadata": {},
     "output_type": "execute_result"
    }
   ],
   "source": [
    "oxygen_rating = part2(real_input, True)\n",
    "co_rating = part2(real_input, False)\n",
    "oxygen_rating, co_rating, oxygen_rating[0] * co_rating[0]"
   ]
  },
  {
   "cell_type": "markdown",
   "id": "d5da1e36",
   "metadata": {},
   "source": [
    "### Day 3 Observations\n",
    "\n",
    "Think I made the right call in working with ints rather than strings in part 1.\n"
   ]
  },
  {
   "cell_type": "markdown",
   "id": "007ff1bd",
   "metadata": {},
   "source": [
    "## Day 4 Giant Squid\n",
    "\n",
    "https://adventofcode.com/2021/day/4\n",
    "\n",
    "To guarantee victory against the giant squid, figure out which board will win first. What will your final score be if you choose that board?"
   ]
  },
  {
   "cell_type": "code",
   "execution_count": 39,
   "id": "e7689275",
   "metadata": {},
   "outputs": [],
   "source": [
    "test_input = get_puzzle_input('test_input_4.txt', remove_blank_lines=False)\n",
    "real_input = get_puzzle_input('input_4.txt', remove_blank_lines=False)"
   ]
  },
  {
   "cell_type": "code",
   "execution_count": 40,
   "id": "90414299",
   "metadata": {},
   "outputs": [],
   "source": [
    "class Board:\n",
    "    def __init__(self, grid):\n",
    "        self.grid_size = len(grid)\n",
    "        self.parse_grid(grid)\n",
    "        self.reset()\n",
    "\n",
    "    def parse_grid(self, grid):\n",
    "        self.numbers = {}\n",
    "        self.locations = {}\n",
    "        for row_idx, line in enumerate(grid):\n",
    "            row = re.split('\\s+', line)\n",
    "            for col_idx, num in enumerate(row):\n",
    "                location = (col_idx, row_idx)\n",
    "                num = int(num)\n",
    "                self.numbers[num] = location\n",
    "                self.locations[location] = num\n",
    "    \n",
    "    def reset(self):\n",
    "        self.dabbed = Counter()\n",
    "        self.unmarked = set(self.numbers.keys())\n",
    "        \n",
    "    def dab(self, number):\n",
    "        if number not in self.unmarked:\n",
    "            return None\n",
    "        \n",
    "        self.unmarked.remove(number)\n",
    "\n",
    "        location = self.numbers[number]\n",
    "        \n",
    "        col_idx = ('COL', location[0])\n",
    "        row_idx = ('ROW', location[1])\n",
    "        self.dabbed[col_idx] += 1\n",
    "        self.dabbed[row_idx] += 1\n",
    "        \n",
    "        col_win = self.dabbed[col_idx] == self.grid_size\n",
    "        row_win = self.dabbed[row_idx] == self.grid_size\n",
    "\n",
    "        if not col_win and not row_win:\n",
    "            return None\n",
    "\n",
    "        winning_line = []\n",
    "        \n",
    "        for line_idx in range(self.grid_size):\n",
    "            num_location = (location[0], line_idx) if col_win else (line_idx, location[1])\n",
    "            winning_line.append(self.locations[num_location])\n",
    "        \n",
    "        return winning_line     "
   ]
  },
  {
   "cell_type": "code",
   "execution_count": 41,
   "id": "d90943bc",
   "metadata": {},
   "outputs": [],
   "source": [
    "# Test winning row\n",
    "input = [\n",
    "    '14 21 17 24  4',\n",
    "    '10 16 15  9 19',\n",
    "    '18  8 23 26 20',\n",
    "    '22 11 13  6  5',\n",
    "    '2  0 12  3  7'\n",
    "]\n",
    "board = Board(input)\n",
    "for num in [14, 21, 17, 24]:\n",
    "    board.dab(num)\n",
    "assert board.dab(4) == [14, 21, 17, 24, 4]"
   ]
  },
  {
   "cell_type": "code",
   "execution_count": 42,
   "id": "c2eb1a72",
   "metadata": {},
   "outputs": [],
   "source": [
    "# Test winning col\n",
    "board.reset()\n",
    "for num in [17, 15, 13, 12]:\n",
    "    board.dab(num)\n",
    "assert board.dab(23) == [17, 15, 23, 13, 12]"
   ]
  },
  {
   "cell_type": "code",
   "execution_count": 43,
   "id": "c0ac1f23",
   "metadata": {},
   "outputs": [],
   "source": [
    "class Game:\n",
    "    def __init__(self, lines):\n",
    "        self.parse_input(lines)\n",
    "\n",
    "    def parse_input(self, lines):\n",
    "        self.numbers = [int(i) for i in lines[0].split(',')]\n",
    "        self.boards = []\n",
    "        grids = deque(lines[1:])\n",
    "        while len(grids) >= 6:\n",
    "            grids.popleft()\n",
    "            grid = [grids.popleft() for _ in range(5)]\n",
    "            self.boards.append(Board(grid))\n",
    "        \n",
    "        self.in_play_boards = set(range(len(self.boards)))\n",
    "    \n",
    "    def play(self):\n",
    "        for num in self.numbers:\n",
    "            for board in self.boards:\n",
    "                win = board.dab(num)\n",
    "                if win:\n",
    "                    return num, win, sum(board.unmarked)\n",
    "\n",
    "    def play_part_2(self):\n",
    "        for num in self.numbers:\n",
    "            for board_idx in sorted(list(self.in_play_boards)):\n",
    "                board = self.boards[board_idx]\n",
    "                win = board.dab(num)\n",
    "                if win:\n",
    "                    # print(f'{num} {board_idx} {win} {sum(board.unmarked)}')\n",
    "                    self.in_play_boards.remove(board_idx)\n",
    "                    if not self.in_play_boards:\n",
    "                        return num, win, sum(board.unmarked)"
   ]
  },
  {
   "cell_type": "code",
   "execution_count": 46,
   "id": "045b4ec4",
   "metadata": {},
   "outputs": [
    {
     "data": {
      "text/plain": [
       "(24, [14, 21, 17, 24, 4], 188)"
      ]
     },
     "execution_count": 46,
     "metadata": {},
     "output_type": "execute_result"
    }
   ],
   "source": [
    "test_game = Game(test_input)\n",
    "test_game.play()"
   ]
  },
  {
   "cell_type": "code",
   "execution_count": 47,
   "id": "7cd3e1bc",
   "metadata": {},
   "outputs": [
    {
     "data": {
      "text/plain": [
       "(35, [75, 95, 35, 6, 47], 726)"
      ]
     },
     "execution_count": 47,
     "metadata": {},
     "output_type": "execute_result"
    }
   ],
   "source": [
    "real_game = Game(real_input)\n",
    "real_game.play()"
   ]
  },
  {
   "cell_type": "code",
   "execution_count": 48,
   "id": "819f244b",
   "metadata": {},
   "outputs": [
    {
     "data": {
      "text/plain": [
       "25410"
      ]
     },
     "execution_count": 48,
     "metadata": {},
     "output_type": "execute_result"
    }
   ],
   "source": [
    "35 * 726"
   ]
  },
  {
   "cell_type": "markdown",
   "id": "6599fead",
   "metadata": {},
   "source": [
    "### Day 4, part 2\n",
    "\n",
    "Figure out which board will win last. Once it wins, what would its final score be?"
   ]
  },
  {
   "cell_type": "code",
   "execution_count": 49,
   "id": "13686296",
   "metadata": {},
   "outputs": [
    {
     "data": {
      "text/plain": [
       "(13, [0, 13, 7, 10, 16], 148)"
      ]
     },
     "execution_count": 49,
     "metadata": {},
     "output_type": "execute_result"
    }
   ],
   "source": [
    "test_game = Game(test_input)\n",
    "test_game.play_part_2()"
   ]
  },
  {
   "cell_type": "code",
   "execution_count": 50,
   "id": "88db020c",
   "metadata": {},
   "outputs": [
    {
     "data": {
      "text/plain": [
       "(14, [95, 18, 52, 14, 22], 195)"
      ]
     },
     "execution_count": 50,
     "metadata": {},
     "output_type": "execute_result"
    }
   ],
   "source": [
    "real_game = Game(real_input)\n",
    "real_game.play_part_2()"
   ]
  },
  {
   "cell_type": "code",
   "execution_count": 51,
   "id": "1cc803c6",
   "metadata": {},
   "outputs": [
    {
     "data": {
      "text/plain": [
       "2730"
      ]
     },
     "execution_count": 51,
     "metadata": {},
     "output_type": "execute_result"
    }
   ],
   "source": [
    "14 * 195"
   ]
  },
  {
   "cell_type": "markdown",
   "id": "5eb50020",
   "metadata": {},
   "source": [
    "### Day 4 Observations\n",
    "\n",
    "Make sure test and production run the same code. I originally was loading the test input from the command line and the real input from a file. I had forgotten that this was stripping blank lines by default hence the Bingo boards were being mixed up. This was doubly confusing given that the first part gave the correct answer by chance and the bug was only found in running the second part which assumed we were developing on solid ground."
   ]
  },
  {
   "cell_type": "markdown",
   "id": "08c0563b",
   "metadata": {},
   "source": [
    "## Day 5 Hydrothermal Venture\n",
    "\n",
    "https://adventofcode.com/2021/day/5\n",
    "\n",
    "To avoid the most dangerous areas, you need to determine the number of points where at least two lines overlap. In the above example, this is anywhere in the diagram with a 2 or larger - a total of 5 points.\n",
    "\n",
    "Consider only horizontal and vertical lines. At how many points do at least two lines overlap?"
   ]
  },
  {
   "cell_type": "code",
   "execution_count": 52,
   "id": "dc41b8c2",
   "metadata": {},
   "outputs": [],
   "source": [
    "test_input = get_puzzle_input('test_input_5.txt')\n",
    "real_input = get_puzzle_input('input_5.txt')"
   ]
  },
  {
   "cell_type": "code",
   "execution_count": 55,
   "id": "23d7deb6",
   "metadata": {},
   "outputs": [],
   "source": [
    "Point = namedtuple('Point', ('x', 'y'))"
   ]
  },
  {
   "cell_type": "code",
   "execution_count": 56,
   "id": "d6fd3b0c",
   "metadata": {},
   "outputs": [],
   "source": [
    "# Part 1\n",
    "def intersected_points(point_a, point_b):\n",
    "    lower, upper = sorted([point_a, point_b])\n",
    "    if upper.x > lower.x:\n",
    "        return [Point(x, upper.y) for x in range(lower.x, upper.x + 1)]\n",
    "    \n",
    "    return [Point(upper.x, y) for y in range(lower.y, upper.y + 1)]"
   ]
  },
  {
   "cell_type": "code",
   "execution_count": 57,
   "id": "913b6d9b",
   "metadata": {},
   "outputs": [],
   "source": [
    "# Part 2 - handles diagonal lines\n",
    "def intersected_points(point_a, point_b):\n",
    "    line_len = 1\n",
    "    if point_a.x > point_b.x:\n",
    "        x_incr = -1\n",
    "        line_len = point_a.x - point_b.x\n",
    "    elif point_a.x < point_b.x:\n",
    "        x_incr = 1\n",
    "        line_len = point_b.x - point_a.x\n",
    "    else:\n",
    "        x_incr = 0\n",
    "\n",
    "    if point_a.y > point_b.y:\n",
    "        y_incr = -1\n",
    "        line_len = point_a.y - point_b.y\n",
    "    elif point_a.y < point_b.y:\n",
    "        y_incr = 1\n",
    "        line_len = point_b.y - point_a.y\n",
    "    else:\n",
    "        y_incr = 0\n",
    "\n",
    "    return {\n",
    "        Point(point_a.x + x_incr * val, point_a.y + y_incr * val)\n",
    "        for val\n",
    "        in range(line_len + 1)\n",
    "    } "
   ]
  },
  {
   "cell_type": "code",
   "execution_count": 58,
   "id": "75dfa7f2",
   "metadata": {},
   "outputs": [],
   "source": [
    "assert intersected_points(Point(1, 2), Point(1, 4)) == {Point(x=1, y=2), Point(x=1, y=3), Point(x=1, y=4)}\n",
    "assert intersected_points(Point(1, 4), Point(1, 2)) == {Point(x=1, y=2), Point(x=1, y=3), Point(x=1, y=4)}\n",
    "assert intersected_points(Point(1, 4), Point(1, 4)) == {Point(x=1, y=4)}\n",
    "assert intersected_points(Point(10, 4), Point(12, 4)) == {Point(x=10, y=4), Point(x=11, y=4), Point(x=12, y=4)}\n",
    "assert intersected_points(Point(1, 2), Point(4, 5)) == {Point(x=1, y=2), Point(x=2, y=3), Point(x=3, y=4), Point(x=4, y=5)}"
   ]
  },
  {
   "cell_type": "code",
   "execution_count": 59,
   "id": "d63fc0b1",
   "metadata": {},
   "outputs": [],
   "source": [
    "class Game:\n",
    "    regexp = re.compile('^([-0-9]+),([-0-9]+) -> ([-0-9]+),([-0-9]+)$')\n",
    "\n",
    "    def __init__(self, input):\n",
    "        self.parse_input(input)\n",
    "    \n",
    "    def parse_input(self, puzzle_input):\n",
    "        self.lines = []\n",
    "        for line in puzzle_input:\n",
    "            match = self.regexp.match(line)\n",
    "            if match:\n",
    "                groups = match.groups()\n",
    "                point_a = Point(int(groups[0]), int(groups[1]))\n",
    "                point_b = Point(int(groups[2]), int(groups[3]))\n",
    "                self.lines.append((point_a, point_b))\n",
    "\n",
    "    def play(self, ignore_diagonals=True):\n",
    "        points = Counter()\n",
    "        for (point_a, point_b) in self.lines:\n",
    "            if ignore_diagonals:\n",
    "                # Part 1\n",
    "                if point_a.x != point_b.x and point_a.y != point_b.y:\n",
    "                    continue\n",
    "            for point in intersected_points(point_a, point_b):\n",
    "                points[point] += 1\n",
    "        \n",
    "        danger_points = [\n",
    "            point\n",
    "            for (point, val)\n",
    "            in points.items()\n",
    "            if val > 1\n",
    "        ]\n",
    "        \n",
    "        return len(danger_points)"
   ]
  },
  {
   "cell_type": "code",
   "execution_count": 60,
   "id": "21638fad",
   "metadata": {},
   "outputs": [
    {
     "data": {
      "text/plain": [
       "5"
      ]
     },
     "execution_count": 60,
     "metadata": {},
     "output_type": "execute_result"
    }
   ],
   "source": [
    "test_game = Game(test_input)\n",
    "test_game.play()"
   ]
  },
  {
   "cell_type": "code",
   "execution_count": 61,
   "id": "741a6cb5",
   "metadata": {},
   "outputs": [
    {
     "data": {
      "text/plain": [
       "5092"
      ]
     },
     "execution_count": 61,
     "metadata": {},
     "output_type": "execute_result"
    }
   ],
   "source": [
    "real_game = Game(real_input)\n",
    "real_game.play()"
   ]
  },
  {
   "cell_type": "markdown",
   "id": "6d547d5d",
   "metadata": {},
   "source": [
    "### Day 5 Part 2\n",
    "\n",
    "You still need to determine the number of points where at least two lines overlap. In the above example, this is still anywhere in the diagram with a 2 or larger - now a total of 12 points.\n",
    "\n",
    "Consider all of the lines. At how many points do at least two lines overlap?"
   ]
  },
  {
   "cell_type": "code",
   "execution_count": 62,
   "id": "0bada58b",
   "metadata": {},
   "outputs": [
    {
     "data": {
      "text/plain": [
       "12"
      ]
     },
     "execution_count": 62,
     "metadata": {},
     "output_type": "execute_result"
    }
   ],
   "source": [
    "test_game = Game(test_input)\n",
    "test_game.play(ignore_diagonals=False)"
   ]
  },
  {
   "cell_type": "code",
   "execution_count": 63,
   "id": "c8e89cd3",
   "metadata": {},
   "outputs": [
    {
     "data": {
      "text/plain": [
       "20484"
      ]
     },
     "execution_count": 63,
     "metadata": {},
     "output_type": "execute_result"
    }
   ],
   "source": [
    "real_game = Game(real_input)\n",
    "real_game.play(ignore_diagonals=False)"
   ]
  },
  {
   "cell_type": "markdown",
   "id": "0bbba118",
   "metadata": {},
   "source": [
    "### Day 5 Observations\n",
    "\n",
    "Intersecting points implementation is a bit clunky but - hey ho."
   ]
  },
  {
   "cell_type": "markdown",
   "id": "15c24c69",
   "metadata": {},
   "source": [
    "## Day 6 Lantern Fish\n",
    "\n",
    "https://adventofcode.com/2021/day/6\n",
    "\n",
    "In this example, after 18 days, there are a total of 26 fish. After 80 days, there would be a total of 5934.\n",
    "\n",
    "Find a way to simulate lanternfish. How many lanternfish would there be after 80 days?"
   ]
  },
  {
   "cell_type": "code",
   "execution_count": 67,
   "id": "59cc97e0",
   "metadata": {},
   "outputs": [],
   "source": [
    "class LanternFish:\n",
    "    CYCLE_LENGTH = 6\n",
    "    DEFAULT_START = 8\n",
    "\n",
    "    def __init__(self, start_of_cycle=DEFAULT_START):\n",
    "        self.start_of_cycle = start_of_cycle\n",
    "        self.current = start_of_cycle\n",
    "\n",
    "    def new_day(self):\n",
    "        self.current -= 1\n",
    "        if self.current == -1:\n",
    "            self.current = self.CYCLE_LENGTH\n",
    "            child = LanternFish()\n",
    "            return child\n",
    "        else:\n",
    "            return None"
   ]
  },
  {
   "cell_type": "code",
   "execution_count": 68,
   "id": "949b591a",
   "metadata": {},
   "outputs": [],
   "source": [
    "class SingleFishGame:\n",
    "    \"\"\"Only need to solve for each unique initial state as any similar fish\n",
    "    will result in the same number of descendents.\n",
    "    \"\"\"\n",
    "    def __init__(self, start_of_cycle):\n",
    "        self.fishes = [LanternFish(start_of_cycle=start_of_cycle)]\n",
    "    \n",
    "    def play(self, num_days):\n",
    "        for _ in range(num_days):\n",
    "            new_fish = []\n",
    "            for fish in self.fishes:\n",
    "                child = fish.new_day()\n",
    "                if child:\n",
    "                    new_fish.append(child)\n",
    "            \n",
    "            self.fishes.extend(new_fish)\n",
    "        \n",
    "        return len(self.fishes) "
   ]
  },
  {
   "cell_type": "code",
   "execution_count": 69,
   "id": "9a08b1cd",
   "metadata": {},
   "outputs": [
    {
     "name": "stdout",
     "output_type": "stream",
     "text": [
      "CPU times: user 35.8 ms, sys: 1.69 ms, total: 37.5 ms\n",
      "Wall time: 36 ms\n"
     ]
    },
    {
     "data": {
      "text/plain": [
       "{0: 1421, 1: 1401, 2: 1191, 3: 1154, 4: 1034, 5: 950, 6: 905}"
      ]
     },
     "execution_count": 69,
     "metadata": {},
     "output_type": "execute_result"
    }
   ],
   "source": [
    "%%time\n",
    "\n",
    "num_descendents_per_state = {}\n",
    "\n",
    "# Loop over all the possible initial states\n",
    "for i in range(7):\n",
    "    game = SingleFishGame(i)\n",
    "    total = game.play(80)\n",
    "    num_descendents_per_state[i] = total\n",
    "\n",
    "num_descendents_per_state"
   ]
  },
  {
   "cell_type": "code",
   "execution_count": 70,
   "id": "20e7fcc5",
   "metadata": {},
   "outputs": [
    {
     "data": {
      "text/plain": [
       "Counter({5: 42, 3: 43, 2: 52, 1: 109, 4: 54})"
      ]
     },
     "execution_count": 70,
     "metadata": {},
     "output_type": "execute_result"
    }
   ],
   "source": [
    "initial_count = Counter()\n",
    "for i in [5,3,2,2,1,1,4,1,5,5,1,3,1,5,1,2,1,4,1,2,1,2,1,4,2,4,1,5,1,3,5,4,3,3,1,4,1,3,4,4,1,5,4,3,3,2,5,1,1,3,1,4,3,2,2,3,1,3,1,3,1,5,3,5,1,3,1,4,2,1,4,1,5,5,5,2,4,2,1,4,1,3,5,5,1,4,1,1,4,2,2,1,3,1,1,1,1,3,4,1,4,1,1,1,4,4,4,1,3,1,3,4,1,4,1,2,2,2,5,4,1,3,1,2,1,4,1,4,5,2,4,5,4,1,2,1,4,2,2,2,1,3,5,2,5,1,1,4,5,4,3,2,4,1,5,2,2,5,1,4,1,5,1,3,5,1,2,1,1,1,5,4,4,5,1,1,1,4,1,3,3,5,5,1,5,2,1,1,3,1,1,3,2,3,4,4,1,5,5,3,2,1,1,1,4,3,1,3,3,1,1,2,2,1,2,2,2,1,1,5,1,2,2,5,2,4,1,1,2,4,1,2,3,4,1,2,1,2,4,2,1,1,5,3,1,4,4,4,1,5,2,3,4,4,1,5,1,2,2,4,1,1,2,1,1,1,1,5,1,3,3,1,1,1,1,4,1,2,2,5,1,2,1,3,4,1,3,4,3,3,1,1,5,5,5,2,4,3,1,4]:\n",
    "    initial_count[i] += 1\n",
    "    \n",
    "initial_count"
   ]
  },
  {
   "cell_type": "code",
   "execution_count": 71,
   "id": "3b39d788",
   "metadata": {},
   "outputs": [
    {
     "data": {
      "text/plain": [
       "359999"
      ]
     },
     "execution_count": 71,
     "metadata": {},
     "output_type": "execute_result"
    }
   ],
   "source": [
    "sum(count * num_descendents_per_state[state] for state, count in initial_count.items())"
   ]
  },
  {
   "cell_type": "markdown",
   "id": "883e81e7",
   "metadata": {},
   "source": [
    "### Day 6 Part 2\n",
    "\n",
    "And on day 256 how many will there be?"
   ]
  },
  {
   "cell_type": "code",
   "execution_count": 72,
   "id": "c0c9ef83",
   "metadata": {},
   "outputs": [],
   "source": [
    "class LanternFish:\n",
    "    \"\"\"Any fish born on the same day will have the same number of descendents\n",
    "    so only need to track one.\"\"\"\n",
    "    CYCLE_LENGTH = 6\n",
    "    DEFAULT_START = 8\n",
    "\n",
    "    def __init__(self, start_of_cycle=DEFAULT_START):\n",
    "        self.start_of_cycle = start_of_cycle\n",
    "        self.current = start_of_cycle\n",
    "        self.untracked_parents = []\n",
    "        self.num_descendents = 0\n",
    "\n",
    "    def gives_birth(self):\n",
    "        self.current -= 1\n",
    "        if self.current == -1:\n",
    "            self.current = self.CYCLE_LENGTH\n",
    "            return True\n",
    "        else:\n",
    "            return False\n",
    "    \n",
    "    def add_parent(self, parent):\n",
    "        self.untracked_parents.append(parent)\n",
    "        parent.add_descendent()\n",
    "\n",
    "    def add_descendent(self):\n",
    "        self.num_descendents += 1\n",
    "        for parent in self.untracked_parents:\n",
    "            parent.add_descendent()"
   ]
  },
  {
   "cell_type": "code",
   "execution_count": 73,
   "id": "cc1b3a7a",
   "metadata": {},
   "outputs": [],
   "source": [
    "class SingleFishGame:\n",
    "    def __init__(self, start_of_cycle):\n",
    "        self.fishes = [LanternFish(start_of_cycle=start_of_cycle)]\n",
    "        self.day = 0\n",
    "    \n",
    "    def play(self, num_days):\n",
    "        for day_num in range(num_days):\n",
    "            new_fish = []\n",
    "            child = None\n",
    "            for fish in self.fishes:\n",
    "                gives_birth = fish.gives_birth()\n",
    "                if not gives_birth:\n",
    "                    continue\n",
    "                \n",
    "                if child:\n",
    "                    child.add_parent(fish)\n",
    "                else:\n",
    "                    child = LanternFish()\n",
    "                    new_fish.append(child)\n",
    "            \n",
    "            self.fishes.extend(new_fish)\n",
    "        \n",
    "        return len(self.fishes) + sum(fish.num_descendents for fish in game.fishes)"
   ]
  },
  {
   "cell_type": "code",
   "execution_count": 75,
   "id": "4f86994d",
   "metadata": {},
   "outputs": [
    {
     "name": "stdout",
     "output_type": "stream",
     "text": [
      "Calculating for initial state 1...\n",
      "Calculating for initial state 2...\n",
      "Calculating for initial state 3...\n",
      "Calculating for initial state 4...\n",
      "Calculating for initial state 5...\n",
      "CPU times: user 1h 6min 9s, sys: 3.29 s, total: 1h 6min 13s\n",
      "Wall time: 1h 6min 16s\n"
     ]
    },
    {
     "data": {
      "text/plain": [
       "{1: 6206821033, 2: 5617089148, 3: 5217223242, 4: 4726100874, 5: 4368232009}"
      ]
     },
     "execution_count": 75,
     "metadata": {},
     "output_type": "execute_result"
    }
   ],
   "source": [
    "%%time\n",
    "\n",
    "part_2_num_descendents_per_state = {}\n",
    "for i in range(1, 6):\n",
    "    print(f'Calculating for initial state {i}...')\n",
    "    game = SingleFishGame(i)\n",
    "    total = game.play(256)\n",
    "    part_2_num_descendents_per_state[i] = total\n",
    "\n",
    "part_2_num_descendents_per_state"
   ]
  },
  {
   "cell_type": "code",
   "execution_count": 77,
   "id": "af51a303",
   "metadata": {},
   "outputs": [
    {
     "data": {
      "text/plain": [
       "1631647919273"
      ]
     },
     "execution_count": 77,
     "metadata": {},
     "output_type": "execute_result"
    }
   ],
   "source": [
    "sum(count * part_2_num_descendents_per_state[state] for state, count in initial_count.items())"
   ]
  },
  {
   "cell_type": "markdown",
   "id": "5a724bcc",
   "metadata": {},
   "source": [
    "### Day 6 Observations\n",
    "\n",
    "Returns in one hour - wow. As I was running it for the first index I could see that it was going to return (from printing out the day being calculated). I don't think there was a need to rerun it for all the initial states - Could have, for instance derived state 2 from state 1 by eliminating all state 8s (newborns) and likewise for state 3 - not counting 7s and 8s. Perhaps I could say that state 2 on day 265 is state 1 on day 264 etc so only need one run through. Could have also looked for repeated patterns - but - there comes the point when you're bunged up with a cold and you're happy to have breakfast and wait."
   ]
  },
  {
   "cell_type": "markdown",
   "id": "15fe8eae",
   "metadata": {},
   "source": [
    "### Day 6 Revisited\n",
    "\n",
    "A few days later I had a look at this again and realised a far easier approach of mapping states to future states a week down the line. So in general given a fish in state n, in a weeks time it will result in a fish in state n (itself) and a fish in state n+2 (its child) unless the initial state is 7 or 8 (a newborn)"
   ]
  },
  {
   "cell_type": "code",
   "execution_count": 2,
   "id": "4a3e88c6",
   "metadata": {},
   "outputs": [],
   "source": [
    "def num_fish_from_state(initial_state, num_days):\n",
    "    seven_day_state_map = {\n",
    "        0: (0, 2),\n",
    "        1: (1, 3),\n",
    "        2: (2, 4),\n",
    "        3: (3, 5),\n",
    "        4: (4, 6),\n",
    "        5: (5, 7),\n",
    "        6: (6, 8),\n",
    "        7: (0, ),\n",
    "        8: (1, ),\n",
    "    }\n",
    "    counts = [0] * 9\n",
    "    \n",
    "    num_weeks = num_days // 7\n",
    "    remaining_days = num_days - num_weeks * 7\n",
    "    \n",
    "    initial_state -= remaining_days\n",
    "    counts[initial_state % 7] = 1\n",
    "    if initial_state < 0:\n",
    "        # The newly spawned fish\n",
    "        counts[8 + initial_state + 1] = 1\n",
    "    \n",
    "    # Go up in weeks\n",
    "    for i in range(num_weeks):\n",
    "        for state, num in enumerate(list(counts)):\n",
    "            new_states = seven_day_state_map[state]\n",
    "            counts[state] -= num\n",
    "            for new_state in new_states:\n",
    "                counts[new_state] += num\n",
    "    \n",
    "    return sum(counts)\n",
    "  "
   ]
  },
  {
   "cell_type": "code",
   "execution_count": 3,
   "id": "2c024158",
   "metadata": {},
   "outputs": [
    {
     "name": "stdout",
     "output_type": "stream",
     "text": [
      "CPU times: user 1.7 ms, sys: 7 µs, total: 1.71 ms\n",
      "Wall time: 1.71 ms\n"
     ]
    },
    {
     "data": {
      "text/plain": [
       "{1: 6206821033, 2: 5617089148, 3: 5217223242, 4: 4726100874, 5: 4368232009}"
      ]
     },
     "execution_count": 3,
     "metadata": {},
     "output_type": "execute_result"
    }
   ],
   "source": [
    "%%time\n",
    "\n",
    "part_2_lookup_improved = {}\n",
    "\n",
    "for i in range(1, 6):\n",
    "    part_2_lookup_improved[i] = num_fish_from_state(i, 256)\n",
    "\n",
    "part_2_lookup_improved"
   ]
  },
  {
   "cell_type": "markdown",
   "id": "0d8b33bf",
   "metadata": {},
   "source": [
    "From 1 hour to 1 millisecond! It's interesting that the puzzle setter went for 256 days. If I think about the question without thinking of the implementation I might have been tempted on a year (365 days). If it were a year the solution I went for on the day wouldn't have returned. On the otherhand if it were any less I wouldn't have been suitably punished for a slow implementation. If it were 200 days for example - my solution would have returned in under 30 seconds and returned in 6 minutes for 230 days - both being far quicker to wait than to rewrite. 256 seems a sweet spot that allows less lazy people the oportunity to rewrite and come up with a more elegant and satisfying solution whilst keeping us lazy folk in the game."
   ]
  },
  {
   "cell_type": "markdown",
   "id": "77915d72",
   "metadata": {},
   "source": [
    "## Day 7 The Treachery of Whales\n",
    "\n",
    "https://adventofcode.com/2021/day/7\n",
    "\n",
    "Determine the horizontal position that the crabs can align to using the least fuel possible. How much fuel must they spend to align to that position?"
   ]
  },
  {
   "cell_type": "code",
   "execution_count": 78,
   "id": "5dbd4425",
   "metadata": {},
   "outputs": [],
   "source": [
    "test_positions = [16,1,2,0,4,2,7,1,2,14]\n",
    "real_positions = [1101,1,29,67,1102,0,1,65,1008,65,35,66,1005,66,28,1,67,65,20,4,0,1001,65,1,65,1106,0,8,99,35,67,101,99,105,32,110,39,101,115,116,32,112,97,115,32,117,110,101,32,105,110,116,99,111,100,101,32,112,114,111,103,114,97,109,10,485,546,350,100,791,199,115,144,649,41,1656,163,903,71,384,30,2,251,554,210,434,206,546,759,258,54,1478,48,438,601,326,5,1017,165,168,201,622,864,1338,24,1074,545,499,484,264,345,332,869,297,711,674,346,1139,317,875,242,725,250,1619,1408,956,380,366,187,1034,1555,467,170,114,1136,150,183,304,44,37,333,791,34,540,716,1923,342,6,922,18,24,1189,59,1726,636,442,426,1089,526,298,386,296,623,80,272,240,406,628,238,409,302,35,404,92,48,157,1545,409,1382,151,1656,3,76,14,115,566,650,197,448,573,161,86,140,875,128,319,4,822,530,189,247,667,82,316,274,110,206,1012,166,639,579,459,284,200,16,24,147,743,113,1562,387,60,84,797,14,30,1015,508,88,113,685,658,257,1507,348,30,808,416,9,835,671,16,474,885,230,47,463,1324,1263,183,603,739,0,296,789,1411,339,27,1154,31,882,409,646,92,153,147,974,497,308,85,311,135,627,811,295,698,2,20,1170,789,702,1194,1390,432,257,715,958,150,1295,144,1193,607,67,929,383,1051,1231,393,190,380,1203,1090,1238,143,206,210,1004,304,1305,392,143,1379,665,806,452,185,4,1,201,1104,633,274,493,472,141,674,1261,106,587,244,903,91,158,69,137,922,778,143,692,160,474,7,304,824,657,15,1110,806,295,1565,1162,358,725,877,440,690,13,69,111,304,300,493,249,105,746,20,163,561,913,558,252,13,193,508,12,845,120,205,154,1582,349,1471,529,268,23,689,6,776,565,401,0,623,186,62,95,148,275,1,137,320,0,19,1803,10,100,652,750,226,484,180,46,310,446,667,543,277,139,265,74,171,87,1753,337,162,59,1339,1040,1287,1084,192,169,50,1557,81,1120,271,167,977,76,295,12,54,710,36,364,521,989,1634,720,1031,1204,355,380,859,633,223,1207,221,31,138,1305,779,1026,52,92,216,221,0,980,130,1197,585,1213,63,157,213,993,1123,588,450,256,1021,90,1420,47,386,843,1188,1466,807,596,416,23,32,62,1289,317,368,491,907,1386,114,1620,39,344,1342,43,281,12,1202,257,1357,203,465,174,350,833,125,54,390,687,339,628,819,261,1341,840,643,414,82,373,428,1315,570,1070,686,893,70,728,70,358,1233,189,1247,244,1043,1135,42,531,962,35,30,1462,946,856,145,386,1134,1071,379,740,175,1205,234,354,5,1028,506,58,433,1055,749,854,99,298,1248,619,62,181,258,42,130,1698,1313,672,129,222,127,636,846,24,1324,946,622,689,168,329,301,458,173,591,772,93,282,8,320,106,233,412,556,2,522,369,8,1371,899,503,568,667,1199,92,115,899,952,81,629,175,274,763,204,339,236,317,257,731,1082,1724,211,516,165,91,334,1216,101,21,1340,235,336,1351,723,1745,183,841,104,172,1080,180,493,798,1468,45,1627,59,58,368,560,166,1125,136,26,1238,1580,420,1732,155,55,293,751,194,1723,175,11,30,10,307,57,66,704,285,685,241,565,368,50,181,1047,147,420,1341,20,37,400,798,476,1060,642,134,140,502,254,997,910,636,179,22,612,55,237,258,48,205,412,155,910,192,262,9,91,766,1426,71,5,315,285,186,629,422,1289,397,52,860,1390,106,887,1285,1196,684,36,703,199,4,277,151,82,293,1047,455,21,935,630,736,118,13,30,584,453,1446,381,585,810,177,1028,280,281,184,78,673,126,410,872,524,78,188,121,394,201,1764,609,350,706,428,88,783,189,643,305,516,259,582,309,985,338,21,235,73,44,585,71,983,175,1336,1056,10,8,537,701,1653,657,70,1242,442,52,973,203,173,959,964,272,348,3,567,714,1466,382,129,613,1042,686,461,57,523,740,726,149,1490,867,44,379,1270,547,649,1103,912,1354,985,458,887,603,1016,317,499,690,829,1231,364,772,29,57,357,467,484,202,150,109,95,414,444,383,62,124,645,723,772,881,1553,413,123,248,1085,453,260,214,113,1874,482,942,235,899,122,171,127,913,424,406,49,97,1848,295,1152,111,350,54,1160,2,16,156,448,394,740,49,1237,548,206,1206,775,748,728,48,238,148,109,18,56,64,515,163,609,273,301,396,207,51,478,1183,864,772,450,222,1387,269,40,87,426,164,1270,21,347,316,331,408,914,1046,173,48,398,177,431,47,1055,221,513,226,84,285,566,270,333,343,480,1802,101,683,168,1347,582,80,22,329,350,108,379,14,53,349,43,435,195,102,168,338]"
   ]
  },
  {
   "cell_type": "code",
   "execution_count": 79,
   "id": "3243fa91",
   "metadata": {},
   "outputs": [
    {
     "data": {
      "text/plain": [
       "(1000, 1923, 0)"
      ]
     },
     "execution_count": 79,
     "metadata": {},
     "output_type": "execute_result"
    }
   ],
   "source": [
    "len(real_positions), max(real_positions), min(real_positions)"
   ]
  },
  {
   "cell_type": "markdown",
   "id": "e6fa0591",
   "metadata": {},
   "source": [
    "OK, only roughly 2 million calculations to brute force every position. Let's start there"
   ]
  },
  {
   "cell_type": "code",
   "execution_count": 80,
   "id": "ef84f930",
   "metadata": {},
   "outputs": [],
   "source": [
    "def crab_fuel_used_part_1(curr_pos, new_pos):\n",
    "    return abs(curr_pos - new_pos)\n",
    "\n",
    "def crab_fuel_used_part_2(curr_pos, new_pos):\n",
    "    diff = abs(curr_pos - new_pos)\n",
    "    return diff * (diff + 1) // 2\n",
    "\n",
    "def best_alignment(positions, crab_fuel_used):\n",
    "    best_pos = None\n",
    "    best_fuel_used = None\n",
    "    max_pos = max(positions)\n",
    "    min_pos = min(positions)\n",
    "    \n",
    "    for x in range (min_pos, max_pos + 1):\n",
    "        fuel_used = sum(crab_fuel_used(pos, x) for pos in positions)\n",
    "        if best_fuel_used is None or fuel_used < best_fuel_used:\n",
    "            best_pos = x\n",
    "            best_fuel_used = fuel_used\n",
    "    \n",
    "    return best_pos, best_fuel_used"
   ]
  },
  {
   "cell_type": "code",
   "execution_count": 81,
   "id": "5873a8cf",
   "metadata": {},
   "outputs": [
    {
     "data": {
      "text/plain": [
       "((2, 37), (339, 343468))"
      ]
     },
     "execution_count": 81,
     "metadata": {},
     "output_type": "execute_result"
    }
   ],
   "source": [
    "best_alignment(test_positions, crab_fuel_used_part_1), best_alignment(real_positions, crab_fuel_used_part_1)"
   ]
  },
  {
   "cell_type": "markdown",
   "id": "a254661a",
   "metadata": {},
   "source": [
    "### Day 7 Part 2\n",
    "\n",
    "And now the crabs use an extra unit of fuel every time they move"
   ]
  },
  {
   "cell_type": "code",
   "execution_count": 82,
   "id": "139ef40f",
   "metadata": {},
   "outputs": [
    {
     "data": {
      "text/plain": [
       "((5, 168), (478, 96086265))"
      ]
     },
     "execution_count": 82,
     "metadata": {},
     "output_type": "execute_result"
    }
   ],
   "source": [
    "best_alignment(test_positions, crab_fuel_used_part_2), best_alignment(real_positions, crab_fuel_used_part_2)"
   ]
  },
  {
   "cell_type": "markdown",
   "id": "112ab97b",
   "metadata": {},
   "source": [
    "### Day 7 Observations\n",
    "\n",
    "Suspiciously straight forward - the calm before the storm? We are heading towards a maze! I thought the strategy pattern worked quite well here."
   ]
  },
  {
   "cell_type": "markdown",
   "id": "30fda21a",
   "metadata": {},
   "source": [
    "## Day 8 Seven Segment Search\n",
    "\n",
    "https://adventofcode.com/2021/day/8\n",
    "\n",
    "Because the digits 1, 4, 7, and 8 each use a unique number of segments, you should be able to tell which combinations of signals correspond to those digits. Counting only digits in the output values (the part after | on each line), in the above example, there are 26 instances of digits that use a unique number of segments (highlighted above).\n",
    "\n",
    "In the output values, how many times do digits 1, 4, 7, or 8 appear?"
   ]
  },
  {
   "cell_type": "code",
   "execution_count": 1,
   "id": "675d792d",
   "metadata": {},
   "outputs": [],
   "source": [
    "def get_output_digits(puzzle_line):\n",
    "    output = puzzle_line.split(' ')[11:]\n",
    "    return [frozenset(s) for s in output]\n",
    "\n",
    "def get_input_signals(puzzle_line):\n",
    "    input = puzzle_line.split(' ')[:10]\n",
    "    return [frozenset(s) for s in input]  "
   ]
  },
  {
   "cell_type": "code",
   "execution_count": 4,
   "id": "b2577f7f",
   "metadata": {},
   "outputs": [],
   "source": [
    "test_input = get_puzzle_input('test_input_8.txt')\n",
    "real_input = get_puzzle_input('input_8.txt')"
   ]
  },
  {
   "cell_type": "code",
   "execution_count": 5,
   "id": "fb9943c3",
   "metadata": {},
   "outputs": [],
   "source": [
    "def solve_part_1(puzzle_input):\n",
    "    unique_num_count = 0\n",
    "    for line in puzzle_input:\n",
    "        output_digits = get_output_digits(line)\n",
    "        for digit in output_digits:\n",
    "            if len(digit) in (2, 3, 4, 7):\n",
    "                unique_num_count += 1\n",
    "    \n",
    "    return unique_num_count"
   ]
  },
  {
   "cell_type": "code",
   "execution_count": 6,
   "id": "30a17a0a",
   "metadata": {},
   "outputs": [
    {
     "data": {
      "text/plain": [
       "(26, 264)"
      ]
     },
     "execution_count": 6,
     "metadata": {},
     "output_type": "execute_result"
    }
   ],
   "source": [
    "solve_part_1(test_input), solve_part_1(real_input)"
   ]
  },
  {
   "cell_type": "markdown",
   "id": "31d25896",
   "metadata": {},
   "source": [
    "### Day 8, part 2\n",
    "\n",
    "```\n",
    "Considering the line\n",
    "acedgfb cdfbe gcdfa fbcad dab cefabd cdfgeb eafb cagedb ab | cdfeb fcadb cdfeb cdbaf\n",
    "\n",
    "After some careful analysis, the mapping between signal wires and segments only make sense in the following configuration:\n",
    "\n",
    " dddd\n",
    "e    a\n",
    "e    a\n",
    " ffff\n",
    "g    b\n",
    "g    b\n",
    " cccc\n",
    "\n",
    "So, the unique signal patterns would correspond to the following digits:\n",
    "\n",
    "acedgfb: 8\n",
    "cdfbe: 5\n",
    "gcdfa: 2\n",
    "fbcad: 3\n",
    "dab: 7\n",
    "cefabd: 9\n",
    "cdfgeb: 6\n",
    "eafb: 4\n",
    "cagedb: 0\n",
    "ab: 1\n",
    "```\n",
    "\n",
    "For each entry, determine all of the wire/segment connections and decode the four-digit output values. What do you get if you add up all of the output values?"
   ]
  },
  {
   "cell_type": "code",
   "execution_count": 8,
   "id": "2785ea8a",
   "metadata": {},
   "outputs": [],
   "source": [
    "def get_digit_map(signal_pattern):\n",
    "    one = [s for s in signal_pattern if len(s) == 2][0]\n",
    "    four = [s for s in signal_pattern if len(s) == 4][0]\n",
    "    seven = [s for s in signal_pattern if len(s) == 3][0]\n",
    "    eight = [s for s in signal_pattern if len(s) == 7][0]\n",
    "    \n",
    "    # 0, 6 and 9\n",
    "    six_segments = [s for s in signal_pattern if len(s) == 6]\n",
    "    \n",
    "    six = [s for s in six_segments if s & seven != seven][0]\n",
    "    six_segments.remove(six)\n",
    "    nine = [s for s in six_segments if s & four == four][0]\n",
    "    six_segments.remove(nine)\n",
    "    zero = six_segments[0]\n",
    "\n",
    "    # 3, 2 and 5\n",
    "    five_segments = [s for s in signal_pattern if len(s) == 5]\n",
    "    five = [s for s in five_segments if len(six - s)  == 1][0]\n",
    "    five_segments.remove(five)\n",
    "    \n",
    "    three = [s for s in five_segments if s & one == one][0]\n",
    "    five_segments.remove(three)\n",
    "    two = five_segments[0]\n",
    "    \n",
    "    return {\n",
    "        zero: 0,\n",
    "        one: 1,\n",
    "        two: 2,\n",
    "        three: 3,\n",
    "        four: 4,\n",
    "        five: 5,\n",
    "        six: 6,\n",
    "        seven: 7,\n",
    "        eight: 8,\n",
    "        nine: 9\n",
    "    }"
   ]
  },
  {
   "cell_type": "code",
   "execution_count": 9,
   "id": "34d07046",
   "metadata": {},
   "outputs": [],
   "source": [
    "# From the above example:\n",
    "test_line = 'acedgfb cdfbe gcdfa fbcad dab cefabd cdfgeb eafb cagedb ab | cdfeb fcadb cdfeb cdbaf'\n",
    "input_signals = get_input_signals(test_line)\n",
    "digit_map = get_digit_map(input_signals)\n",
    "\n",
    "expected = {\n",
    "    frozenset('acedgfb'): 8,\n",
    "    frozenset('cdfbe'): 5,\n",
    "    frozenset('gcdfa'): 2,\n",
    "    frozenset('fbcad'): 3,\n",
    "    frozenset('dab'): 7,\n",
    "    frozenset('cefabd'): 9,\n",
    "    frozenset('cdfgeb'): 6,\n",
    "    frozenset('eafb'): 4,\n",
    "    frozenset('cagedb'): 0,\n",
    "    frozenset('ab'): 1,\n",
    "}\n",
    "\n",
    "assert sorted(digit_map.items(), key=lambda x: x[1]) == sorted(expected.items(), key=lambda x: x[1])"
   ]
  },
  {
   "cell_type": "code",
   "execution_count": 10,
   "id": "249569a6",
   "metadata": {},
   "outputs": [],
   "source": [
    "def solve_part_2(puzzle_input):\n",
    "    total = 0\n",
    "    for line in puzzle_input:\n",
    "        input_signals = get_input_signals(line)\n",
    "        output_digits = get_output_digits(line)\n",
    "        \n",
    "        digit_map = get_digit_map(input_signals)\n",
    "        \n",
    "        decoded_digits = [digit_map[d] for d in output_digits]\n",
    "        decoded_figure = int(''.join(map(str, decoded_digits)))\n",
    "        total += decoded_figure\n",
    "    \n",
    "    return total"
   ]
  },
  {
   "cell_type": "code",
   "execution_count": 11,
   "id": "d88202aa",
   "metadata": {},
   "outputs": [
    {
     "data": {
      "text/plain": [
       "(61229, 1063760)"
      ]
     },
     "execution_count": 11,
     "metadata": {},
     "output_type": "execute_result"
    }
   ],
   "source": [
    "solve_part_2(test_input), solve_part_2(real_input)"
   ]
  },
  {
   "cell_type": "markdown",
   "id": "61db1af8",
   "metadata": {},
   "source": [
    "### Day 8 Observations\n",
    "\n",
    "We have a tech talk session on Wednesdays - so I thought for the Christmas special that we'd do today's AOC puzzle as a group swarm programming session. The session's only half an hour so I wanted to check what was achievable to explain and complete in that time before hand (that is to say I cheated and completed it prior to the session.) To fit in the time and to choose something interesting I concentrated on part 2 with only the `get_digit_map` function (the hard bit) not implemented. So, there was a lot of boilerplate already there to test and execute the function. Here's some observations from the session:\n",
    "\n",
    "- Some people just really don't like puzzles. Problem solving as a group can ellicit a range of negative emotions - from a more neutral - just a waste of time, to feeling the pressure of performing in front of peers. It's important to give people an out by either saying what the session is going to be about up front (I didn't) or telling people that it's fine to drop off if they want to get the time back (I did.)\n",
    "\n",
    "- The read though and part one of these puzzles are both really important. You think through possible implementations as you're reading it; you're potentially second guessing what's going to be in the second part. Completing the first part gives you a good feel for what you're working with, and you take all this into the second part. Tackling one aspect of the second part involved me paraphrasing the problem up to that point to the group and together with the boilerplate code they had to jump right in at the deep end without a chance to really think it through. This gap in prior knowledge also either made it look like I was exceptionally clever (unlikely) or that I was pretending to be exceptionally clever (very likely). If I were doing it again I think I would do it blind on part 1 of a problem; giving everyone five minutes to read it through first. I'd obviously need to put to one side my own fear of failing in front of peers - failing to solve it can be just as interesting!\n",
    "\n",
    "- Even though they were thrown in at the deep end - they did it! (their solution is above). I really tried not to prompt - honest - just to type."
   ]
  },
  {
   "cell_type": "markdown",
   "id": "bccc12ec",
   "metadata": {},
   "source": [
    "## Day 9 Smoke Basin\n",
    "\n",
    "https://adventofcode.com/2021/day/9\n",
    "\n",
    "The risk level of a low point is 1 plus its height. In the above example, the risk levels of the low points are 2, 1, 6, and 6. The sum of the risk levels of all low points in the heightmap is therefore 15.\n",
    "\n",
    "Find all of the low points on your heightmap. What is the sum of the risk levels of all low points on your heightmap?"
   ]
  },
  {
   "cell_type": "code",
   "execution_count": 8,
   "id": "d3e86337",
   "metadata": {},
   "outputs": [],
   "source": [
    "test_input = get_puzzle_input('test_input_9.txt')\n",
    "real_input = get_puzzle_input('input_9.txt')"
   ]
  },
  {
   "cell_type": "code",
   "execution_count": 9,
   "id": "48e9edf5",
   "metadata": {},
   "outputs": [],
   "source": [
    "@dataclass(frozen=True)\n",
    "class Point:\n",
    "    x: int\n",
    "    y: int\n",
    "    \n",
    "    @property\n",
    "    def adjacent_points(self):\n",
    "        return [\n",
    "            Point(self.x - 1, self.y),\n",
    "            Point(self.x + 1, self.y),\n",
    "            Point(self.x, self.y + 1),\n",
    "            Point(self.x, self.y - 1),\n",
    "        ]\n"
   ]
  },
  {
   "cell_type": "code",
   "execution_count": 10,
   "id": "8d4822c1",
   "metadata": {},
   "outputs": [],
   "source": [
    "class Grid:\n",
    "    def __init__(self, puzzle_input):\n",
    "        self.points = {}\n",
    "        self.max_x = len(puzzle_input[0]) - 1\n",
    "        self.max_y = len(puzzle_input) - 1\n",
    "\n",
    "        for y, line in enumerate(puzzle_input):\n",
    "            for x, val in enumerate(line):\n",
    "                self.points[Point(x, y)] = int(val)\n",
    "    \n",
    "    def get_adjacent_points(self, point):\n",
    "            adjacent_points = point.adjacent_points\n",
    "            adjacent_points = [\n",
    "                point\n",
    "                for point in adjacent_points\n",
    "                if point.x >= 0 and point.x <= self.max_x\n",
    "            ]\n",
    "            adjacent_points = [\n",
    "                point\n",
    "                for point in adjacent_points\n",
    "                if point.y >= 0 and point.y <= self.max_y\n",
    "            ]\n",
    "            return adjacent_points\n",
    "        \n",
    "\n",
    "    def play_part_1(self):\n",
    "        risk = 0\n",
    "        for point, val in self.points.items():\n",
    "            adjacent_values = [\n",
    "                self.points[point]\n",
    "                for point\n",
    "                in self.get_adjacent_points(point)\n",
    "            ]\n",
    "            \n",
    "            if all([val < adjacent_val for adjacent_val in adjacent_values]):\n",
    "                risk += 1 + val\n",
    "        \n",
    "        return risk\n",
    "\n",
    "    def find_basin(self, remaining_points):\n",
    "        # pick a starting point\n",
    "        basin = {list(remaining_points)[0]}\n",
    "        \n",
    "        while True:\n",
    "            added_points = set()\n",
    "            for point in basin:\n",
    "                adjacent_points = self.get_adjacent_points(point)\n",
    "                adjacent_points = [point for point in adjacent_points if point in remaining_points]\n",
    "                adjacent_points = {point for point in adjacent_points if self.points[point] < 9}\n",
    "                added_points = added_points | adjacent_points\n",
    "\n",
    "            new_basin = basin | added_points\n",
    "            if new_basin == basin:\n",
    "                return new_basin\n",
    "\n",
    "            basin = new_basin\n",
    "    \n",
    "    def find_basins(self):\n",
    "        basins = []\n",
    "        remaining_points = {point for point, val in self.points.items() if val < 9}\n",
    "        \n",
    "        while remaining_points:\n",
    "            basin = self.find_basin(remaining_points)\n",
    "            basins.append(basin)\n",
    "            remaining_points -= basin\n",
    "        \n",
    "        return basins \n",
    "    \n",
    "    def play_part_2(self):\n",
    "        basins = self.find_basins()\n",
    "        sizes = [len(basin) for basin in basins]\n",
    "        sizes = list(reversed(sorted(sizes)))\n",
    "        return sizes[0] * sizes[1] * sizes[2]"
   ]
  },
  {
   "cell_type": "code",
   "execution_count": 11,
   "id": "5df1c3a0",
   "metadata": {},
   "outputs": [
    {
     "data": {
      "text/plain": [
       "15"
      ]
     },
     "execution_count": 11,
     "metadata": {},
     "output_type": "execute_result"
    }
   ],
   "source": [
    "test_grid = Grid(test_input)\n",
    "test_grid.play_part_1()"
   ]
  },
  {
   "cell_type": "code",
   "execution_count": 12,
   "id": "2d2acfea",
   "metadata": {},
   "outputs": [
    {
     "data": {
      "text/plain": [
       "478"
      ]
     },
     "execution_count": 12,
     "metadata": {},
     "output_type": "execute_result"
    }
   ],
   "source": [
    "real_grid = Grid(real_input)\n",
    "real_grid.play_part_1()"
   ]
  },
  {
   "cell_type": "markdown",
   "id": "f86fda97",
   "metadata": {},
   "source": [
    "### Day 9 part 2\n",
    "\n",
    "Find the three largest basins and multiply their sizes together. In the above example, this is 9 * 14 * 9 = 1134.\n",
    "\n",
    "What do you get if you multiply together the sizes of the three largest basins?"
   ]
  },
  {
   "cell_type": "code",
   "execution_count": 13,
   "id": "b8827499",
   "metadata": {},
   "outputs": [
    {
     "data": {
      "text/plain": [
       "1134"
      ]
     },
     "execution_count": 13,
     "metadata": {},
     "output_type": "execute_result"
    }
   ],
   "source": [
    "test_grid = Grid(test_input)\n",
    "test_grid.play_part_2()"
   ]
  },
  {
   "cell_type": "code",
   "execution_count": 14,
   "id": "6da79032",
   "metadata": {},
   "outputs": [
    {
     "data": {
      "text/plain": [
       "1327014"
      ]
     },
     "execution_count": 14,
     "metadata": {},
     "output_type": "execute_result"
    }
   ],
   "source": [
    "real_grid = Grid(real_input)\n",
    "real_grid.play_part_2()"
   ]
  },
  {
   "cell_type": "markdown",
   "id": "8397cf29",
   "metadata": {},
   "source": [
    "### Day 9 Observations\n",
    "\n",
    "I find it difficult to spell the word, 'adjacent'."
   ]
  },
  {
   "cell_type": "markdown",
   "id": "f000b684",
   "metadata": {},
   "source": [
    "## Day 10 Syntax Scoring\n",
    "\n",
    "https://adventofcode.com/2021/day/10\n",
    "\n",
    "In the above example, an illegal ) was found twice (2*3 = 6 points), an illegal ] was found once (57 points), an illegal } was found once (1197 points), and an illegal > was found once (25137 points). So, the total syntax error score for this file is 6+57+1197+25137 = 26397 points!\n",
    "\n",
    "Find the first illegal character in each corrupted line of the navigation subsystem. What is the total syntax error score for those errors?"
   ]
  },
  {
   "cell_type": "code",
   "execution_count": 4,
   "id": "517a0ad0",
   "metadata": {},
   "outputs": [],
   "source": [
    "test_input = get_puzzle_input('test_input_10.txt')\n",
    "real_input = get_puzzle_input('input_10.txt')"
   ]
  },
  {
   "cell_type": "code",
   "execution_count": 5,
   "id": "02d62e1c",
   "metadata": {},
   "outputs": [],
   "source": [
    "def find_syntax_error(line):\n",
    "    stack = []\n",
    "    pair_map = {\n",
    "        '{': '}',\n",
    "        '(': ')',\n",
    "        '[': ']',\n",
    "        '<': '>', \n",
    "    }\n",
    "    close_map = {v: n for (n, v) in pair_map.items()}\n",
    "    openings = set(pair_map.keys())\n",
    "    endings = set(pair_map.values())\n",
    "    \n",
    "    for char in line:\n",
    "        if char in openings:\n",
    "            stack.append(char)\n",
    "        \n",
    "        if char in endings:\n",
    "            if not stack:\n",
    "                return (None, char)\n",
    "            opening = stack.pop()\n",
    "            expected = pair_map[opening]\n",
    "            if char != expected:\n",
    "                return (expected, char)\n",
    "        \n",
    "    return None"
   ]
  },
  {
   "cell_type": "code",
   "execution_count": 6,
   "id": "01a76ead",
   "metadata": {},
   "outputs": [],
   "source": [
    "assert find_syntax_error('{}') is None\n",
    "assert find_syntax_error('{]') == ('}', ']')"
   ]
  },
  {
   "cell_type": "code",
   "execution_count": 7,
   "id": "3ba2f66f",
   "metadata": {},
   "outputs": [],
   "source": [
    "def play_part_1(input):\n",
    "    total = 0\n",
    "    scores = {\n",
    "        ')': 3,\n",
    "        ']': 57,\n",
    "        '}': 1197,\n",
    "        '>': 25137\n",
    "    }\n",
    "    for line in input:\n",
    "        error = find_syntax_error(line)\n",
    "        if error:\n",
    "            error_char = error[1]\n",
    "            score = scores[error_char]\n",
    "            total += score\n",
    "    \n",
    "    return total"
   ]
  },
  {
   "cell_type": "code",
   "execution_count": 8,
   "id": "5471cc95",
   "metadata": {},
   "outputs": [
    {
     "data": {
      "text/plain": [
       "(26397, 288291)"
      ]
     },
     "execution_count": 8,
     "metadata": {},
     "output_type": "execute_result"
    }
   ],
   "source": [
    "play_part_1(test_input), play_part_1(real_input)"
   ]
  },
  {
   "cell_type": "markdown",
   "id": "7f761990",
   "metadata": {},
   "source": [
    "### Day 10, part 2\n",
    "\n",
    "Autocomplete tools are an odd bunch: the winner is found by sorting all of the scores and then taking the middle score. (There will always be an odd number of scores to consider.) In this example, the middle score is 288957 because there are the same number of scores smaller and larger than it.\n",
    "\n",
    "Find the completion string for each incomplete line, score the completion strings, and sort the scores. What is the middle score?"
   ]
  },
  {
   "cell_type": "code",
   "execution_count": 9,
   "id": "da0e569d",
   "metadata": {},
   "outputs": [],
   "source": [
    "def find_completion_sequence(line):\n",
    "    stack = []\n",
    "    pair_map = {\n",
    "        '{': '}',\n",
    "        '(': ')',\n",
    "        '[': ']',\n",
    "        '<': '>', \n",
    "    }\n",
    "    close_map = {v: n for (n, v) in pair_map.items()}\n",
    "    openings = set(pair_map.keys())\n",
    "    endings = set(pair_map.values())\n",
    "    \n",
    "    for char in line:\n",
    "        if char in openings:\n",
    "            stack.append(char)\n",
    "        \n",
    "        if char in endings:\n",
    "            if not stack:\n",
    "                return []\n",
    "            opening = stack.pop()\n",
    "            expected = pair_map[opening]\n",
    "            if char != expected:\n",
    "                return []\n",
    "        \n",
    "    return [pair_map[char] for char in reversed(stack)]"
   ]
  },
  {
   "cell_type": "code",
   "execution_count": 10,
   "id": "5f4a2f16",
   "metadata": {},
   "outputs": [],
   "source": [
    "def play_part_2(input):\n",
    "    line_scores = []\n",
    "    scores = {\n",
    "        ')': 1,\n",
    "        ']': 2,\n",
    "        '}': 3,\n",
    "        '>': 4\n",
    "    }\n",
    "    for line in input:\n",
    "        line_score = 0\n",
    "        completion_sequence = find_completion_sequence(line)\n",
    "        for char in completion_sequence:\n",
    "            line_score *= 5\n",
    "            line_score += scores[char]\n",
    "        \n",
    "        if line_score:\n",
    "            line_scores.append(line_score)\n",
    "    \n",
    "    line_scores = sorted(line_scores)\n",
    "    median = line_scores[len(line_scores) // 2]\n",
    "    return median"
   ]
  },
  {
   "cell_type": "code",
   "execution_count": 11,
   "id": "92534a45",
   "metadata": {},
   "outputs": [
    {
     "data": {
      "text/plain": [
       "(288957, 820045242)"
      ]
     },
     "execution_count": 11,
     "metadata": {},
     "output_type": "execute_result"
    }
   ],
   "source": [
    "play_part_2(test_input), play_part_2(real_input)"
   ]
  },
  {
   "cell_type": "markdown",
   "id": "f2870a2e",
   "metadata": {},
   "source": [
    "### Day 10 Observations\n",
    "\n",
    "It's frustrating when you know how to do part two but you've really got to go and catch a train. It would have been more elegant to represent the syntax errors as exceptions and so using the same function for parts 1 and 2."
   ]
  },
  {
   "cell_type": "code",
   "execution_count": null,
   "id": "d4ac7053",
   "metadata": {},
   "outputs": [],
   "source": []
  }
 ],
 "metadata": {
  "kernelspec": {
   "display_name": "Python 3 (ipykernel)",
   "language": "python",
   "name": "python3"
  },
  "language_info": {
   "codemirror_mode": {
    "name": "ipython",
    "version": 3
   },
   "file_extension": ".py",
   "mimetype": "text/x-python",
   "name": "python",
   "nbconvert_exporter": "python",
   "pygments_lexer": "ipython3",
   "version": "3.9.6"
  }
 },
 "nbformat": 4,
 "nbformat_minor": 5
}
