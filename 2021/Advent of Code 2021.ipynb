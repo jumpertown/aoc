{
 "cells": [
  {
   "cell_type": "markdown",
   "id": "90fde348",
   "metadata": {},
   "source": [
    "# Advent of Code 2021\n",
    "\n",
    "Never again.\n",
    "\n",
    "That's what I said in 2019. I both love https://adventofcode.com and hate that the puzzles are so beautifully put together that I can't resist doing one more little one - even though I really don't need anything else going on in my life over the festive season. Perhaps I'll just take a look at day 1... And then...\n",
    "\n",
    "Well if I'm going to do this I might as well record feelings I've had along the way and any insights into how I could approach other problems better.\n",
    "\n",
    "I'm no way committing to completing it this year. (Come on - you don't have to do this)\n",
    "\n",
    "Merry Christmas, J."
   ]
  },
  {
   "cell_type": "code",
   "execution_count": 1,
   "id": "8d8a1407",
   "metadata": {},
   "outputs": [],
   "source": [
    "from collections import (\n",
    "    Counter,\n",
    "    defaultdict,\n",
    "    deque,\n",
    "    namedtuple\n",
    ")\n",
    "\n",
    "from dataclasses import dataclass\n",
    "import math\n",
    "import re"
   ]
  },
  {
   "cell_type": "code",
   "execution_count": 2,
   "id": "855ab138",
   "metadata": {},
   "outputs": [],
   "source": [
    "def get_puzzle_input(file, strip_lines=True, remove_blank_lines=True):\n",
    "    \"\"\"Return the puzzle input as a list.\"\"\"\n",
    "    with open(file) as fh:\n",
    "        lines = fh.readlines()\n",
    "    \n",
    "    if strip_lines:\n",
    "        lines = [l.strip() for l in lines]\n",
    "    \n",
    "    if remove_blank_lines:\n",
    "        lines = [l for l in lines if l]\n",
    "        \n",
    "        \n",
    "    return lines"
   ]
  },
  {
   "cell_type": "markdown",
   "id": "e94b8c20",
   "metadata": {},
   "source": [
    "## Day 1 Sonar Sweep\n",
    "\n",
    "https://adventofcode.com/2021/day/1\n",
    "\n",
    "Count the number of times a depth measurement increases from the previous measurement. (There is no measurement before the first measurement.)"
   ]
  },
  {
   "cell_type": "code",
   "execution_count": 4,
   "id": "3f4c013b",
   "metadata": {},
   "outputs": [],
   "source": [
    "test_input = [\n",
    "    199,\n",
    "    200,\n",
    "    208,\n",
    "    210,\n",
    "    200,\n",
    "    207,\n",
    "    240,\n",
    "    269,\n",
    "    260,\n",
    "    263\n",
    "]\n",
    "real_input = get_puzzle_input('input.txt')\n",
    "real_input = [int(i) for i in real_input]"
   ]
  },
  {
   "cell_type": "code",
   "execution_count": 5,
   "id": "7f764b92",
   "metadata": {},
   "outputs": [],
   "source": [
    "def num_increases(puzzle_input):\n",
    "    num_increases = 0\n",
    "    current_num = None\n",
    "    for val in puzzle_input:\n",
    "        if current_num is not None and val > current_num:\n",
    "            num_increases += 1\n",
    "        current_num = val\n",
    "\n",
    "    return num_increases"
   ]
  },
  {
   "cell_type": "code",
   "execution_count": 6,
   "id": "7f2a95cb",
   "metadata": {},
   "outputs": [
    {
     "data": {
      "text/plain": [
       "(7, 1754)"
      ]
     },
     "execution_count": 6,
     "metadata": {},
     "output_type": "execute_result"
    }
   ],
   "source": [
    "num_increases(test_input), num_increases(real_input)"
   ]
  },
  {
   "cell_type": "markdown",
   "id": "afe0f5ec",
   "metadata": {},
   "source": [
    "### Day 1 Part 2\n",
    "Instead, consider sums of a three-measurement sliding window"
   ]
  },
  {
   "cell_type": "code",
   "execution_count": 3,
   "id": "4f43bec1",
   "metadata": {},
   "outputs": [],
   "source": [
    "def windows(puzzle_input, window_size):\n",
    "    output = []\n",
    "    puzzle_len = len(puzzle_input)\n",
    "    for puzzle_idx in range(puzzle_len):\n",
    "        window = []\n",
    "        for window_idx in range(window_size):\n",
    "            idx = puzzle_idx + window_idx\n",
    "            if idx < puzzle_len:\n",
    "                window.append(puzzle_input[idx])\n",
    "        output.append(tuple(window))\n",
    "    return output"
   ]
  },
  {
   "cell_type": "code",
   "execution_count": 8,
   "id": "58ff4443",
   "metadata": {},
   "outputs": [
    {
     "data": {
      "text/plain": [
       "[(199, 200, 208),\n",
       " (200, 208, 210),\n",
       " (208, 210, 200),\n",
       " (210, 200, 207),\n",
       " (200, 207, 240),\n",
       " (207, 240, 269),\n",
       " (240, 269, 260),\n",
       " (269, 260, 263),\n",
       " (260, 263),\n",
       " (263,)]"
      ]
     },
     "execution_count": 8,
     "metadata": {},
     "output_type": "execute_result"
    }
   ],
   "source": [
    "windows(test_input, 3)"
   ]
  },
  {
   "cell_type": "code",
   "execution_count": 9,
   "id": "fa165613",
   "metadata": {},
   "outputs": [
    {
     "data": {
      "text/plain": [
       "5"
      ]
     },
     "execution_count": 9,
     "metadata": {},
     "output_type": "execute_result"
    }
   ],
   "source": [
    "windowed_test_input = [sum(x) for x in windows(test_input, 3)]\n",
    "num_increases(windowed_test_input)"
   ]
  },
  {
   "cell_type": "code",
   "execution_count": 10,
   "id": "8ce605f3",
   "metadata": {},
   "outputs": [
    {
     "data": {
      "text/plain": [
       "1789"
      ]
     },
     "execution_count": 10,
     "metadata": {},
     "output_type": "execute_result"
    }
   ],
   "source": [
    "windowed_real_input = [sum(x) for x in windows(real_input, 3)]\n",
    "num_increases(windowed_real_input)"
   ]
  },
  {
   "cell_type": "markdown",
   "id": "25f2ff98",
   "metadata": {},
   "source": [
    "### Day 1 Observations\n",
    "\n",
    "I skipped last year's AOC and I realise that I always go into each of these puzzles with the expectation that I won't have a clue where to start and everyone else will be able to see the solution. Also interesting that I started on the windowing solution just as my train was pulling into the station with a 'write it and see what happens' mind set; it was turning into a real mess. During the next 10 minute bus ride I had a much clearer idea of what I was going to do. Sometimes it pays to walk away from the keyboard."
   ]
  },
  {
   "cell_type": "markdown",
   "id": "381d7ece",
   "metadata": {},
   "source": [
    "## Day 2 Dive!\n",
    "\n",
    "https://adventofcode.com/2021/day/2\n",
    "\n",
    "Calculate the horizontal position and depth you would have after following the planned course."
   ]
  },
  {
   "cell_type": "code",
   "execution_count": 11,
   "id": "35ccf729",
   "metadata": {},
   "outputs": [],
   "source": [
    "@dataclass(frozen=True)\n",
    "class Position:\n",
    "    horizontal: int = 0\n",
    "    depth: int = 0\n",
    "    \n",
    "    def move(self, command):\n",
    "        movement_map = {\n",
    "            'forward': (1, 0),\n",
    "            'down': (0, 1),\n",
    "            'up': (0, -1),\n",
    "        }\n",
    "        input_re = re.compile(r'(\\S+) ([0-9-]+)')\n",
    "        match = input_re.match(command)\n",
    "        if not match:\n",
    "            print(command)\n",
    "        \n",
    "        direction = match.groups()[0]\n",
    "        amount = int(match.groups()[1])\n",
    "        \n",
    "        diff = movement_map[direction]\n",
    "        return Position(\n",
    "            self.horizontal + diff[0] * amount,\n",
    "            self.depth + diff[1] * amount,\n",
    "        )\n"
   ]
  },
  {
   "cell_type": "code",
   "execution_count": 14,
   "id": "b0b24a07",
   "metadata": {},
   "outputs": [],
   "source": [
    "assert Position(0, 0).move('down 12') == Position(0, 12)\n",
    "assert Position(0, 12).move('up 12') == Position(0, 0)\n",
    "assert Position(100, 12).move('forward 12') == Position(112, 12)"
   ]
  },
  {
   "cell_type": "code",
   "execution_count": 17,
   "id": "acad43d7",
   "metadata": {},
   "outputs": [],
   "source": [
    "test_directions = [\n",
    "    'forward 5',\n",
    "    'down 5',\n",
    "    'forward 8',\n",
    "    'up 3',\n",
    "    'down 8',\n",
    "    'forward 2'\n",
    "]\n",
    "real_directions = get_puzzle_input('input_2.txt')"
   ]
  },
  {
   "cell_type": "code",
   "execution_count": 20,
   "id": "ef406881",
   "metadata": {},
   "outputs": [],
   "source": [
    "def play(directions, initial_position):\n",
    "    position = initial_position\n",
    "    for dir in directions:\n",
    "        position = position.move(dir)\n",
    "    return position.horizontal * position.depth\n"
   ]
  },
  {
   "cell_type": "code",
   "execution_count": 22,
   "id": "addad896",
   "metadata": {},
   "outputs": [
    {
     "data": {
      "text/plain": [
       "(150, 1524750)"
      ]
     },
     "execution_count": 22,
     "metadata": {},
     "output_type": "execute_result"
    }
   ],
   "source": [
    "play(test_directions, Position(0, 0)), play(real_directions, Position(0, 0))"
   ]
  },
  {
   "cell_type": "markdown",
   "id": "a04f028d",
   "metadata": {},
   "source": [
    "### Day 2 Part 2\n",
    "\n",
    "Calculate using the new interpretation as up and down as tilt."
   ]
  },
  {
   "cell_type": "code",
   "execution_count": 24,
   "id": "f75b3a8e",
   "metadata": {},
   "outputs": [],
   "source": [
    "@dataclass(frozen=True)\n",
    "class Position2:\n",
    "    horizontal: int = 0\n",
    "    depth: int = 0\n",
    "    aim: int = 0\n",
    "    \n",
    "    def move(self, command):\n",
    "        movement_map = {\n",
    "            'forward': (1, self.aim, 0),\n",
    "            'down': (0, 0, 1),\n",
    "            'up': (0, 0, -1),\n",
    "        }\n",
    "        input_re = re.compile(r'(\\S+) ([0-9-]+)')\n",
    "        match = input_re.match(command)\n",
    "        if not match:\n",
    "            print(command)\n",
    "        \n",
    "        direction = match.groups()[0]\n",
    "        amount = int(match.groups()[1])\n",
    "        \n",
    "        diff = movement_map[direction]\n",
    "        return Position2(\n",
    "            self.horizontal + diff[0] * amount,\n",
    "            self.depth + diff[1] * amount,\n",
    "            self.aim + diff[2] * amount,\n",
    "        )"
   ]
  },
  {
   "cell_type": "code",
   "execution_count": 25,
   "id": "cef30165",
   "metadata": {},
   "outputs": [
    {
     "data": {
      "text/plain": [
       "(900, 1592426537)"
      ]
     },
     "execution_count": 25,
     "metadata": {},
     "output_type": "execute_result"
    }
   ],
   "source": [
    "play(test_directions, Position2(0, 0)), play(real_directions, Position2(0, 0))"
   ]
  },
  {
   "cell_type": "markdown",
   "id": "64b5c019",
   "metadata": {},
   "source": [
    "### Day 2 Observations\n",
    "\n",
    "Frozen dataclasses have been the killer missing feature in Python. Once you've worked with Scala case classes or Kotlin data classes, you can't imagine why a language wouldn't have such a feature (I guess I wasn't aware of them when doing 2018 AOC!)"
   ]
  },
  {
   "cell_type": "markdown",
   "id": "52336557",
   "metadata": {},
   "source": [
    "## Day 3 Binary Diagnostic\n",
    "\n",
    "https://adventofcode.com/2021/day/3\n",
    "\n",
    "Use the binary numbers in your diagnostic report to calculate the gamma rate and epsilon rate, then multiply them together. What is the power consumption of the submarine? (Be sure to represent your answer in decimal, not binary.)"
   ]
  },
  {
   "cell_type": "code",
   "execution_count": 26,
   "id": "56600e2a",
   "metadata": {},
   "outputs": [],
   "source": [
    "test_input = [\n",
    "    '00100',\n",
    "    '11110',\n",
    "    '10110',\n",
    "    '10111',\n",
    "    '10101',\n",
    "    '01111',\n",
    "    '00111',\n",
    "    '11100',\n",
    "    '10000',\n",
    "    '11001',\n",
    "    '00010',\n",
    "    '01010',\n",
    "]\n",
    "real_input = get_puzzle_input('input3.txt')"
   ]
  },
  {
   "cell_type": "code",
   "execution_count": 27,
   "id": "ce244148",
   "metadata": {},
   "outputs": [],
   "source": [
    "def gamma_rate(input):\n",
    "    num_numbers = len(input)\n",
    "    num_figures = len(input[0])\n",
    "    running_count = [0] * num_figures\n",
    "    binaries = [int(x, base=2) for x in input]\n",
    "    \n",
    "    for binary in binaries:\n",
    "        for figure in range(num_figures):\n",
    "            mask = 2**figure\n",
    "            is_set = (binary & mask) // mask\n",
    "            running_count[figure] += is_set\n",
    "\n",
    "    return sum(\n",
    "        val * 2 // num_numbers * 2**idx\n",
    "        for (idx, val)\n",
    "        in enumerate(running_count)\n",
    "    )"
   ]
  },
  {
   "cell_type": "code",
   "execution_count": 28,
   "id": "57e6bf0c",
   "metadata": {},
   "outputs": [],
   "source": [
    "def epsilon_rate(gamma_rate, num_figures):\n",
    "    return (2**num_figures - 1) ^ gamma_rate"
   ]
  },
  {
   "cell_type": "code",
   "execution_count": 31,
   "id": "e5e66fa7",
   "metadata": {},
   "outputs": [
    {
     "data": {
      "text/plain": [
       "(22, 9, 198)"
      ]
     },
     "execution_count": 31,
     "metadata": {},
     "output_type": "execute_result"
    }
   ],
   "source": [
    "test_gamma_rate = gamma_rate(test_input)\n",
    "test_epsilon_rate = epsilon_rate(test_gamma_rate, len(test_input[0]))\n",
    "test_gamma_rate, test_epsilon_rate, test_gamma_rate * test_epsilon_rate\n"
   ]
  },
  {
   "cell_type": "code",
   "execution_count": 32,
   "id": "8ed30e26",
   "metadata": {},
   "outputs": [
    {
     "data": {
      "text/plain": [
       "(3808, 287, 1092896)"
      ]
     },
     "execution_count": 32,
     "metadata": {},
     "output_type": "execute_result"
    }
   ],
   "source": [
    "real_gamma_rate = gamma_rate(real_input)\n",
    "real_epsilon_rate = epsilon_rate(real_gamma_rate, len(real_input[0]))\n",
    "real_gamma_rate, real_epsilon_rate, real_gamma_rate * real_epsilon_rate"
   ]
  },
  {
   "cell_type": "markdown",
   "id": "6779bbe9",
   "metadata": {},
   "source": [
    "### Day 3, part 2\n",
    "\n",
    "Use the binary numbers in your diagnostic report to calculate the oxygen generator rating and CO2 scrubber rating, then multiply them together. What is the life support rating of the submarine? (Be sure to represent your answer in decimal, not binary.)"
   ]
  },
  {
   "cell_type": "code",
   "execution_count": 33,
   "id": "bb3ea95c",
   "metadata": {},
   "outputs": [],
   "source": [
    "def figure_filter(figures, figure_idx, is_most_common): \n",
    "    running_count = 0\n",
    "    num_numbers = len(figures)\n",
    "    mask = 2**figure_idx\n",
    "    ones = []\n",
    "    zeroes = []\n",
    "\n",
    "    for figure in figures:\n",
    "        is_set = (figure & mask) // mask\n",
    "        running_count += is_set\n",
    "        if is_set:\n",
    "            ones.append(figure)\n",
    "        else:\n",
    "            zeroes.append(figure)\n",
    "\n",
    "    more_ones = running_count * 2 >= num_numbers\n",
    "    \n",
    "    if (\n",
    "        more_ones and is_most_common or\n",
    "        not more_ones and not is_most_common\n",
    "    ):\n",
    "        return ones\n",
    "    else:\n",
    "        return zeroes"
   ]
  },
  {
   "cell_type": "code",
   "execution_count": 34,
   "id": "4983f82e",
   "metadata": {},
   "outputs": [],
   "source": [
    "def part2(figures, is_most_common):\n",
    "    int_figures = [int(x, base=2) for x in figures]\n",
    "    num_figures = len(figures[0])\n",
    "    # Count down to look at the most sig bit first\n",
    "    for figure_idx in range(num_figures - 1, -1, -1):\n",
    "        int_figures = figure_filter(int_figures, figure_idx, is_most_common)\n",
    "        \n",
    "        if len(int_figures) <= 1:\n",
    "            break\n",
    "    \n",
    "    return int_figures "
   ]
  },
  {
   "cell_type": "code",
   "execution_count": 36,
   "id": "f0325219",
   "metadata": {},
   "outputs": [
    {
     "data": {
      "text/plain": [
       "([23], [10], 230)"
      ]
     },
     "execution_count": 36,
     "metadata": {},
     "output_type": "execute_result"
    }
   ],
   "source": [
    "oxygen_rating = part2(test_input, True)\n",
    "co_rating = part2(test_input, False)\n",
    "oxygen_rating, co_rating, oxygen_rating[0] * co_rating[0]"
   ]
  },
  {
   "cell_type": "code",
   "execution_count": 38,
   "id": "1f48e0ed",
   "metadata": {},
   "outputs": [
    {
     "data": {
      "text/plain": [
       "([3443], [1357], 4672151)"
      ]
     },
     "execution_count": 38,
     "metadata": {},
     "output_type": "execute_result"
    }
   ],
   "source": [
    "oxygen_rating = part2(real_input, True)\n",
    "co_rating = part2(real_input, False)\n",
    "oxygen_rating, co_rating, oxygen_rating[0] * co_rating[0]"
   ]
  },
  {
   "cell_type": "markdown",
   "id": "d5da1e36",
   "metadata": {},
   "source": [
    "### Day 3 Observations\n",
    "\n",
    "Think I made the right call in working with ints rather than strings in part 1.\n"
   ]
  },
  {
   "cell_type": "markdown",
   "id": "007ff1bd",
   "metadata": {},
   "source": [
    "## Day 4 Giant Squid\n",
    "\n",
    "https://adventofcode.com/2021/day/4\n",
    "\n",
    "To guarantee victory against the giant squid, figure out which board will win first. What will your final score be if you choose that board?"
   ]
  },
  {
   "cell_type": "code",
   "execution_count": 39,
   "id": "e7689275",
   "metadata": {},
   "outputs": [],
   "source": [
    "test_input = get_puzzle_input('test_input_4.txt', remove_blank_lines=False)\n",
    "real_input = get_puzzle_input('input_4.txt', remove_blank_lines=False)"
   ]
  },
  {
   "cell_type": "code",
   "execution_count": 40,
   "id": "90414299",
   "metadata": {},
   "outputs": [],
   "source": [
    "class Board:\n",
    "    def __init__(self, grid):\n",
    "        self.grid_size = len(grid)\n",
    "        self.parse_grid(grid)\n",
    "        self.reset()\n",
    "\n",
    "    def parse_grid(self, grid):\n",
    "        self.numbers = {}\n",
    "        self.locations = {}\n",
    "        for row_idx, line in enumerate(grid):\n",
    "            row = re.split('\\s+', line)\n",
    "            for col_idx, num in enumerate(row):\n",
    "                location = (col_idx, row_idx)\n",
    "                num = int(num)\n",
    "                self.numbers[num] = location\n",
    "                self.locations[location] = num\n",
    "    \n",
    "    def reset(self):\n",
    "        self.dabbed = Counter()\n",
    "        self.unmarked = set(self.numbers.keys())\n",
    "        \n",
    "    def dab(self, number):\n",
    "        if number not in self.unmarked:\n",
    "            return None\n",
    "        \n",
    "        self.unmarked.remove(number)\n",
    "\n",
    "        location = self.numbers[number]\n",
    "        \n",
    "        col_idx = ('COL', location[0])\n",
    "        row_idx = ('ROW', location[1])\n",
    "        self.dabbed[col_idx] += 1\n",
    "        self.dabbed[row_idx] += 1\n",
    "        \n",
    "        col_win = self.dabbed[col_idx] == self.grid_size\n",
    "        row_win = self.dabbed[row_idx] == self.grid_size\n",
    "\n",
    "        if not col_win and not row_win:\n",
    "            return None\n",
    "\n",
    "        winning_line = []\n",
    "        \n",
    "        for line_idx in range(self.grid_size):\n",
    "            num_location = (location[0], line_idx) if col_win else (line_idx, location[1])\n",
    "            winning_line.append(self.locations[num_location])\n",
    "        \n",
    "        return winning_line     "
   ]
  },
  {
   "cell_type": "code",
   "execution_count": 41,
   "id": "d90943bc",
   "metadata": {},
   "outputs": [],
   "source": [
    "# Test winning row\n",
    "input = [\n",
    "    '14 21 17 24  4',\n",
    "    '10 16 15  9 19',\n",
    "    '18  8 23 26 20',\n",
    "    '22 11 13  6  5',\n",
    "    '2  0 12  3  7'\n",
    "]\n",
    "board = Board(input)\n",
    "for num in [14, 21, 17, 24]:\n",
    "    board.dab(num)\n",
    "assert board.dab(4) == [14, 21, 17, 24, 4]"
   ]
  },
  {
   "cell_type": "code",
   "execution_count": 42,
   "id": "c2eb1a72",
   "metadata": {},
   "outputs": [],
   "source": [
    "# Test winning col\n",
    "board.reset()\n",
    "for num in [17, 15, 13, 12]:\n",
    "    board.dab(num)\n",
    "assert board.dab(23) == [17, 15, 23, 13, 12]"
   ]
  },
  {
   "cell_type": "code",
   "execution_count": 43,
   "id": "c0ac1f23",
   "metadata": {},
   "outputs": [],
   "source": [
    "class Game:\n",
    "    def __init__(self, lines):\n",
    "        self.parse_input(lines)\n",
    "\n",
    "    def parse_input(self, lines):\n",
    "        self.numbers = [int(i) for i in lines[0].split(',')]\n",
    "        self.boards = []\n",
    "        grids = deque(lines[1:])\n",
    "        while len(grids) >= 6:\n",
    "            grids.popleft()\n",
    "            grid = [grids.popleft() for _ in range(5)]\n",
    "            self.boards.append(Board(grid))\n",
    "        \n",
    "        self.in_play_boards = set(range(len(self.boards)))\n",
    "    \n",
    "    def play(self):\n",
    "        for num in self.numbers:\n",
    "            for board in self.boards:\n",
    "                win = board.dab(num)\n",
    "                if win:\n",
    "                    return num, win, sum(board.unmarked)\n",
    "\n",
    "    def play_part_2(self):\n",
    "        for num in self.numbers:\n",
    "            for board_idx in sorted(list(self.in_play_boards)):\n",
    "                board = self.boards[board_idx]\n",
    "                win = board.dab(num)\n",
    "                if win:\n",
    "                    # print(f'{num} {board_idx} {win} {sum(board.unmarked)}')\n",
    "                    self.in_play_boards.remove(board_idx)\n",
    "                    if not self.in_play_boards:\n",
    "                        return num, win, sum(board.unmarked)"
   ]
  },
  {
   "cell_type": "code",
   "execution_count": 46,
   "id": "045b4ec4",
   "metadata": {},
   "outputs": [
    {
     "data": {
      "text/plain": [
       "(24, [14, 21, 17, 24, 4], 188)"
      ]
     },
     "execution_count": 46,
     "metadata": {},
     "output_type": "execute_result"
    }
   ],
   "source": [
    "test_game = Game(test_input)\n",
    "test_game.play()"
   ]
  },
  {
   "cell_type": "code",
   "execution_count": 47,
   "id": "7cd3e1bc",
   "metadata": {},
   "outputs": [
    {
     "data": {
      "text/plain": [
       "(35, [75, 95, 35, 6, 47], 726)"
      ]
     },
     "execution_count": 47,
     "metadata": {},
     "output_type": "execute_result"
    }
   ],
   "source": [
    "real_game = Game(real_input)\n",
    "real_game.play()"
   ]
  },
  {
   "cell_type": "code",
   "execution_count": 48,
   "id": "819f244b",
   "metadata": {},
   "outputs": [
    {
     "data": {
      "text/plain": [
       "25410"
      ]
     },
     "execution_count": 48,
     "metadata": {},
     "output_type": "execute_result"
    }
   ],
   "source": [
    "35 * 726"
   ]
  },
  {
   "cell_type": "markdown",
   "id": "6599fead",
   "metadata": {},
   "source": [
    "### Day 4, part 2\n",
    "\n",
    "Figure out which board will win last. Once it wins, what would its final score be?"
   ]
  },
  {
   "cell_type": "code",
   "execution_count": 49,
   "id": "13686296",
   "metadata": {},
   "outputs": [
    {
     "data": {
      "text/plain": [
       "(13, [0, 13, 7, 10, 16], 148)"
      ]
     },
     "execution_count": 49,
     "metadata": {},
     "output_type": "execute_result"
    }
   ],
   "source": [
    "test_game = Game(test_input)\n",
    "test_game.play_part_2()"
   ]
  },
  {
   "cell_type": "code",
   "execution_count": 50,
   "id": "88db020c",
   "metadata": {},
   "outputs": [
    {
     "data": {
      "text/plain": [
       "(14, [95, 18, 52, 14, 22], 195)"
      ]
     },
     "execution_count": 50,
     "metadata": {},
     "output_type": "execute_result"
    }
   ],
   "source": [
    "real_game = Game(real_input)\n",
    "real_game.play_part_2()"
   ]
  },
  {
   "cell_type": "code",
   "execution_count": 51,
   "id": "1cc803c6",
   "metadata": {},
   "outputs": [
    {
     "data": {
      "text/plain": [
       "2730"
      ]
     },
     "execution_count": 51,
     "metadata": {},
     "output_type": "execute_result"
    }
   ],
   "source": [
    "14 * 195"
   ]
  },
  {
   "cell_type": "markdown",
   "id": "5eb50020",
   "metadata": {},
   "source": [
    "### Day 4 Observations\n",
    "\n",
    "Make sure test and production run the same code. I originally was loading the test input from the command line and the real input from a file. I had forgotten that this was stripping blank lines by default hence the Bingo boards were being mixed up. This was doubly confusing given that the first part gave the correct answer by chance and the bug was only found in running the second part which assumed we were developing on solid ground."
   ]
  },
  {
   "cell_type": "markdown",
   "id": "08c0563b",
   "metadata": {},
   "source": [
    "## Day 5 Hydrothermal Venture\n",
    "\n",
    "https://adventofcode.com/2021/day/5\n",
    "\n",
    "To avoid the most dangerous areas, you need to determine the number of points where at least two lines overlap. In the above example, this is anywhere in the diagram with a 2 or larger - a total of 5 points.\n",
    "\n",
    "Consider only horizontal and vertical lines. At how many points do at least two lines overlap?"
   ]
  },
  {
   "cell_type": "code",
   "execution_count": 52,
   "id": "dc41b8c2",
   "metadata": {},
   "outputs": [],
   "source": [
    "test_input = get_puzzle_input('test_input_5.txt')\n",
    "real_input = get_puzzle_input('input_5.txt')"
   ]
  },
  {
   "cell_type": "code",
   "execution_count": 55,
   "id": "23d7deb6",
   "metadata": {},
   "outputs": [],
   "source": [
    "Point = namedtuple('Point', ('x', 'y'))"
   ]
  },
  {
   "cell_type": "code",
   "execution_count": 56,
   "id": "d6fd3b0c",
   "metadata": {},
   "outputs": [],
   "source": [
    "# Part 1\n",
    "def intersected_points(point_a, point_b):\n",
    "    lower, upper = sorted([point_a, point_b])\n",
    "    if upper.x > lower.x:\n",
    "        return [Point(x, upper.y) for x in range(lower.x, upper.x + 1)]\n",
    "    \n",
    "    return [Point(upper.x, y) for y in range(lower.y, upper.y + 1)]"
   ]
  },
  {
   "cell_type": "code",
   "execution_count": 57,
   "id": "913b6d9b",
   "metadata": {},
   "outputs": [],
   "source": [
    "# Part 2 - handles diagonal lines\n",
    "def intersected_points(point_a, point_b):\n",
    "    line_len = 1\n",
    "    if point_a.x > point_b.x:\n",
    "        x_incr = -1\n",
    "        line_len = point_a.x - point_b.x\n",
    "    elif point_a.x < point_b.x:\n",
    "        x_incr = 1\n",
    "        line_len = point_b.x - point_a.x\n",
    "    else:\n",
    "        x_incr = 0\n",
    "\n",
    "    if point_a.y > point_b.y:\n",
    "        y_incr = -1\n",
    "        line_len = point_a.y - point_b.y\n",
    "    elif point_a.y < point_b.y:\n",
    "        y_incr = 1\n",
    "        line_len = point_b.y - point_a.y\n",
    "    else:\n",
    "        y_incr = 0\n",
    "\n",
    "    return {\n",
    "        Point(point_a.x + x_incr * val, point_a.y + y_incr * val)\n",
    "        for val\n",
    "        in range(line_len + 1)\n",
    "    } "
   ]
  },
  {
   "cell_type": "code",
   "execution_count": 58,
   "id": "75dfa7f2",
   "metadata": {},
   "outputs": [],
   "source": [
    "assert intersected_points(Point(1, 2), Point(1, 4)) == {Point(x=1, y=2), Point(x=1, y=3), Point(x=1, y=4)}\n",
    "assert intersected_points(Point(1, 4), Point(1, 2)) == {Point(x=1, y=2), Point(x=1, y=3), Point(x=1, y=4)}\n",
    "assert intersected_points(Point(1, 4), Point(1, 4)) == {Point(x=1, y=4)}\n",
    "assert intersected_points(Point(10, 4), Point(12, 4)) == {Point(x=10, y=4), Point(x=11, y=4), Point(x=12, y=4)}\n",
    "assert intersected_points(Point(1, 2), Point(4, 5)) == {Point(x=1, y=2), Point(x=2, y=3), Point(x=3, y=4), Point(x=4, y=5)}"
   ]
  },
  {
   "cell_type": "code",
   "execution_count": 59,
   "id": "d63fc0b1",
   "metadata": {},
   "outputs": [],
   "source": [
    "class Game:\n",
    "    regexp = re.compile('^([-0-9]+),([-0-9]+) -> ([-0-9]+),([-0-9]+)$')\n",
    "\n",
    "    def __init__(self, input):\n",
    "        self.parse_input(input)\n",
    "    \n",
    "    def parse_input(self, puzzle_input):\n",
    "        self.lines = []\n",
    "        for line in puzzle_input:\n",
    "            match = self.regexp.match(line)\n",
    "            if match:\n",
    "                groups = match.groups()\n",
    "                point_a = Point(int(groups[0]), int(groups[1]))\n",
    "                point_b = Point(int(groups[2]), int(groups[3]))\n",
    "                self.lines.append((point_a, point_b))\n",
    "\n",
    "    def play(self, ignore_diagonals=True):\n",
    "        points = Counter()\n",
    "        for (point_a, point_b) in self.lines:\n",
    "            if ignore_diagonals:\n",
    "                # Part 1\n",
    "                if point_a.x != point_b.x and point_a.y != point_b.y:\n",
    "                    continue\n",
    "            for point in intersected_points(point_a, point_b):\n",
    "                points[point] += 1\n",
    "        \n",
    "        danger_points = [\n",
    "            point\n",
    "            for (point, val)\n",
    "            in points.items()\n",
    "            if val > 1\n",
    "        ]\n",
    "        \n",
    "        return len(danger_points)"
   ]
  },
  {
   "cell_type": "code",
   "execution_count": 60,
   "id": "21638fad",
   "metadata": {},
   "outputs": [
    {
     "data": {
      "text/plain": [
       "5"
      ]
     },
     "execution_count": 60,
     "metadata": {},
     "output_type": "execute_result"
    }
   ],
   "source": [
    "test_game = Game(test_input)\n",
    "test_game.play()"
   ]
  },
  {
   "cell_type": "code",
   "execution_count": 61,
   "id": "741a6cb5",
   "metadata": {},
   "outputs": [
    {
     "data": {
      "text/plain": [
       "5092"
      ]
     },
     "execution_count": 61,
     "metadata": {},
     "output_type": "execute_result"
    }
   ],
   "source": [
    "real_game = Game(real_input)\n",
    "real_game.play()"
   ]
  },
  {
   "cell_type": "markdown",
   "id": "6d547d5d",
   "metadata": {},
   "source": [
    "### Day 5 Part 2\n",
    "\n",
    "You still need to determine the number of points where at least two lines overlap. In the above example, this is still anywhere in the diagram with a 2 or larger - now a total of 12 points.\n",
    "\n",
    "Consider all of the lines. At how many points do at least two lines overlap?"
   ]
  },
  {
   "cell_type": "code",
   "execution_count": 62,
   "id": "0bada58b",
   "metadata": {},
   "outputs": [
    {
     "data": {
      "text/plain": [
       "12"
      ]
     },
     "execution_count": 62,
     "metadata": {},
     "output_type": "execute_result"
    }
   ],
   "source": [
    "test_game = Game(test_input)\n",
    "test_game.play(ignore_diagonals=False)"
   ]
  },
  {
   "cell_type": "code",
   "execution_count": 63,
   "id": "c8e89cd3",
   "metadata": {},
   "outputs": [
    {
     "data": {
      "text/plain": [
       "20484"
      ]
     },
     "execution_count": 63,
     "metadata": {},
     "output_type": "execute_result"
    }
   ],
   "source": [
    "real_game = Game(real_input)\n",
    "real_game.play(ignore_diagonals=False)"
   ]
  },
  {
   "cell_type": "markdown",
   "id": "0bbba118",
   "metadata": {},
   "source": [
    "### Day 5 Observations\n",
    "\n",
    "Intersecting points implementation is a bit clunky but - hey ho."
   ]
  },
  {
   "cell_type": "markdown",
   "id": "15c24c69",
   "metadata": {},
   "source": [
    "## Day 6 Lantern Fish\n",
    "\n",
    "https://adventofcode.com/2021/day/6\n",
    "\n",
    "In this example, after 18 days, there are a total of 26 fish. After 80 days, there would be a total of 5934.\n",
    "\n",
    "Find a way to simulate lanternfish. How many lanternfish would there be after 80 days?"
   ]
  },
  {
   "cell_type": "code",
   "execution_count": 67,
   "id": "59cc97e0",
   "metadata": {},
   "outputs": [],
   "source": [
    "class LanternFish:\n",
    "    CYCLE_LENGTH = 6\n",
    "    DEFAULT_START = 8\n",
    "\n",
    "    def __init__(self, start_of_cycle=DEFAULT_START):\n",
    "        self.start_of_cycle = start_of_cycle\n",
    "        self.current = start_of_cycle\n",
    "\n",
    "    def new_day(self):\n",
    "        self.current -= 1\n",
    "        if self.current == -1:\n",
    "            self.current = self.CYCLE_LENGTH\n",
    "            child = LanternFish()\n",
    "            return child\n",
    "        else:\n",
    "            return None"
   ]
  },
  {
   "cell_type": "code",
   "execution_count": 68,
   "id": "949b591a",
   "metadata": {},
   "outputs": [],
   "source": [
    "class SingleFishGame:\n",
    "    \"\"\"Only need to solve for each unique initial state as any similar fish\n",
    "    will result in the same number of descendents.\n",
    "    \"\"\"\n",
    "    def __init__(self, start_of_cycle):\n",
    "        self.fishes = [LanternFish(start_of_cycle=start_of_cycle)]\n",
    "    \n",
    "    def play(self, num_days):\n",
    "        for _ in range(num_days):\n",
    "            new_fish = []\n",
    "            for fish in self.fishes:\n",
    "                child = fish.new_day()\n",
    "                if child:\n",
    "                    new_fish.append(child)\n",
    "            \n",
    "            self.fishes.extend(new_fish)\n",
    "        \n",
    "        return len(self.fishes) "
   ]
  },
  {
   "cell_type": "code",
   "execution_count": 69,
   "id": "9a08b1cd",
   "metadata": {},
   "outputs": [
    {
     "name": "stdout",
     "output_type": "stream",
     "text": [
      "CPU times: user 35.8 ms, sys: 1.69 ms, total: 37.5 ms\n",
      "Wall time: 36 ms\n"
     ]
    },
    {
     "data": {
      "text/plain": [
       "{0: 1421, 1: 1401, 2: 1191, 3: 1154, 4: 1034, 5: 950, 6: 905}"
      ]
     },
     "execution_count": 69,
     "metadata": {},
     "output_type": "execute_result"
    }
   ],
   "source": [
    "%%time\n",
    "\n",
    "num_descendents_per_state = {}\n",
    "\n",
    "# Loop over all the possible initial states\n",
    "for i in range(7):\n",
    "    game = SingleFishGame(i)\n",
    "    total = game.play(80)\n",
    "    num_descendents_per_state[i] = total\n",
    "\n",
    "num_descendents_per_state"
   ]
  },
  {
   "cell_type": "code",
   "execution_count": 70,
   "id": "20e7fcc5",
   "metadata": {},
   "outputs": [
    {
     "data": {
      "text/plain": [
       "Counter({5: 42, 3: 43, 2: 52, 1: 109, 4: 54})"
      ]
     },
     "execution_count": 70,
     "metadata": {},
     "output_type": "execute_result"
    }
   ],
   "source": [
    "initial_count = Counter()\n",
    "for i in [5,3,2,2,1,1,4,1,5,5,1,3,1,5,1,2,1,4,1,2,1,2,1,4,2,4,1,5,1,3,5,4,3,3,1,4,1,3,4,4,1,5,4,3,3,2,5,1,1,3,1,4,3,2,2,3,1,3,1,3,1,5,3,5,1,3,1,4,2,1,4,1,5,5,5,2,4,2,1,4,1,3,5,5,1,4,1,1,4,2,2,1,3,1,1,1,1,3,4,1,4,1,1,1,4,4,4,1,3,1,3,4,1,4,1,2,2,2,5,4,1,3,1,2,1,4,1,4,5,2,4,5,4,1,2,1,4,2,2,2,1,3,5,2,5,1,1,4,5,4,3,2,4,1,5,2,2,5,1,4,1,5,1,3,5,1,2,1,1,1,5,4,4,5,1,1,1,4,1,3,3,5,5,1,5,2,1,1,3,1,1,3,2,3,4,4,1,5,5,3,2,1,1,1,4,3,1,3,3,1,1,2,2,1,2,2,2,1,1,5,1,2,2,5,2,4,1,1,2,4,1,2,3,4,1,2,1,2,4,2,1,1,5,3,1,4,4,4,1,5,2,3,4,4,1,5,1,2,2,4,1,1,2,1,1,1,1,5,1,3,3,1,1,1,1,4,1,2,2,5,1,2,1,3,4,1,3,4,3,3,1,1,5,5,5,2,4,3,1,4]:\n",
    "    initial_count[i] += 1\n",
    "    \n",
    "initial_count"
   ]
  },
  {
   "cell_type": "code",
   "execution_count": 71,
   "id": "3b39d788",
   "metadata": {},
   "outputs": [
    {
     "data": {
      "text/plain": [
       "359999"
      ]
     },
     "execution_count": 71,
     "metadata": {},
     "output_type": "execute_result"
    }
   ],
   "source": [
    "sum(count * num_descendents_per_state[state] for state, count in initial_count.items())"
   ]
  },
  {
   "cell_type": "markdown",
   "id": "883e81e7",
   "metadata": {},
   "source": [
    "### Day 6 Part 2\n",
    "\n",
    "And on day 256 how many will there be?"
   ]
  },
  {
   "cell_type": "code",
   "execution_count": 72,
   "id": "c0c9ef83",
   "metadata": {},
   "outputs": [],
   "source": [
    "class LanternFish:\n",
    "    \"\"\"Any fish born on the same day will have the same number of descendents\n",
    "    so only need to track one.\"\"\"\n",
    "    CYCLE_LENGTH = 6\n",
    "    DEFAULT_START = 8\n",
    "\n",
    "    def __init__(self, start_of_cycle=DEFAULT_START):\n",
    "        self.start_of_cycle = start_of_cycle\n",
    "        self.current = start_of_cycle\n",
    "        self.untracked_parents = []\n",
    "        self.num_descendents = 0\n",
    "\n",
    "    def gives_birth(self):\n",
    "        self.current -= 1\n",
    "        if self.current == -1:\n",
    "            self.current = self.CYCLE_LENGTH\n",
    "            return True\n",
    "        else:\n",
    "            return False\n",
    "    \n",
    "    def add_parent(self, parent):\n",
    "        self.untracked_parents.append(parent)\n",
    "        parent.add_descendent()\n",
    "\n",
    "    def add_descendent(self):\n",
    "        self.num_descendents += 1\n",
    "        for parent in self.untracked_parents:\n",
    "            parent.add_descendent()"
   ]
  },
  {
   "cell_type": "code",
   "execution_count": 73,
   "id": "cc1b3a7a",
   "metadata": {},
   "outputs": [],
   "source": [
    "class SingleFishGame:\n",
    "    def __init__(self, start_of_cycle):\n",
    "        self.fishes = [LanternFish(start_of_cycle=start_of_cycle)]\n",
    "        self.day = 0\n",
    "    \n",
    "    def play(self, num_days):\n",
    "        for day_num in range(num_days):\n",
    "            new_fish = []\n",
    "            child = None\n",
    "            for fish in self.fishes:\n",
    "                gives_birth = fish.gives_birth()\n",
    "                if not gives_birth:\n",
    "                    continue\n",
    "                \n",
    "                if child:\n",
    "                    child.add_parent(fish)\n",
    "                else:\n",
    "                    child = LanternFish()\n",
    "                    new_fish.append(child)\n",
    "            \n",
    "            self.fishes.extend(new_fish)\n",
    "        \n",
    "        return len(self.fishes) + sum(fish.num_descendents for fish in game.fishes)"
   ]
  },
  {
   "cell_type": "code",
   "execution_count": 75,
   "id": "4f86994d",
   "metadata": {},
   "outputs": [
    {
     "name": "stdout",
     "output_type": "stream",
     "text": [
      "Calculating for initial state 1...\n",
      "Calculating for initial state 2...\n",
      "Calculating for initial state 3...\n",
      "Calculating for initial state 4...\n",
      "Calculating for initial state 5...\n",
      "CPU times: user 1h 6min 9s, sys: 3.29 s, total: 1h 6min 13s\n",
      "Wall time: 1h 6min 16s\n"
     ]
    },
    {
     "data": {
      "text/plain": [
       "{1: 6206821033, 2: 5617089148, 3: 5217223242, 4: 4726100874, 5: 4368232009}"
      ]
     },
     "execution_count": 75,
     "metadata": {},
     "output_type": "execute_result"
    }
   ],
   "source": [
    "%%time\n",
    "\n",
    "part_2_num_descendents_per_state = {}\n",
    "for i in range(1, 6):\n",
    "    print(f'Calculating for initial state {i}...')\n",
    "    game = SingleFishGame(i)\n",
    "    total = game.play(256)\n",
    "    part_2_num_descendents_per_state[i] = total\n",
    "\n",
    "part_2_num_descendents_per_state"
   ]
  },
  {
   "cell_type": "code",
   "execution_count": 77,
   "id": "af51a303",
   "metadata": {},
   "outputs": [
    {
     "data": {
      "text/plain": [
       "1631647919273"
      ]
     },
     "execution_count": 77,
     "metadata": {},
     "output_type": "execute_result"
    }
   ],
   "source": [
    "sum(count * part_2_num_descendents_per_state[state] for state, count in initial_count.items())"
   ]
  },
  {
   "cell_type": "markdown",
   "id": "5a724bcc",
   "metadata": {},
   "source": [
    "### Day 6 Observations\n",
    "\n",
    "Returns in one hour - wow. As I was running it for the first index I could see that it was going to return (from printing out the day being calculated). I don't think there was a need to rerun it for all the initial states - Could have, for instance derived state 2 from state 1 by eliminating all state 8s (newborns) and likewise for state 3 - not counting 7s and 8s. Perhaps I could say that state 2 on day 265 is state 1 on day 264 etc so only need one run through. Could have also looked for repeated patterns - but - there comes the point when you're bunged up with a cold and you're happy to have breakfast and wait."
   ]
  },
  {
   "cell_type": "markdown",
   "id": "15fe8eae",
   "metadata": {},
   "source": [
    "### Day 6 Revisited\n",
    "\n",
    "A few days later I had a look at this again and realised a far easier approach of mapping states to future states a week down the line. So in general given a fish in state n, in a weeks time it will result in a fish in state n (itself) and a fish in state n+2 (its child) unless the initial state is 7 or 8 (a newborn)"
   ]
  },
  {
   "cell_type": "code",
   "execution_count": 2,
   "id": "4a3e88c6",
   "metadata": {},
   "outputs": [],
   "source": [
    "def num_fish_from_state(initial_state, num_days):\n",
    "    seven_day_state_map = {\n",
    "        0: (0, 2),\n",
    "        1: (1, 3),\n",
    "        2: (2, 4),\n",
    "        3: (3, 5),\n",
    "        4: (4, 6),\n",
    "        5: (5, 7),\n",
    "        6: (6, 8),\n",
    "        7: (0, ),\n",
    "        8: (1, ),\n",
    "    }\n",
    "    counts = [0] * 9\n",
    "    \n",
    "    num_weeks = num_days // 7\n",
    "    remaining_days = num_days - num_weeks * 7\n",
    "    \n",
    "    initial_state -= remaining_days\n",
    "    counts[initial_state % 7] = 1\n",
    "    if initial_state < 0:\n",
    "        # The newly spawned fish\n",
    "        counts[8 + initial_state + 1] = 1\n",
    "    \n",
    "    # Go up in weeks\n",
    "    for i in range(num_weeks):\n",
    "        for state, num in enumerate(list(counts)):\n",
    "            new_states = seven_day_state_map[state]\n",
    "            counts[state] -= num\n",
    "            for new_state in new_states:\n",
    "                counts[new_state] += num\n",
    "    \n",
    "    return sum(counts)\n",
    "  "
   ]
  },
  {
   "cell_type": "code",
   "execution_count": 3,
   "id": "2c024158",
   "metadata": {},
   "outputs": [
    {
     "name": "stdout",
     "output_type": "stream",
     "text": [
      "CPU times: user 1.7 ms, sys: 7 µs, total: 1.71 ms\n",
      "Wall time: 1.71 ms\n"
     ]
    },
    {
     "data": {
      "text/plain": [
       "{1: 6206821033, 2: 5617089148, 3: 5217223242, 4: 4726100874, 5: 4368232009}"
      ]
     },
     "execution_count": 3,
     "metadata": {},
     "output_type": "execute_result"
    }
   ],
   "source": [
    "%%time\n",
    "\n",
    "part_2_lookup_improved = {}\n",
    "\n",
    "for i in range(1, 6):\n",
    "    part_2_lookup_improved[i] = num_fish_from_state(i, 256)\n",
    "\n",
    "part_2_lookup_improved"
   ]
  },
  {
   "cell_type": "markdown",
   "id": "0d8b33bf",
   "metadata": {},
   "source": [
    "From 1 hour to 1 millisecond! It's interesting that the puzzle setter went for 256 days. If I think about the question without thinking of the implementation I might have been tempted on a year (365 days). If it were a year the solution I went for on the day wouldn't have returned. On the otherhand if it were any less I wouldn't have been suitably punished for a slow implementation. If it were 200 days for example - my solution would have returned in under 30 seconds and returned in 6 minutes for 230 days - both being far quicker to wait than to rewrite. 256 seems a sweet spot that allows less lazy people the oportunity to rewrite and come up with a more elegant and satisfying solution whilst keeping us lazy folk in the game."
   ]
  },
  {
   "cell_type": "markdown",
   "id": "77915d72",
   "metadata": {},
   "source": [
    "## Day 7 The Treachery of Whales\n",
    "\n",
    "https://adventofcode.com/2021/day/7\n",
    "\n",
    "Determine the horizontal position that the crabs can align to using the least fuel possible. How much fuel must they spend to align to that position?"
   ]
  },
  {
   "cell_type": "code",
   "execution_count": 78,
   "id": "5dbd4425",
   "metadata": {},
   "outputs": [],
   "source": [
    "test_positions = [16,1,2,0,4,2,7,1,2,14]\n",
    "real_positions = [1101,1,29,67,1102,0,1,65,1008,65,35,66,1005,66,28,1,67,65,20,4,0,1001,65,1,65,1106,0,8,99,35,67,101,99,105,32,110,39,101,115,116,32,112,97,115,32,117,110,101,32,105,110,116,99,111,100,101,32,112,114,111,103,114,97,109,10,485,546,350,100,791,199,115,144,649,41,1656,163,903,71,384,30,2,251,554,210,434,206,546,759,258,54,1478,48,438,601,326,5,1017,165,168,201,622,864,1338,24,1074,545,499,484,264,345,332,869,297,711,674,346,1139,317,875,242,725,250,1619,1408,956,380,366,187,1034,1555,467,170,114,1136,150,183,304,44,37,333,791,34,540,716,1923,342,6,922,18,24,1189,59,1726,636,442,426,1089,526,298,386,296,623,80,272,240,406,628,238,409,302,35,404,92,48,157,1545,409,1382,151,1656,3,76,14,115,566,650,197,448,573,161,86,140,875,128,319,4,822,530,189,247,667,82,316,274,110,206,1012,166,639,579,459,284,200,16,24,147,743,113,1562,387,60,84,797,14,30,1015,508,88,113,685,658,257,1507,348,30,808,416,9,835,671,16,474,885,230,47,463,1324,1263,183,603,739,0,296,789,1411,339,27,1154,31,882,409,646,92,153,147,974,497,308,85,311,135,627,811,295,698,2,20,1170,789,702,1194,1390,432,257,715,958,150,1295,144,1193,607,67,929,383,1051,1231,393,190,380,1203,1090,1238,143,206,210,1004,304,1305,392,143,1379,665,806,452,185,4,1,201,1104,633,274,493,472,141,674,1261,106,587,244,903,91,158,69,137,922,778,143,692,160,474,7,304,824,657,15,1110,806,295,1565,1162,358,725,877,440,690,13,69,111,304,300,493,249,105,746,20,163,561,913,558,252,13,193,508,12,845,120,205,154,1582,349,1471,529,268,23,689,6,776,565,401,0,623,186,62,95,148,275,1,137,320,0,19,1803,10,100,652,750,226,484,180,46,310,446,667,543,277,139,265,74,171,87,1753,337,162,59,1339,1040,1287,1084,192,169,50,1557,81,1120,271,167,977,76,295,12,54,710,36,364,521,989,1634,720,1031,1204,355,380,859,633,223,1207,221,31,138,1305,779,1026,52,92,216,221,0,980,130,1197,585,1213,63,157,213,993,1123,588,450,256,1021,90,1420,47,386,843,1188,1466,807,596,416,23,32,62,1289,317,368,491,907,1386,114,1620,39,344,1342,43,281,12,1202,257,1357,203,465,174,350,833,125,54,390,687,339,628,819,261,1341,840,643,414,82,373,428,1315,570,1070,686,893,70,728,70,358,1233,189,1247,244,1043,1135,42,531,962,35,30,1462,946,856,145,386,1134,1071,379,740,175,1205,234,354,5,1028,506,58,433,1055,749,854,99,298,1248,619,62,181,258,42,130,1698,1313,672,129,222,127,636,846,24,1324,946,622,689,168,329,301,458,173,591,772,93,282,8,320,106,233,412,556,2,522,369,8,1371,899,503,568,667,1199,92,115,899,952,81,629,175,274,763,204,339,236,317,257,731,1082,1724,211,516,165,91,334,1216,101,21,1340,235,336,1351,723,1745,183,841,104,172,1080,180,493,798,1468,45,1627,59,58,368,560,166,1125,136,26,1238,1580,420,1732,155,55,293,751,194,1723,175,11,30,10,307,57,66,704,285,685,241,565,368,50,181,1047,147,420,1341,20,37,400,798,476,1060,642,134,140,502,254,997,910,636,179,22,612,55,237,258,48,205,412,155,910,192,262,9,91,766,1426,71,5,315,285,186,629,422,1289,397,52,860,1390,106,887,1285,1196,684,36,703,199,4,277,151,82,293,1047,455,21,935,630,736,118,13,30,584,453,1446,381,585,810,177,1028,280,281,184,78,673,126,410,872,524,78,188,121,394,201,1764,609,350,706,428,88,783,189,643,305,516,259,582,309,985,338,21,235,73,44,585,71,983,175,1336,1056,10,8,537,701,1653,657,70,1242,442,52,973,203,173,959,964,272,348,3,567,714,1466,382,129,613,1042,686,461,57,523,740,726,149,1490,867,44,379,1270,547,649,1103,912,1354,985,458,887,603,1016,317,499,690,829,1231,364,772,29,57,357,467,484,202,150,109,95,414,444,383,62,124,645,723,772,881,1553,413,123,248,1085,453,260,214,113,1874,482,942,235,899,122,171,127,913,424,406,49,97,1848,295,1152,111,350,54,1160,2,16,156,448,394,740,49,1237,548,206,1206,775,748,728,48,238,148,109,18,56,64,515,163,609,273,301,396,207,51,478,1183,864,772,450,222,1387,269,40,87,426,164,1270,21,347,316,331,408,914,1046,173,48,398,177,431,47,1055,221,513,226,84,285,566,270,333,343,480,1802,101,683,168,1347,582,80,22,329,350,108,379,14,53,349,43,435,195,102,168,338]"
   ]
  },
  {
   "cell_type": "code",
   "execution_count": 79,
   "id": "3243fa91",
   "metadata": {},
   "outputs": [
    {
     "data": {
      "text/plain": [
       "(1000, 1923, 0)"
      ]
     },
     "execution_count": 79,
     "metadata": {},
     "output_type": "execute_result"
    }
   ],
   "source": [
    "len(real_positions), max(real_positions), min(real_positions)"
   ]
  },
  {
   "cell_type": "markdown",
   "id": "e6fa0591",
   "metadata": {},
   "source": [
    "OK, only roughly 2 million calculations to brute force every position. Let's start there"
   ]
  },
  {
   "cell_type": "code",
   "execution_count": 80,
   "id": "ef84f930",
   "metadata": {},
   "outputs": [],
   "source": [
    "def crab_fuel_used_part_1(curr_pos, new_pos):\n",
    "    return abs(curr_pos - new_pos)\n",
    "\n",
    "def crab_fuel_used_part_2(curr_pos, new_pos):\n",
    "    diff = abs(curr_pos - new_pos)\n",
    "    return diff * (diff + 1) // 2\n",
    "\n",
    "def best_alignment(positions, crab_fuel_used):\n",
    "    best_pos = None\n",
    "    best_fuel_used = None\n",
    "    max_pos = max(positions)\n",
    "    min_pos = min(positions)\n",
    "    \n",
    "    for x in range (min_pos, max_pos + 1):\n",
    "        fuel_used = sum(crab_fuel_used(pos, x) for pos in positions)\n",
    "        if best_fuel_used is None or fuel_used < best_fuel_used:\n",
    "            best_pos = x\n",
    "            best_fuel_used = fuel_used\n",
    "    \n",
    "    return best_pos, best_fuel_used"
   ]
  },
  {
   "cell_type": "code",
   "execution_count": 81,
   "id": "5873a8cf",
   "metadata": {},
   "outputs": [
    {
     "data": {
      "text/plain": [
       "((2, 37), (339, 343468))"
      ]
     },
     "execution_count": 81,
     "metadata": {},
     "output_type": "execute_result"
    }
   ],
   "source": [
    "best_alignment(test_positions, crab_fuel_used_part_1), best_alignment(real_positions, crab_fuel_used_part_1)"
   ]
  },
  {
   "cell_type": "markdown",
   "id": "a254661a",
   "metadata": {},
   "source": [
    "### Day 7 Part 2\n",
    "\n",
    "And now the crabs use an extra unit of fuel every time they move"
   ]
  },
  {
   "cell_type": "code",
   "execution_count": 82,
   "id": "139ef40f",
   "metadata": {},
   "outputs": [
    {
     "data": {
      "text/plain": [
       "((5, 168), (478, 96086265))"
      ]
     },
     "execution_count": 82,
     "metadata": {},
     "output_type": "execute_result"
    }
   ],
   "source": [
    "best_alignment(test_positions, crab_fuel_used_part_2), best_alignment(real_positions, crab_fuel_used_part_2)"
   ]
  },
  {
   "cell_type": "markdown",
   "id": "112ab97b",
   "metadata": {},
   "source": [
    "### Day 7 Observations\n",
    "\n",
    "Suspiciously straight forward - the calm before the storm? We are heading towards a maze! I thought the strategy pattern worked quite well here."
   ]
  },
  {
   "cell_type": "markdown",
   "id": "30fda21a",
   "metadata": {},
   "source": [
    "## Day 8 Seven Segment Search\n",
    "\n",
    "https://adventofcode.com/2021/day/8\n",
    "\n",
    "Because the digits 1, 4, 7, and 8 each use a unique number of segments, you should be able to tell which combinations of signals correspond to those digits. Counting only digits in the output values (the part after | on each line), in the above example, there are 26 instances of digits that use a unique number of segments (highlighted above).\n",
    "\n",
    "In the output values, how many times do digits 1, 4, 7, or 8 appear?"
   ]
  },
  {
   "cell_type": "code",
   "execution_count": 1,
   "id": "675d792d",
   "metadata": {},
   "outputs": [],
   "source": [
    "def get_output_digits(puzzle_line):\n",
    "    output = puzzle_line.split(' ')[11:]\n",
    "    return [frozenset(s) for s in output]\n",
    "\n",
    "def get_input_signals(puzzle_line):\n",
    "    input = puzzle_line.split(' ')[:10]\n",
    "    return [frozenset(s) for s in input]  "
   ]
  },
  {
   "cell_type": "code",
   "execution_count": 4,
   "id": "b2577f7f",
   "metadata": {},
   "outputs": [],
   "source": [
    "test_input = get_puzzle_input('test_input_8.txt')\n",
    "real_input = get_puzzle_input('input_8.txt')"
   ]
  },
  {
   "cell_type": "code",
   "execution_count": 5,
   "id": "fb9943c3",
   "metadata": {},
   "outputs": [],
   "source": [
    "def solve_part_1(puzzle_input):\n",
    "    unique_num_count = 0\n",
    "    for line in puzzle_input:\n",
    "        output_digits = get_output_digits(line)\n",
    "        for digit in output_digits:\n",
    "            if len(digit) in (2, 3, 4, 7):\n",
    "                unique_num_count += 1\n",
    "    \n",
    "    return unique_num_count"
   ]
  },
  {
   "cell_type": "code",
   "execution_count": 6,
   "id": "30a17a0a",
   "metadata": {},
   "outputs": [
    {
     "data": {
      "text/plain": [
       "(26, 264)"
      ]
     },
     "execution_count": 6,
     "metadata": {},
     "output_type": "execute_result"
    }
   ],
   "source": [
    "solve_part_1(test_input), solve_part_1(real_input)"
   ]
  },
  {
   "cell_type": "markdown",
   "id": "31d25896",
   "metadata": {},
   "source": [
    "### Day 8, part 2\n",
    "\n",
    "```\n",
    "Considering the line\n",
    "acedgfb cdfbe gcdfa fbcad dab cefabd cdfgeb eafb cagedb ab | cdfeb fcadb cdfeb cdbaf\n",
    "\n",
    "After some careful analysis, the mapping between signal wires and segments only make sense in the following configuration:\n",
    "\n",
    " dddd\n",
    "e    a\n",
    "e    a\n",
    " ffff\n",
    "g    b\n",
    "g    b\n",
    " cccc\n",
    "\n",
    "So, the unique signal patterns would correspond to the following digits:\n",
    "\n",
    "acedgfb: 8\n",
    "cdfbe: 5\n",
    "gcdfa: 2\n",
    "fbcad: 3\n",
    "dab: 7\n",
    "cefabd: 9\n",
    "cdfgeb: 6\n",
    "eafb: 4\n",
    "cagedb: 0\n",
    "ab: 1\n",
    "```\n",
    "\n",
    "For each entry, determine all of the wire/segment connections and decode the four-digit output values. What do you get if you add up all of the output values?"
   ]
  },
  {
   "cell_type": "code",
   "execution_count": 8,
   "id": "2785ea8a",
   "metadata": {},
   "outputs": [],
   "source": [
    "def get_digit_map(signal_pattern):\n",
    "    one = [s for s in signal_pattern if len(s) == 2][0]\n",
    "    four = [s for s in signal_pattern if len(s) == 4][0]\n",
    "    seven = [s for s in signal_pattern if len(s) == 3][0]\n",
    "    eight = [s for s in signal_pattern if len(s) == 7][0]\n",
    "    \n",
    "    # 0, 6 and 9\n",
    "    six_segments = [s for s in signal_pattern if len(s) == 6]\n",
    "    \n",
    "    six = [s for s in six_segments if s & seven != seven][0]\n",
    "    six_segments.remove(six)\n",
    "    nine = [s for s in six_segments if s & four == four][0]\n",
    "    six_segments.remove(nine)\n",
    "    zero = six_segments[0]\n",
    "\n",
    "    # 3, 2 and 5\n",
    "    five_segments = [s for s in signal_pattern if len(s) == 5]\n",
    "    five = [s for s in five_segments if len(six - s)  == 1][0]\n",
    "    five_segments.remove(five)\n",
    "    \n",
    "    three = [s for s in five_segments if s & one == one][0]\n",
    "    five_segments.remove(three)\n",
    "    two = five_segments[0]\n",
    "    \n",
    "    return {\n",
    "        zero: 0,\n",
    "        one: 1,\n",
    "        two: 2,\n",
    "        three: 3,\n",
    "        four: 4,\n",
    "        five: 5,\n",
    "        six: 6,\n",
    "        seven: 7,\n",
    "        eight: 8,\n",
    "        nine: 9\n",
    "    }"
   ]
  },
  {
   "cell_type": "code",
   "execution_count": 9,
   "id": "34d07046",
   "metadata": {},
   "outputs": [],
   "source": [
    "# From the above example:\n",
    "test_line = 'acedgfb cdfbe gcdfa fbcad dab cefabd cdfgeb eafb cagedb ab | cdfeb fcadb cdfeb cdbaf'\n",
    "input_signals = get_input_signals(test_line)\n",
    "digit_map = get_digit_map(input_signals)\n",
    "\n",
    "expected = {\n",
    "    frozenset('acedgfb'): 8,\n",
    "    frozenset('cdfbe'): 5,\n",
    "    frozenset('gcdfa'): 2,\n",
    "    frozenset('fbcad'): 3,\n",
    "    frozenset('dab'): 7,\n",
    "    frozenset('cefabd'): 9,\n",
    "    frozenset('cdfgeb'): 6,\n",
    "    frozenset('eafb'): 4,\n",
    "    frozenset('cagedb'): 0,\n",
    "    frozenset('ab'): 1,\n",
    "}\n",
    "\n",
    "assert sorted(digit_map.items(), key=lambda x: x[1]) == sorted(expected.items(), key=lambda x: x[1])"
   ]
  },
  {
   "cell_type": "code",
   "execution_count": 10,
   "id": "249569a6",
   "metadata": {},
   "outputs": [],
   "source": [
    "def solve_part_2(puzzle_input):\n",
    "    total = 0\n",
    "    for line in puzzle_input:\n",
    "        input_signals = get_input_signals(line)\n",
    "        output_digits = get_output_digits(line)\n",
    "        \n",
    "        digit_map = get_digit_map(input_signals)\n",
    "        \n",
    "        decoded_digits = [digit_map[d] for d in output_digits]\n",
    "        decoded_figure = int(''.join(map(str, decoded_digits)))\n",
    "        total += decoded_figure\n",
    "    \n",
    "    return total"
   ]
  },
  {
   "cell_type": "code",
   "execution_count": 11,
   "id": "d88202aa",
   "metadata": {},
   "outputs": [
    {
     "data": {
      "text/plain": [
       "(61229, 1063760)"
      ]
     },
     "execution_count": 11,
     "metadata": {},
     "output_type": "execute_result"
    }
   ],
   "source": [
    "solve_part_2(test_input), solve_part_2(real_input)"
   ]
  },
  {
   "cell_type": "markdown",
   "id": "61db1af8",
   "metadata": {},
   "source": [
    "### Day 8 Observations\n",
    "\n",
    "We have a tech talk session on Wednesdays - so I thought for the Christmas special that we'd do today's AOC puzzle as a group swarm programming session. The session's only half an hour so I wanted to check what was achievable to explain and complete in that time before hand (that is to say I cheated and completed it prior to the session.) To fit in the time and to choose something interesting I concentrated on part 2 with only the `get_digit_map` function (the hard bit) not implemented. So, there was a lot of boilerplate already there to test and execute the function. Here's some observations from the session:\n",
    "\n",
    "- Some people just really don't like puzzles. Problem solving as a group can ellicit a range of negative emotions - from a more neutral - just a waste of time, to feeling the pressure of performing in front of peers. It's important to give people an out by either saying what the session is going to be about up front (I didn't) or telling people that it's fine to drop off if they want to get the time back (I did.)\n",
    "\n",
    "- The read though and part one of these puzzles are both really important. You think through possible implementations as you're reading it; you're potentially second guessing what's going to be in the second part. Completing the first part gives you a good feel for what you're working with, and you take all this into the second part. Tackling one aspect of the second part involved me paraphrasing the problem up to that point to the group and together with the boilerplate code they had to jump right in at the deep end without a chance to really think it through. This gap in prior knowledge also either made it look like I was exceptionally clever (unlikely) or that I was pretending to be exceptionally clever (very likely). If I were doing it again I think I would do it blind on part 1 of a problem; giving everyone five minutes to read it through first. I'd obviously need to put to one side my own fear of failing in front of peers - failing to solve it can be just as interesting!\n",
    "\n",
    "- Even though they were thrown in at the deep end - they did it! (their solution is above). I really tried not to prompt - honest - just to type."
   ]
  },
  {
   "cell_type": "markdown",
   "id": "bccc12ec",
   "metadata": {},
   "source": [
    "## Day 9 Smoke Basin\n",
    "\n",
    "https://adventofcode.com/2021/day/9\n",
    "\n",
    "The risk level of a low point is 1 plus its height. In the above example, the risk levels of the low points are 2, 1, 6, and 6. The sum of the risk levels of all low points in the heightmap is therefore 15.\n",
    "\n",
    "Find all of the low points on your heightmap. What is the sum of the risk levels of all low points on your heightmap?"
   ]
  },
  {
   "cell_type": "code",
   "execution_count": 8,
   "id": "d3e86337",
   "metadata": {},
   "outputs": [],
   "source": [
    "test_input = get_puzzle_input('test_input_9.txt')\n",
    "real_input = get_puzzle_input('input_9.txt')"
   ]
  },
  {
   "cell_type": "code",
   "execution_count": 9,
   "id": "48e9edf5",
   "metadata": {},
   "outputs": [],
   "source": [
    "@dataclass(frozen=True)\n",
    "class Point:\n",
    "    x: int\n",
    "    y: int\n",
    "    \n",
    "    @property\n",
    "    def adjacent_points(self):\n",
    "        return [\n",
    "            Point(self.x - 1, self.y),\n",
    "            Point(self.x + 1, self.y),\n",
    "            Point(self.x, self.y + 1),\n",
    "            Point(self.x, self.y - 1),\n",
    "        ]\n"
   ]
  },
  {
   "cell_type": "code",
   "execution_count": 10,
   "id": "8d4822c1",
   "metadata": {},
   "outputs": [],
   "source": [
    "class Grid:\n",
    "    def __init__(self, puzzle_input):\n",
    "        self.points = {}\n",
    "        self.max_x = len(puzzle_input[0]) - 1\n",
    "        self.max_y = len(puzzle_input) - 1\n",
    "\n",
    "        for y, line in enumerate(puzzle_input):\n",
    "            for x, val in enumerate(line):\n",
    "                self.points[Point(x, y)] = int(val)\n",
    "    \n",
    "    def get_adjacent_points(self, point):\n",
    "            adjacent_points = point.adjacent_points\n",
    "            adjacent_points = [\n",
    "                point\n",
    "                for point in adjacent_points\n",
    "                if point.x >= 0 and point.x <= self.max_x\n",
    "            ]\n",
    "            adjacent_points = [\n",
    "                point\n",
    "                for point in adjacent_points\n",
    "                if point.y >= 0 and point.y <= self.max_y\n",
    "            ]\n",
    "            return adjacent_points\n",
    "        \n",
    "\n",
    "    def play_part_1(self):\n",
    "        risk = 0\n",
    "        for point, val in self.points.items():\n",
    "            adjacent_values = [\n",
    "                self.points[point]\n",
    "                for point\n",
    "                in self.get_adjacent_points(point)\n",
    "            ]\n",
    "            \n",
    "            if all([val < adjacent_val for adjacent_val in adjacent_values]):\n",
    "                risk += 1 + val\n",
    "        \n",
    "        return risk\n",
    "\n",
    "    def find_basin(self, remaining_points):\n",
    "        # pick a starting point\n",
    "        basin = {list(remaining_points)[0]}\n",
    "        \n",
    "        while True:\n",
    "            added_points = set()\n",
    "            for point in basin:\n",
    "                adjacent_points = self.get_adjacent_points(point)\n",
    "                adjacent_points = [point for point in adjacent_points if point in remaining_points]\n",
    "                adjacent_points = {point for point in adjacent_points if self.points[point] < 9}\n",
    "                added_points = added_points | adjacent_points\n",
    "\n",
    "            new_basin = basin | added_points\n",
    "            if new_basin == basin:\n",
    "                return new_basin\n",
    "\n",
    "            basin = new_basin\n",
    "    \n",
    "    def find_basins(self):\n",
    "        basins = []\n",
    "        remaining_points = {point for point, val in self.points.items() if val < 9}\n",
    "        \n",
    "        while remaining_points:\n",
    "            basin = self.find_basin(remaining_points)\n",
    "            basins.append(basin)\n",
    "            remaining_points -= basin\n",
    "        \n",
    "        return basins \n",
    "    \n",
    "    def play_part_2(self):\n",
    "        basins = self.find_basins()\n",
    "        sizes = [len(basin) for basin in basins]\n",
    "        sizes = list(reversed(sorted(sizes)))\n",
    "        return sizes[0] * sizes[1] * sizes[2]"
   ]
  },
  {
   "cell_type": "code",
   "execution_count": 11,
   "id": "5df1c3a0",
   "metadata": {},
   "outputs": [
    {
     "data": {
      "text/plain": [
       "15"
      ]
     },
     "execution_count": 11,
     "metadata": {},
     "output_type": "execute_result"
    }
   ],
   "source": [
    "test_grid = Grid(test_input)\n",
    "test_grid.play_part_1()"
   ]
  },
  {
   "cell_type": "code",
   "execution_count": 12,
   "id": "2d2acfea",
   "metadata": {},
   "outputs": [
    {
     "data": {
      "text/plain": [
       "478"
      ]
     },
     "execution_count": 12,
     "metadata": {},
     "output_type": "execute_result"
    }
   ],
   "source": [
    "real_grid = Grid(real_input)\n",
    "real_grid.play_part_1()"
   ]
  },
  {
   "cell_type": "markdown",
   "id": "f86fda97",
   "metadata": {},
   "source": [
    "### Day 9 part 2\n",
    "\n",
    "Find the three largest basins and multiply their sizes together. In the above example, this is 9 * 14 * 9 = 1134.\n",
    "\n",
    "What do you get if you multiply together the sizes of the three largest basins?"
   ]
  },
  {
   "cell_type": "code",
   "execution_count": 13,
   "id": "b8827499",
   "metadata": {},
   "outputs": [
    {
     "data": {
      "text/plain": [
       "1134"
      ]
     },
     "execution_count": 13,
     "metadata": {},
     "output_type": "execute_result"
    }
   ],
   "source": [
    "test_grid = Grid(test_input)\n",
    "test_grid.play_part_2()"
   ]
  },
  {
   "cell_type": "code",
   "execution_count": 14,
   "id": "6da79032",
   "metadata": {},
   "outputs": [
    {
     "data": {
      "text/plain": [
       "1327014"
      ]
     },
     "execution_count": 14,
     "metadata": {},
     "output_type": "execute_result"
    }
   ],
   "source": [
    "real_grid = Grid(real_input)\n",
    "real_grid.play_part_2()"
   ]
  },
  {
   "cell_type": "markdown",
   "id": "8397cf29",
   "metadata": {},
   "source": [
    "### Day 9 Observations\n",
    "\n",
    "I find it difficult to spell the word, 'adjacent'."
   ]
  },
  {
   "cell_type": "markdown",
   "id": "f000b684",
   "metadata": {},
   "source": [
    "## Day 10 Syntax Scoring\n",
    "\n",
    "https://adventofcode.com/2021/day/10\n",
    "\n",
    "In the above example, an illegal ) was found twice (2*3 = 6 points), an illegal ] was found once (57 points), an illegal } was found once (1197 points), and an illegal > was found once (25137 points). So, the total syntax error score for this file is 6+57+1197+25137 = 26397 points!\n",
    "\n",
    "Find the first illegal character in each corrupted line of the navigation subsystem. What is the total syntax error score for those errors?"
   ]
  },
  {
   "cell_type": "code",
   "execution_count": 4,
   "id": "517a0ad0",
   "metadata": {},
   "outputs": [],
   "source": [
    "test_input = get_puzzle_input('test_input_10.txt')\n",
    "real_input = get_puzzle_input('input_10.txt')"
   ]
  },
  {
   "cell_type": "code",
   "execution_count": 5,
   "id": "02d62e1c",
   "metadata": {},
   "outputs": [],
   "source": [
    "def find_syntax_error(line):\n",
    "    stack = []\n",
    "    pair_map = {\n",
    "        '{': '}',\n",
    "        '(': ')',\n",
    "        '[': ']',\n",
    "        '<': '>', \n",
    "    }\n",
    "    close_map = {v: n for (n, v) in pair_map.items()}\n",
    "    openings = set(pair_map.keys())\n",
    "    endings = set(pair_map.values())\n",
    "    \n",
    "    for char in line:\n",
    "        if char in openings:\n",
    "            stack.append(char)\n",
    "        \n",
    "        if char in endings:\n",
    "            if not stack:\n",
    "                return (None, char)\n",
    "            opening = stack.pop()\n",
    "            expected = pair_map[opening]\n",
    "            if char != expected:\n",
    "                return (expected, char)\n",
    "        \n",
    "    return None"
   ]
  },
  {
   "cell_type": "code",
   "execution_count": 6,
   "id": "01a76ead",
   "metadata": {},
   "outputs": [],
   "source": [
    "assert find_syntax_error('{}') is None\n",
    "assert find_syntax_error('{]') == ('}', ']')"
   ]
  },
  {
   "cell_type": "code",
   "execution_count": 7,
   "id": "3ba2f66f",
   "metadata": {},
   "outputs": [],
   "source": [
    "def play_part_1(input):\n",
    "    total = 0\n",
    "    scores = {\n",
    "        ')': 3,\n",
    "        ']': 57,\n",
    "        '}': 1197,\n",
    "        '>': 25137\n",
    "    }\n",
    "    for line in input:\n",
    "        error = find_syntax_error(line)\n",
    "        if error:\n",
    "            error_char = error[1]\n",
    "            score = scores[error_char]\n",
    "            total += score\n",
    "    \n",
    "    return total"
   ]
  },
  {
   "cell_type": "code",
   "execution_count": 8,
   "id": "5471cc95",
   "metadata": {},
   "outputs": [
    {
     "data": {
      "text/plain": [
       "(26397, 288291)"
      ]
     },
     "execution_count": 8,
     "metadata": {},
     "output_type": "execute_result"
    }
   ],
   "source": [
    "play_part_1(test_input), play_part_1(real_input)"
   ]
  },
  {
   "cell_type": "markdown",
   "id": "7f761990",
   "metadata": {},
   "source": [
    "### Day 10, part 2\n",
    "\n",
    "Autocomplete tools are an odd bunch: the winner is found by sorting all of the scores and then taking the middle score. (There will always be an odd number of scores to consider.) In this example, the middle score is 288957 because there are the same number of scores smaller and larger than it.\n",
    "\n",
    "Find the completion string for each incomplete line, score the completion strings, and sort the scores. What is the middle score?"
   ]
  },
  {
   "cell_type": "code",
   "execution_count": 9,
   "id": "da0e569d",
   "metadata": {},
   "outputs": [],
   "source": [
    "def find_completion_sequence(line):\n",
    "    stack = []\n",
    "    pair_map = {\n",
    "        '{': '}',\n",
    "        '(': ')',\n",
    "        '[': ']',\n",
    "        '<': '>', \n",
    "    }\n",
    "    close_map = {v: n for (n, v) in pair_map.items()}\n",
    "    openings = set(pair_map.keys())\n",
    "    endings = set(pair_map.values())\n",
    "    \n",
    "    for char in line:\n",
    "        if char in openings:\n",
    "            stack.append(char)\n",
    "        \n",
    "        if char in endings:\n",
    "            if not stack:\n",
    "                return []\n",
    "            opening = stack.pop()\n",
    "            expected = pair_map[opening]\n",
    "            if char != expected:\n",
    "                return []\n",
    "        \n",
    "    return [pair_map[char] for char in reversed(stack)]"
   ]
  },
  {
   "cell_type": "code",
   "execution_count": 10,
   "id": "5f4a2f16",
   "metadata": {},
   "outputs": [],
   "source": [
    "def play_part_2(input):\n",
    "    line_scores = []\n",
    "    scores = {\n",
    "        ')': 1,\n",
    "        ']': 2,\n",
    "        '}': 3,\n",
    "        '>': 4\n",
    "    }\n",
    "    for line in input:\n",
    "        line_score = 0\n",
    "        completion_sequence = find_completion_sequence(line)\n",
    "        for char in completion_sequence:\n",
    "            line_score *= 5\n",
    "            line_score += scores[char]\n",
    "        \n",
    "        if line_score:\n",
    "            line_scores.append(line_score)\n",
    "    \n",
    "    line_scores = sorted(line_scores)\n",
    "    median = line_scores[len(line_scores) // 2]\n",
    "    return median"
   ]
  },
  {
   "cell_type": "code",
   "execution_count": 11,
   "id": "92534a45",
   "metadata": {},
   "outputs": [
    {
     "data": {
      "text/plain": [
       "(288957, 820045242)"
      ]
     },
     "execution_count": 11,
     "metadata": {},
     "output_type": "execute_result"
    }
   ],
   "source": [
    "play_part_2(test_input), play_part_2(real_input)"
   ]
  },
  {
   "cell_type": "markdown",
   "id": "f2870a2e",
   "metadata": {},
   "source": [
    "### Day 10 Observations\n",
    "\n",
    "It's frustrating when you know how to do part two but you've really got to go and catch a train. It would have been more elegant to represent the syntax errors as exceptions and so using the same function for parts 1 and 2."
   ]
  },
  {
   "cell_type": "markdown",
   "id": "bd67dbe0",
   "metadata": {},
   "source": [
    "## Day 11 Dumbo Octopus\n",
    "\n",
    "https://adventofcode.com/2021/day/11\n",
    "\n",
    "After 100 steps, there have been a total of 1656 flashes.\n",
    "\n",
    "Given the starting energy levels of the dumbo octopuses in your cavern, simulate 100 steps. How many total flashes are there after 100 steps?"
   ]
  },
  {
   "cell_type": "code",
   "execution_count": 4,
   "id": "df7eb390",
   "metadata": {},
   "outputs": [],
   "source": [
    "test_input = [\n",
    "    '5483143223',\n",
    "    '2745854711',\n",
    "    '5264556173',\n",
    "    '6141336146',\n",
    "    '6357385478',\n",
    "    '4167524645',\n",
    "    '2176841721',\n",
    "    '6882881134',\n",
    "    '4846848554',\n",
    "    '5283751526',\n",
    "]\n",
    "\n",
    "real_input = [\n",
    "    '4836484555',\n",
    "    '4663841772',\n",
    "    '3512484556',\n",
    "    '1481547572',\n",
    "    '7741183422',\n",
    "    '8683222882',\n",
    "    '4215244233',\n",
    "    '1544712171',\n",
    "    '5725855786',\n",
    "    '1717382281',\n",
    "]"
   ]
  },
  {
   "cell_type": "code",
   "execution_count": 5,
   "id": "463be81e",
   "metadata": {},
   "outputs": [],
   "source": [
    "@dataclass(frozen=True)\n",
    "class Point:\n",
    "    x: int\n",
    "    y: int\n",
    "    \n",
    "    @property\n",
    "    def adjacent_points(self):\n",
    "        return [\n",
    "            Point(self.x - 1, self.y),\n",
    "            Point(self.x + 1, self.y),\n",
    "            Point(self.x, self.y + 1),\n",
    "            Point(self.x, self.y - 1),\n",
    "            Point(self.x - 1, self.y - 1),\n",
    "            Point(self.x - 1, self.y + 1),\n",
    "            Point(self.x + 1, self.y - 1),\n",
    "            Point(self.x + 1, self.y + 1),\n",
    "        ]\n"
   ]
  },
  {
   "cell_type": "code",
   "execution_count": 6,
   "id": "35839b01",
   "metadata": {},
   "outputs": [],
   "source": [
    "class Grid:\n",
    "    def __init__(self, puzzle_input):\n",
    "        self.points = {}\n",
    "        self.max_x = len(puzzle_input[0]) - 1\n",
    "        self.max_y = len(puzzle_input) - 1\n",
    "\n",
    "        for y, line in enumerate(puzzle_input):\n",
    "            for x, val in enumerate(line):\n",
    "                self.points[Point(x, y)] = int(val)\n",
    "    \n",
    "    def get_adjacent_points(self, point):\n",
    "            adjacent_points = point.adjacent_points\n",
    "            adjacent_points = [\n",
    "                point\n",
    "                for point in adjacent_points\n",
    "                if point.x >= 0 and point.x <= self.max_x\n",
    "            ]\n",
    "            adjacent_points = [\n",
    "                point\n",
    "                for point in adjacent_points\n",
    "                if point.y >= 0 and point.y <= self.max_y\n",
    "            ]\n",
    "            return adjacent_points\n",
    "    \n",
    "    def display(self):\n",
    "        for y in range(self.max_y + 1):\n",
    "            for x in range(self.max_x + 1):\n",
    "                print(self.points[Point(x, y)], end='')\n",
    "            print()\n",
    "            \n",
    "    def incr_point(self, point, start_of_step):\n",
    "        '''Returns whether or not it flashed'''\n",
    "        val = self.points[point]\n",
    "        if val == 0 and not start_of_step:\n",
    "            return False\n",
    "\n",
    "        val += 1\n",
    "        val %= 10\n",
    "        self.points[point] = val\n",
    "        return val == 0\n",
    "        \n",
    "    def step(self):\n",
    "        num_flashes = 0\n",
    "        flashed = set()\n",
    "        # increment by 1\n",
    "        for point in self.points.keys():\n",
    "            did_flash = self.incr_point(point, start_of_step=True)\n",
    "            if did_flash:\n",
    "                num_flashes += 1\n",
    "                flashed.add(point)\n",
    "\n",
    "        # Increment those around a flash\n",
    "        while flashed:\n",
    "            new_flashes = set()\n",
    "            for point in flashed:\n",
    "                adjacent_points = self.get_adjacent_points(point)\n",
    "                for adjacent in adjacent_points:\n",
    "                    did_flash = self.incr_point(adjacent, start_of_step=False)\n",
    "                    if did_flash:\n",
    "                        num_flashes += 1\n",
    "                        new_flashes.add(adjacent)\n",
    "            flashed = new_flashes\n",
    "        \n",
    "        return num_flashes"
   ]
  },
  {
   "cell_type": "code",
   "execution_count": 7,
   "id": "f629102c",
   "metadata": {},
   "outputs": [
    {
     "name": "stdout",
     "output_type": "stream",
     "text": [
      "5483143223\n",
      "2745854711\n",
      "5264556173\n",
      "6141336146\n",
      "6357385478\n",
      "4167524645\n",
      "2176841721\n",
      "6882881134\n",
      "4846848554\n",
      "5283751526\n",
      "\n",
      "6594254334\n",
      "3856965822\n",
      "6375667284\n",
      "7252447257\n",
      "7468496589\n",
      "5278635756\n",
      "3287952832\n",
      "7993992245\n",
      "5957959665\n",
      "6394862637\n",
      "\n",
      "8807476555\n",
      "5089087054\n",
      "8597889608\n",
      "8485769600\n",
      "8700908800\n",
      "6600088989\n",
      "6800005943\n",
      "0000007456\n",
      "9000000876\n",
      "8700006848\n"
     ]
    },
    {
     "data": {
      "text/plain": [
       "35"
      ]
     },
     "execution_count": 7,
     "metadata": {},
     "output_type": "execute_result"
    }
   ],
   "source": [
    "test_grid = Grid(test_input)\n",
    "test_grid.display()\n",
    "num_flashes = test_grid.step()\n",
    "print()\n",
    "test_grid.display()\n",
    "num_flashes = test_grid.step()\n",
    "print()\n",
    "test_grid.display()\n",
    "num_flashes"
   ]
  },
  {
   "cell_type": "code",
   "execution_count": 8,
   "id": "2506d8d4",
   "metadata": {},
   "outputs": [
    {
     "data": {
      "text/plain": [
       "1656"
      ]
     },
     "execution_count": 8,
     "metadata": {},
     "output_type": "execute_result"
    }
   ],
   "source": [
    "test_grid = Grid(test_input)\n",
    "num_flashes = 0\n",
    "for _ in range(100):\n",
    "    num_flashes += test_grid.step()\n",
    "\n",
    "num_flashes"
   ]
  },
  {
   "cell_type": "code",
   "execution_count": 9,
   "id": "4486d8c6",
   "metadata": {},
   "outputs": [
    {
     "data": {
      "text/plain": [
       "1659"
      ]
     },
     "execution_count": 9,
     "metadata": {},
     "output_type": "execute_result"
    }
   ],
   "source": [
    "real_grid = Grid(real_input)\n",
    "num_flashes = 0\n",
    "for _ in range(100):\n",
    "    num_flashes += real_grid.step()\n",
    "\n",
    "num_flashes"
   ]
  },
  {
   "cell_type": "markdown",
   "id": "d5b56626",
   "metadata": {},
   "source": [
    "### Day 11, part 2\n",
    "\n",
    "If you can calculate the exact moments when the octopuses will all flash simultaneously, you should be able to navigate through the cavern. What is the first step during which all octopuses flash?"
   ]
  },
  {
   "cell_type": "code",
   "execution_count": 10,
   "id": "b25ea543",
   "metadata": {},
   "outputs": [
    {
     "name": "stdout",
     "output_type": "stream",
     "text": [
      "195\n"
     ]
    }
   ],
   "source": [
    "test_grid = Grid(test_input)\n",
    "for x in range(1000):\n",
    "    num_flashes = test_grid.step()\n",
    "    if num_flashes == 100:\n",
    "        print(x + 1)\n",
    "        break"
   ]
  },
  {
   "cell_type": "code",
   "execution_count": 11,
   "id": "14ce84dd",
   "metadata": {},
   "outputs": [
    {
     "name": "stdout",
     "output_type": "stream",
     "text": [
      "227\n"
     ]
    }
   ],
   "source": [
    "real_grid = Grid(real_input)\n",
    "for x in range(1000):\n",
    "    num_flashes = real_grid.step()\n",
    "    if num_flashes == 100:\n",
    "        print(x + 1)\n",
    "        break"
   ]
  },
  {
   "cell_type": "markdown",
   "id": "b83c48d5",
   "metadata": {},
   "source": [
    "### Day 11 Observations\n",
    "\n",
    "Would be interesting to know how the puzzle inputs are generated. Is it possible to generate an input that never result in an all zero pattern?  It's not as if you can start from all zeros and generate a loop as the next states are all trivial (all ones, all twos etc)."
   ]
  },
  {
   "cell_type": "markdown",
   "id": "dc6198a0",
   "metadata": {},
   "source": [
    "## Day 12: Passage Pathing\n",
    "\n",
    "https://adventofcode.com/2021/day/12\n",
    "\n",
    "With your submarine's subterranean subsystems subsisting suboptimally, the only way you're getting out of this cave anytime soon is by finding a path yourself. Not just a path - the only way to know if you've found the best path is to find all of them.\n",
    "\n",
    "...\n",
    "\n",
    "So, the above cave system looks roughly like this:\n",
    "\n",
    "```\n",
    "    start\n",
    "    /   \\\n",
    "c--A-----b--d\n",
    "    \\   /\n",
    "     end\n",
    "```\n",
    "\n",
    "How many paths through this cave system are there that visit small caves at most once?"
   ]
  },
  {
   "cell_type": "code",
   "execution_count": 7,
   "id": "6d5409ee",
   "metadata": {},
   "outputs": [],
   "source": [
    "test_1 = {\n",
    "    'start-A',\n",
    "    'start-b',\n",
    "    'A-c',\n",
    "    'A-b',\n",
    "    'b-d',\n",
    "    'A-end',\n",
    "    'b-end',\n",
    "}\n",
    "\n",
    "test_2 = {\n",
    "    'dc-end',\n",
    "    'HN-start',\n",
    "    'start-kj',\n",
    "    'dc-start',\n",
    "    'dc-HN',\n",
    "    'LN-dc',\n",
    "    'HN-end',\n",
    "    'kj-sa',\n",
    "    'kj-HN',\n",
    "    'kj-dc',\n",
    "}\n",
    "\n",
    "real_input = {\n",
    "    'zs-WO',\n",
    "    'zs-QJ',\n",
    "    'WO-zt',\n",
    "    'zs-DP',\n",
    "    'WO-end',\n",
    "    'gv-zt',\n",
    "    'iu-SK',\n",
    "    'HW-zs',\n",
    "    'iu-WO',\n",
    "    'gv-WO',\n",
    "    'gv-start',\n",
    "    'gv-DP',\n",
    "    'start-WO',\n",
    "    'HW-zt',\n",
    "    'iu-HW',\n",
    "    'gv-HW',\n",
    "    'zs-SK',\n",
    "    'HW-end',\n",
    "    'zs-end',\n",
    "    'DP-by',\n",
    "    'DP-iu',\n",
    "    'zt-start',\n",
    "}"
   ]
  },
  {
   "cell_type": "code",
   "execution_count": 8,
   "id": "35f35138",
   "metadata": {},
   "outputs": [],
   "source": [
    "@dataclass(frozen=True)\n",
    "class Cavern:\n",
    "    name: str\n",
    "    \n",
    "    @property\n",
    "    def is_big(self):\n",
    "        return self.name == self.name.upper()"
   ]
  },
  {
   "cell_type": "code",
   "execution_count": 9,
   "id": "631fc654",
   "metadata": {},
   "outputs": [],
   "source": [
    "assert Cavern('AA').is_big is True\n",
    "assert Cavern('aa').is_big is False\n",
    "assert Cavern('start').is_big is False"
   ]
  },
  {
   "cell_type": "code",
   "execution_count": 10,
   "id": "de40b3c2",
   "metadata": {},
   "outputs": [],
   "source": [
    "def map_cave(puzzle_input):\n",
    "    cave_map = defaultdict(set)\n",
    "    for line in puzzle_input:\n",
    "        cavern_1, cavern_2 = [\n",
    "            Cavern(name)\n",
    "            for name in line.split('-')\n",
    "        ]\n",
    "        cave_map[cavern_1].add(cavern_2)\n",
    "        cave_map[cavern_2].add(cavern_1)\n",
    "    \n",
    "    return dict(cave_map)\n"
   ]
  },
  {
   "cell_type": "code",
   "execution_count": 11,
   "id": "35301219",
   "metadata": {},
   "outputs": [
    {
     "data": {
      "text/plain": [
       "{Cavern(name='start'): {Cavern(name='A'), Cavern(name='b')},\n",
       " Cavern(name='A'): {Cavern(name='b'),\n",
       "  Cavern(name='c'),\n",
       "  Cavern(name='end'),\n",
       "  Cavern(name='start')},\n",
       " Cavern(name='c'): {Cavern(name='A')},\n",
       " Cavern(name='b'): {Cavern(name='A'),\n",
       "  Cavern(name='d'),\n",
       "  Cavern(name='end'),\n",
       "  Cavern(name='start')},\n",
       " Cavern(name='end'): {Cavern(name='A'), Cavern(name='b')},\n",
       " Cavern(name='d'): {Cavern(name='b')}}"
      ]
     },
     "execution_count": 11,
     "metadata": {},
     "output_type": "execute_result"
    }
   ],
   "source": [
    "map_cave(test_1)"
   ]
  },
  {
   "cell_type": "code",
   "execution_count": 12,
   "id": "bee8a14a",
   "metadata": {},
   "outputs": [],
   "source": [
    "class BreadthFirstSolver(object):\n",
    "    \"\"\"Breadth first solver for game definitions.\"\"\"\n",
    "\n",
    "    def show_progress(self, num_moves, num_states):\n",
    "        \"\"\"Show progress whilst running.\"\"\"\n",
    "        print(\"Move {}: examining {} position{}.\".format(\n",
    "            num_moves,\n",
    "            num_states,\n",
    "            \"s\" if num_states == 1 else \"\"\n",
    "        ))\n",
    "\n",
    "    def solve(self, game, max_moves=0, find_all_solutions=False):\n",
    "        \"\"\"Solve the game returning a set of shortest solutions.\"\"\"\n",
    "        observed_states = set()\n",
    "        # Set of tuples of (previous_moves_tuple, game_state)\n",
    "        move_states = {((), game.initial_state)}\n",
    "        num_moves = 0\n",
    "        best_state = game.initial_state\n",
    "        best_score = game.score(best_state)\n",
    "        all_solutions = set()\n",
    "        \n",
    "        while True:\n",
    "            # self.show_progress(num_moves, len(move_states))\n",
    "            if max_moves and num_moves > max_moves:\n",
    "                raise BufferError\n",
    "\n",
    "            # Check for solutions\n",
    "            solutions = {m for m, s in move_states if game.is_end_state(s)}\n",
    "            if solutions:\n",
    "                if not find_all_solutions:\n",
    "                    return solutions\n",
    "                \n",
    "                all_solutions |= solutions\n",
    "\n",
    "            # Check if we've found a better state:\n",
    "            for _, s in move_states:\n",
    "                if game.score(s) > best_score:\n",
    "                    best_state = s\n",
    "                    best_score = game.score(s)\n",
    "                    print('High Score: ', best_score)\n",
    "                \n",
    "                # Hacked in to solve puzzle\n",
    "                if num_moves == 40:\n",
    "                    print (\"Move 40: \", game.score(s)) \n",
    "\n",
    "            # Find the next level of states\n",
    "            move_states = {\n",
    "                (prev_moves + (move,), game.next_state(state, move))\n",
    "                for (prev_moves, state) in move_states\n",
    "                for move in game.next_moves(state)\n",
    "            }\n",
    "\n",
    "            # TODO - remove duplicates for unordered games\n",
    "\n",
    "            # Prune and update previously observed states\n",
    "            # (must have been part of a shorter solution)\n",
    "            move_states = {\n",
    "                (moves, state) for (moves, state) in move_states\n",
    "                if state not in observed_states\n",
    "            }\n",
    "            if not move_states:\n",
    "                #No possible next states == no more possible solutions\n",
    "                return all_solutions\n",
    "            observed_states.update([s for _, s in move_states])\n",
    "            num_moves += 1"
   ]
  },
  {
   "cell_type": "code",
   "execution_count": 13,
   "id": "743392ba",
   "metadata": {},
   "outputs": [],
   "source": [
    "\"\"\"Interface for game definitions.\"\"\"\n",
    "class Game(object):\n",
    "\n",
    "    @property\n",
    "    def initial_state(self):\n",
    "        \"\"\"The initial state of the game.\n",
    "        \n",
    "        States must be hashable.\n",
    "        \"\"\"\n",
    "        raise NotImplementedError()\n",
    "\n",
    "    @property\n",
    "    def ordered_moves(self):\n",
    "        \"\"\"Do the moves in the game have an order?\n",
    "        Is [move 1, move2, move3] != [move2, move3, move1]\n",
    "        \"\"\"\n",
    "        return True\n",
    "\n",
    "    def next_moves(self, state):\n",
    "        \"\"\"Possible set of next moves from this `state`.\n",
    "        If you're interested in the shortest solution only apply a heuristic\n",
    "        if you _know_ that other moves cannot lead to a shorter solution. For\n",
    "        example in the Tube Map Name problem it is fine to suggest 'Belsize Park'\n",
    "        as a move given it's the only one with a 'Z' in it; hence must be in the\n",
    "        shortest solution.\n",
    "        \"\"\"\n",
    "        raise NotImplementedError()\n",
    "\n",
    "    def next_state(self, state, move):\n",
    "        \"\"\"Next state of the system given move `move` in state `state`.\"\"\"\n",
    "        raise NotImplementedError()\n",
    "\n",
    "    def is_end_state(self, state):\n",
    "        \"\"\"Is the current state `state` an end state of the game.\"\"\"\n",
    "        raise NotImplementedError()\n",
    "\n",
    "    def score(self, state):\n",
    "        \"\"\"The score of the current `state`.\"\"\"\n",
    "        return 0"
   ]
  },
  {
   "cell_type": "code",
   "execution_count": 14,
   "id": "9c6cbaa2",
   "metadata": {},
   "outputs": [],
   "source": [
    "class Cave(Game):\n",
    "    ordered_moves = True\n",
    "    initial_state = (Cavern('start'), )\n",
    "\n",
    "    def __init__(self, puzzle_input):\n",
    "        self.cave_map = map_cave(puzzle_input)\n",
    "        \n",
    "    def next_moves(self, state):\n",
    "        current_cavern = state[-1]\n",
    "        small_caverns_visited = {cavern for cavern in state if not cavern.is_big}\n",
    "        possible_moves = self.cave_map[current_cavern] - small_caverns_visited\n",
    "        return possible_moves\n",
    "    \n",
    "    def next_state(self, state, move):\n",
    "        return state + (move, )\n",
    "    \n",
    "    def is_end_state(self, state):\n",
    "        return Cavern('end') == state[-1]"
   ]
  },
  {
   "cell_type": "code",
   "execution_count": 15,
   "id": "2436d848",
   "metadata": {},
   "outputs": [
    {
     "data": {
      "text/plain": [
       "10"
      ]
     },
     "execution_count": 15,
     "metadata": {},
     "output_type": "execute_result"
    }
   ],
   "source": [
    "bfs = BreadthFirstSolver()\n",
    "test_cave = Cave(test_1)\n",
    "solutions = bfs.solve(test_cave, find_all_solutions=True)\n",
    "len(solutions)"
   ]
  },
  {
   "cell_type": "code",
   "execution_count": 16,
   "id": "ba5d94c4",
   "metadata": {},
   "outputs": [
    {
     "data": {
      "text/plain": [
       "19"
      ]
     },
     "execution_count": 16,
     "metadata": {},
     "output_type": "execute_result"
    }
   ],
   "source": [
    "bfs = BreadthFirstSolver()\n",
    "test_cave = Cave(test_2)\n",
    "solutions = bfs.solve(test_cave, find_all_solutions=True)\n",
    "len(solutions)"
   ]
  },
  {
   "cell_type": "code",
   "execution_count": 17,
   "id": "cff34b93",
   "metadata": {},
   "outputs": [
    {
     "data": {
      "text/plain": [
       "3738"
      ]
     },
     "execution_count": 17,
     "metadata": {},
     "output_type": "execute_result"
    }
   ],
   "source": [
    "bfs = BreadthFirstSolver()\n",
    "real_cave = Cave(real_input)\n",
    "solutions = bfs.solve(real_cave, find_all_solutions=True)\n",
    "len(solutions)"
   ]
  },
  {
   "cell_type": "code",
   "execution_count": 18,
   "id": "c2d52cd3",
   "metadata": {},
   "outputs": [],
   "source": [
    "class CavePart2(Cave):    \n",
    "    def next_moves(self, state):\n",
    "        current_cavern = state[-1]\n",
    "        \n",
    "        if Cavern('end') in state:\n",
    "            return set()\n",
    "\n",
    "        # Visited small caverns\n",
    "        small_caverns_visited = [cavern for cavern in state if not cavern.is_big]\n",
    "        small_counter = Counter(small_caverns_visited)\n",
    "        revisited_small = bool([n for (n, v) in small_counter.items() if v >= 2])\n",
    "        \n",
    "        possible_moves = set()\n",
    "        \n",
    "        for move in self.cave_map[current_cavern]: \n",
    "            if move == Cavern('start'):\n",
    "                continue\n",
    "\n",
    "            if (\n",
    "                move.is_big or\n",
    "                not revisited_small or\n",
    "                move not in small_counter.keys()\n",
    "            ):\n",
    "                possible_moves.add(move)\n",
    "\n",
    "        return possible_moves"
   ]
  },
  {
   "cell_type": "markdown",
   "id": "54e4f710",
   "metadata": {},
   "source": [
    "### Day 12, part 2\n",
    "\n",
    "After reviewing the available paths, you realize you might have time to visit a single small cave twice. Specifically, big caves can be visited any number of times, a single small cave can be visited at most twice, and the remaining small caves can be visited at most once. However, the caves named start and end can only be visited exactly once each: once you leave the start cave, you may not return to it, and once you reach the end cave, the path must end immediately."
   ]
  },
  {
   "cell_type": "code",
   "execution_count": 19,
   "id": "0864703f",
   "metadata": {},
   "outputs": [
    {
     "data": {
      "text/plain": [
       "36"
      ]
     },
     "execution_count": 19,
     "metadata": {},
     "output_type": "execute_result"
    }
   ],
   "source": [
    "bfs = BreadthFirstSolver()\n",
    "test_cave = CavePart2(test_1)\n",
    "solutions = bfs.solve(test_cave, find_all_solutions=True)\n",
    "len(solutions)"
   ]
  },
  {
   "cell_type": "code",
   "execution_count": 20,
   "id": "59fe6df6",
   "metadata": {},
   "outputs": [
    {
     "data": {
      "text/plain": [
       "120506"
      ]
     },
     "execution_count": 20,
     "metadata": {},
     "output_type": "execute_result"
    }
   ],
   "source": [
    "bfs = BreadthFirstSolver()\n",
    "real_cave = CavePart2(real_input)\n",
    "solutions = bfs.solve(real_cave, find_all_solutions=True)\n",
    "len(solutions)"
   ]
  },
  {
   "cell_type": "markdown",
   "id": "49bc781d",
   "metadata": {},
   "source": [
    "### Day 12 Observations\n",
    "\n",
    "So here's the maze that has been hinted at over the last few days. I managed to brush off and tweak and BFS solver I'd written for a previous year. It was slightly modified to enumerate all the possibilities rather than stopping at the shortest. A Depth First approach would have presumably been more efficient memory wise, given it only need concern itself with the current state, but I didn't have one of those to hand!\n",
    "\n",
    "The second part is a classic case or - READ THE QUESTION. I read it (and re-read it several times the same way) as every small cavern could be visited twice. I immediately jump to the conclusion that the puzzle setter has made a mistake - how could there possibly be a bug in my code?\n",
    "\n"
   ]
  },
  {
   "cell_type": "markdown",
   "id": "5bdd100a",
   "metadata": {},
   "source": [
    "### Day 12 Revisited\n",
    "\n",
    "Felt impure not solving this 'depth first', so adding a Depth First Solver to the tool box."
   ]
  },
  {
   "cell_type": "code",
   "execution_count": 21,
   "id": "2e2df803",
   "metadata": {},
   "outputs": [],
   "source": [
    "DepthFirstState = namedtuple(\n",
    "    'DepthFirstState',\n",
    "    ('state', 'untried_moves', 'move_history')\n",
    ")\n",
    "\n",
    "class DepthFirstSolver(object):\n",
    "    \"\"\"Breadth first solver for game definitions.\"\"\"\n",
    "\n",
    "    def solve(self, game):\n",
    "        initial_state = game.initial_state\n",
    "        initial_moves = game.next_moves(initial_state)\n",
    "        \n",
    "        state_stack = [\n",
    "            DepthFirstState(\n",
    "                state=game.initial_state,\n",
    "                untried_moves=list(initial_moves),\n",
    "                move_history=[]\n",
    "            )\n",
    "        ]\n",
    "        solutions = set()\n",
    "        \n",
    "        while state_stack:\n",
    "            state = state_stack.pop()\n",
    "            if not state.untried_moves:\n",
    "                continue\n",
    "            \n",
    "            move = state.untried_moves.pop()\n",
    "            next_state = game.next_state(state.state, move)\n",
    "            next_moves = game.next_moves(next_state)\n",
    "            next_move_history = state.move_history + [move]\n",
    "            state_stack.append(state)\n",
    "\n",
    "            if game.is_end_state(next_state):\n",
    "                solutions.add(tuple(next_move_history))\n",
    "                continue\n",
    "            \n",
    "            state_stack.append(\n",
    "                DepthFirstState(\n",
    "                    state=next_state,\n",
    "                    untried_moves=list(next_moves),\n",
    "                    move_history=next_move_history\n",
    "                )\n",
    "            )\n",
    "        \n",
    "        return solutions"
   ]
  },
  {
   "cell_type": "code",
   "execution_count": 22,
   "id": "e37cba59",
   "metadata": {},
   "outputs": [
    {
     "name": "stdout",
     "output_type": "stream",
     "text": [
      "CPU times: user 3.36 s, sys: 11.1 ms, total: 3.37 s\n",
      "Wall time: 3.37 s\n"
     ]
    },
    {
     "data": {
      "text/plain": [
       "120506"
      ]
     },
     "execution_count": 22,
     "metadata": {},
     "output_type": "execute_result"
    }
   ],
   "source": [
    "%%time\n",
    "\n",
    "dfs = DepthFirstSolver()\n",
    "real_cave = CavePart2(real_input)\n",
    "solutions = dfs.solve(real_cave)\n",
    "len(solutions)"
   ]
  },
  {
   "cell_type": "code",
   "execution_count": 23,
   "id": "b76f5c1c",
   "metadata": {},
   "outputs": [
    {
     "name": "stdout",
     "output_type": "stream",
     "text": [
      "CPU times: user 7.48 s, sys: 21.3 ms, total: 7.5 s\n",
      "Wall time: 7.5 s\n"
     ]
    },
    {
     "data": {
      "text/plain": [
       "120506"
      ]
     },
     "execution_count": 23,
     "metadata": {},
     "output_type": "execute_result"
    }
   ],
   "source": [
    "%%time\n",
    "\n",
    "bfs = BreadthFirstSolver()\n",
    "real_cave = CavePart2(real_input)\n",
    "solutions = bfs.solve(real_cave, find_all_solutions=True)\n",
    "len(solutions)"
   ]
  },
  {
   "cell_type": "markdown",
   "id": "554df561",
   "metadata": {},
   "source": [
    "## Day 13 Transparent Origami\n",
    "\n",
    "https://adventofcode.com/2021/day/13\n",
    "\n",
    "The transparent paper is pretty big, so for now, focus on just completing the first fold. After the first fold in the example above, 17 dots are visible - dots that end up overlapping after the fold is completed count as a single dot.\n",
    "\n",
    "How many dots are visible after completing just the first fold instruction on your transparent paper?\n",
    "    "
   ]
  },
  {
   "cell_type": "code",
   "execution_count": 3,
   "id": "b22ac474",
   "metadata": {},
   "outputs": [],
   "source": [
    "test_input = get_puzzle_input('test_input_13.txt')\n",
    "real_input = get_puzzle_input('input_13.txt')"
   ]
  },
  {
   "cell_type": "code",
   "execution_count": 4,
   "id": "1279fefb",
   "metadata": {},
   "outputs": [],
   "source": [
    "@dataclass(frozen=True)\n",
    "class Line:\n",
    "    origin_offset: int\n",
    "    is_horizontal: bool\n",
    "\n",
    "@dataclass(frozen=True)\n",
    "class Point:\n",
    "    x: int\n",
    "    y: int\n",
    "    \n",
    "    def fold(self, line):\n",
    "        if (\n",
    "            line.is_horizontal and line.origin_offset >= self.x or\n",
    "            not line.is_horizontal and line.origin_offset >= self.y\n",
    "        ):\n",
    "            return self\n",
    "        \n",
    "        if line.is_horizontal:\n",
    "            return Point(2*line.origin_offset - self.x, self.y)\n",
    "        \n",
    "        return Point(self.x, 2*line.origin_offset - self.y)"
   ]
  },
  {
   "cell_type": "code",
   "execution_count": 5,
   "id": "87cfe928",
   "metadata": {},
   "outputs": [],
   "source": [
    "assert Point(10, 11).fold(Line(9, True)) == Point(8, 11)\n",
    "assert Point(3, 11).fold(Line(9, True)) == Point(3, 11)\n",
    "assert Point(10, 11).fold(Line(9, False)) == Point(10, 7)\n",
    "assert Point(10, 7).fold(Line(9, False)) == Point(10, 7)"
   ]
  },
  {
   "cell_type": "code",
   "execution_count": 6,
   "id": "79adcfbf",
   "metadata": {},
   "outputs": [],
   "source": [
    "class Grid:\n",
    "    fold_re = re.compile('fold along (.)=([0-9]+)')\n",
    "\n",
    "    def __init__(self, puzzle_input):\n",
    "        self.parse_input(puzzle_input)\n",
    "    \n",
    "    def parse_input(self, puzzle_input):\n",
    "        self.points = set()\n",
    "        self.fold_lines = []\n",
    "        \n",
    "        for line in puzzle_input:\n",
    "            components = line.split(',')\n",
    "            if len(components) == 2:\n",
    "                point = Point(int(components[0]), int(components[1]))\n",
    "                self.points.add(point)\n",
    "                continue\n",
    "            \n",
    "            match = self.fold_re.match(line)\n",
    "            \n",
    "            if match:\n",
    "                horizontal = match.groups()[0] == 'x'\n",
    "                origin_offset = int(match.groups()[1])\n",
    "                self.fold_lines.append(Line(origin_offset, horizontal))\n",
    "    \n",
    "    def fold(self, fold_line):\n",
    "        new_points = {point.fold(fold_line) for point in self.points}\n",
    "        self.points = new_points\n",
    "\n",
    "    def display(self):\n",
    "        max_x = max(point.x for point in self.points)\n",
    "        max_y = max(point.y for point in self.points)\n",
    "        \n",
    "        for y in range(max_y + 1):\n",
    "            for x in range(max_x + 1):\n",
    "                char = '#' if Point(x, y) in self.points else '.'\n",
    "                print(char, end='')\n",
    "            print()\n",
    "       "
   ]
  },
  {
   "cell_type": "code",
   "execution_count": 7,
   "id": "f45c3473",
   "metadata": {},
   "outputs": [],
   "source": [
    "def part_1(puzzle_input):\n",
    "    grid = Grid(puzzle_input)\n",
    "    grid.fold(grid.fold_lines[0])\n",
    "    return len(grid.points)"
   ]
  },
  {
   "cell_type": "code",
   "execution_count": 8,
   "id": "cab1735b",
   "metadata": {},
   "outputs": [
    {
     "data": {
      "text/plain": [
       "(17, 781)"
      ]
     },
     "execution_count": 8,
     "metadata": {},
     "output_type": "execute_result"
    }
   ],
   "source": [
    "part_1(test_input), part_1(real_input)"
   ]
  },
  {
   "cell_type": "markdown",
   "id": "d03ff0df",
   "metadata": {},
   "source": [
    "### Day 13, part 2\n",
    "\n",
    "Finish folding the transparent paper according to the instructions. The manual says the code is always eight capital letters.\n",
    "\n",
    "What code do you use to activate the infrared thermal imaging camera system?"
   ]
  },
  {
   "cell_type": "code",
   "execution_count": 9,
   "id": "1d252180",
   "metadata": {},
   "outputs": [
    {
     "name": "stdout",
     "output_type": "stream",
     "text": [
      "...#..#..#.\n",
      "....#......\n",
      "...........\n",
      "#..........\n",
      "...#....#.#\n",
      "...........\n",
      "...........\n",
      "...........\n",
      "...........\n",
      "...........\n",
      ".#....#.##.\n",
      "....#......\n",
      "......#...#\n",
      "#..........\n",
      "#.#........\n"
     ]
    }
   ],
   "source": [
    "# Ensure no stupid mistakes in display\n",
    "test_grid = Grid(test_input)\n",
    "test_grid.display()"
   ]
  },
  {
   "cell_type": "code",
   "execution_count": 10,
   "id": "80022a0d",
   "metadata": {},
   "outputs": [
    {
     "name": "stdout",
     "output_type": "stream",
     "text": [
      "###..####.###...##...##....##.###..###.\n",
      "#..#.#....#..#.#..#.#..#....#.#..#.#..#\n",
      "#..#.###..#..#.#....#.......#.#..#.###.\n",
      "###..#....###..#....#.##....#.###..#..#\n",
      "#....#....#.#..#..#.#..#.#..#.#....#..#\n",
      "#....####.#..#..##...###..##..#....###.\n"
     ]
    }
   ],
   "source": [
    "real_grid = Grid(real_input)\n",
    "for line in real_grid.fold_lines:\n",
    "    real_grid.fold(line)\n",
    "real_grid.display()"
   ]
  },
  {
   "cell_type": "markdown",
   "id": "fb70c1dc",
   "metadata": {},
   "source": [
    "### Day 13 Observations\n",
    "\n",
    "This would be a good example of what I like in a puzzle - elegant, but not necessarily (and preferably not) difficult. Often elegant problems have the characteristic of being much harder to set than to solve."
   ]
  },
  {
   "cell_type": "markdown",
   "id": "23fecbd0",
   "metadata": {},
   "source": [
    "## Day 14 Extended Polymerization\n",
    "\n",
    "https://adventofcode.com/2021/day/14\n",
    "\n",
    "Apply 10 steps of pair insertion to the polymer template and find the most and least common elements in the result. What do you get if you take the quantity of the most common element and subtract the quantity of the least common element?"
   ]
  },
  {
   "cell_type": "code",
   "execution_count": 1,
   "id": "889272bb",
   "metadata": {},
   "outputs": [],
   "source": [
    "test_start = list('NNCB')\n",
    "\n",
    "test_element_map = {\n",
    "    'CH': 'B',\n",
    "    'HH': 'N',\n",
    "    'CB': 'H',\n",
    "    'NH': 'C',\n",
    "    'HB': 'C',\n",
    "    'HC': 'B',\n",
    "    'HN': 'C',\n",
    "    'NN': 'C',\n",
    "    'BH': 'H',\n",
    "    'NC': 'B',\n",
    "    'NB': 'B',\n",
    "    'BN': 'B',\n",
    "    'BB': 'N',\n",
    "    'BC': 'B',\n",
    "    'CC': 'N',\n",
    "    'CN': 'C',\n",
    "}"
   ]
  },
  {
   "cell_type": "code",
   "execution_count": 2,
   "id": "fc75ec22",
   "metadata": {},
   "outputs": [],
   "source": [
    "real_start = list('OFSVVSFOCBNONHKFHNPK')\n",
    "\n",
    "real_element_map = {\n",
    "    'HN': 'C',\n",
    "    'VB': 'K',\n",
    "    'PF': 'C',\n",
    "    'BO': 'F',\n",
    "    'PB': 'F',\n",
    "    'OH': 'H',\n",
    "    'OB': 'N',\n",
    "    'PN': 'O',\n",
    "    'KO': 'V',\n",
    "    'CK': 'V',\n",
    "    'FP': 'H',\n",
    "    'PC': 'V',\n",
    "    'PP': 'N',\n",
    "    'FN': 'N',\n",
    "    'CC': 'F',\n",
    "    'FC': 'N',\n",
    "    'BP': 'N',\n",
    "    'SH': 'F',\n",
    "    'NS': 'V',\n",
    "    'KK': 'B',\n",
    "    'HS': 'C',\n",
    "    'NV': 'N',\n",
    "    'FO': 'B',\n",
    "    'VO': 'S',\n",
    "    'KN': 'F',\n",
    "    'SC': 'V',\n",
    "    'NB': 'H',\n",
    "    'CH': 'B',\n",
    "    'SF': 'V',\n",
    "    'NP': 'V',\n",
    "    'FB': 'P',\n",
    "    'CV': 'B',\n",
    "    'PO': 'P',\n",
    "    'SV': 'P',\n",
    "    'OO': 'V',\n",
    "    'PS': 'C',\n",
    "    'CO': 'N',\n",
    "    'SP': 'B',\n",
    "    'KP': 'H',\n",
    "    'KH': 'S',\n",
    "    'KS': 'S',\n",
    "    'NH': 'K',\n",
    "    'SS': 'P',\n",
    "    'PV': 'P',\n",
    "    'KV': 'V',\n",
    "    'ON': 'N',\n",
    "    'BS': 'C',\n",
    "    'HP': 'K',\n",
    "    'SB': 'P',\n",
    "    'VC': 'B',\n",
    "    'HB': 'N',\n",
    "    'FS': 'V',\n",
    "    'VP': 'K',\n",
    "    'BB': 'N',\n",
    "    'FK': 'S',\n",
    "    'CS': 'P',\n",
    "    'SO': 'F',\n",
    "    'HF': 'F',\n",
    "    'VV': 'C',\n",
    "    'BC': 'S',\n",
    "    'SN': 'K',\n",
    "    'KB': 'H',\n",
    "    'BN': 'H',\n",
    "    'HO': 'S',\n",
    "    'KC': 'F',\n",
    "    'CP': 'S',\n",
    "    'HC': 'S',\n",
    "    'OS': 'K',\n",
    "    'NK': 'N',\n",
    "    'BF': 'S',\n",
    "    'VN': 'B',\n",
    "    'SK': 'K',\n",
    "    'HV': 'B',\n",
    "    'KF': 'H',\n",
    "    'FV': 'B',\n",
    "    'VF': 'H',\n",
    "    'BH': 'S',\n",
    "    'NN': 'O',\n",
    "    'HH': 'K',\n",
    "    'CN': 'H',\n",
    "    'PH': 'V',\n",
    "    'NF': 'S',\n",
    "    'OV': 'P',\n",
    "    'OC': 'V',\n",
    "    'OK': 'H',\n",
    "    'OF': 'H',\n",
    "    'HK': 'N',\n",
    "    'FH': 'P',\n",
    "    'BK': 'N',\n",
    "    'VS': 'H',\n",
    "    'NO': 'V',\n",
    "    'VK': 'K',\n",
    "    'CF': 'N',\n",
    "    'CB': 'N',\n",
    "    'NC': 'K',\n",
    "    'PK': 'B',\n",
    "    'VH': 'F',\n",
    "    'FF': 'C',\n",
    "    'BV': 'P',\n",
    "    'OP': 'K',\n",
    "}"
   ]
  },
  {
   "cell_type": "code",
   "execution_count": 4,
   "id": "81a84997",
   "metadata": {},
   "outputs": [],
   "source": [
    "# Use the windowing function from day 1\n",
    "def get_pairs(state):\n",
    "    pairs = windows(state, 2)\n",
    "    # lose the spare\n",
    "    pairs.pop()\n",
    "    return pairs"
   ]
  },
  {
   "cell_type": "code",
   "execution_count": 5,
   "id": "83fac4ed",
   "metadata": {},
   "outputs": [],
   "source": [
    "def get_pair_map(string_map):\n",
    "    return {\n",
    "        tuple(n): list([tuple(n)[0], v, tuple(n)[1]])\n",
    "        for n, v in string_map.items()\n",
    "    }"
   ]
  },
  {
   "cell_type": "code",
   "execution_count": 6,
   "id": "f5274350",
   "metadata": {},
   "outputs": [
    {
     "data": {
      "text/plain": [
       "{('C', 'H'): ['C', 'B', 'H'],\n",
       " ('H', 'H'): ['H', 'N', 'H'],\n",
       " ('C', 'B'): ['C', 'H', 'B'],\n",
       " ('N', 'H'): ['N', 'C', 'H'],\n",
       " ('H', 'B'): ['H', 'C', 'B'],\n",
       " ('H', 'C'): ['H', 'B', 'C'],\n",
       " ('H', 'N'): ['H', 'C', 'N'],\n",
       " ('N', 'N'): ['N', 'C', 'N'],\n",
       " ('B', 'H'): ['B', 'H', 'H'],\n",
       " ('N', 'C'): ['N', 'B', 'C'],\n",
       " ('N', 'B'): ['N', 'B', 'B'],\n",
       " ('B', 'N'): ['B', 'B', 'N'],\n",
       " ('B', 'B'): ['B', 'N', 'B'],\n",
       " ('B', 'C'): ['B', 'B', 'C'],\n",
       " ('C', 'C'): ['C', 'N', 'C'],\n",
       " ('C', 'N'): ['C', 'C', 'N']}"
      ]
     },
     "execution_count": 6,
     "metadata": {},
     "output_type": "execute_result"
    }
   ],
   "source": [
    "get_pair_map(test_element_map)"
   ]
  },
  {
   "cell_type": "code",
   "execution_count": 7,
   "id": "9b3ea30a",
   "metadata": {},
   "outputs": [],
   "source": [
    "def get_next_state(state, pair_map):\n",
    "    get_pairs(state)\n",
    "    triples = [pair_map[pair] for pair in get_pairs(state)]\n",
    "    # Remove the duplicated state\n",
    "    next_state = list(triples[0])\n",
    "    for t in triples[1:]:\n",
    "        next_state.extend(t[1:])\n",
    "        \n",
    "    return next_state"
   ]
  },
  {
   "cell_type": "code",
   "execution_count": 8,
   "id": "d1131a63",
   "metadata": {},
   "outputs": [],
   "source": [
    "def part_1(start, element_map, steps):\n",
    "    pair_map = get_pair_map(element_map)\n",
    "    state = start\n",
    "    for step in range(steps):\n",
    "        state = get_next_state(state, pair_map)\n",
    "\n",
    "    return ''.join(state)"
   ]
  },
  {
   "cell_type": "code",
   "execution_count": 9,
   "id": "7f06307c",
   "metadata": {},
   "outputs": [],
   "source": [
    "assert part_1(test_start, test_element_map, 1) == 'NCNBCHB'\n",
    "assert part_1(test_start, test_element_map, 2) == 'NBCCNBBBCBHCB'\n",
    "assert part_1(test_start, test_element_map, 3) == 'NBBBCNCCNBBNBNBBCHBHHBCHB'\n",
    "assert part_1(test_start, test_element_map, 4) == 'NBBNBNBBCCNBCNCCNBBNBBNBBBNBBNBBCBHCBHHNHCBBCBHCB'"
   ]
  },
  {
   "cell_type": "code",
   "execution_count": 12,
   "id": "25feb124",
   "metadata": {},
   "outputs": [
    {
     "data": {
      "text/plain": [
       "[('B', 1749), ('N', 865), ('C', 298), ('H', 161)]"
      ]
     },
     "execution_count": 12,
     "metadata": {},
     "output_type": "execute_result"
    }
   ],
   "source": [
    "state_10 = part_1(test_start, test_element_map, 10)\n",
    "counter = Counter(state_10)\n",
    "counter.most_common()"
   ]
  },
  {
   "cell_type": "code",
   "execution_count": 20,
   "id": "6ee70988",
   "metadata": {},
   "outputs": [
    {
     "data": {
      "text/plain": [
       "[('N', 4285),\n",
       " ('P', 2777),\n",
       " ('V', 2050),\n",
       " ('S', 1943),\n",
       " ('H', 1797),\n",
       " ('O', 1596),\n",
       " ('C', 1539),\n",
       " ('F', 1318),\n",
       " ('B', 1151),\n",
       " ('K', 1001)]"
      ]
     },
     "execution_count": 20,
     "metadata": {},
     "output_type": "execute_result"
    }
   ],
   "source": [
    "state_10 = part_1(real_start, real_element_map, 10)\n",
    "counter = Counter(state_10)\n",
    "counter.most_common()"
   ]
  },
  {
   "cell_type": "code",
   "execution_count": 21,
   "id": "0c10e823",
   "metadata": {},
   "outputs": [
    {
     "data": {
      "text/plain": [
       "3284"
      ]
     },
     "execution_count": 21,
     "metadata": {},
     "output_type": "execute_result"
    }
   ],
   "source": [
    "4285 - 1001"
   ]
  },
  {
   "cell_type": "markdown",
   "id": "4e7d7fdb",
   "metadata": {},
   "source": [
    "### Day 14: Part 2\n",
    "\n",
    "Apply 40 steps of pair insertion to the polymer template and find the most and least common elements in the result. What do you get if you take the quantity of the most common element and subtract the quantity of the least common element?"
   ]
  },
  {
   "cell_type": "code",
   "execution_count": 13,
   "id": "10f4e732",
   "metadata": {},
   "outputs": [
    {
     "name": "stdout",
     "output_type": "stream",
     "text": [
      "CPU times: user 15.3 s, sys: 471 ms, total: 15.7 s\n",
      "Wall time: 15.7 s\n"
     ]
    },
    {
     "data": {
      "text/plain": [
       "19922945"
      ]
     },
     "execution_count": 13,
     "metadata": {},
     "output_type": "execute_result"
    }
   ],
   "source": [
    "%%time\n",
    "\n",
    "# Hmmm big numbers - previous solution ain't gonna fly\n",
    "# Let's get a feel for the pain\n",
    "len(part_1(real_start, real_element_map, 20))"
   ]
  },
  {
   "cell_type": "markdown",
   "id": "158641ab",
   "metadata": {},
   "source": [
    "OK - plan B..."
   ]
  },
  {
   "cell_type": "code",
   "execution_count": 14,
   "id": "95f25db2",
   "metadata": {},
   "outputs": [],
   "source": [
    "def make_compound_map(element_map):\n",
    "    return {\n",
    "        n: [f'{n[0]}{v}', f'{v}{n[1]}']\n",
    "        for n, v in element_map.items()\n",
    "    }"
   ]
  },
  {
   "cell_type": "code",
   "execution_count": 15,
   "id": "5049d8bf",
   "metadata": {},
   "outputs": [
    {
     "data": {
      "text/plain": [
       "{'CH': ['CB', 'BH'],\n",
       " 'HH': ['HN', 'NH'],\n",
       " 'CB': ['CH', 'HB'],\n",
       " 'NH': ['NC', 'CH'],\n",
       " 'HB': ['HC', 'CB'],\n",
       " 'HC': ['HB', 'BC'],\n",
       " 'HN': ['HC', 'CN'],\n",
       " 'NN': ['NC', 'CN'],\n",
       " 'BH': ['BH', 'HH'],\n",
       " 'NC': ['NB', 'BC'],\n",
       " 'NB': ['NB', 'BB'],\n",
       " 'BN': ['BB', 'BN'],\n",
       " 'BB': ['BN', 'NB'],\n",
       " 'BC': ['BB', 'BC'],\n",
       " 'CC': ['CN', 'NC'],\n",
       " 'CN': ['CC', 'CN']}"
      ]
     },
     "execution_count": 15,
     "metadata": {},
     "output_type": "execute_result"
    }
   ],
   "source": [
    "make_compound_map(test_element_map)"
   ]
  },
  {
   "cell_type": "code",
   "execution_count": 16,
   "id": "ab543731",
   "metadata": {},
   "outputs": [],
   "source": [
    "def part_2(start_state, element_map, steps):\n",
    "    '''It doesn't matter where the compound occurs in the chain\n",
    "    \n",
    "    ABC -> A+f(AB) + f(AB)+B + B+f(BC) + f(BC)+C\n",
    "    The first part only depends on AB and the second only depends on BC.\n",
    "    So I can treat them independently:\n",
    "    AB -> A+f(AB) + f(AB)+B\n",
    "    BC -> B+f(BC) + f(BC)+C\n",
    "    \n",
    "    One molecule of NN always produces one molecule of NC and one of CN,\n",
    "    so 3NN -> 3NC + 3CN\n",
    "    '''\n",
    "    element_counter = Counter(start_state)\n",
    "    compound_counter = Counter([''.join(pair) for pair in get_pairs(start_state)])\n",
    "    compound_map = make_compound_map(element_map)\n",
    "\n",
    "    for step in range(steps):\n",
    "        for compound, num in list(compound_counter.items()):\n",
    "            new_element = element_map[compound]\n",
    "            element_counter[new_element] += num\n",
    "            compound_counter[compound] -= num\n",
    "            \n",
    "            for new_compound in compound_map[compound]:\n",
    "                compound_counter[new_compound] += num\n",
    "\n",
    "    return element_counter"
   ]
  },
  {
   "cell_type": "code",
   "execution_count": 17,
   "id": "ab6c5047",
   "metadata": {},
   "outputs": [
    {
     "data": {
      "text/plain": [
       "[('B', 2192039569602),\n",
       " ('N', 1096047802353),\n",
       " ('C', 6597635301),\n",
       " ('H', 3849876073)]"
      ]
     },
     "execution_count": 17,
     "metadata": {},
     "output_type": "execute_result"
    }
   ],
   "source": [
    "part_2(test_start, test_element_map, 40).most_common()"
   ]
  },
  {
   "cell_type": "code",
   "execution_count": 18,
   "id": "37bcfdb3",
   "metadata": {},
   "outputs": [
    {
     "data": {
      "text/plain": [
       "[('N', 5224941105516),\n",
       " ('P', 2635945447382),\n",
       " ('V', 2299932080861),\n",
       " ('O', 2202794261121),\n",
       " ('S', 1915040933128),\n",
       " ('H', 1753226545958),\n",
       " ('F', 1471801718164),\n",
       " ('C', 1381228953516),\n",
       " ('B', 1083544306272),\n",
       " ('K', 922265575827)]"
      ]
     },
     "execution_count": 18,
     "metadata": {},
     "output_type": "execute_result"
    }
   ],
   "source": [
    "part_2(real_start, real_element_map, 40).most_common()"
   ]
  },
  {
   "cell_type": "code",
   "execution_count": 19,
   "id": "0df66308",
   "metadata": {},
   "outputs": [
    {
     "data": {
      "text/plain": [
       "4302675529689"
      ]
     },
     "execution_count": 19,
     "metadata": {},
     "output_type": "execute_result"
    }
   ],
   "source": [
    "5224941105516 - 922265575827"
   ]
  },
  {
   "cell_type": "markdown",
   "id": "52b14aa4",
   "metadata": {},
   "source": [
    "### Day 14 Observations\n",
    "\n",
    "I spent a stupid amount of time debugging the first part of this where I had a bug that passed the reference to a list rather than a copy. It produced the correct output for step 1 and 2 but went crazy thereafter and wouldn't return past five steps - not a great start to part 2. For part 2 I needed to resort to power tools - pen and paper - to figure out that the joining (AB + BC -> ABC) and splitting operations (AB -> A + B) effectively cancel one another out. I can see it but I still have trouble trying to explain it to myself. Nice puzzle."
   ]
  },
  {
   "cell_type": "markdown",
   "id": "b93c72ab",
   "metadata": {},
   "source": [
    "## Day 15 Chiton\n",
    "\n",
    "https://adventofcode.com/2021/day/15\n",
    "\n",
    "The total risk of this path is 40 (the starting position is never entered, so its risk is not counted).\n",
    "\n",
    "What is the lowest total risk of any path from the top left to the bottom right?"
   ]
  },
  {
   "cell_type": "code",
   "execution_count": 4,
   "id": "23937f4f",
   "metadata": {},
   "outputs": [],
   "source": [
    "# Going to use Dijkstra and not going to reinvent the wheel\n",
    "from dijkstar import Graph, find_path"
   ]
  },
  {
   "cell_type": "code",
   "execution_count": 5,
   "id": "21d10986",
   "metadata": {},
   "outputs": [],
   "source": [
    "test_input = get_puzzle_input('test_input_15.txt')\n",
    "real_input = get_puzzle_input('input_15.txt')"
   ]
  },
  {
   "cell_type": "code",
   "execution_count": 6,
   "id": "325d5463",
   "metadata": {},
   "outputs": [],
   "source": [
    "# Borrowed from day 9\n",
    "@dataclass(frozen=True)\n",
    "class Point:\n",
    "    x: int\n",
    "    y: int\n",
    "    \n",
    "    @property\n",
    "    def adjacent_points(self):\n",
    "        return [\n",
    "            Point(self.x - 1, self.y),\n",
    "            Point(self.x + 1, self.y),\n",
    "            Point(self.x, self.y + 1),\n",
    "            Point(self.x, self.y - 1),\n",
    "        ]"
   ]
  },
  {
   "cell_type": "code",
   "execution_count": 7,
   "id": "dac07cf8",
   "metadata": {},
   "outputs": [],
   "source": [
    "class Grid:\n",
    "    def __init__(self, puzzle_input, extend_grid=False):\n",
    "        self.points = {}\n",
    "        self.max_x = len(puzzle_input[0]) - 1\n",
    "        self.max_y = len(puzzle_input) - 1\n",
    "\n",
    "        for y, line in enumerate(puzzle_input):\n",
    "            for x, val in enumerate(line):\n",
    "                self.points[Point(x, y)] = int(val)\n",
    "        \n",
    "        if extend_grid:\n",
    "            self.extend_grid()\n",
    "        \n",
    "        self.make_graph()\n",
    "    \n",
    "    def extend_grid(self):\n",
    "        \"\"\"Part 2\"\"\"\n",
    "        extended_points = dict(self.points)\n",
    "        for y in range(0, 5):\n",
    "            for x in range(0, 5):\n",
    "                if x == 0 and y == 0:\n",
    "                    continue\n",
    "                for point in self.points:\n",
    "                    new_point = Point(\n",
    "                        point.x + (self.max_x + 1) * x,\n",
    "                        point.y + (self.max_y + 1) * y\n",
    "                    )\n",
    "                    new_val = (self.points[point] + x + y - 1) % 9 + 1\n",
    "                    extended_points[new_point] = new_val\n",
    "            \n",
    "        self.points = extended_points\n",
    "        self.max_x = 5 * (self.max_x + 1) - 1\n",
    "        self.max_y = 5 * (self.max_y + 1) - 1\n",
    "    \n",
    "    def display(self):\n",
    "        for y in range(self.max_y + 1):\n",
    "            for x in range(self.max_x + 1):\n",
    "                print(self.points[Point(x, y)], end='')\n",
    "            print()\n",
    "                    \n",
    "    def get_adjacent_points(self, point):\n",
    "            adjacent_points = point.adjacent_points\n",
    "            adjacent_points = [\n",
    "                point\n",
    "                for point in adjacent_points\n",
    "                if point.x >= 0 and point.x <= self.max_x\n",
    "            ]\n",
    "            adjacent_points = [\n",
    "                point\n",
    "                for point in adjacent_points\n",
    "                if point.y >= 0 and point.y <= self.max_y\n",
    "            ]\n",
    "            return adjacent_points\n",
    "    \n",
    "    def make_graph(self):\n",
    "        self.graph = Graph()\n",
    "        for point in self.points:\n",
    "            for neighbour in self.get_adjacent_points(point):\n",
    "                self.graph.add_edge(point, neighbour, self.points[neighbour])\n"
   ]
  },
  {
   "cell_type": "code",
   "execution_count": 8,
   "id": "2ae9ceb1",
   "metadata": {},
   "outputs": [
    {
     "data": {
      "text/plain": [
       "40"
      ]
     },
     "execution_count": 8,
     "metadata": {},
     "output_type": "execute_result"
    }
   ],
   "source": [
    "test_grid = Grid(test_input)\n",
    "path = find_path(test_grid.graph, Point(0,0), Point(test_grid.max_x, test_grid.max_y))\n",
    "path.total_cost"
   ]
  },
  {
   "cell_type": "code",
   "execution_count": 9,
   "id": "4e9135a4",
   "metadata": {},
   "outputs": [
    {
     "data": {
      "text/plain": [
       "462"
      ]
     },
     "execution_count": 9,
     "metadata": {},
     "output_type": "execute_result"
    }
   ],
   "source": [
    "real_grid = Grid(real_input)\n",
    "path = find_path(real_grid.graph, Point(0,0), Point(real_grid.max_x, real_grid.max_y))\n",
    "path.total_cost"
   ]
  },
  {
   "cell_type": "markdown",
   "id": "aeec9594",
   "metadata": {},
   "source": [
    "### Day 15, Part 2\n",
    "\n",
    "Using the full map, what is the lowest total risk of any path from the top left to the bottom right?"
   ]
  },
  {
   "cell_type": "code",
   "execution_count": 11,
   "id": "ac7cc153",
   "metadata": {},
   "outputs": [
    {
     "name": "stdout",
     "output_type": "stream",
     "text": [
      "11637517422274862853338597396444961841755517295286\n",
      "13813736722492484783351359589446246169155735727126\n",
      "21365113283247622439435873354154698446526571955763\n",
      "36949315694715142671582625378269373648937148475914\n",
      "74634171118574528222968563933317967414442817852555\n",
      "13191281372421239248353234135946434524615754563572\n",
      "13599124212461123532357223464346833457545794456865\n",
      "31254216394236532741534764385264587549637569865174\n",
      "12931385212314249632342535174345364628545647573965\n",
      "23119445813422155692453326671356443778246755488935\n",
      "22748628533385973964449618417555172952866628316397\n",
      "24924847833513595894462461691557357271266846838237\n",
      "32476224394358733541546984465265719557637682166874\n",
      "47151426715826253782693736489371484759148259586125\n",
      "85745282229685639333179674144428178525553928963666\n",
      "24212392483532341359464345246157545635726865674683\n",
      "24611235323572234643468334575457944568656815567976\n",
      "42365327415347643852645875496375698651748671976285\n",
      "23142496323425351743453646285456475739656758684176\n",
      "34221556924533266713564437782467554889357866599146\n",
      "33859739644496184175551729528666283163977739427418\n",
      "35135958944624616915573572712668468382377957949348\n",
      "43587335415469844652657195576376821668748793277985\n",
      "58262537826937364893714847591482595861259361697236\n",
      "96856393331796741444281785255539289636664139174777\n",
      "35323413594643452461575456357268656746837976785794\n",
      "35722346434683345754579445686568155679767926678187\n",
      "53476438526458754963756986517486719762859782187396\n",
      "34253517434536462854564757396567586841767869795287\n",
      "45332667135644377824675548893578665991468977611257\n",
      "44961841755517295286662831639777394274188841538529\n",
      "46246169155735727126684683823779579493488168151459\n",
      "54698446526571955763768216687487932779859814388196\n",
      "69373648937148475914825958612593616972361472718347\n",
      "17967414442817852555392896366641391747775241285888\n",
      "46434524615754563572686567468379767857948187896815\n",
      "46833457545794456865681556797679266781878137789298\n",
      "64587549637569865174867197628597821873961893298417\n",
      "45364628545647573965675868417678697952878971816398\n",
      "56443778246755488935786659914689776112579188722368\n",
      "55172952866628316397773942741888415385299952649631\n",
      "57357271266846838237795794934881681514599279262561\n",
      "65719557637682166874879327798598143881961925499217\n",
      "71484759148259586125936169723614727183472583829458\n",
      "28178525553928963666413917477752412858886352396999\n",
      "57545635726865674683797678579481878968159298917926\n",
      "57944568656815567976792667818781377892989248891319\n",
      "75698651748671976285978218739618932984172914319528\n",
      "56475739656758684176786979528789718163989182927419\n",
      "67554889357866599146897761125791887223681299833479\n"
     ]
    }
   ],
   "source": [
    "test_grid = Grid(test_input, extend_grid=True)\n",
    "test_grid.display()"
   ]
  },
  {
   "cell_type": "code",
   "execution_count": 12,
   "id": "06b9195e",
   "metadata": {},
   "outputs": [
    {
     "data": {
      "text/plain": [
       "315"
      ]
     },
     "execution_count": 12,
     "metadata": {},
     "output_type": "execute_result"
    }
   ],
   "source": [
    "path = find_path(test_grid.graph, Point(0,0), Point(test_grid.max_x, test_grid.max_y))\n",
    "path.total_cost"
   ]
  },
  {
   "cell_type": "code",
   "execution_count": 13,
   "id": "a47abdc7",
   "metadata": {},
   "outputs": [
    {
     "data": {
      "text/plain": [
       "2846"
      ]
     },
     "execution_count": 13,
     "metadata": {},
     "output_type": "execute_result"
    }
   ],
   "source": [
    "real_grid = Grid(real_input, extend_grid=True)\n",
    "path = find_path(real_grid.graph, Point(0,0), Point(real_grid.max_x, real_grid.max_y))\n",
    "path.total_cost"
   ]
  },
  {
   "cell_type": "markdown",
   "id": "c96ddbd0",
   "metadata": {},
   "source": [
    "### Day 15 Observations\n",
    "\n",
    "This is one of those puzzle that if you know the algorithms it falls straight out otherwise it's an awful struggle. I could have supplied the manhattan distance as the A* heuristic but everything returns quick enough for me as is."
   ]
  },
  {
   "cell_type": "markdown",
   "id": "f37565a1",
   "metadata": {},
   "source": [
    "## Day 16 Packet Decoder\n",
    "\n",
    "https://adventofcode.com/2021/day/16\n",
    "\n",
    "Decode the structure of your hexadecimal-encoded BITS transmission; what do you get if you add up the version numbers in all packets?"
   ]
  },
  {
   "cell_type": "code",
   "execution_count": 19,
   "id": "e7d8e0c0",
   "metadata": {},
   "outputs": [],
   "source": [
    "real_input = '220D4B80491FE6FBDCDA61F23F1D9B763004A7C128012F9DA88CE27B000B30F4804D49CD515380352100763DC5E8EC000844338B10B667A1E60094B7BE8D600ACE774DF39DD364979F67A9AC0D1802B2A41401354F6BF1DC0627B15EC5CCC01694F5BABFC00964E93C95CF080263F0046741A740A76B704300824926693274BE7CC880267D00464852484A5F74520005D65A1EAD2334A700BA4EA41256E4BBBD8DC0999FC3A97286C20164B4FF14A93FD2947494E683E752E49B2737DF7C4080181973496509A5B9A8D37B7C300434016920D9EAEF16AEC0A4AB7DF5B1C01C933B9AAF19E1818027A00A80021F1FA0E43400043E174638572B984B066401D3E802735A4A9ECE371789685AB3E0E800725333EFFBB4B8D131A9F39ED413A1720058F339EE32052D48EC4E5EC3A6006CC2B4BE6FF3F40017A0E4D522226009CA676A7600980021F1921446700042A23C368B713CC015E007324A38DF30BB30533D001200F3E7AC33A00A4F73149558E7B98A4AACC402660803D1EA1045C1006E2CC668EC200F4568A5104802B7D004A53819327531FE607E118803B260F371D02CAEA3486050004EE3006A1E463858600F46D8531E08010987B1BE251002013445345C600B4F67617400D14F61867B39AA38018F8C05E430163C6004980126005B801CC0417080106005000CB4002D7A801AA0062007BC0019608018A004A002B880057CEF5604016827238DFDCC8048B9AF135802400087C32893120401C8D90463E280513D62991EE5CA543A6B75892CB639D503004F00353100662FC498AA00084C6485B1D25044C0139975D004A5EB5E52AC7233294006867F9EE6BA2115E47D7867458401424E354B36CDAFCAB34CBC2008BF2F2BA5CC646E57D4C62E41279E7F37961ACC015B005A5EFF884CBDFF10F9BFF438C014A007D67AE0529DED3901D9CD50B5C0108B13BAFD6070'"
   ]
  },
  {
   "cell_type": "code",
   "execution_count": 20,
   "id": "729219ac",
   "metadata": {},
   "outputs": [],
   "source": [
    "def padded_binary_list(num):\n",
    "    '''Returns 0-15 as a 4 char list of `1`s and `0`s'''  \n",
    "    return list(\"{0:04b}\".format(num))\n",
    "    \n",
    "\n",
    "assert padded_binary_list(2) == ['0', '0', '1', '0']\n",
    "assert padded_binary_list(15) == ['1', '1', '1', '1']"
   ]
  },
  {
   "cell_type": "code",
   "execution_count": 21,
   "id": "0bb73608",
   "metadata": {},
   "outputs": [],
   "source": [
    "def to_binary_stream(hex_stream):\n",
    "    '''Turns a stream of hex chars into a deque of 4 char bins'''\n",
    "    stream = []\n",
    "    for hex_num in hex_stream:\n",
    "        stream.extend(padded_binary_list(int(hex_num, 16)))\n",
    "    \n",
    "    return deque(stream)\n",
    "\n",
    "assert to_binary_stream('A1') == deque(['1', '0', '1', '0', '0', '0', '0', '1'])"
   ]
  },
  {
   "cell_type": "code",
   "execution_count": 22,
   "id": "7bbc01bb",
   "metadata": {},
   "outputs": [],
   "source": [
    "def binary_pop(stream, num_digits):\n",
    "    '''Take num_digits char bits from the stream'''\n",
    "    result = []\n",
    "    for _ in range(num_digits):\n",
    "        result.append(stream.popleft())\n",
    "    \n",
    "    return int(''.join(result), 2)\n",
    "\n",
    "stream = deque(['1', '0', '1', '0', '0', '0', '0', '1'])\n",
    "assert binary_pop(stream, 3) == 5\n",
    "assert binary_pop(stream, 5) == 1\n",
    "assert stream == deque()"
   ]
  },
  {
   "cell_type": "code",
   "execution_count": 23,
   "id": "c6bcbb01",
   "metadata": {},
   "outputs": [],
   "source": [
    "def stream_pop(stream, num_digits):\n",
    "    '''Take the first num_digits from the deque and return as a new deque'''\n",
    "    result = []\n",
    "    for _ in range(num_digits):\n",
    "        result.append(stream.popleft())\n",
    "    \n",
    "    return deque(result)\n",
    "\n",
    "stream = deque(['1', '0', '1', '0', '0', '0', '0', '1'])\n",
    "assert stream_pop(stream, 3) == deque(['1', '0', '1'])"
   ]
  },
  {
   "cell_type": "code",
   "execution_count": 24,
   "id": "ba60c7d1",
   "metadata": {},
   "outputs": [],
   "source": [
    "class Packet:\n",
    "    def consume(self, stream):\n",
    "        raise NotImplementedError()\n",
    "\n",
    "    @property\n",
    "    def version_sum(self):\n",
    "        raise NotImplementedError()\n",
    "    \n",
    "    def evaluate(self):\n",
    "        raise NotImplementedError()\n",
    "\n",
    "class PacketFactory:\n",
    "    def build(self, stream):\n",
    "        version = binary_pop(stream, 3)\n",
    "        op_type = binary_pop(stream, 3)\n",
    "\n",
    "        if op_type == 4:\n",
    "            packet = LiteralPacket(version, 4)\n",
    "        else:\n",
    "            packet = OperatorPacket(version, op_type)\n",
    "        \n",
    "        packet.consume(stream)\n",
    "        return packet\n",
    "        \n",
    "packet_factory = PacketFactory() \n"
   ]
  },
  {
   "cell_type": "code",
   "execution_count": 25,
   "id": "bc1ff798",
   "metadata": {},
   "outputs": [],
   "source": [
    "class LiteralPacket(Packet):\n",
    "    def __init__(self, version, op_type):\n",
    "        self.version = version\n",
    "        self.op_type = op_type\n",
    "\n",
    "    def consume(self, stream):\n",
    "        binary_list = []\n",
    "        halt = False\n",
    "        while not halt:\n",
    "            figure = binary_pop(stream, 5)\n",
    "            if not figure & 16:\n",
    "                halt = True\n",
    "            figure = figure & 15\n",
    "            binary_list.extend(padded_binary_list(figure))\n",
    "    \n",
    "        self.value = int(''.join(binary_list), 2)\n",
    "\n",
    "    @property\n",
    "    def version_sum(self):\n",
    "        return self.version\n",
    "\n",
    "    def evaluate(self):\n",
    "        return self.value\n",
    "    \n",
    "\n",
    "stream = deque('10101101000010000')\n",
    "literal = LiteralPacket(100, 4)\n",
    "literal.consume(stream)\n",
    "assert literal.value == 1348\n",
    "assert literal.version_sum == 100\n",
    "assert stream == deque(['0', '0'])\n",
    "\n",
    "stream = deque('101111111000101000')\n",
    "literal = LiteralPacket(3, 4)\n",
    "literal.consume(stream)\n",
    "assert literal.value == 2021\n",
    "assert literal.version_sum == 3"
   ]
  },
  {
   "cell_type": "code",
   "execution_count": 26,
   "id": "ba9f20db",
   "metadata": {},
   "outputs": [],
   "source": [
    "class OperatorPacket(Packet):\n",
    "    def __init__(self, version, op_type):\n",
    "        self.version = version\n",
    "        self.op_type = op_type\n",
    "        self.operands = []\n",
    "        self.num_operands = None\n",
    "\n",
    "    @property\n",
    "    def operands_required(self):\n",
    "        if self.num_operands is None:\n",
    "            return bool(self.stream)\n",
    "        \n",
    "        return len(self.operands) < self.num_operands\n",
    "\n",
    "    def consume(self, stream):\n",
    "        by_num_packets = binary_pop(stream, 1)\n",
    "        if by_num_packets:\n",
    "            self.num_operands = binary_pop(stream, 11)\n",
    "            # Consume from the parent stream\n",
    "            self.stream = stream\n",
    "        else:\n",
    "            operand_bits_remaining = binary_pop(stream, 15)\n",
    "            # Grab our own portion of the stream to consume\n",
    "            self.stream = stream_pop(stream, operand_bits_remaining)\n",
    "        \n",
    "        while self.operands_required:\n",
    "            self.consume_operand()\n",
    "\n",
    "    def consume_operand(self):\n",
    "        operand = packet_factory.build(self.stream)\n",
    "        self.operands.append(operand)\n",
    "\n",
    "    @property\n",
    "    def version_sum(self):\n",
    "        return sum(operand.version_sum for operand in self.operands) + self.version\n",
    "\n",
    "    def evaluate(self):\n",
    "        gt = lambda x: int(x[0] > x[1])\n",
    "        lt = lambda x: int(x[0] < x[1])\n",
    "        eq = lambda x: int(x[0] == x[1])\n",
    "        op_map = {\n",
    "            0: sum,\n",
    "            1: math.prod,\n",
    "            2: min,\n",
    "            3: max,\n",
    "            5: gt,\n",
    "            6: lt,\n",
    "            7: eq\n",
    "        }\n",
    "        \n",
    "        values = [operand.evaluate() for operand in self.operands]\n",
    "        return op_map[self.op_type](values)\n"
   ]
  },
  {
   "cell_type": "markdown",
   "id": "8b45a7bc",
   "metadata": {},
   "source": [
    "8A004A801A8002F478 represents an operator packet (version 4) which contains an operator packet (version 1) which contains an operator packet (version 5) which contains a literal value (version 6); this packet has a version sum of 16.\n"
   ]
  },
  {
   "cell_type": "code",
   "execution_count": 27,
   "id": "4d9ee95d",
   "metadata": {},
   "outputs": [
    {
     "data": {
      "text/plain": [
       "16"
      ]
     },
     "execution_count": 27,
     "metadata": {},
     "output_type": "execute_result"
    }
   ],
   "source": [
    "test_stream = to_binary_stream('8A004A801A8002F478')\n",
    "packet = packet_factory.build(test_stream)\n",
    "packet.version_sum"
   ]
  },
  {
   "cell_type": "code",
   "execution_count": 28,
   "id": "1b95bdb5",
   "metadata": {},
   "outputs": [
    {
     "data": {
      "text/plain": [
       "31"
      ]
     },
     "execution_count": 28,
     "metadata": {},
     "output_type": "execute_result"
    }
   ],
   "source": [
    "test_stream = to_binary_stream('A0016C880162017C3686B18A3D4780')\n",
    "packet = packet_factory.build(test_stream)\n",
    "packet.version_sum"
   ]
  },
  {
   "cell_type": "code",
   "execution_count": 29,
   "id": "2cf2bbb3",
   "metadata": {},
   "outputs": [
    {
     "data": {
      "text/plain": [
       "977"
      ]
     },
     "execution_count": 29,
     "metadata": {},
     "output_type": "execute_result"
    }
   ],
   "source": [
    "real_stream = to_binary_stream(real_input)\n",
    "packet = packet_factory.build(real_stream)\n",
    "packet.version_sum"
   ]
  },
  {
   "cell_type": "markdown",
   "id": "07681cb2",
   "metadata": {},
   "source": [
    "### Day 16, part 2\n",
    "\n",
    "What do you get if you evaluate the expression represented by your hexadecimal-encoded BITS transmission?"
   ]
  },
  {
   "cell_type": "code",
   "execution_count": 30,
   "id": "61cd8134",
   "metadata": {},
   "outputs": [
    {
     "data": {
      "text/plain": [
       "3"
      ]
     },
     "execution_count": 30,
     "metadata": {},
     "output_type": "execute_result"
    }
   ],
   "source": [
    "test_stream = to_binary_stream('C200B40A82')\n",
    "test_op = packet_factory.build(test_stream)\n",
    "test_op.evaluate()"
   ]
  },
  {
   "cell_type": "code",
   "execution_count": 31,
   "id": "8e16a653",
   "metadata": {},
   "outputs": [
    {
     "data": {
      "text/plain": [
       "101501020883"
      ]
     },
     "execution_count": 31,
     "metadata": {},
     "output_type": "execute_result"
    }
   ],
   "source": [
    "real_stream = to_binary_stream(real_input)\n",
    "real_op = packet_factory.build(real_stream)\n",
    "real_op.evaluate()"
   ]
  },
  {
   "cell_type": "markdown",
   "id": "c6ef8643",
   "metadata": {},
   "source": [
    "### Day 16 Observations\n",
    "\n",
    "That was cognitive overload for a Thursday morning. I'm done. Bit concerned about building on this in future days with all the packets having their grubby mits on the input stream."
   ]
  },
  {
   "cell_type": "markdown",
   "id": "feca1056",
   "metadata": {},
   "source": [
    "### Day 16 Revisited\n",
    "\n",
    "OK... off the back of thinking - uh oh, where are the operators 8 and 9 - forgetting that its encoded as 3 bits, I refactored the stream in case there were any sort of JMP operations coming up in the next couple of days. So it's now a ticker tape with a pointer rather than popping off a deque."
   ]
  },
  {
   "cell_type": "code",
   "execution_count": 32,
   "id": "c59673ed",
   "metadata": {},
   "outputs": [],
   "source": [
    "class BinaryStream:\n",
    "    def __init__(self, stream, is_hex=True):\n",
    "        self.position = 0\n",
    "        if is_hex:\n",
    "            self.from_hex(stream)\n",
    "        else:\n",
    "            self.stream = list(stream)\n",
    "\n",
    "    @property\n",
    "    def bits_remaining(self):\n",
    "        return len(self.stream) - self.position\n",
    "\n",
    "    def from_hex(self, hex_stream):\n",
    "        '''Turns a stream of hex chars into a deque of 4 char bins'''\n",
    "        self.stream = []\n",
    "        for hex_num in hex_stream:\n",
    "            self.stream.extend(padded_binary_list(int(hex_num, 16)))\n",
    "\n",
    "    def read(self, num_bits, as_stream=False):\n",
    "        start_pos = self.position\n",
    "        end_pos = start_pos + num_bits\n",
    "        \n",
    "        values = self.stream[start_pos:end_pos]\n",
    "        self.position += num_bits\n",
    "        \n",
    "        if as_stream:\n",
    "            return BinaryStream(values, is_hex=False)\n",
    "        \n",
    "        return int(''.join(values), 2)\n",
    "\n",
    "    def __repr__(self):\n",
    "        stream_repr = hash(''.join(self.stream))\n",
    "        return f'BinaryStream(st={stream_repr}, len={len(self.stream)}, pos={self.position})'\n",
    "        \n",
    "        \n",
    "binary_stream = BinaryStream('A1')\n",
    "assert binary_stream.stream == ['1', '0', '1', '0', '0', '0', '0', '1']\n",
    "\n",
    "binary_stream = BinaryStream('10100001', is_hex=False)\n",
    "assert binary_stream.stream == ['1', '0', '1', '0', '0', '0', '0', '1']\n",
    "\n",
    "binary_stream = BinaryStream('10100001', is_hex=False)\n",
    "assert binary_stream.read(3) == 5\n",
    "assert binary_stream.read(5) == 1\n",
    "assert binary_stream.bits_remaining == 0\n",
    "\n",
    "binary_stream = BinaryStream('10100001', is_hex=False)\n",
    "new_stream = binary_stream.read(3, as_stream=True)\n",
    "assert new_stream.position == 0\n",
    "assert new_stream.stream == list('101')"
   ]
  },
  {
   "cell_type": "code",
   "execution_count": 33,
   "id": "a5021236",
   "metadata": {},
   "outputs": [],
   "source": [
    "class Packet:\n",
    "    def read(self, stream):\n",
    "        raise NotImplementedError()\n",
    "\n",
    "    @property\n",
    "    def version_sum(self):\n",
    "        raise NotImplementedError()\n",
    "    \n",
    "    def evaluate(self):\n",
    "        raise NotImplementedError()"
   ]
  },
  {
   "cell_type": "code",
   "execution_count": 34,
   "id": "90f8bea3",
   "metadata": {},
   "outputs": [],
   "source": [
    "class PacketFactory:\n",
    "    def __init__(self, logging=False):\n",
    "        self.logging = logging\n",
    "\n",
    "    def build(self, stream):\n",
    "        if self.logging:\n",
    "            print(f'Reading stream: {stream}')\n",
    "            \n",
    "        version = stream.read(3)\n",
    "        op_type = stream.read(3)\n",
    "\n",
    "        if op_type == 4:\n",
    "            packet = LiteralPacket(version, 4)\n",
    "        else:\n",
    "            packet = OperatorPacket(version, op_type)\n",
    "        \n",
    "        if self.logging:\n",
    "            print(f'New packet stream: {stream} version: {version}, op_type: {op_type}')\n",
    "\n",
    "        packet.read(stream)\n",
    "\n",
    "        return packet\n",
    "        \n",
    "packet_factory = PacketFactory(logging=False) "
   ]
  },
  {
   "cell_type": "code",
   "execution_count": 35,
   "id": "32f28a5d",
   "metadata": {},
   "outputs": [],
   "source": [
    "class LiteralPacket(Packet):\n",
    "    def __init__(self, version, op_type):\n",
    "        self.version = version\n",
    "        self.op_type = op_type\n",
    "\n",
    "    def read(self, stream):\n",
    "        binary_list = []\n",
    "        halt = False\n",
    "        while not halt:\n",
    "            figure = stream.read(5)\n",
    "            halt = not figure & 16\n",
    "            figure = figure & 15\n",
    "            binary_list.extend(padded_binary_list(figure))\n",
    "    \n",
    "        self.value = int(''.join(binary_list), 2)\n",
    "\n",
    "    @property\n",
    "    def version_sum(self):\n",
    "        return self.version\n",
    "\n",
    "    def evaluate(self):\n",
    "        return self.value\n",
    "    \n",
    "    def __repr__(self):\n",
    "        return str(self.value)"
   ]
  },
  {
   "cell_type": "code",
   "execution_count": 36,
   "id": "14f56296",
   "metadata": {},
   "outputs": [],
   "source": [
    "stream = BinaryStream('10101101000010000', is_hex=False)\n",
    "literal = LiteralPacket(100, 4)\n",
    "literal.read(stream)\n",
    "assert literal.value == 1348\n",
    "assert literal.version_sum == 100\n",
    "assert stream.bits_remaining == 2\n",
    "\n",
    "stream = BinaryStream('101111111000101000', is_hex=False)\n",
    "literal = LiteralPacket(3, 4)\n",
    "literal.read(stream)\n",
    "assert literal.value == 2021\n",
    "assert literal.version_sum == 3\n",
    "assert stream.bits_remaining == 3"
   ]
  },
  {
   "cell_type": "code",
   "execution_count": 37,
   "id": "ff556bac",
   "metadata": {},
   "outputs": [],
   "source": [
    "class OperatorPacket(Packet):\n",
    "    def __init__(self, version, op_type):\n",
    "        self.version = version\n",
    "        self.op_type = op_type\n",
    "        self.operands = []\n",
    "        self.num_operands = None\n",
    "\n",
    "    @property\n",
    "    def operands_required(self):\n",
    "        if self.num_operands is None:\n",
    "            return bool(self.stream.bits_remaining)\n",
    "        \n",
    "        return len(self.operands) < self.num_operands\n",
    "\n",
    "    def read(self, stream):\n",
    "        by_num_packets = stream.read(1)\n",
    "        if by_num_packets:\n",
    "            self.num_operands = stream.read(11)\n",
    "            # Consume from the parent stream\n",
    "            self.stream = stream\n",
    "        else:\n",
    "            operand_bits_remaining = stream.read(15)\n",
    "            # Grab our own portion of the stream to consume\n",
    "            self.stream = stream.read(operand_bits_remaining, as_stream=True)\n",
    "        \n",
    "        while self.operands_required:\n",
    "            self.consume_operand()\n",
    "\n",
    "    def consume_operand(self):\n",
    "        operand = packet_factory.build(self.stream)\n",
    "        self.operands.append(operand)\n",
    "\n",
    "    @property\n",
    "    def version_sum(self):\n",
    "        return sum(operand.version_sum for operand in self.operands) + self.version\n",
    "\n",
    "    def evaluate(self):\n",
    "        gt = lambda x: int(x[0] > x[1])\n",
    "        lt = lambda x: int(x[0] < x[1])\n",
    "        eq = lambda x: int(x[0] == x[1])\n",
    "        op_map = {\n",
    "            0: sum,\n",
    "            1: math.prod,\n",
    "            2: min,\n",
    "            3: max,\n",
    "            5: gt,\n",
    "            6: lt,\n",
    "            7: eq\n",
    "        }\n",
    "        \n",
    "        values = [operand.evaluate() for operand in self.operands]\n",
    "        return op_map[self.op_type](values)\n",
    "\n",
    "    def __repr__(self):\n",
    "        op_str_map = {\n",
    "            0: '+',\n",
    "            1: '*',\n",
    "            2: 'min',\n",
    "            3: 'min',\n",
    "            5: '>',\n",
    "            6: '<',\n",
    "            7: '=='\n",
    "        }\n",
    "        operand_repr = ', '.join([str(o) for o in self.operands])\n",
    "        \n",
    "        return f'({op_str_map[self.op_type]}, {operand_repr})'\n"
   ]
  },
  {
   "cell_type": "markdown",
   "id": "7c27533a",
   "metadata": {},
   "source": [
    "```\n",
    "8A004A801A8002F478 represents an operator packet (version 4) which contains an operator packet (version 1) which contains an operator packet (version 5) which contains a literal value (version 6); this packet has a version sum of 16.\n",
    "```"
   ]
  },
  {
   "cell_type": "code",
   "execution_count": 38,
   "id": "e8179670",
   "metadata": {},
   "outputs": [
    {
     "name": "stdout",
     "output_type": "stream",
     "text": [
      "(min, (min, (min, 15)))\n"
     ]
    },
    {
     "data": {
      "text/plain": [
       "16"
      ]
     },
     "execution_count": 38,
     "metadata": {},
     "output_type": "execute_result"
    }
   ],
   "source": [
    "test_stream = BinaryStream('8A004A801A8002F478')\n",
    "packet = packet_factory.build(test_stream)\n",
    "print(packet)\n",
    "packet.version_sum"
   ]
  },
  {
   "cell_type": "code",
   "execution_count": 39,
   "id": "c09787b5",
   "metadata": {},
   "outputs": [
    {
     "name": "stdout",
     "output_type": "stream",
     "text": [
      "(+, (+, (+, 6, 6, 12, 15, 15)))\n"
     ]
    },
    {
     "data": {
      "text/plain": [
       "31"
      ]
     },
     "execution_count": 39,
     "metadata": {},
     "output_type": "execute_result"
    }
   ],
   "source": [
    "test_stream = BinaryStream('A0016C880162017C3686B18A3D4780')\n",
    "packet = packet_factory.build(test_stream)\n",
    "print(packet)\n",
    "packet.version_sum"
   ]
  },
  {
   "cell_type": "code",
   "execution_count": 40,
   "id": "253cf99a",
   "metadata": {},
   "outputs": [
    {
     "data": {
      "text/plain": [
       "977"
      ]
     },
     "execution_count": 40,
     "metadata": {},
     "output_type": "execute_result"
    }
   ],
   "source": [
    "real_stream = BinaryStream(real_input)\n",
    "packet = packet_factory.build(real_stream)\n",
    "packet.version_sum"
   ]
  },
  {
   "cell_type": "code",
   "execution_count": 41,
   "id": "f81867c5",
   "metadata": {},
   "outputs": [
    {
     "name": "stdout",
     "output_type": "stream",
     "text": [
      "(+, 1, 2)\n"
     ]
    },
    {
     "data": {
      "text/plain": [
       "3"
      ]
     },
     "execution_count": 41,
     "metadata": {},
     "output_type": "execute_result"
    }
   ],
   "source": [
    "test_stream = BinaryStream('C200B40A82')\n",
    "test_op = packet_factory.build(test_stream)\n",
    "print(test_op)\n",
    "test_op.evaluate()"
   ]
  },
  {
   "cell_type": "code",
   "execution_count": 42,
   "id": "3d268caa",
   "metadata": {},
   "outputs": [
    {
     "data": {
      "text/plain": [
       "101501020883"
      ]
     },
     "execution_count": 42,
     "metadata": {},
     "output_type": "execute_result"
    }
   ],
   "source": [
    "real_stream = BinaryStream(real_input)\n",
    "real_op = packet_factory.build(real_stream)\n",
    "real_op.evaluate()"
   ]
  },
  {
   "cell_type": "markdown",
   "id": "c0e473ea",
   "metadata": {},
   "source": [
    "And in case you were wondering (you weren't), here's the calculation:\n",
    "\n",
    "```python\n",
    "print(real_op)\n",
    "```\n",
    "\n",
    "```\n",
    "(+, \n",
    " (min, 15, 199071281, 499, 190),\n",
    " (*, 240, (>, 3410, 201)),\n",
    " (min, 7),\n",
    " (*, 51786, (==, (+, 15, 11, 14), (+, 6, 11, 5))),\n",
    " 2513,\n",
    " (*, 28408, (>, 52653, 52653)),\n",
    " 751,\n",
    " 936579,\n",
    " (*, 84, (>, 246356739, 15228190)),\n",
    " (*, 321243, (==, 212, 631)),\n",
    " (*, (==, 208, 208), 54640),\n",
    " (*, 41, 169, 213, 246),\n",
    " (*, (<, 34, 34), 31562),\n",
    " (+, 1625637177),\n",
    " (min, 852, 650304435, 1, 651481, 70),\n",
    " (+, 409369, 4146254, 19617, 217, 45),\n",
    " 13360882,\n",
    " (*, 118, 106, 171), \n",
    " 10570687,\n",
    " (*, (<, 33, 3854067120), 2456541),\n",
    " (min, 55, 42444, 6),\n",
    " (*, (<, (+, 15, 3, 6), (+, 5, 12, 5)), 5833350),\n",
    " (*, (<, 2729, 15305503), 101077955),\n",
    " (+, 155057593, 13, 37107853833, 5),\n",
    " (min, 10082448, 410034, 1891),\n",
    " (*, 138),\n",
    " 497655,\n",
    " (min, 3),\n",
    " 42002,\n",
    " (*, 18874, (>, (+, 12, 5, 12), (+, 8, 6, 11))),\n",
    " 9,\n",
    " (*, (==, 35175563, 133), 3584),\n",
    " (*, 3683, (<, 248005212, 248005212)),\n",
    " (*, (+, 15, 4, 11), (+, 11, 12, 14), (+, 10, 10, 8)),\n",
    " (*, (<, 1217, 151), 588931), 4,\n",
    " (+, 48, 45472, 94453890),\n",
    " (+, (*, 7, 12, 5), (*, 13, 5, 15), (*, 7, 13, 9)),\n",
    " (*, 164, 165),\n",
    " (*, 59825, (>, 3724, 956760)),\n",
    " (+, (min, (min, (*, (*, (*, (min, (min, (+, (*, (+, (+, (min, (min, (min, (+, (+, (min, (min, (min, 3547)))))))))))))))))))),\n",
    " (+, 2, 101374),\n",
    " (*, 2788, (>, (+, 6, 9, 9), (+, 13, 2, 15))),\n",
    " (min, 3685, 7582, 81, 701716, 429274),\n",
    " (*, (<, (+, 11, 9, 10), (+, 12, 5, 14)), 66),\n",
    " (*, 158, (<, 123061340, 309)),\n",
    " (min, 265210578, 10),\n",
    " 31918501,\n",
    " (*, 205, 109, 187, 92, 159),\n",
    " (min, 29305, 2195, 98863220, 15518495373),\n",
    " (*, (>, 491281, 491281), 49105),\n",
    " (*, (>, 3696, 81611779), 51781),\n",
    " (min, 11, 14349575)\n",
    ")\n",
    "```"
   ]
  },
  {
   "cell_type": "markdown",
   "id": "35ec98f3",
   "metadata": {},
   "source": [
    "## Day 17 Trick Shot\n",
    "\n",
    "https://adventofcode.com/2021/day/17\n",
    "\n",
    "Find the initial velocity that causes the probe to reach the highest y position and still eventually be within the target area after any step. What is the highest y position it reaches on this trajectory?"
   ]
  },
  {
   "cell_type": "code",
   "execution_count": 2,
   "id": "2a50f774",
   "metadata": {},
   "outputs": [],
   "source": [
    "@dataclass(frozen=True)\n",
    "class Point:\n",
    "    x: int\n",
    "    y: int\n",
    "\n",
    "@dataclass(frozen=True)\n",
    "class TargetArea:\n",
    "    min_x: int\n",
    "    max_x: int\n",
    "    min_y: int\n",
    "    max_y: int\n",
    "    \n",
    "    def hit_x(self, x_pos):\n",
    "        return x_pos >= self.min_x and x_pos <= self.max_x\n",
    "\n",
    "    def hit_y(self, y_pos):\n",
    "        return y_pos >= self.min_y and y_pos <= self.max_y\n",
    "    \n",
    "    def hit(self, point):\n",
    "        return self.hit_x(point.x) and self.hit_y(point.y)"
   ]
  },
  {
   "cell_type": "code",
   "execution_count": 3,
   "id": "3e81e715",
   "metadata": {},
   "outputs": [],
   "source": [
    "test_target_area = TargetArea(20, 30, -10, -5)\n",
    "real_target_area = TargetArea(85, 145, -163, -108)"
   ]
  },
  {
   "cell_type": "code",
   "execution_count": 4,
   "id": "51ee84f7",
   "metadata": {},
   "outputs": [],
   "source": [
    "def y_pos(velocity, day):\n",
    "    '''Y position on day `day` with initial y velocity component `velocity`\n",
    "    \n",
    "    = y + (y - 1) + ... (y - (n-1))\n",
    "    = ny - (1 + 2 + (n-1))\n",
    "    = ny - ((1 + 2 + n) - n)\n",
    "    = n(y + 1) - n(n + 1) / 2 \n",
    "    '''\n",
    "    return int(day * (velocity + 1) - day * (day + 1) / 2)\n",
    "\n",
    "def x_pos(velocity, day):\n",
    "    '''X position on day `day` with initial x velocity component `velocity`\n",
    "    \n",
    "    same as y velocity calc until it stops\n",
    "    '''\n",
    "    \n",
    "    stop_day = velocity + 1\n",
    "    effective_day = stop_day if day >= stop_day else day\n",
    "    return y_pos(velocity, effective_day)\n",
    "\n",
    "def is_moving_horizontally(x_velocity, day):\n",
    "    '''Are we still moving horizontally on day `day`\n",
    "    \n",
    "    If False it won't move the next day (may have moved today)\n",
    "    '''\n",
    "    return x_velocity > day"
   ]
  },
  {
   "cell_type": "code",
   "execution_count": 6,
   "id": "2bb6e638",
   "metadata": {},
   "outputs": [],
   "source": [
    "assert y_pos(2, 1) == 2\n",
    "assert y_pos(2, 2) == 3\n",
    "assert y_pos(2, 3) == 3\n",
    "assert y_pos(2, 4) == 2\n",
    "assert y_pos(2, 5) == 0\n",
    "assert y_pos(2, 6) == -3\n",
    "assert y_pos(2, 7) == -7\n",
    "\n",
    "assert x_pos(2, 1) == 2\n",
    "assert x_pos(2, 2) == 3\n",
    "assert x_pos(2, 3) == 3\n",
    "assert x_pos(2, 4) == 3\n",
    "\n",
    "assert is_moving_horizontally(2, 1) is True\n",
    "assert is_moving_horizontally(2, 2) is False\n",
    "assert is_moving_horizontally(2, 3) is False\n",
    "assert is_moving_horizontally(2, 2) is False"
   ]
  },
  {
   "cell_type": "code",
   "execution_count": 7,
   "id": "10ebc3df",
   "metadata": {},
   "outputs": [],
   "source": [
    "def find_possible_x_velocities(target_area):\n",
    "    min_vel = 1\n",
    "    max_vel = target_area.max_x\n",
    "    valid = []\n",
    "    \n",
    "    for vel in range(min_vel, max_vel + 1):\n",
    "        day = 1\n",
    "        while True:\n",
    "            pos = x_pos(vel, day)\n",
    "            is_stopped = not is_moving_horizontally(vel, day)\n",
    "            if target_area.hit_x(pos):\n",
    "                valid.append((vel, day, is_stopped))\n",
    "\n",
    "            overshoot = pos > target_area.max_x\n",
    "            \n",
    "            if is_stopped or overshoot:\n",
    "                break\n",
    "            \n",
    "            day += 1\n",
    "    \n",
    "    return valid"
   ]
  },
  {
   "cell_type": "code",
   "execution_count": 8,
   "id": "9ed5c7f2",
   "metadata": {},
   "outputs": [
    {
     "data": {
      "text/plain": [
       "[(6, 5, False),\n",
       " (6, 6, True),\n",
       " (7, 4, False),\n",
       " (7, 5, False),\n",
       " (7, 6, False),\n",
       " (7, 7, True),\n",
       " (8, 3, False),\n",
       " (8, 4, False),\n",
       " (8, 5, False),\n",
       " (9, 3, False),\n",
       " (9, 4, False),\n",
       " (10, 3, False),\n",
       " (11, 2, False),\n",
       " (11, 3, False),\n",
       " (12, 2, False),\n",
       " (13, 2, False),\n",
       " (14, 2, False),\n",
       " (15, 2, False),\n",
       " (20, 1, False),\n",
       " (21, 1, False),\n",
       " (22, 1, False),\n",
       " (23, 1, False),\n",
       " (24, 1, False),\n",
       " (25, 1, False),\n",
       " (26, 1, False),\n",
       " (27, 1, False),\n",
       " (28, 1, False),\n",
       " (29, 1, False),\n",
       " (30, 1, False)]"
      ]
     },
     "execution_count": 8,
     "metadata": {},
     "output_type": "execute_result"
    }
   ],
   "source": [
    "find_possible_x_velocities(test_target_area)"
   ]
  },
  {
   "cell_type": "markdown",
   "id": "07dfacef",
   "metadata": {},
   "source": [
    "Oh...\n",
    "\n",
    "Up until this point I couldn't see how I'd constrain the max y value given it doesn't matter how high you chuck it - it's always going to come down. Thought I'd constrain it by valid days of x coordinates but turns it's possible to tweak x for it to arrive on any number of days because if you give it a an initial velocity of 6 or 7 it stops moving _in_ the x target area.\n",
    "\n",
    "Was pretty sure this was a good approach.\n",
    "\n",
    "It wasn't, back to the drawing board..."
   ]
  },
  {
   "cell_type": "code",
   "execution_count": 9,
   "id": "854b73e9",
   "metadata": {},
   "outputs": [],
   "source": [
    "# Let's at least make a test to give us back the days an initial y velocity\n",
    "# will land in the correct vertical zone\n",
    "def test_y(target_area, y_vel):    \n",
    "    day = 1\n",
    "    valid = []\n",
    "    while True:\n",
    "        pos = y_pos(y_vel, day)\n",
    "\n",
    "        if target_area.hit_y(pos):\n",
    "            valid.append(day)\n",
    "\n",
    "        overshoot = pos < target_area.min_y\n",
    "        if overshoot:\n",
    "            return valid\n",
    "\n",
    "        day += 1"
   ]
  },
  {
   "cell_type": "code",
   "execution_count": 10,
   "id": "e03e9ba1",
   "metadata": {},
   "outputs": [],
   "source": [
    "assert test_y(test_target_area, 2) == [7]\n",
    "assert test_y(test_target_area, 3) == [9]\n",
    "assert test_y(test_target_area, 0) == [4, 5]\n",
    "assert test_y(test_target_area, -2) == [2, 3]\n",
    "assert test_y(test_target_area, -11) == []"
   ]
  },
  {
   "cell_type": "markdown",
   "id": "7e4d1db0",
   "metadata": {},
   "source": [
    "Got it! - what comes up, must come down - *to the original height*. If I know what day it comes back to the x-axis I can work out where it will be the next day and whether it will overshoot the target"
   ]
  },
  {
   "cell_type": "code",
   "execution_count": 11,
   "id": "7d7eb4b9",
   "metadata": {},
   "outputs": [],
   "source": [
    "def max_height(y_vel):\n",
    "    '''Max height of the trajectory\n",
    "    \n",
    "    = y + (y - 1) + ... + (y - y)\n",
    "    = y * (y + 1) / 2\n",
    "    '''\n",
    "    return int(y_vel * (y_vel + 1) / 2)\n",
    "\n",
    "def days_to_x_axis(y_vel):\n",
    "    '''Number of days till we hit the x-axis\n",
    "    \n",
    "    Goes up for y days, comes down for y days, hovers for 1\n",
    "    '''\n",
    "    return 2 * y_vel + 1\n",
    "\n",
    "def next_pos_after_x_axis(y_vel):\n",
    "    '''Y position the day after coming back to the horizontal'''\n",
    "    num_days = days_to_x_axis(y_vel) + 1\n",
    "    return y_pos(y_vel, num_days)"
   ]
  },
  {
   "cell_type": "code",
   "execution_count": 12,
   "id": "6aee5f63",
   "metadata": {},
   "outputs": [],
   "source": [
    "assert max_height(4) == 10\n",
    "assert days_to_x_axis(2) == 5\n",
    "assert next_pos_after_x_axis(3) == -4 "
   ]
  },
  {
   "cell_type": "code",
   "execution_count": 13,
   "id": "adc3c014",
   "metadata": {},
   "outputs": [],
   "source": [
    "def y_range(target_area):\n",
    "    '''A heuristic to give a range of possible valid initial y velocities hitting the target'''\n",
    "    min_y = target_area.min_y\n",
    "    max_y = 1\n",
    "\n",
    "    while True:\n",
    "        pos = next_pos_after_x_axis(max_y)\n",
    "        max_y += 1\n",
    "        if pos < target_area.min_y:\n",
    "            # The rest will overshoot\n",
    "            return range(min_y, max_y)\n"
   ]
  },
  {
   "cell_type": "code",
   "execution_count": 14,
   "id": "047289fc",
   "metadata": {},
   "outputs": [
    {
     "data": {
      "text/plain": [
       "range(-10, 11)"
      ]
     },
     "execution_count": 14,
     "metadata": {},
     "output_type": "execute_result"
    }
   ],
   "source": [
    "y_range(test_target_area)"
   ]
  },
  {
   "cell_type": "code",
   "execution_count": 15,
   "id": "59627b35",
   "metadata": {},
   "outputs": [],
   "source": [
    "def part_1(target_area):\n",
    "    for y in reversed(y_range(real_target_area)):\n",
    "        if test_y(target_area, y):\n",
    "            return max_height(y)\n"
   ]
  },
  {
   "cell_type": "code",
   "execution_count": 16,
   "id": "3dbdd872",
   "metadata": {},
   "outputs": [
    {
     "data": {
      "text/plain": [
       "(45, 13203)"
      ]
     },
     "execution_count": 16,
     "metadata": {},
     "output_type": "execute_result"
    }
   ],
   "source": [
    "part_1(test_target_area), part_1(real_target_area)"
   ]
  },
  {
   "cell_type": "markdown",
   "id": "abe23fdf",
   "metadata": {},
   "source": [
    "### Day 17, part 2\n",
    "\n",
    "How many distinct initial velocity values cause the probe to be within the target area after any step?"
   ]
  },
  {
   "cell_type": "code",
   "execution_count": 17,
   "id": "56f967e7",
   "metadata": {},
   "outputs": [],
   "source": [
    "def y_velocities_by_day(target_area):\n",
    "    y_positions = defaultdict(list)\n",
    "    for y in y_range(target_area):\n",
    "        valid = test_y(target_area, y)\n",
    "        for day in valid:\n",
    "            y_positions[day].append(y)\n",
    "            \n",
    "    return y_positions"
   ]
  },
  {
   "cell_type": "code",
   "execution_count": 18,
   "id": "42bf25e5",
   "metadata": {},
   "outputs": [],
   "source": [
    "# Tweak the above function to constrain the possible x velocities by the\n",
    "# possible days we will be in the vertical zone (which is constrained)\n",
    "def x_velocities_by_day(target_area, max_days):\n",
    "    x_positions = defaultdict(list)\n",
    "    min_vel = 1\n",
    "    max_vel = target_area.max_x\n",
    "    valid = []\n",
    "    \n",
    "    for vel in range(min_vel, max_vel + 1):\n",
    "        day = 1\n",
    "        while True:\n",
    "            pos = x_pos(vel, day)\n",
    "            if target_area.hit_x(pos):\n",
    "                x_positions[day].append(vel)\n",
    "\n",
    "            overshoot = pos > target_area.max_x\n",
    "            \n",
    "            if day > max_days or overshoot:\n",
    "                break\n",
    "            \n",
    "            day += 1\n",
    "    \n",
    "    return x_positions"
   ]
  },
  {
   "cell_type": "code",
   "execution_count": 19,
   "id": "b55a6eae",
   "metadata": {},
   "outputs": [],
   "source": [
    "def distinct_positions(target_area):\n",
    "    y_positions = y_velocities_by_day(target_area)\n",
    "    max_days = max(y_positions.keys())\n",
    "    x_positions = x_velocities_by_day(target_area, max_days)\n",
    "    positions = []\n",
    "    \n",
    "    for day, y_values in y_positions.items():\n",
    "        x_values = x_positions[day]\n",
    "        for y in y_values:\n",
    "            for x in x_values:\n",
    "                positions.append((x, y))\n",
    "\n",
    "    # Some initial positions can hit the target area multiple times\n",
    "    return set(positions)"
   ]
  },
  {
   "cell_type": "code",
   "execution_count": 20,
   "id": "f9384538",
   "metadata": {},
   "outputs": [
    {
     "data": {
      "text/plain": [
       "112"
      ]
     },
     "execution_count": 20,
     "metadata": {},
     "output_type": "execute_result"
    }
   ],
   "source": [
    "test_positions = distinct_positions(test_target_area)\n",
    "len(test_positions)"
   ]
  },
  {
   "cell_type": "code",
   "execution_count": 21,
   "id": "d30353fc",
   "metadata": {},
   "outputs": [],
   "source": [
    "test_positions = distinct_positions(test_target_area)\n",
    "expected = {\n",
    "(23,-10),  (25,-9),  (27,-5 ),  (29,-6 ),  (22,-6),  (21,-7 ),  (9,0   ),  (27,-7 ),  (24,-5),\n",
    "(25,-7 ),  (26,-6),  (25,-5 ),  (6,8   ),  (11,-2),  (20,-5 ),  (29,-10),  (6,3   ),  (28,-7),\n",
    "(8,0   ),  (30,-6),  (29,-8 ),  (20,-10),  (6,7  ),  (6,4   ),  (6,1   ),  (14,-4 ),  (21,-6),\n",
    "(26,-10),  (7,-1 ),  (7,7   ),  (8,-1  ),  (21,-9),  (6,2   ),  (20,-7 ),  (30,-10),  (14,-3),\n",
    "(20,-8 ),  (13,-2),  (7,3   ),  (28,-8 ),  (29,-9),  (15,-3 ),  (22,-5 ),  (26,-8 ),  (25,-8),\n",
    "(25,-6 ),  (15,-4),  (9,-2  ),  (15,-2 ),  (12,-2),  (28,-9 ),  (12,-3 ),  (24,-6 ),  (23,-7),\n",
    "(25,-10),  (7,8  ),  (11,-3 ),  (26,-7 ),  (7,1  ),  (23,-9 ),  (6,0   ),  (22,-10),  (27,-6),\n",
    "(8,1   ),  (22,-8),  (13,-4 ),  (7,6   ),  (28,-6),  (11,-4 ),  (12,-4 ),  (26,-9 ),  (7,4),\n",
    "(24,-10),  (23,-8),  (30,-8 ),  (7,0   ),  (9,-1 ),  (10,-1 ),  (26,-5 ),  (22,-9 ),  (6,5),\n",
    "(7,5   ),  (23,-6),  (28,-10),  (10,-2 ),  (11,-1),  (20,-9 ),  (14,-2 ),  (29,-7 ),  (13,-3),\n",
    "(23,-5 ),  (24,-8),  (27,-9 ),  (30,-7 ),  (28,-5),  (21,-10),  (7,9   ),  (6,6   ),  (21,-5),\n",
    "(27,-10),  (7,2  ),  (30,-9 ),  (21,-8 ),  (22,-7),  (24,-9 ),  (20,-6 ),  (6,9   ),  (29,-5),\n",
    "(8,-2  ),  (27,-8),  (30,-5 ),  (24,-7)\n",
    "}\n",
    "assert test_positions == expected"
   ]
  },
  {
   "cell_type": "code",
   "execution_count": 22,
   "id": "feebc868",
   "metadata": {},
   "outputs": [
    {
     "data": {
      "text/plain": [
       "5644"
      ]
     },
     "execution_count": 22,
     "metadata": {},
     "output_type": "execute_result"
    }
   ],
   "source": [
    "len(distinct_positions(real_target_area))"
   ]
  },
  {
   "cell_type": "markdown",
   "id": "c4dbe263",
   "metadata": {},
   "source": [
    "### Day 17 Observations\n",
    "\n",
    "I can't begin to say how much of a cock up I made of the second part. Hard coded target areas in functions, returning positions instead of velocities, not having re-run a cell (the big down side of notebooks!). Really should have been in a better position in part 2 after having done most of the work to establish x positioning when going down a dead end in part 1. It's funny how I always assume that everyone else sees the trick straight away and that no one else would ever have bugs in *their* code.\n",
    "\n",
    "That being said - really nice puzzle. It's satisying that it's even possible to discover all the possible trajectories to hit an object with these physical constraints."
   ]
  },
  {
   "cell_type": "markdown",
   "id": "81f40eee",
   "metadata": {},
   "source": [
    "## Day 18 \n",
    "\n",
    "https://adventofcode.com/2021/day/18\n",
    "\n",
    "Add up all of the snailfish numbers from the homework assignment in the order they appear. What is the magnitude of the final sum?"
   ]
  },
  {
   "cell_type": "code",
   "execution_count": 3,
   "id": "695842b4",
   "metadata": {},
   "outputs": [],
   "source": [
    "test_input = get_puzzle_input('test_input_18.txt')\n",
    "real_input = get_puzzle_input('input_18.txt')"
   ]
  },
  {
   "cell_type": "code",
   "execution_count": 4,
   "id": "971d2671",
   "metadata": {},
   "outputs": [],
   "source": [
    "class SnailFishNumber:\n",
    "    def __init__(self, left, right):\n",
    "        self.left = left\n",
    "        self.right = right\n",
    "        self.parent = None\n",
    "        self.is_left_child = False\n",
    "        self.depth = 1\n",
    "    \n",
    "    @staticmethod\n",
    "    def from_string(string_repr):\n",
    "        stack = []\n",
    "        for char in string_repr:\n",
    "            if char == '[':\n",
    "                stack.append([])\n",
    "            \n",
    "            elif char == ']':\n",
    "                curr_pair = stack.pop()\n",
    "                num = SnailFishNumber(curr_pair[0], curr_pair[1])\n",
    "                if not stack:\n",
    "                    num._assign_parent()\n",
    "                    return num\n",
    "                stack[-1].append(num)\n",
    "            \n",
    "            elif char in '0123456789':\n",
    "                stack[-1].append(int(char))\n",
    "   \n",
    "    @property\n",
    "    def left_depth(self):\n",
    "        if isinstance(self.left, int):\n",
    "            return 0\n",
    "        \n",
    "        return 1 + self.left.depth\n",
    "\n",
    "    @property\n",
    "    def right_depth(self):\n",
    "        if isinstance(self.right, int):\n",
    "            return 1\n",
    "        \n",
    "        return 1 + self.right.depth\n",
    "    \n",
    "    @property\n",
    "    def child_depth(self):\n",
    "        return max(self.left_depth, self.right_depth)\n",
    "    \n",
    "    def _assign_parent(self):\n",
    "        if not isinstance(self.left, int):\n",
    "            self.left.parent = self\n",
    "            self.left.is_left_child = True\n",
    "            self.left.depth = self.depth + 1\n",
    "            self.left._assign_parent()\n",
    "\n",
    "        if not isinstance(self.right, int):\n",
    "            self.right.parent = self\n",
    "            self.right.is_left_child = False\n",
    "            self.right.depth = self.depth + 1\n",
    "            self.right._assign_parent()\n",
    "\n",
    "    def replace_me(self, child):\n",
    "        assert isinstance(child.left, int)\n",
    "        assert isinstance(child.right, int)\n",
    "        \n",
    "        left_rel = self.first_left_relative_with_int()\n",
    "        if left_rel:\n",
    "            left_rel.left += child.left\n",
    "            \n",
    "        right_rel = self.first_right_relative_with_int()\n",
    "        if right_rel:\n",
    "            right_rel.right += child.right\n",
    "        \n",
    "        if child.is_left_child:\n",
    "            self.left = 0\n",
    "        else:\n",
    "            self.right = 0\n",
    "\n",
    "    def first_left_relative_with_int(self):\n",
    "        fish = self\n",
    "        \n",
    "        while fish:\n",
    "            if isinstance(fish.left, int):\n",
    "                return fish\n",
    "            \n",
    "            fish = fish.parent\n",
    "\n",
    "    def first_right_relative_with_int(self):\n",
    "        fish = self\n",
    "        \n",
    "        while fish:\n",
    "            if isinstance(fish.right, int):\n",
    "                return fish\n",
    "            \n",
    "            fish = fish.parent\n",
    "\n",
    "    def explode(self):\n",
    "        left_exploded = False\n",
    "        right_exploded = False\n",
    "\n",
    "        if self.depth == 5:\n",
    "            self.parent.replace_me(self)\n",
    "            return True\n",
    "        \n",
    "        if not isinstance(self.left, int):\n",
    "            left_exploded = self.left.explode()\n",
    "\n",
    "        if not left_exploded and not isinstance(self.right, int):\n",
    "            right_exploded = self.right.explode()\n",
    "        \n",
    "        return left_exploded or right_exploded\n",
    "\n",
    "    \n",
    "    def __repr__(self):\n",
    "        return f'[{self.left},{self.right}]'\n",
    "  "
   ]
  },
  {
   "cell_type": "code",
   "execution_count": 5,
   "id": "2ffd22ba",
   "metadata": {},
   "outputs": [],
   "source": [
    "for expected in [\n",
    "    '[1,2]',\n",
    "    '[[1,2],3]',\n",
    "    '[9,[8,7]]',\n",
    "    '[[1,9],[8,5]]',\n",
    "    '[[[[1,2],[3,4]],[[5,6],[7,8]]],9]',\n",
    "    '[[[9,[3,8]],[[0,9],6]],[[[3,7],[4,9]],3]]',\n",
    "    '[[[[1,3],[5,3]],[[1,3],[8,7]]],[[[4,9],[6,9]],[[8,2],[7,3]]]]',\n",
    "]:\n",
    "    assert str(SnailFishNumber.from_string(expected)) == expected"
   ]
  },
  {
   "cell_type": "code",
   "execution_count": 6,
   "id": "d2c6a3af",
   "metadata": {},
   "outputs": [],
   "source": [
    "assert SnailFishNumber.from_string('[1,2]').child_depth == 1\n",
    "assert SnailFishNumber.from_string('[[[[[9,8],1],2],3],4]').child_depth == 3"
   ]
  },
  {
   "cell_type": "code",
   "execution_count": 7,
   "id": "a8ae0009",
   "metadata": {},
   "outputs": [],
   "source": [
    "needs_exploding = SnailFishNumber.from_string('[[[[[9,8],1],2],3],4]')\n",
    "node = needs_exploding.left.left.left.left\n",
    "assert str(node) == '[9,8]'\n",
    "assert node.depth == 5\n",
    "assert node.is_left_child is True\n",
    "assert node.parent.first_left_relative_with_int() is None\n",
    "assert str(node.parent.first_right_relative_with_int()) == '[[9,8],1]'"
   ]
  },
  {
   "cell_type": "code",
   "execution_count": 8,
   "id": "00435190",
   "metadata": {},
   "outputs": [
    {
     "ename": "AssertionError",
     "evalue": "",
     "output_type": "error",
     "traceback": [
      "\u001b[0;31m---------------------------------------------------------------------------\u001b[0m",
      "\u001b[0;31mAssertionError\u001b[0m                            Traceback (most recent call last)",
      "\u001b[0;32m/var/folders/x6/yq41r15j30g191y81xxw8zx80000gp/T/ipykernel_71838/3210618126.py\u001b[0m in \u001b[0;36m<module>\u001b[0;34m\u001b[0m\n\u001b[1;32m     13\u001b[0m \u001b[0mnum\u001b[0m \u001b[0;34m=\u001b[0m \u001b[0mSnailFishNumber\u001b[0m\u001b[0;34m.\u001b[0m\u001b[0mfrom_string\u001b[0m\u001b[0;34m(\u001b[0m\u001b[0;34m'[[3,[2,[1,[7,3]]]],[6,[5,[4,[3,2]]]]]'\u001b[0m\u001b[0;34m)\u001b[0m\u001b[0;34m\u001b[0m\u001b[0;34m\u001b[0m\u001b[0m\n\u001b[1;32m     14\u001b[0m \u001b[0mnum\u001b[0m\u001b[0;34m.\u001b[0m\u001b[0mexplode\u001b[0m\u001b[0;34m(\u001b[0m\u001b[0;34m)\u001b[0m\u001b[0;34m\u001b[0m\u001b[0;34m\u001b[0m\u001b[0m\n\u001b[0;32m---> 15\u001b[0;31m \u001b[0;32massert\u001b[0m \u001b[0mstr\u001b[0m\u001b[0;34m(\u001b[0m\u001b[0mnum\u001b[0m\u001b[0;34m)\u001b[0m \u001b[0;34m==\u001b[0m \u001b[0;34m'[[3,[2,[8,0]]],[9,[5,[4,[3,2]]]]]'\u001b[0m\u001b[0;34m\u001b[0m\u001b[0;34m\u001b[0m\u001b[0m\n\u001b[0m",
      "\u001b[0;31mAssertionError\u001b[0m: "
     ]
    }
   ],
   "source": [
    "num = SnailFishNumber.from_string('[[[[[9,8],1],2],3],4]')\n",
    "num.explode()\n",
    "assert str(num) == '[[[[0,9],2],3],4]'\n",
    "\n",
    "num = SnailFishNumber.from_string('[7,[6,[5,[4,[3,2]]]]]')\n",
    "num.explode()\n",
    "assert str(num) == '[7,[6,[5,[7,0]]]]'\n",
    "\n",
    "num = SnailFishNumber.from_string('[[6,[5,[4,[3,2]]]],1]')\n",
    "num.explode()\n",
    "assert str(num) == '[[6,[5,[7,0]]],3]'\n",
    "\n",
    "num = SnailFishNumber.from_string('[[3,[2,[1,[7,3]]]],[6,[5,[4,[3,2]]]]]')\n",
    "num.explode()\n",
    "assert str(num) == '[[3,[2,[8,0]]],[9,[5,[4,[3,2]]]]]'\n"
   ]
  },
  {
   "cell_type": "markdown",
   "id": "a9f1280b",
   "metadata": {},
   "source": [
    "Uh oh. in `[[3,[2,[1,[7,3]]]],[6,[5,[4,[3,2]]]]]` I have to add the 3 to the 6 and can't tell how I work out that that is the next to the right in the nested structure. Scrap that approach"
   ]
  },
  {
   "cell_type": "code",
   "execution_count": 15,
   "id": "3c6c9a87",
   "metadata": {},
   "outputs": [],
   "source": [
    "@dataclass(frozen=True)\n",
    "class NestedList:\n",
    "    nest: list\n",
    "\n",
    "    def map(self, func):\n",
    "        def _apply(item, func):\n",
    "            if isinstance(item, list):\n",
    "                return [_apply(x, func) for x in item]\n",
    "            else:\n",
    "                return func(item)\n",
    "        \n",
    "        return NestedList(_apply(self.nest, func))\n",
    "    \n",
    "    def reduce(self, func):\n",
    "        def _reduce(item, func):\n",
    "            if isinstance(item, list):\n",
    "                return func([\n",
    "                    _reduce(x, func)\n",
    "                    for x in item\n",
    "                ])\n",
    "            else:\n",
    "                return item\n",
    "            \n",
    "        return _reduce(self.nest, func)\n",
    "\n",
    "assert NestedList([1, 2, [3, 4]]).map(lambda x: x + 1) == NestedList([2, 3, [4, 5]])\n",
    "assert NestedList([1, 2, [3, 4]]).reduce(sum) == 10\n",
    "assert NestedList([[5, 6], [3, 4]]).reduce(lambda x: 3*x[0] + 2*x[1]) == 115"
   ]
  },
  {
   "cell_type": "code",
   "execution_count": 14,
   "id": "58cb4759",
   "metadata": {},
   "outputs": [
    {
     "data": {
      "text/plain": [
       "115"
      ]
     },
     "execution_count": 14,
     "metadata": {},
     "output_type": "execute_result"
    }
   ],
   "source": [
    "NestedList([[5, 6], [3, 4]]).reduce(lambda x: 3*x[0] + 2*x[1])"
   ]
  },
  {
   "cell_type": "code",
   "execution_count": 39,
   "id": "a1886847",
   "metadata": {},
   "outputs": [],
   "source": [
    "@dataclass(frozen=True)\n",
    "class FishNum:\n",
    "    string_repr: str\n",
    "\n",
    "    def __post_init__(self):\n",
    "        self._explode()\n",
    "        \n",
    "    def to_simplest_form(self):\n",
    "        fish_num = self\n",
    "        while True:\n",
    "            new = fish_num.explode()\n",
    "            if new == fish_num:\n",
    "                return fish_num\n",
    "            #print(new)\n",
    "            fish_num = new\n",
    "     \n",
    "    def _explode(self):\n",
    "        output = []\n",
    "        nested_structure, refs, exploded = self.explode_as_refs()\n",
    "        \n",
    "        nested_list = NestedList(nested_structure)\n",
    "        lookup_func = lambda x: refs[x] if x is not None else 0\n",
    "        nested_form = nested_list.map(lookup_func)\n",
    "        \n",
    "        # Hack after re-reading the question\n",
    "        split_found = False\n",
    "        def split_func(x):\n",
    "            nonlocal split_found\n",
    "            if x < 10 or split_found:\n",
    "                return x\n",
    "            else:\n",
    "                split_found = True\n",
    "                return [math.floor(x/2), math.ceil(x/2)]\n",
    "            \n",
    "        \n",
    "        if not exploded:\n",
    "            #split_func = lambda x: x if x < 10 else [math.floor(x/2), math.ceil(x/2)]\n",
    "            nested_form = nested_form.map(split_func)\n",
    "\n",
    "        object.__setattr__(self, 'nested_form', nested_form)\n",
    "        \n",
    "    def explode(self):\n",
    "        str_repr = str(self.nested_form.nest).replace(\" \", \"\")\n",
    "        return FishNum(str_repr)\n",
    "        \n",
    "    def explode_as_refs(self):\n",
    "        stack = []\n",
    "        num_list = []\n",
    "        stack_depth = 0\n",
    "        exploded = False\n",
    "        right_exploded = 0\n",
    "        current_num = ''\n",
    "        for char in self.string_repr:\n",
    "            if char == '[':\n",
    "                stack_depth += 1\n",
    "                stack.append([])\n",
    "\n",
    "            elif char == ',':\n",
    "                num = int(current_num) if current_num else None\n",
    "                current_num = ''\n",
    "\n",
    "                if num is not None:\n",
    "                    if right_exploded:\n",
    "                        num += right_exploded\n",
    "                        right_exploded = 0\n",
    "                    # Pass by reference\n",
    "                    stack[-1].append(len(num_list))\n",
    "                    num_list.append(num)\n",
    "\n",
    "            elif char == ']':\n",
    "                num = int(current_num) if current_num else None\n",
    "                current_num = ''\n",
    "                exploding = not exploded and stack_depth == 5\n",
    "\n",
    "                if num is not None:\n",
    "                    if right_exploded:\n",
    "                        num += right_exploded\n",
    "                        right_exploded = 0\n",
    "                    stack[-1].append(len(num_list))\n",
    "                    num_list.append(num)\n",
    "\n",
    "                pair = stack.pop()\n",
    "\n",
    "                if not stack:\n",
    "                    return pair, num_list, exploded\n",
    "\n",
    "                stack_depth -= 1\n",
    "\n",
    "                if not exploding:\n",
    "                    stack[-1].append(pair)\n",
    "                    continue\n",
    "\n",
    "                # exploding\n",
    "                right = num_list.pop()\n",
    "                left = num_list.pop()\n",
    "                stack[-1].append(None)\n",
    "\n",
    "                if num_list:\n",
    "                    num_list[-1] += left\n",
    "                right_exploded = right\n",
    "                exploded = True\n",
    "\n",
    "                stack_depth -= 1\n",
    "\n",
    "            elif char in '0123456789':\n",
    "                current_num += char\n",
    "\n",
    "    @property\n",
    "    def magnitude(self):\n",
    "        return self.nested_form.reduce(lambda x: 3*x[0] + 2*x[-1])\n",
    "        \n",
    "\n",
    "    def __add__(self, other):\n",
    "        return FishNum('[' + self.string_repr + ',' + other.string_repr + ']')\n"
   ]
  },
  {
   "cell_type": "code",
   "execution_count": 40,
   "id": "5018ed7a",
   "metadata": {},
   "outputs": [],
   "source": [
    "assert FishNum('[[1,2],3]').explode() == FishNum('[[1,2],3]')\n",
    "assert FishNum('[[[[[9,8],1],2],3],4]').explode() == FishNum('[[[[0,9],2],3],4]')\n",
    "assert FishNum('[7,[6,[5,[4,[3,2]]]]]').explode() == FishNum('[7,[6,[5,[7,0]]]]')\n",
    "assert FishNum('[[6,[5,[4,[3,2]]]],1]').explode() == FishNum('[[6,[5,[7,0]]],3]')\n",
    "num = FishNum('[[3,[2,[1,[7,3]]]],[6,[5,[4,[3,2]]]]]')\n",
    "assert num.explode() == FishNum('[[3,[2,[8,0]]],[9,[5,[4,[3,2]]]]]')\n",
    "assert num.explode().explode() == FishNum('[[3,[2,[8,0]]],[9,[5,[7,0]]]]')"
   ]
  },
  {
   "cell_type": "code",
   "execution_count": 41,
   "id": "e5b26b00",
   "metadata": {},
   "outputs": [],
   "source": [
    "assert FishNum('[[9,1],[1,9]]').magnitude == 129\n",
    "assert FishNum('[[[[8,7],[7,7]],[[8,6],[7,7]]],[[[0,7],[6,6]],[8,7]]]').magnitude == 3488"
   ]
  },
  {
   "cell_type": "code",
   "execution_count": 42,
   "id": "c1e696bd",
   "metadata": {},
   "outputs": [],
   "source": [
    "def part_1(lines):\n",
    "    result = None\n",
    "    for line in lines:\n",
    "        number = FishNum(line)\n",
    "        if result:\n",
    "            result += number\n",
    "        else:\n",
    "            result = number\n",
    "        result = result.to_simplest_form()\n",
    "    \n",
    "    return result "
   ]
  },
  {
   "cell_type": "code",
   "execution_count": 43,
   "id": "7dcef853",
   "metadata": {},
   "outputs": [],
   "source": [
    "test_1 =['[1,1]', '[2,2]', '[3,3]', '[4,4]']\n",
    "assert part_1(test_1) == FishNum('[[[[1,1],[2,2]],[3,3]],[4,4]]')"
   ]
  },
  {
   "cell_type": "code",
   "execution_count": 44,
   "id": "8d4d2062",
   "metadata": {},
   "outputs": [],
   "source": [
    "test_2 =['[1,1]', '[2,2]', '[3,3]', '[4,4]', '[5,5]']\n",
    "assert part_1(test_2) == FishNum('[[[[3,0],[5,3]],[4,4]],[5,5]]')"
   ]
  },
  {
   "cell_type": "code",
   "execution_count": 45,
   "id": "9aac23af",
   "metadata": {},
   "outputs": [],
   "source": [
    "test_3 = ['[1,1]', '[2,2]', '[3,3]', '[4,4]', '[5,5]', '[6,6]']\n",
    "assert part_1(test_3) == FishNum('[[[[5,0],[7,4]],[5,5]],[6,6]]')"
   ]
  },
  {
   "cell_type": "code",
   "execution_count": 46,
   "id": "2b5f1117",
   "metadata": {},
   "outputs": [],
   "source": [
    "test_4 = [\n",
    "    '[[[0,[5,8]],[[1,7],[9,6]]],[[4,[1,2]],[[1,4],2]]]',\n",
    "    '[[[5,[2,8]],4],[5,[[9,9],0]]]',\n",
    "    '[6,[[[6,2],[5,6]],[[7,6],[4,7]]]]',\n",
    "    '[[[6,[0,7]],[0,9]],[4,[9,[9,0]]]]',\n",
    "    '[[[7,[6,4]],[3,[1,3]]],[[[5,5],1],9]]',\n",
    "    '[[6,[[7,3],[3,2]]],[[[3,8],[5,7]],4]]',\n",
    "    '[[[[5,4],[7,7]],8],[[8,3],8]]',\n",
    "    '[[9,3],[[9,9],[6,[4,9]]]]',\n",
    "    '[[2,[[7,7],7]],[[5,8],[[9,3],[0,2]]]]',\n",
    "    '[[[[5,2],5],[8,[3,7]]],[[5,[7,5]],[4,4]]]',\n",
    "]"
   ]
  },
  {
   "cell_type": "code",
   "execution_count": 47,
   "id": "22711d4b",
   "metadata": {},
   "outputs": [
    {
     "data": {
      "text/plain": [
       "4140"
      ]
     },
     "execution_count": 47,
     "metadata": {},
     "output_type": "execute_result"
    }
   ],
   "source": [
    "part_1(test_4).magnitude"
   ]
  },
  {
   "cell_type": "code",
   "execution_count": 48,
   "id": "b6f6d6e1",
   "metadata": {},
   "outputs": [
    {
     "data": {
      "text/plain": [
       "4088"
      ]
     },
     "execution_count": 48,
     "metadata": {},
     "output_type": "execute_result"
    }
   ],
   "source": [
    "part_1(real_input).magnitude"
   ]
  },
  {
   "cell_type": "markdown",
   "id": "0653b5e1",
   "metadata": {},
   "source": [
    "### Day 18 Part 2 \n",
    "\n",
    "What is the largest magnitude of any sum of two different snailfish numbers from the homework assignment?"
   ]
  },
  {
   "cell_type": "code",
   "execution_count": 49,
   "id": "0bca4033",
   "metadata": {},
   "outputs": [],
   "source": [
    "from itertools import permutations"
   ]
  },
  {
   "cell_type": "code",
   "execution_count": 50,
   "id": "b6fdf3c4",
   "metadata": {},
   "outputs": [],
   "source": [
    "def part_2(input):\n",
    "    numbers = [FishNum(x) for x in input]\n",
    "    perms = permutations(numbers, 2)\n",
    "    max = 0\n",
    "    \n",
    "    for a, b in perms:\n",
    "        mag = (a + b).to_simplest_form().magnitude\n",
    "        if mag > max:\n",
    "            max = mag\n",
    "    \n",
    "    return max"
   ]
  },
  {
   "cell_type": "code",
   "execution_count": 51,
   "id": "ef47d352",
   "metadata": {},
   "outputs": [
    {
     "data": {
      "text/plain": [
       "3993"
      ]
     },
     "execution_count": 51,
     "metadata": {},
     "output_type": "execute_result"
    }
   ],
   "source": [
    "part_2(test_4)"
   ]
  },
  {
   "cell_type": "code",
   "execution_count": 52,
   "id": "bbc3edfc",
   "metadata": {},
   "outputs": [
    {
     "data": {
      "text/plain": [
       "4536"
      ]
     },
     "execution_count": 52,
     "metadata": {},
     "output_type": "execute_result"
    }
   ],
   "source": [
    "part_2(real_input)"
   ]
  },
  {
   "cell_type": "markdown",
   "id": "fe763bca",
   "metadata": {},
   "source": [
    "### Day 18 Observations\n",
    "\n",
    "That was painful. FOR GOD SAKE - READ THE QUESTION. Two huge things I missed:\n",
    "- You only apply the split if there are no more explosions\n",
    "- You don't apply all the splits at once.\n",
    "\n",
    "It's one of those puzzles that looks relatively easy. Who knows, perhaps it is. Wasn't for me!\n",
    "\n",
    "Oh man, never again."
   ]
  },
  {
   "cell_type": "code",
   "execution_count": null,
   "id": "4121f034",
   "metadata": {},
   "outputs": [],
   "source": []
  }
 ],
 "metadata": {
  "kernelspec": {
   "display_name": "Python 3 (ipykernel)",
   "language": "python",
   "name": "python3"
  },
  "language_info": {
   "codemirror_mode": {
    "name": "ipython",
    "version": 3
   },
   "file_extension": ".py",
   "mimetype": "text/x-python",
   "name": "python",
   "nbconvert_exporter": "python",
   "pygments_lexer": "ipython3",
   "version": "3.9.6"
  }
 },
 "nbformat": 4,
 "nbformat_minor": 5
}
