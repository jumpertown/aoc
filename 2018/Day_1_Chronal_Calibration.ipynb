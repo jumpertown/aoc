{
 "cells": [
  {
   "cell_type": "code",
   "execution_count": 1,
   "metadata": {},
   "outputs": [],
   "source": [
    "import sys\n",
    "sys.path.append(\"..\")"
   ]
  },
  {
   "cell_type": "code",
   "execution_count": 2,
   "metadata": {},
   "outputs": [],
   "source": [
    "from resources.utils import get_puzzle_input"
   ]
  },
  {
   "cell_type": "markdown",
   "metadata": {},
   "source": [
    "   ### Part 1\n",
    "   \n",
    "For example, if the device displays frequency changes of +1, -2, +3, +1, then starting from a frequency of zero, the following changes would occur:\n",
    "\n",
    "```\n",
    "Current frequency  0, change of +1; resulting frequency  1.\n",
    "Current frequency  1, change of -2; resulting frequency -1.\n",
    "Current frequency -1, change of +3; resulting frequency  2.\n",
    "Current frequency  2, change of +1; resulting frequency  3.\n",
    "In this example, the resulting frequency is 3.\n",
    "```\n",
    "\n",
    "Here are other example situations:\n",
    "\n",
    "```\n",
    "+1, +1, +1 results in  3\n",
    "+1, +1, -2 results in  0\n",
    "-1, -2, -3 results in -6\n",
    "```"
   ]
  },
  {
   "cell_type": "code",
   "execution_count": 3,
   "metadata": {},
   "outputs": [],
   "source": [
    "def resultant_frequency(input):\n",
    "    result = sum(int(i) for i in input)\n",
    "    return result"
   ]
  },
  {
   "cell_type": "code",
   "execution_count": 4,
   "metadata": {},
   "outputs": [],
   "source": [
    "assert resultant_frequency(('+1', '+2', '-1')) == 2"
   ]
  },
  {
   "cell_type": "code",
   "execution_count": 5,
   "metadata": {},
   "outputs": [
    {
     "data": {
      "text/plain": [
       "582"
      ]
     },
     "execution_count": 5,
     "metadata": {},
     "output_type": "execute_result"
    }
   ],
   "source": [
    "puzzle_input = get_puzzle_input('/tmp/day_1.txt')\n",
    "resultant_frequency(puzzle_input)"
   ]
  },
  {
   "cell_type": "markdown",
   "metadata": {},
   "source": [
    "### Part 2\n",
    "\n",
    "You notice that the device repeats the same frequency change list over and over. To calibrate the device, you need to find the first frequency it reaches twice.\n",
    "\n",
    "For example, using the same list of changes above, the device would loop as follows:\n",
    "\n",
    "```\n",
    "Current frequency  0, change of +1; resulting frequency  1.\n",
    "Current frequency  1, change of -2; resulting frequency -1.\n",
    "Current frequency -1, change of +3; resulting frequency  2.\n",
    "Current frequency  2, change of +1; resulting frequency  3.\n",
    "(At this point, the device continues from the start of the list.)\n",
    "Current frequency  3, change of +1; resulting frequency  4.\n",
    "Current frequency  4, change of -2; resulting frequency  2, which has already been seen.\n",
    "```\n",
    "\n",
    "In this example, the first frequency reached twice is 2. Note that your device might need to repeat its list of frequency changes many times before a duplicate frequency is found, and that duplicates might be found while in the middle of processing the list.\n",
    "\n",
    "Here are other examples:\n",
    "\n",
    "```\n",
    "+1, -1 first reaches 0 twice.\n",
    "+3, +3, +4, -2, -4 first reaches 10 twice.\n",
    "-6, +3, +8, +5, -6 first reaches 5 twice.\n",
    "+7, +7, -2, -7, -4 first reaches 14 twice.\n",
    "```\n",
    "\n",
    "What is the first frequency your device reaches twice?"
   ]
  },
  {
   "cell_type": "code",
   "execution_count": 6,
   "metadata": {},
   "outputs": [],
   "source": [
    "def repeated_fequency(input):\n",
    "    int_input = [int(i) for i in input]\n",
    "    current_freqency = 0\n",
    "    seen_frequencies = set((current_freqency, ))\n",
    "\n",
    "    while True:\n",
    "        for i in int_input:\n",
    "            current_freqency += i\n",
    "            if current_freqency in seen_frequencies:\n",
    "                return current_freqency\n",
    "            seen_frequencies.add(current_freqency)"
   ]
  },
  {
   "cell_type": "code",
   "execution_count": 7,
   "metadata": {},
   "outputs": [],
   "source": [
    "assert repeated_fequency(('+1', '-1')) == 0\n",
    "assert repeated_fequency(('+3', '+3', '+4', '-2', '-4')) == 10"
   ]
  },
  {
   "cell_type": "code",
   "execution_count": 8,
   "metadata": {},
   "outputs": [
    {
     "name": "stdout",
     "output_type": "stream",
     "text": [
      "488\n",
      "CPU times: user 33.6 ms, sys: 5.6 ms, total: 39.2 ms\n",
      "Wall time: 39.2 ms\n"
     ]
    }
   ],
   "source": [
    "%%time\n",
    "\n",
    "print(repeated_fequency(puzzle_input))"
   ]
  }
 ],
 "metadata": {
  "kernelspec": {
   "display_name": "Python 3",
   "language": "python",
   "name": "python3"
  },
  "language_info": {
   "codemirror_mode": {
    "name": "ipython",
    "version": 3
   },
   "file_extension": ".py",
   "mimetype": "text/x-python",
   "name": "python",
   "nbconvert_exporter": "python",
   "pygments_lexer": "ipython3",
   "version": "3.6.5"
  }
 },
 "nbformat": 4,
 "nbformat_minor": 2
}
