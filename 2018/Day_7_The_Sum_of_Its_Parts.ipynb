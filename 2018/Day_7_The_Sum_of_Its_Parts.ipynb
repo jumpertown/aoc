{
 "cells": [
  {
   "cell_type": "code",
   "execution_count": 1,
   "metadata": {},
   "outputs": [],
   "source": [
    "import sys\n",
    "sys.path.append(\"..\")"
   ]
  },
  {
   "cell_type": "code",
   "execution_count": 2,
   "metadata": {},
   "outputs": [],
   "source": [
    "import re\n",
    "from collections import defaultdict\n",
    "from resources.utils import get_puzzle_input"
   ]
  },
  {
   "cell_type": "markdown",
   "metadata": {},
   "source": [
    "### Part 1\n",
    "\n",
    "The instructions specify a series of steps and requirements about which steps must be finished before others can begin (your puzzle input). Each step is designated by a single letter. For example, suppose you have the following instructions:\n",
    "\n",
    "```\n",
    "Step C must be finished before step A can begin.\n",
    "Step C must be finished before step F can begin.\n",
    "Step A must be finished before step B can begin.\n",
    "Step A must be finished before step D can begin.\n",
    "Step B must be finished before step E can begin.\n",
    "Step D must be finished before step E can begin.\n",
    "Step F must be finished before step E can begin.\n",
    "```\n",
    "\n",
    "Visually, these requirements look like this:\n",
    "\n",
    "```\n",
    "  -->A--->B--\n",
    " /    \\      \\\n",
    "C      -->D----->E\n",
    " \\           /\n",
    "  ---->F-----\n",
    "```\n",
    "\n",
    "Your first goal is to determine the order in which the steps should be completed. If more than one step is ready, choose the step which is first alphabetically. In this example, the steps would be completed as follows:\n",
    "\n",
    "Only C is available, and so it is done first.\n",
    "Next, both A and F are available. A is first alphabetically, so it is done next.\n",
    "Then, even though F was available earlier, steps B and D are now also available, and B is the first alphabetically of the three.\n",
    "After that, only D and F are available. E is not available because only some of its prerequisites are complete. Therefore, D is completed next.\n",
    "F is the only choice, so it is done next.\n",
    "Finally, E is completed.\n",
    "So, in this example, the correct order is CABDFE.\n",
    "\n",
    "In what order should the steps in your instructions be completed?"
   ]
  },
  {
   "cell_type": "code",
   "execution_count": 3,
   "metadata": {},
   "outputs": [],
   "source": [
    "# Step F must be finished before step E can begin.\n",
    "step_re = re.compile(r'Step (.) must be finished before step (.) can begin.')"
   ]
  },
  {
   "cell_type": "code",
   "execution_count": 4,
   "metadata": {},
   "outputs": [],
   "source": [
    "assert step_re.match('Step F must be finished before step E can begin.').groups() == ('F', 'E')"
   ]
  },
  {
   "cell_type": "code",
   "execution_count": 5,
   "metadata": {},
   "outputs": [],
   "source": [
    "test_input = [\n",
    "    'Step C must be finished before step A can begin.',\n",
    "    'Step C must be finished before step F can begin.',\n",
    "    'Step A must be finished before step B can begin.',\n",
    "    'Step A must be finished before step D can begin.',\n",
    "    'Step B must be finished before step E can begin.',\n",
    "    'Step D must be finished before step E can begin.',\n",
    "    'Step F must be finished before step E can begin.',\n",
    "]"
   ]
  },
  {
   "cell_type": "code",
   "execution_count": 6,
   "metadata": {},
   "outputs": [],
   "source": [
    "def parse_input(steps):\n",
    "    ancestors = defaultdict(list)\n",
    "    decendents = defaultdict(list)\n",
    "    \n",
    "    for step in steps:\n",
    "        ancestor, decendent = step_re.match(step).groups()\n",
    "        \n",
    "        if ancestor not in ancestors:\n",
    "            ancestors[ancestor] = []\n",
    "            \n",
    "        decendents[ancestor].append(decendent)\n",
    "        ancestors[decendent].append(ancestor)\n",
    "    \n",
    "    return ancestors, decendents   "
   ]
  },
  {
   "cell_type": "code",
   "execution_count": 7,
   "metadata": {},
   "outputs": [
    {
     "data": {
      "text/plain": [
       "(defaultdict(list,\n",
       "             {'C': [],\n",
       "              'A': ['C'],\n",
       "              'F': ['C'],\n",
       "              'B': ['A'],\n",
       "              'D': ['A'],\n",
       "              'E': ['B', 'D', 'F']}),\n",
       " defaultdict(list,\n",
       "             {'C': ['A', 'F'],\n",
       "              'A': ['B', 'D'],\n",
       "              'B': ['E'],\n",
       "              'D': ['E'],\n",
       "              'F': ['E']}))"
      ]
     },
     "execution_count": 7,
     "metadata": {},
     "output_type": "execute_result"
    }
   ],
   "source": [
    "parse_input(test_input)"
   ]
  },
  {
   "cell_type": "code",
   "execution_count": 8,
   "metadata": {},
   "outputs": [],
   "source": [
    "def solve(input):\n",
    "    ancestors, decendents = parse_input(input)\n",
    "    process_items = []\n",
    "    \n",
    "    while len(ancestors):\n",
    "        ready_items = [item for (item, ancestors) in ancestors.items() if not ancestors]\n",
    "        process_item = sorted(ready_items)[0]\n",
    "        process_items.append(process_item)\n",
    "        del ancestors[process_item]\n",
    "\n",
    "        for decendent in decendents[process_item]:\n",
    "            ancestors[decendent].remove(process_item)\n",
    "        \n",
    "    return ''.join(process_items)  "
   ]
  },
  {
   "cell_type": "code",
   "execution_count": 9,
   "metadata": {},
   "outputs": [],
   "source": [
    "assert solve(test_input) == 'CABDFE'"
   ]
  },
  {
   "cell_type": "code",
   "execution_count": 10,
   "metadata": {},
   "outputs": [],
   "source": [
    "puzzle_input = get_puzzle_input('/tmp/day7.txt')"
   ]
  },
  {
   "cell_type": "code",
   "execution_count": 11,
   "metadata": {},
   "outputs": [
    {
     "data": {
      "text/plain": [
       "'EFHLMTKQBWAPGIVXSZJRDUYONC'"
      ]
     },
     "execution_count": 11,
     "metadata": {},
     "output_type": "execute_result"
    }
   ],
   "source": [
    "solve(puzzle_input)"
   ]
  },
  {
   "cell_type": "markdown",
   "metadata": {},
   "source": [
    "### Part 2\n",
    "\n",
    "\n",
    "Your puzzle answer was EFHLMTKQBWAPGIVXSZJRDUYONC.\n",
    "\n",
    "The first half of this puzzle is complete! It provides one gold star: *\n",
    "\n",
    "--- Part Two ---\n",
    "As you're about to begin construction, four of the Elves offer to help. \"The sun will set soon; it'll go faster if we work together.\" Now, you need to account for multiple people working on steps simultaneously. If multiple steps are available, workers should still begin them in alphabetical order.\n",
    "\n",
    "Each step takes 60 seconds plus an amount corresponding to its letter: A=1, B=2, C=3, and so on. So, step A takes 60+1=61 seconds, while step Z takes 60+26=86 seconds. No time is required between steps.\n",
    "\n",
    "To simplify things for the example, however, suppose you only have help from one Elf (a total of two workers) and that each step takes 60 fewer seconds (so that step A takes 1 second and step Z takes 26 seconds). Then, using the same instructions as above, this is how each second would be spent:\n",
    "\n",
    "```\n",
    "Second   Worker 1   Worker 2   Done\n",
    "   0        C          .        \n",
    "   1        C          .        \n",
    "   2        C          .        \n",
    "   3        A          F       C\n",
    "   4        B          F       CA\n",
    "   5        B          F       CA\n",
    "   6        D          F       CAB\n",
    "   7        D          F       CAB\n",
    "   8        D          F       CAB\n",
    "   9        D          .       CABF\n",
    "  10        E          .       CABFD\n",
    "  11        E          .       CABFD\n",
    "  12        E          .       CABFD\n",
    "  13        E          .       CABFD\n",
    "  14        E          .       CABFD\n",
    "  15        .          .       CABFDE\n",
    "  \n",
    "  ```\n",
    "  \n",
    "Each row represents one second of time. The Second column identifies how many seconds have passed as of the beginning of that second. Each worker column shows the step that worker is currently doing (or . if they are idle). The Done column shows completed steps.\n",
    "\n",
    "Note that the order of the steps has changed; this is because steps now take time to finish and multiple workers can begin multiple steps simultaneously.\n",
    "\n",
    "In this example, it would take 15 seconds for two workers to complete these steps.\n",
    "\n",
    "With 5 workers and the 60+ second step durations described above, how long will it take to complete all of the steps?"
   ]
  },
  {
   "cell_type": "code",
   "execution_count": 12,
   "metadata": {},
   "outputs": [],
   "source": [
    "class AssemblyInstructions:\n",
    "    def __init__(self, steps):\n",
    "        self.ancestors, self.decendents = parse_input(steps)\n",
    "        self.steps_in_progress = set()\n",
    "    \n",
    "    @property\n",
    "    def is_complete(self):\n",
    "        return not self.ancestors and not self.steps_in_progress\n",
    "\n",
    "    def get_step(self):\n",
    "        ready_items = [\n",
    "            item for (item, ancestors)\n",
    "            in self.ancestors.items()\n",
    "            if not ancestors and item not in self.steps_in_progress\n",
    "        ]\n",
    "        \n",
    "        if not ready_items:\n",
    "            return None\n",
    "\n",
    "        next_step = sorted(ready_items)[0]\n",
    "\n",
    "        self.steps_in_progress.add(next_step)\n",
    "        return next_step\n",
    "        \n",
    "    def complete_step(self, step):\n",
    "        self.steps_in_progress.remove(step)\n",
    "        del self.ancestors[step]\n",
    "        \n",
    "        for decendent in self.decendents[step]:\n",
    "            self.ancestors[decendent].remove(step)\n",
    "        "
   ]
  },
  {
   "cell_type": "code",
   "execution_count": 13,
   "metadata": {},
   "outputs": [
    {
     "name": "stdout",
     "output_type": "stream",
     "text": [
      "C\n",
      "A\n",
      "B\n",
      "D\n",
      "F\n",
      "E\n"
     ]
    }
   ],
   "source": [
    "test_assembly = AssemblyInstructions(test_input)\n",
    "\n",
    "while not test_assembly.is_complete:\n",
    "    step = test_assembly.get_step()\n",
    "    print(step)\n",
    "    test_assembly.complete_step(step)   "
   ]
  },
  {
   "cell_type": "code",
   "execution_count": 14,
   "metadata": {},
   "outputs": [],
   "source": [
    "def processing_time(step, offset=0):\n",
    "    return ord(step) - 64 + offset   "
   ]
  },
  {
   "cell_type": "code",
   "execution_count": 15,
   "metadata": {},
   "outputs": [],
   "source": [
    "assert processing_time('A') == 1\n",
    "assert processing_time('Z') == 26\n",
    "assert processing_time('A', 60) == 61"
   ]
  },
  {
   "cell_type": "code",
   "execution_count": 16,
   "metadata": {},
   "outputs": [],
   "source": [
    "class AssemblyWorker:\n",
    "    def __init__(self, ident, instructions, time_offset, log_activity=False):\n",
    "        self.ident = ident\n",
    "        self.instructions = instructions\n",
    "        self.time_offset = time_offset\n",
    "        self.time_remaining = 0\n",
    "        self.log_activity = log_activity\n",
    "        self.in_progress = None\n",
    "        \n",
    "    def _log(self, action):\n",
    "        if self.log_activity:\n",
    "            print('WORKER {}: {}'.format(self.ident, action))\n",
    "            \n",
    "    @property\n",
    "    def state(self):\n",
    "        return self.in_progress or '.'\n",
    "    \n",
    "    def pick_up(self):\n",
    "        if self.in_progress:\n",
    "            # Already processing\n",
    "            return\n",
    "\n",
    "        step = self.instructions.get_step()\n",
    "        \n",
    "        if step:\n",
    "            self._log('Got task {}'.format(step))\n",
    "            self.time_remaining = processing_time(step, self.time_offset)\n",
    "            self.in_progress = step\n",
    "        else:\n",
    "            self._log('No ready tasks')\n",
    "    \n",
    "    def process(self):\n",
    "        if not self.in_progress:\n",
    "            return\n",
    "\n",
    "        self.time_remaining -= 1\n",
    "        if self.time_remaining:\n",
    "            return\n",
    "\n",
    "        self._log('Completed task {}'.format(self.in_progress))\n",
    "        self.instructions.complete_step(self.in_progress)\n",
    "        self.in_progress = None\n",
    "\n",
    "    def act(self):\n",
    "        '''Original WRONG solution (but worked when submitted with output-1!)\n",
    "        \n",
    "        Means that a worker can only pick up a dependent task if the dependency\n",
    "        was completed by a prior worker when iterating over the set.\n",
    "        \n",
    "        Some workers are more equal than others...\n",
    "        '''\n",
    "        self.process()\n",
    "        self.pick_up()\n",
    "\n"
   ]
  },
  {
   "cell_type": "code",
   "execution_count": 17,
   "metadata": {},
   "outputs": [],
   "source": [
    "def assembly_line(\n",
    "    instruction_set,\n",
    "    num_workers,\n",
    "    offset,\n",
    "    log_worker=False,\n",
    "    log_time=False,\n",
    "    correct_solution=True,\n",
    "    max_time=0\n",
    "):\n",
    "    instructions = AssemblyInstructions(instruction_set)\n",
    "    \n",
    "    workers = [AssemblyWorker(x, instructions, offset, log_worker) for x in range(num_workers)]\n",
    "    \n",
    "    time = 0    \n",
    "    while not instructions.is_complete:\n",
    "        if log_worker:\n",
    "            print('SECOND ', time)\n",
    "        \n",
    "        if correct_solution:  \n",
    "            for worker in workers:\n",
    "                worker.pick_up()\n",
    "            states = [worker.state for worker in workers]\n",
    "            for worker in workers:\n",
    "                worker.process()\n",
    "        else:\n",
    "            for worker in workers:\n",
    "                worker.act()\n",
    "            states = [worker.state for worker in workers]\n",
    "        \n",
    "        if log_time:\n",
    "            print('{}\\t{}'.format(time, ' '.join(states)))\n",
    "        \n",
    "        time += 1\n",
    "        if max_time and time > max_time:\n",
    "            print('Over allowed time')\n",
    "\n",
    "    return time"
   ]
  },
  {
   "cell_type": "code",
   "execution_count": 18,
   "metadata": {},
   "outputs": [
    {
     "name": "stdout",
     "output_type": "stream",
     "text": [
      "0\tC .\n",
      "1\tC .\n",
      "2\tC .\n",
      "3\tA F\n",
      "4\tB F\n",
      "5\tB F\n",
      "6\tD F\n",
      "7\tD F\n",
      "8\tD F\n",
      "9\tD .\n",
      "10\tE .\n",
      "11\tE .\n",
      "12\tE .\n",
      "13\tE .\n",
      "14\tE .\n"
     ]
    },
    {
     "data": {
      "text/plain": [
       "15"
      ]
     },
     "execution_count": 18,
     "metadata": {},
     "output_type": "execute_result"
    }
   ],
   "source": [
    "assembly_line(test_input, 2, 0, correct_solution=True, log_time=True)"
   ]
  },
  {
   "cell_type": "code",
   "execution_count": 19,
   "metadata": {},
   "outputs": [
    {
     "data": {
      "text/plain": [
       "1056"
      ]
     },
     "execution_count": 19,
     "metadata": {},
     "output_type": "execute_result"
    }
   ],
   "source": [
    "assembly_line(puzzle_input, 5, 60, correct_solution=True)"
   ]
  }
 ],
 "metadata": {
  "kernelspec": {
   "display_name": "Python 3",
   "language": "python",
   "name": "python3"
  },
  "language_info": {
   "codemirror_mode": {
    "name": "ipython",
    "version": 3
   },
   "file_extension": ".py",
   "mimetype": "text/x-python",
   "name": "python",
   "nbconvert_exporter": "python",
   "pygments_lexer": "ipython3",
   "version": "3.6.5"
  }
 },
 "nbformat": 4,
 "nbformat_minor": 2
}
