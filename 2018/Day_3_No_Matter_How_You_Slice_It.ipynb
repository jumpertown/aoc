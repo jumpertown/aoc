{
 "cells": [
  {
   "cell_type": "code",
   "execution_count": 1,
   "metadata": {},
   "outputs": [],
   "source": [
    "import sys\n",
    "sys.path.append(\"..\")"
   ]
  },
  {
   "cell_type": "code",
   "execution_count": 2,
   "metadata": {},
   "outputs": [],
   "source": [
    "from collections import defaultdict, namedtuple\n",
    "import re\n",
    "\n",
    "from resources.utils import get_puzzle_input"
   ]
  },
  {
   "cell_type": "markdown",
   "metadata": {},
   "source": [
    "### Part 1\n",
    "\n",
    "Each Elf has made a claim about which area of fabric would be ideal for Santa's suit. All claims have an ID and consist of a single rectangle with edges parallel to the edges of the fabric. Each claim's rectangle is defined as follows:\n",
    "\n",
    "The number of inches between the left edge of the fabric and the left edge of the rectangle.\n",
    "\n",
    "The number of inches between the top edge of the fabric and the top edge of the rectangle.\n",
    "\n",
    "The width of the rectangle in inches.\n",
    "\n",
    "The height of the rectangle in inches.\n",
    "\n",
    "A claim like #123 @ 3,2: 5x4 means that claim ID 123 specifies a rectangle 3 inches from the left edge, 2 inches from the top edge, 5 inches wide, and 4 inches tall. Visually, it claims the square inches of fabric represented by # (and ignores the square inches of fabric represented by .) in the diagram below:\n",
    "\n",
    "```\n",
    "...........\n",
    "...........\n",
    "...#####...\n",
    "...#####...\n",
    "...#####...\n",
    "...#####...\n",
    "...........\n",
    "...........\n",
    "...........\n",
    "```\n",
    "\n",
    "The problem is that many of the claims overlap, causing two or more claims to cover part of the same areas. For example, consider the following claims:\n",
    "\n",
    "```\n",
    "#1 @ 1,3: 4x4\n",
    "#2 @ 3,1: 4x4\n",
    "#3 @ 5,5: 2x2\n",
    "Visually, these claim the following areas:\n",
    "\n",
    "........\n",
    "...2222.\n",
    "...2222.\n",
    ".11XX22.\n",
    ".11XX22.\n",
    ".111133.\n",
    ".111133.\n",
    "........\n",
    "```\n",
    "\n",
    "The four square inches marked with X are claimed by both 1 and 2. (Claim 3, while adjacent to the others, does not overlap either of them.)\n",
    "\n",
    "If the Elves all proceed with their own plans, none of them will have enough fabric. How many square inches of fabric are within two or more claims?"
   ]
  },
  {
   "cell_type": "code",
   "execution_count": 3,
   "metadata": {},
   "outputs": [],
   "source": [
    "Claim = namedtuple('Claim', ['id', 'x', 'y', 'width', 'height'])\n",
    "\n",
    "claim_re = re.compile(r'^#([0-9]+) @ ([0-9]+),([0-9]+): ([0-9]+)x([0-9]+)')\n",
    "\n",
    "def parse_claim(str):\n",
    "    match = claim_re.match(str)\n",
    "    if not match:\n",
    "        raise ValueError('Invalid claim {}'.format(str))\n",
    "    \n",
    "    return Claim(*(int(x) for x in match.groups()))    "
   ]
  },
  {
   "cell_type": "code",
   "execution_count": 4,
   "metadata": {},
   "outputs": [],
   "source": [
    "assert claim_re.match('#113 @ 1,3: 4x4').groups() == ('113', '1', '3', '4', '4')\n",
    "assert parse_claim('#113 @ 1,3: 4x5') == Claim(id=113, x=1, y=3, width=4, height=5)"
   ]
  },
  {
   "cell_type": "code",
   "execution_count": 5,
   "metadata": {},
   "outputs": [],
   "source": [
    "def squares_in_claim(claim):\n",
    "    for x in range(claim.x, claim.x + claim.width):\n",
    "        for y in range(claim.y, claim.y + claim.height):\n",
    "            yield(x, y)"
   ]
  },
  {
   "cell_type": "code",
   "execution_count": null,
   "metadata": {},
   "outputs": [],
   "source": [
    "claim = Claim(id=113, x=1, y=3, width=2, height=3)\n",
    "assert set(squares_in_claim(claim)) == {(1, 3), (1, 4), (1, 5), (2, 3), (2, 4), (2, 5)}"
   ]
  },
  {
   "cell_type": "code",
   "execution_count": 6,
   "metadata": {},
   "outputs": [],
   "source": [
    "def common_squares(claims):\n",
    "    squares = defaultdict(lambda *_: 0)\n",
    "    \n",
    "    for claim in claims:\n",
    "        for square in squares_in_claim(claim):\n",
    "            squares[square] += 1\n",
    "    \n",
    "    return [square for square, used in squares.items() if used > 1]"
   ]
  },
  {
   "cell_type": "code",
   "execution_count": 7,
   "metadata": {},
   "outputs": [],
   "source": [
    "#1 @ 1,3: 4x4\n",
    "#2 @ 3,1: 4x4\n",
    "#3 @ 5,5: 2x2\n",
    "\n",
    "claims = [\n",
    "    Claim(id=1, x=1, y=3, width=4, height=4),\n",
    "    Claim(id=2, x=3, y=1, width=4, height=4),\n",
    "    Claim(id=3, x=5, y=5, width=2, height=2)\n",
    "]\n",
    "\n",
    "assert set(common_squares(claims)) == {(3, 3), (3, 4), (4, 3), (4, 4)}"
   ]
  },
  {
   "cell_type": "code",
   "execution_count": 8,
   "metadata": {},
   "outputs": [],
   "source": [
    "puzzle_input = get_puzzle_input('/tmp/aoc_day_3.txt')\n",
    "claims = [parse_claim(str) for str in puzzle_input]"
   ]
  },
  {
   "cell_type": "code",
   "execution_count": 9,
   "metadata": {},
   "outputs": [
    {
     "data": {
      "text/plain": [
       "119572"
      ]
     },
     "execution_count": 9,
     "metadata": {},
     "output_type": "execute_result"
    }
   ],
   "source": [
    "len(common_squares(claims))"
   ]
  },
  {
   "cell_type": "markdown",
   "metadata": {},
   "source": [
    "### Part 2\n",
    "\n",
    "Amidst the chaos, you notice that exactly one claim doesn't overlap by even a single square inch of fabric with any other claim. If you can somehow draw attention to it, maybe the Elves will be able to make Santa's suit after all!\n",
    "\n",
    "For example, in the claims above, only claim 3 is intact after all claims are made.\n",
    "\n",
    "What is the ID of the only claim that doesn't overlap?"
   ]
  },
  {
   "cell_type": "code",
   "execution_count": 10,
   "metadata": {},
   "outputs": [],
   "source": [
    "def non_overlapping_claim(claims):\n",
    "    all_claims = {claim.id for claim in claims}\n",
    "    overlapping_claims = set()\n",
    "\n",
    "    squares = defaultdict(list)\n",
    "    \n",
    "    for claim in claims:\n",
    "        for square in squares_in_claim(claim):\n",
    "            squares[square].append(claim.id)\n",
    "            if len(squares[square]) > 1:\n",
    "                overlapping_claims |= set(squares[square])\n",
    "    \n",
    "    return all_claims - overlapping_claims   "
   ]
  },
  {
   "cell_type": "code",
   "execution_count": 11,
   "metadata": {},
   "outputs": [
    {
     "data": {
      "text/plain": [
       "{775}"
      ]
     },
     "execution_count": 11,
     "metadata": {},
     "output_type": "execute_result"
    }
   ],
   "source": [
    "non_overlapping_claim(claims)"
   ]
  }
 ],
 "metadata": {
  "kernelspec": {
   "display_name": "Python 3",
   "language": "python",
   "name": "python3"
  },
  "language_info": {
   "codemirror_mode": {
    "name": "ipython",
    "version": 3
   },
   "file_extension": ".py",
   "mimetype": "text/x-python",
   "name": "python",
   "nbconvert_exporter": "python",
   "pygments_lexer": "ipython3",
   "version": "3.6.5"
  }
 },
 "nbformat": 4,
 "nbformat_minor": 2
}
