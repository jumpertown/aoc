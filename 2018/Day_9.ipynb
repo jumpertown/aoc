{
 "cells": [
  {
   "cell_type": "code",
   "execution_count": 176,
   "metadata": {},
   "outputs": [],
   "source": [
    "import sys\n",
    "sys.path.append(\"..\")"
   ]
  },
  {
   "cell_type": "code",
   "execution_count": 258,
   "metadata": {},
   "outputs": [],
   "source": [
    "from collections import Counter, defaultdict\n",
    "\n",
    "from time import time\n",
    "\n",
    "from resources.utils import get_puzzle_input"
   ]
  },
  {
   "cell_type": "markdown",
   "metadata": {},
   "source": [
    "### Part 1\n",
    "\n",
    "The Elves play this game by taking turns arranging the marbles in a circle according to very particular rules. The marbles are numbered starting with 0 and increasing by 1 until every marble has a number.\n",
    "\n",
    "First, the marble numbered 0 is placed in the circle. At this point, while it contains only a single marble, it is still a circle: the marble is both clockwise from itself and counter-clockwise from itself. This marble is designated the current marble.\n",
    "\n",
    "Then, each Elf takes a turn placing the lowest-numbered remaining marble into the circle between the marbles that are 1 and 2 marbles clockwise of the current marble. (When the circle is large enough, this means that there is one marble between the marble that was just placed and the current marble.) The marble that was just placed then becomes the current marble.\n",
    "\n",
    "However, if the marble that is about to be placed has a number which is a multiple of 23, something entirely different happens. First, the current player keeps the marble they would have placed, adding it to their score. In addition, the marble 7 marbles counter-clockwise from the current marble is removed from the circle and also added to the current player's score. The marble located immediately clockwise of the marble that was removed becomes the new current marble.\n",
    "\n",
    "For example, suppose there are 9 players. After the marble with value 0 is placed in the middle, each player (shown in square brackets) takes a turn. The result of each of those turns would produce circles of marbles like this, where clockwise is to the right and the resulting current marble is in parentheses:\n",
    "\n",
    "```\n",
    "[-] (0)\n",
    "[1]  0 (1)\n",
    "[2]  0 (2) 1 \n",
    "[3]  0  2  1 (3)\n",
    "[4]  0 (4) 2  1  3 \n",
    "[5]  0  4  2 (5) 1  3 \n",
    "[6]  0  4  2  5  1 (6) 3 \n",
    "[7]  0  4  2  5  1  6  3 (7)\n",
    "[8]  0 (8) 4  2  5  1  6  3  7 \n",
    "[9]  0  8  4 (9) 2  5  1  6  3  7 \n",
    "[1]  0  8  4  9  2(10) 5  1  6  3  7 \n",
    "[2]  0  8  4  9  2 10  5(11) 1  6  3  7 \n",
    "[3]  0  8  4  9  2 10  5 11  1(12) 6  3  7 \n",
    "[4]  0  8  4  9  2 10  5 11  1 12  6(13) 3  7 \n",
    "[5]  0  8  4  9  2 10  5 11  1 12  6 13  3(14) 7 \n",
    "[6]  0  8  4  9  2 10  5 11  1 12  6 13  3 14  7(15)\n",
    "[7]  0(16) 8  4  9  2 10  5 11  1 12  6 13  3 14  7 15 \n",
    "[8]  0 16  8(17) 4  9  2 10  5 11  1 12  6 13  3 14  7 15 \n",
    "[9]  0 16  8 17  4(18) 9  2 10  5 11  1 12  6 13  3 14  7 15 \n",
    "[1]  0 16  8 17  4 18  9(19) 2 10  5 11  1 12  6 13  3 14  7 15 \n",
    "[2]  0 16  8 17  4 18  9 19  2(20)10  5 11  1 12  6 13  3 14  7 15 \n",
    "[3]  0 16  8 17  4 18  9 19  2 20 10(21) 5 11  1 12  6 13  3 14  7 15 \n",
    "[4]  0 16  8 17  4 18  9 19  2 20 10 21  5(22)11  1 12  6 13  3 14  7 15 \n",
    "[5]  0 16  8 17  4 18(19) 2 20 10 21  5 22 11  1 12  6 13  3 14  7 15 \n",
    "[6]  0 16  8 17  4 18 19  2(24)20 10 21  5 22 11  1 12  6 13  3 14  7 15 \n",
    "[7]  0 16  8 17  4 18 19  2 24 20(25)10 21  5 22 11  1 12  6 13  3 14  7 15\n",
    "```\n",
    "\n",
    "The goal is to be the player with the highest score after the last marble is used up. Assuming the example above ends after the marble numbered 25, the winning score is 23+9=32 (because player 5 kept marble 23 and removed marble 9, while no other player got any points in this very short example game).\n",
    "\n",
    "Here are a few more examples:\n",
    "\n",
    "```\n",
    "10 players; last marble is worth 1618 points: high score is 8317\n",
    "13 players; last marble is worth 7999 points: high score is 146373\n",
    "17 players; last marble is worth 1104 points: high score is 2764\n",
    "21 players; last marble is worth 6111 points: high score is 54718\n",
    "30 players; last marble is worth 5807 points: high score is 37305\n",
    "```\n",
    "\n",
    "What is the winning Elf's score?"
   ]
  },
  {
   "cell_type": "code",
   "execution_count": 251,
   "metadata": {},
   "outputs": [],
   "source": [
    "class CircularBuffer:\n",
    "    def __init__(self, values, position=0):\n",
    "        self.buffer = values\n",
    "        self.position = position\n",
    "        \n",
    "    def __len__(self):\n",
    "        return len(self.buffer)\n",
    "    \n",
    "    def move_clockwise(self, distance):\n",
    "        self.position = self._clockwise(distance)\n",
    "        return self.position\n",
    "            \n",
    "        \n",
    "    def move_anticlockwise(self, distance):\n",
    "        self.position = self._anticlockwise(distance)\n",
    "        return self.position\n",
    "    \n",
    "    def add(self, value):\n",
    "        self.buffer.insert(self.position, value)\n",
    "        \n",
    "    def _clockwise(self, distance):\n",
    "        position = self.position\n",
    "        remaining_distance = distance\n",
    "        \n",
    "        remaining_to_right = len(self.buffer) - position - 1\n",
    "        if remaining_distance <= remaining_to_right:\n",
    "            position += remaining_distance\n",
    "        else:\n",
    "            position = 0\n",
    "            remaining_distance -= (remaining_to_right + 1)\n",
    "            #print(remaining_distance, remaining_distance % len(self.buffer))\n",
    "            position += remaining_distance % len(self.buffer)\n",
    "        \n",
    "        return position\n",
    "\n",
    "    def _anticlockwise(self, distance):\n",
    "        position = self.position\n",
    "        remaining_distance = distance\n",
    "        \n",
    "        remaining_to_left = position\n",
    "        if remaining_distance <= remaining_to_left:\n",
    "            position -= remaining_distance\n",
    "        else:\n",
    "            position = len(self.buffer)\n",
    "            remaining_distance -= remaining_to_left\n",
    "            position -= remaining_distance % len(self.buffer)\n",
    "            \n",
    "            if position == len(self.buffer):\n",
    "                position = 0\n",
    "        \n",
    "        return position\n",
    "\n",
    "    def value_anticlockwise(self, distance):\n",
    "        position = self._anticlockwise(distance)\n",
    "        return self.buffer[position]\n",
    "\n",
    "    def remove_anticlockwise(self, distance):\n",
    "        remove_position = self._anticlockwise(distance)\n",
    "        if remove_position <= self.position:\n",
    "            self.position -= 1\n",
    "        value = self.buffer[remove_position]\n",
    "        del self.buffer[remove_position]\n",
    "        return value\n",
    "    \n",
    "    def __str__(self):\n",
    "        vals = []\n",
    "        for pos in range(len(self.buffer)):\n",
    "            val = self.buffer[pos]\n",
    "            if pos == self.position:\n",
    "                vals.append('({})'.format(val))\n",
    "            else:\n",
    "                vals.append(str(val))\n",
    "            \n",
    "        return ' '.join(vals)     "
   ]
  },
  {
   "cell_type": "code",
   "execution_count": 243,
   "metadata": {},
   "outputs": [],
   "source": [
    "circle = CircularBuffer([0, 1, 2, 3], 1)\n",
    "assert CircularBuffer([0, 1, 2, 3], 1).move_clockwise(7) == 0\n",
    "assert CircularBuffer([0, 1, 2, 3], 2).move_anticlockwise(7) == 3"
   ]
  },
  {
   "cell_type": "code",
   "execution_count": 162,
   "metadata": {},
   "outputs": [
    {
     "data": {
      "text/plain": [
       "0"
      ]
     },
     "execution_count": 162,
     "metadata": {},
     "output_type": "execute_result"
    }
   ],
   "source": [
    "CircularBuffer([0, 1, 2, 3], 1)._clockwise(7)\n"
   ]
  },
  {
   "cell_type": "code",
   "execution_count": 165,
   "metadata": {},
   "outputs": [
    {
     "name": "stdout",
     "output_type": "stream",
     "text": [
      "0\n",
      "(1) 0\n",
      "0\n",
      "(2) 1 0\n",
      "2\n",
      "2 1 (3) 0\n",
      "0\n",
      "(4) 2 1 3 0\n",
      "2\n",
      "4 2 (5) 1 3 0\n",
      "4\n",
      "4 2 5 1 (6) 3 0\n",
      "6\n",
      "4 2 5 1 6 3 (7) 0\n",
      "0\n",
      "(8) 4 2 5 1 6 3 7 0\n",
      "2\n",
      "8 4 (9) 2 5 1 6 3 7 0\n"
     ]
    }
   ],
   "source": [
    "circle =CircularBuffer([0])\n",
    "\n",
    "for x in range(1, 10):\n",
    "    print(circle.move_clockwise(2))\n",
    "    circle.add(x)\n",
    "    print(circle)"
   ]
  },
  {
   "cell_type": "code",
   "execution_count": 168,
   "metadata": {},
   "outputs": [
    {
     "name": "stdout",
     "output_type": "stream",
     "text": [
      "0 16 8 17 4 18 9 19 2 20 10 21 5 (22) 11 1 12 6 13 3 14 7 15\n"
     ]
    }
   ],
   "source": [
    "circle_pre_remove =CircularBuffer(\n",
    "    [0, 16, 8, 17, 4, 18, 9, 19, 2, 20, 10, 21, 5, 22, 11, 1, 12, 6, 13, 3, 14, 7, 15],\n",
    "    13\n",
    ")\n",
    "print(circle)"
   ]
  },
  {
   "cell_type": "code",
   "execution_count": 174,
   "metadata": {},
   "outputs": [
    {
     "name": "stdout",
     "output_type": "stream",
     "text": [
      "0 16 8 17 4 18 9 19 2 20 10 21 5 (22) 11 1 12 6 13 3 14 7 15\n",
      "0 16 8 17 4 18 (19) 2 20 10 21 5 22 11 1 12 6 13 3 14 7 15\n",
      "0 16 8 17 4 18 19 2 (24) 20 10 21 5 22 11 1 12 6 13 3 14 7 15\n"
     ]
    }
   ],
   "source": [
    "circle_pre_remove =CircularBuffer(\n",
    "    [0, 16, 8, 17, 4, 18, 9, 19, 2, 20, 10, 21, 5, 22, 11, 1, 12, 6, 13, 3, 14, 7, 15],\n",
    "    13\n",
    ")\n",
    "print(circle_pre_remove)\n",
    "circle_pre_remove.remove_anticlockwise(7)\n",
    "circle_pre_remove.move_anticlockwise(6)\n",
    "print(circle_pre_remove)\n",
    "circle_pre_remove.move_clockwise(2)\n",
    "circle_pre_remove.add(24)\n",
    "print(circle_pre_remove)"
   ]
  },
  {
   "cell_type": "code",
   "execution_count": null,
   "metadata": {},
   "outputs": [],
   "source": [
    "#0 16 8 17 4 18 (19) 2 20 10 21 5 22 11 1 12 6 13 3 14 7 15\n",
    "#0 16 8 17 4 18 19 2 (24) 20 10 21 5 22 11 1 12 6 13 3 14 7 15\n",
    "[5]  0 16  8 17  4 18(19) 2 20 10 21  5 22 11  1 12  6 13  3 14  7 15 \n",
    "[6]  0 16  8 17  4 18 19  2(24)20 10 21  5 22 11  1 12  6 13  3 14  7 15"
   ]
  },
  {
   "cell_type": "code",
   "execution_count": 254,
   "metadata": {},
   "outputs": [],
   "source": [
    "def can_enter_fast_mode(remaining_moves, circle):\n",
    "    max_distance = remaining_moves * 2\n",
    "    max_distance -= remaining_moves // 23 * 7\n",
    "    return max_distance < len(circle)"
   ]
  },
  {
   "cell_type": "code",
   "execution_count": 250,
   "metadata": {},
   "outputs": [
    {
     "name": "stdout",
     "output_type": "stream",
     "text": [
      "26 22\n"
     ]
    },
    {
     "data": {
      "text/plain": [
       "False"
      ]
     },
     "execution_count": 250,
     "metadata": {},
     "output_type": "execute_result"
    }
   ],
   "source": [
    "test_circle = CircularBuffer(\n",
    "    [0, 16, 8, 17, 4, 18, 9, 19, 2, 20, 10, 21, 5, 22, 11, 1, 12, 6, 13, 3, 14, 7, 15],\n",
    "    13\n",
    ")\n",
    "test_circle.remove_anticlockwise(7)\n",
    "test_circle.move_anticlockwise(6)\n",
    "\n",
    "can_enter_fast_mode(13, test_circle)"
   ]
  },
  {
   "cell_type": "code",
   "execution_count": 262,
   "metadata": {},
   "outputs": [],
   "source": [
    "def solve(num_players, num_pieces):\n",
    "    circle = CircularBuffer([0])\n",
    "    scores = Counter()\n",
    "    current_piece = 1\n",
    "    current_player = 0\n",
    "    fast_mode = False\n",
    "    start_time = int(time())\n",
    "    \n",
    "    while current_piece <= num_pieces:\n",
    "        if current_piece % 100000 == 0:\n",
    "            print('Playing piece {} after {}s...'.format(current_piece, int(time() - start_time)))\n",
    "\n",
    "        if current_piece % 23 == 0:\n",
    "            #print(circle)\n",
    "            if fast_mode:\n",
    "                # No more deletions\n",
    "                value = circle.value_anticlockwise(7)\n",
    "                #scores[current_player] += circle.value_anticlockwise(7)                \n",
    "            else:\n",
    "                value = circle.remove_anticlockwise(7)\n",
    "                #scores[current_player] += circle.remove_anticlockwise(7)\n",
    "             \n",
    "            print(current_piece - value)\n",
    "            scores[current_player] += value\n",
    "\n",
    "            scores[current_player] += current_piece\n",
    "            circle.move_anticlockwise(6)\n",
    "            \n",
    "            # Can we go into fast mode ignoring deletions and additions\n",
    "            if not fast_mode:\n",
    "                entering_fast_mode = can_enter_fast_mode(num_pieces - current_piece, circle)\n",
    "                if entering_fast_mode:\n",
    "                    print('Entering fast mode on move {}...'.format(current_piece))\n",
    "                    fast_mode = True\n",
    "            \n",
    "        else:\n",
    "            circle.move_clockwise(2)\n",
    "            circle.add(current_piece)\n",
    "        \n",
    "        current_piece += 1\n",
    "        current_player += 1\n",
    "        if current_player >= num_players:\n",
    "            current_player = 0\n",
    "            \n",
    "    print(len(circle))\n",
    "    \n",
    "    return scores.most_common()[0]   "
   ]
  },
  {
   "cell_type": "code",
   "execution_count": 259,
   "metadata": {},
   "outputs": [
    {
     "name": "stdout",
     "output_type": "stream",
     "text": [
      "Entering fast mode on move 23...\n",
      "24\n",
      "Entering fast mode on move 1058...\n",
      "1503\n",
      "Entering fast mode on move 5221...\n",
      "7426\n",
      "Entering fast mode on move 736...\n",
      "1025\n",
      "Entering fast mode on move 3979...\n",
      "5674\n",
      "Entering fast mode on move 3795...\n",
      "5391\n"
     ]
    }
   ],
   "source": [
    "assert solve(9, 25)[1] == 32\n",
    "\n",
    "#10 players; last marble is worth 1618 points: high score is 8317\n",
    "#13 players; last marble is worth 7999 points: high score is 146373\n",
    "#17 players; last marble is worth 1104 points: high score is 2764\n",
    "#21 players; last marble is worth 6111 points: high score is 54718\n",
    "#30 players; last marble is worth 5807 points: high score is 37305\n",
    "\n",
    "assert solve(10, 1618)[1] == 8317\n",
    "assert solve(13, 7999)[1] == 146373\n",
    "assert solve(17, 1104)[1] == 2764\n",
    "assert solve(21, 6111)[1] == 54718\n",
    "assert solve(30, 5807)[1] == 37305"
   ]
  },
  {
   "cell_type": "code",
   "execution_count": 263,
   "metadata": {},
   "outputs": [
    {
     "name": "stdout",
     "output_type": "stream",
     "text": [
      "14\n",
      "29\n",
      "58\n",
      "77\n",
      "65\n",
      "80\n",
      "95\n",
      "151\n",
      "170\n",
      "131\n",
      "146\n",
      "231\n",
      "244\n",
      "182\n",
      "197\n",
      "212\n",
      "318\n",
      "337\n",
      "248\n",
      "263\n",
      "395\n",
      "411\n",
      "303\n",
      "314\n",
      "329\n",
      "346\n",
      "504\n",
      "365\n",
      "380\n",
      "562\n",
      "703\n",
      "597\n",
      "431\n",
      "446\n",
      "462\n",
      "764\n",
      "482\n",
      "497\n",
      "512\n",
      "846\n",
      "867\n",
      "548\n",
      "563\n",
      "578\n",
      "1032\n",
      "1044\n",
      "Entering fast mode on move 1058...\n",
      "614\n",
      "629\n",
      "916\n",
      "1061\n",
      "665\n",
      "680\n",
      "695\n",
      "1142\n",
      "1164\n",
      "731\n",
      "746\n",
      "1087\n",
      "1107\n",
      "786\n",
      "797\n",
      "812\n",
      "829\n",
      "1352\n",
      "848\n",
      "863\n",
      "1417\n",
      "1274\n",
      "1293\n",
      "914\n",
      "1503\n"
     ]
    },
    {
     "data": {
      "text/plain": [
       "(9, 8317)"
      ]
     },
     "execution_count": 263,
     "metadata": {},
     "output_type": "execute_result"
    }
   ],
   "source": [
    "solve(10, 1618)"
   ]
  },
  {
   "cell_type": "code",
   "execution_count": 260,
   "metadata": {},
   "outputs": [
    {
     "name": "stdout",
     "output_type": "stream",
     "text": [
      "Entering fast mode on move 46575...\n",
      "66490\n",
      "(170, 394486)\n",
      "CPU times: user 421 ms, sys: 6.32 ms, total: 427 ms\n",
      "Wall time: 426 ms\n"
     ]
    }
   ],
   "source": [
    "%%time\n",
    "\n",
    "# 448 players; last marble is worth 71628 points\n",
    "print(solve(448, 71628))"
   ]
  },
  {
   "cell_type": "code",
   "execution_count": 261,
   "metadata": {},
   "outputs": [
    {
     "name": "stdout",
     "output_type": "stream",
     "text": [
      "Playing piece 100000 after 1s...\n",
      "Playing piece 200000 after 4s...\n",
      "Playing piece 300000 after 9s...\n",
      "Playing piece 400000 after 11s...\n",
      "Playing piece 500000 after 24s...\n",
      "Playing piece 600000 after 37s...\n",
      "Playing piece 700000 after 47s...\n",
      "Playing piece 800000 after 53s...\n",
      "Playing piece 900000 after 56s...\n",
      "Playing piece 1000000 after 84s...\n",
      "Playing piece 1100000 after 131s...\n",
      "Playing piece 1200000 after 169s...\n",
      "Playing piece 1300000 after 201s...\n",
      "Playing piece 1400000 after 229s...\n",
      "Playing piece 1500000 after 252s...\n",
      "Playing piece 1600000 after 272s...\n",
      "Playing piece 1700000 after 289s...\n",
      "Playing piece 1800000 after 302s...\n",
      "Playing piece 1900000 after 313s...\n",
      "Playing piece 2000000 after 320s...\n",
      "Playing piece 2100000 after 324s...\n",
      "Playing piece 2200000 after 331s...\n",
      "Playing piece 2300000 after 473s...\n"
     ]
    },
    {
     "ename": "KeyboardInterrupt",
     "evalue": "",
     "output_type": "error",
     "traceback": [
      "\u001b[0;31m---------------------------------------------------------------------------\u001b[0m",
      "\u001b[0;31mKeyboardInterrupt\u001b[0m                         Traceback (most recent call last)",
      "\u001b[0;32m<ipython-input-261-f77c11acc4f2>\u001b[0m in \u001b[0;36m<module>\u001b[0;34m\u001b[0m\n\u001b[0;32m----> 1\u001b[0;31m \u001b[0mprint\u001b[0m\u001b[0;34m(\u001b[0m\u001b[0msolve\u001b[0m\u001b[0;34m(\u001b[0m\u001b[0;36m448\u001b[0m\u001b[0;34m,\u001b[0m \u001b[0;36m71628\u001b[0m \u001b[0;34m*\u001b[0m \u001b[0;36m100\u001b[0m\u001b[0;34m)\u001b[0m\u001b[0;34m)\u001b[0m\u001b[0;34m\u001b[0m\u001b[0m\n\u001b[0m",
      "\u001b[0;32m<ipython-input-256-6f27b8517677>\u001b[0m in \u001b[0;36msolve\u001b[0;34m(num_players, num_pieces)\u001b[0m\n\u001b[1;32m     31\u001b[0m         \u001b[0;32melse\u001b[0m\u001b[0;34m:\u001b[0m\u001b[0;34m\u001b[0m\u001b[0m\n\u001b[1;32m     32\u001b[0m             \u001b[0mcircle\u001b[0m\u001b[0;34m.\u001b[0m\u001b[0mmove_clockwise\u001b[0m\u001b[0;34m(\u001b[0m\u001b[0;36m2\u001b[0m\u001b[0;34m)\u001b[0m\u001b[0;34m\u001b[0m\u001b[0m\n\u001b[0;32m---> 33\u001b[0;31m             \u001b[0mcircle\u001b[0m\u001b[0;34m.\u001b[0m\u001b[0madd\u001b[0m\u001b[0;34m(\u001b[0m\u001b[0mcurrent_piece\u001b[0m\u001b[0;34m)\u001b[0m\u001b[0;34m\u001b[0m\u001b[0m\n\u001b[0m\u001b[1;32m     34\u001b[0m \u001b[0;34m\u001b[0m\u001b[0m\n\u001b[1;32m     35\u001b[0m         \u001b[0mcurrent_piece\u001b[0m \u001b[0;34m+=\u001b[0m \u001b[0;36m1\u001b[0m\u001b[0;34m\u001b[0m\u001b[0m\n",
      "\u001b[0;32m<ipython-input-251-9527df8d3bab>\u001b[0m in \u001b[0;36madd\u001b[0;34m(self, value)\u001b[0m\n\u001b[1;32m     17\u001b[0m \u001b[0;34m\u001b[0m\u001b[0m\n\u001b[1;32m     18\u001b[0m     \u001b[0;32mdef\u001b[0m \u001b[0madd\u001b[0m\u001b[0;34m(\u001b[0m\u001b[0mself\u001b[0m\u001b[0;34m,\u001b[0m \u001b[0mvalue\u001b[0m\u001b[0;34m)\u001b[0m\u001b[0;34m:\u001b[0m\u001b[0;34m\u001b[0m\u001b[0m\n\u001b[0;32m---> 19\u001b[0;31m         \u001b[0mself\u001b[0m\u001b[0;34m.\u001b[0m\u001b[0mbuffer\u001b[0m\u001b[0;34m.\u001b[0m\u001b[0minsert\u001b[0m\u001b[0;34m(\u001b[0m\u001b[0mself\u001b[0m\u001b[0;34m.\u001b[0m\u001b[0mposition\u001b[0m\u001b[0;34m,\u001b[0m \u001b[0mvalue\u001b[0m\u001b[0;34m)\u001b[0m\u001b[0;34m\u001b[0m\u001b[0m\n\u001b[0m\u001b[1;32m     20\u001b[0m \u001b[0;34m\u001b[0m\u001b[0m\n\u001b[1;32m     21\u001b[0m     \u001b[0;32mdef\u001b[0m \u001b[0m_clockwise\u001b[0m\u001b[0;34m(\u001b[0m\u001b[0mself\u001b[0m\u001b[0;34m,\u001b[0m \u001b[0mdistance\u001b[0m\u001b[0;34m)\u001b[0m\u001b[0;34m:\u001b[0m\u001b[0;34m\u001b[0m\u001b[0m\n",
      "\u001b[0;31mKeyboardInterrupt\u001b[0m: "
     ]
    }
   ],
   "source": [
    "print(solve(448, 71628 * 100))"
   ]
  },
  {
   "cell_type": "code",
   "execution_count": null,
   "metadata": {},
   "outputs": [],
   "source": [
    "max_num = 71628\n",
    "num_players = 448\n",
    "for x in range(100):\n",
    "    print(solve(num_players, max_num))\n",
    "    max_num += 23"
   ]
  },
  {
   "cell_type": "code",
   "execution_count": 217,
   "metadata": {},
   "outputs": [
    {
     "name": "stdout",
     "output_type": "stream",
     "text": [
      "0 2\n",
      "0 3\n",
      "2 2\n",
      "0 5\n",
      "2 4\n",
      "4 3\n",
      "6 2\n",
      "0 9\n",
      "2 8\n",
      "4 7\n",
      "6 6\n",
      "8 5\n",
      "10 4\n",
      "12 3\n",
      "14 2\n",
      "0 17\n",
      "2 16\n",
      "4 15\n",
      "6 14\n",
      "8 13\n",
      "10 12\n",
      "12 11\n",
      "5 17\n",
      "7 16\n",
      "9 15\n",
      "11 14\n",
      "13 13\n",
      "15 12\n",
      "17 11\n",
      "19 10\n",
      "21 9\n",
      "23 8\n",
      "25 7\n",
      "27 6\n",
      "29 5\n",
      "31 4\n",
      "33 3\n",
      "35 2\n",
      "0 38\n",
      "2 37\n",
      "4 36\n",
      "6 35\n",
      "8 34\n",
      "10 33\n",
      "12 32\n",
      "5 38\n",
      "7 37\n",
      "9 36\n",
      "11 35\n",
      "13 34\n",
      "15 33\n",
      "17 32\n",
      "19 31\n",
      "21 30\n",
      "23 29\n",
      "25 28\n",
      "27 27\n",
      "29 26\n",
      "31 25\n",
      "33 24\n",
      "35 23\n",
      "37 22\n",
      "39 21\n",
      "41 20\n",
      "43 19\n",
      "45 18\n",
      "47 17\n",
      "49 16\n",
      "42 22\n",
      "44 21\n",
      "46 20\n",
      "48 19\n",
      "50 18\n",
      "52 17\n",
      "54 16\n",
      "56 15\n",
      "58 14\n",
      "60 13\n",
      "62 12\n",
      "64 11\n",
      "66 10\n",
      "68 9\n",
      "70 8\n",
      "72 7\n",
      "74 6\n",
      "76 5\n",
      "78 4\n",
      "80 3\n",
      "82 2\n",
      "0 85\n",
      "2 84\n",
      "81 4\n",
      "83 3\n",
      "85 2\n",
      "0 88\n",
      "2 87\n",
      "4 86\n",
      "6 85\n",
      "8 84\n",
      "10 83\n",
      "12 82\n",
      "14 81\n",
      "16 80\n",
      "18 79\n",
      "20 78\n",
      "22 77\n",
      "24 76\n",
      "26 75\n",
      "28 74\n",
      "30 73\n",
      "32 72\n",
      "34 71\n",
      "36 70\n",
      "38 69\n",
      "31 75\n",
      "33 74\n",
      "35 73\n",
      "37 72\n",
      "39 71\n",
      "41 70\n",
      "43 69\n",
      "45 68\n",
      "47 67\n",
      "49 66\n",
      "51 65\n",
      "53 64\n",
      "55 63\n",
      "57 62\n",
      "59 61\n",
      "61 60\n",
      "63 59\n",
      "65 58\n",
      "67 57\n",
      "69 56\n",
      "71 55\n",
      "73 54\n",
      "75 53\n",
      "68 59\n",
      "70 58\n",
      "72 57\n",
      "74 56\n",
      "76 55\n",
      "78 54\n",
      "80 53\n",
      "82 52\n",
      "84 51\n",
      "86 50\n",
      "88 49\n",
      "90 48\n",
      "92 47\n",
      "94 46\n",
      "96 45\n",
      "98 44\n",
      "100 43\n",
      "102 42\n",
      "104 41\n",
      "106 40\n",
      "108 39\n",
      "110 38\n",
      "112 37\n",
      "105 43\n",
      "107 42\n",
      "109 41\n",
      "111 40\n",
      "113 39\n",
      "115 38\n",
      "117 37\n",
      "119 36\n",
      "121 35\n",
      "123 34\n",
      "125 33\n",
      "127 32\n",
      "129 31\n",
      "131 30\n",
      "133 29\n",
      "135 28\n",
      "137 27\n",
      "139 26\n",
      "141 25\n",
      "143 24\n",
      "145 23\n",
      "147 22\n",
      "149 21\n",
      "142 27\n",
      "144 26\n",
      "146 25\n",
      "148 24\n",
      "150 23\n",
      "152 22\n",
      "154 21\n",
      "156 20\n",
      "158 19\n",
      "160 18\n",
      "162 17\n",
      "164 16\n",
      "166 15\n",
      "168 14\n",
      "170 13\n",
      "172 12\n"
     ]
    }
   ],
   "source": [
    "# Given we're adding 23 numbers each time and then moving back 7\n",
    "# When's the last time we loop around?\n",
    "\n",
    "circle = CircularBuffer([1])\n",
    "for x in range(1, 200):\n",
    "    if x % 23 == 0:\n",
    "        circle.remove_anticlockwise(7)\n",
    "        circle.move_anticlockwise(6)\n",
    "    else:\n",
    "        circle.move_clockwise(2)\n",
    "        circle.add(x)\n",
    "    \n",
    "    print(circle.position, len(circle) - circle.position)\n",
    "    \n",
    "\n"
   ]
  },
  {
   "cell_type": "markdown",
   "metadata": {},
   "source": [
    "### Part 2"
   ]
  },
  {
   "cell_type": "code",
   "execution_count": 106,
   "metadata": {},
   "outputs": [
    {
     "data": {
      "text/plain": [
       "[0, 1, 3, 2]"
      ]
     },
     "execution_count": 106,
     "metadata": {},
     "output_type": "execute_result"
    }
   ],
   "source": [
    "x = [0, 1, 2]\n",
    "x.insert(2, 3)\n",
    "x"
   ]
  },
  {
   "cell_type": "code",
   "execution_count": 220,
   "metadata": {},
   "outputs": [
    {
     "data": {
      "text/plain": [
       "39"
      ]
     },
     "execution_count": 220,
     "metadata": {},
     "output_type": "execute_result"
    }
   ],
   "source": [
    "23 * 2 - 7\n",
    "\n",
    "how_far_can_we_go = \n",
    "\n",
    "moves_remaining = moves - "
   ]
  },
  {
   "cell_type": "code",
   "execution_count": null,
   "metadata": {},
   "outputs": [],
   "source": []
  }
 ],
 "metadata": {
  "kernelspec": {
   "display_name": "Python 3",
   "language": "python",
   "name": "python3"
  },
  "language_info": {
   "codemirror_mode": {
    "name": "ipython",
    "version": 3
   },
   "file_extension": ".py",
   "mimetype": "text/x-python",
   "name": "python",
   "nbconvert_exporter": "python",
   "pygments_lexer": "ipython3",
   "version": "3.6.5"
  }
 },
 "nbformat": 4,
 "nbformat_minor": 2
}
