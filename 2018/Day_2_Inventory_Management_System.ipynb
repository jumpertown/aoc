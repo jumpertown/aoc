{
 "cells": [
  {
   "cell_type": "code",
   "execution_count": 1,
   "metadata": {},
   "outputs": [],
   "source": [
    "import sys\n",
    "sys.path.append(\"..\")"
   ]
  },
  {
   "cell_type": "code",
   "execution_count": 2,
   "metadata": {},
   "outputs": [],
   "source": [
    "from collections import defaultdict\n",
    "from functools import reduce\n",
    "from operator import mul\n",
    "\n",
    "from resources.utils import get_puzzle_input, sum_indices"
   ]
  },
  {
   "cell_type": "markdown",
   "metadata": {},
   "source": [
    "### Part One\n",
    "\n",
    "For example, if you see the following box IDs:\n",
    "\n",
    "```\n",
    "abcdef contains no letters that appear exactly two or three times.\n",
    "bababc contains two a and three b, so it counts for both.\n",
    "abbcde contains two b, but no letter appears exactly three times.\n",
    "abcccd contains three c, but no letter appears exactly two times.\n",
    "aabcdd contains two a and two d, but it only counts once.\n",
    "abcdee contains two e.\n",
    "ababab contains three a and three b, but it only counts once.\n",
    "```\n",
    "\n",
    "Of these box IDs, four of them contain a letter which appears exactly twice, and three of them contain a letter which appears exactly three times. Multiplying these together produces a checksum of 4 * 3 = 12."
   ]
  },
  {
   "cell_type": "code",
   "execution_count": 3,
   "metadata": {},
   "outputs": [],
   "source": [
    "def repeated_letters(box_id, repeats=(2, 3)):\n",
    "    letters_seen = defaultdict(lambda *_: 0)\n",
    "    \n",
    "    for letter in box_id:\n",
    "        letters_seen[letter] += 1\n",
    " \n",
    "    return tuple(\n",
    "        int(r in letters_seen.values())\n",
    "        for r in repeats\n",
    "    )"
   ]
  },
  {
   "cell_type": "code",
   "execution_count": 4,
   "metadata": {},
   "outputs": [],
   "source": [
    "assert repeated_letters('abcdef') == (0, 0) \n",
    "assert repeated_letters('bababc') == (1, 1) \n",
    "assert repeated_letters('abbcde') == (1, 0) \n",
    "assert repeated_letters('abcccd') == (0, 1) \n",
    "assert repeated_letters('aabcdd') == (1, 0) \n",
    "assert repeated_letters('abcdee') == (1, 0)  "
   ]
  },
  {
   "cell_type": "code",
   "execution_count": 5,
   "metadata": {},
   "outputs": [],
   "source": [
    "def checksum_boxes(box_ids):\n",
    "    totals = sum_indices(*(\n",
    "        repeated_letters(box_id)\n",
    "        for box_id in box_ids\n",
    "    ))\n",
    "\n",
    "    return reduce(mul, totals, 1) "
   ]
  },
  {
   "cell_type": "code",
   "execution_count": 6,
   "metadata": {},
   "outputs": [],
   "source": [
    "box_ids = (\n",
    "    'abcdef',\n",
    "    'bababc',\n",
    "    'abbcde',\n",
    "    'abcccd',\n",
    "    'aabcdd',\n",
    "    'abcdee',\n",
    "    'ababab'\n",
    ")\n",
    "assert checksum_boxes(box_ids) == 12"
   ]
  },
  {
   "cell_type": "code",
   "execution_count": 7,
   "metadata": {},
   "outputs": [],
   "source": [
    "puzzle_input = get_puzzle_input('/tmp/input.txt')"
   ]
  },
  {
   "cell_type": "code",
   "execution_count": 8,
   "metadata": {},
   "outputs": [
    {
     "data": {
      "text/plain": [
       "6642"
      ]
     },
     "execution_count": 8,
     "metadata": {},
     "output_type": "execute_result"
    }
   ],
   "source": [
    "checksum_boxes(puzzle_input)"
   ]
  },
  {
   "cell_type": "markdown",
   "metadata": {},
   "source": [
    "### Part Two\n",
    "\n",
    "Confident that your list of box IDs is complete, you're ready to find the boxes full of prototype fabric.\n",
    "\n",
    "The boxes will have IDs which differ by exactly one character at the same position in both strings. For example, given the following box IDs:\n",
    "\n",
    "```\n",
    "abcde\n",
    "fghij\n",
    "klmno\n",
    "pqrst\n",
    "fguij\n",
    "axcye\n",
    "wvxyz\n",
    "```\n",
    "\n",
    "The IDs abcde and axcye are close, but they differ by two characters (the second and fourth). However, the IDs fghij and fguij differ by exactly one character, the third (h and u). Those must be the correct boxes.\n",
    "\n",
    "What letters are common between the two correct box IDs? (In the example above, this is found by removing the differing character from either ID, producing fgij.)"
   ]
  },
  {
   "cell_type": "code",
   "execution_count": 9,
   "metadata": {},
   "outputs": [
    {
     "data": {
      "text/plain": [
       "250"
      ]
     },
     "execution_count": 9,
     "metadata": {},
     "output_type": "execute_result"
    }
   ],
   "source": [
    "len(puzzle_input)"
   ]
  },
  {
   "cell_type": "markdown",
   "metadata": {},
   "source": [
    "Only 124 * 250 comparisons comparing every pair of elements so no need for a heuristic"
   ]
  },
  {
   "cell_type": "code",
   "execution_count": 10,
   "metadata": {},
   "outputs": [],
   "source": [
    "def difference(left, right):\n",
    "    return sum(1 for l, r in zip(left, right) if l != r)"
   ]
  },
  {
   "cell_type": "code",
   "execution_count": 11,
   "metadata": {},
   "outputs": [],
   "source": [
    "assert difference('abc', 'abd') == 1\n",
    "assert difference('abc', 'abc') == 0"
   ]
  },
  {
   "cell_type": "code",
   "execution_count": 12,
   "metadata": {},
   "outputs": [],
   "source": [
    "def find_partial_match(boxes):\n",
    "    for num in range(len(boxes)):\n",
    "        test_box = boxes[num]\n",
    "        for other in boxes[num + 1:]:\n",
    "            if difference(test_box, other) == 1:\n",
    "                return test_box, other      "
   ]
  },
  {
   "cell_type": "code",
   "execution_count": 13,
   "metadata": {},
   "outputs": [
    {
     "data": {
      "text/plain": [
       "('cvfqlbidheyujgtrswxmckqnap', 'cvzqlbidheyujgtrswxmckqnap')"
      ]
     },
     "execution_count": 13,
     "metadata": {},
     "output_type": "execute_result"
    }
   ],
   "source": [
    "find_partial_match(puzzle_input)"
   ]
  }
 ],
 "metadata": {
  "kernelspec": {
   "display_name": "Python 3",
   "language": "python",
   "name": "python3"
  },
  "language_info": {
   "codemirror_mode": {
    "name": "ipython",
    "version": 3
   },
   "file_extension": ".py",
   "mimetype": "text/x-python",
   "name": "python",
   "nbconvert_exporter": "python",
   "pygments_lexer": "ipython3",
   "version": "3.6.5"
  }
 },
 "nbformat": 4,
 "nbformat_minor": 2
}
