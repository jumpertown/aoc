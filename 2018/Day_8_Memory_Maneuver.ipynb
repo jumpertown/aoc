{
 "cells": [
  {
   "cell_type": "code",
   "execution_count": 1,
   "metadata": {},
   "outputs": [],
   "source": [
    "import sys\n",
    "sys.path.append(\"..\")"
   ]
  },
  {
   "cell_type": "code",
   "execution_count": 2,
   "metadata": {},
   "outputs": [],
   "source": [
    "from enum import Enum\n",
    "\n",
    "from resources.utils import get_puzzle_input\n",
    "from resources.tree import Node"
   ]
  },
  {
   "cell_type": "markdown",
   "metadata": {},
   "source": [
    "### Part 1\n",
    "\n",
    "The navigation system's license file consists of a list of numbers (your puzzle input). The numbers define a data structure which, when processed, produces some kind of tree that can be used to calculate the license number.\n",
    "\n",
    "The tree is made up of nodes; a single, outermost node forms the tree's root, and it contains all other nodes in the tree (or contains nodes that contain nodes, and so on).\n",
    "\n",
    "Specifically, a node consists of:\n",
    "\n",
    "```\n",
    "A header, which is always exactly two numbers:\n",
    "The quantity of child nodes.\n",
    "The quantity of metadata entries.\n",
    "Zero or more child nodes (as specified in the header).\n",
    "One or more metadata entries (as specified in the header).\n",
    "Each child node is itself a node that has its own header, child nodes, and metadata. For example:\n",
    "```\n",
    "\n",
    "```\n",
    "2 3 0 3 10 11 12 1 1 0 1 99 2 1 1 2\n",
    "A----------------------------------\n",
    "    B----------- C-----------\n",
    "                     D-----\n",
    "```\n",
    "\n",
    "In this example, each node of the tree is also marked with an underline starting with a letter for easier identification. In it, there are four nodes:\n",
    "\n",
    "```\n",
    "A, which has 2 child nodes (B, C) and 3 metadata entries (1, 1, 2).\n",
    "B, which has 0 child nodes and 3 metadata entries (10, 11, 12).\n",
    "C, which has 1 child node (D) and 1 metadata entry (2).\n",
    "D, which has 0 child nodes and 1 metadata entry (99).\n",
    "The first check done on the license file is to simply add up all of the metadata entries. In this example, that sum is 1+1+2+10+11+12+2+99=138.\n",
    "```\n"
   ]
  },
  {
   "cell_type": "code",
   "execution_count": 3,
   "metadata": {},
   "outputs": [],
   "source": [
    "test_input = [\n",
    "    \"2 3 0 3 10 11 12 1 1 0 1 99 2 1 1 2\",\n",
    "]"
   ]
  },
  {
   "cell_type": "code",
   "execution_count": 4,
   "metadata": {},
   "outputs": [],
   "source": [
    "def parse_input(input):\n",
    "    output = []\n",
    "    for line in input:\n",
    "        output.extend([int(i) for i in line.split(' ')])\n",
    "    return output"
   ]
  },
  {
   "cell_type": "code",
   "execution_count": 5,
   "metadata": {},
   "outputs": [
    {
     "data": {
      "text/plain": [
       "[2, 3, 0, 3, 10, 11, 12, 1, 1, 0, 1, 99, 2, 1, 1, 2]"
      ]
     },
     "execution_count": 5,
     "metadata": {},
     "output_type": "execute_result"
    }
   ],
   "source": [
    "parse_input(test_input)"
   ]
  },
  {
   "cell_type": "code",
   "execution_count": 6,
   "metadata": {},
   "outputs": [],
   "source": [
    "class LicenceNode(Node):\n",
    "    def __init__(self, name, num_children, num_data):\n",
    "        self.data = []\n",
    "        self.num_children = num_children\n",
    "        self.num_data = num_data\n",
    "        \n",
    "        super().__init__(name)\n",
    "    \n",
    "    @property\n",
    "    def consuming(self):\n",
    "        return self.num_data > len(self.data)\n",
    "    \n",
    "    @property\n",
    "    def expecting(self):\n",
    "        return self.num_children > len(self.children)\n",
    "    \n",
    "    @property\n",
    "    def value(self):\n",
    "        \"\"\"Part 2\"\"\"\n",
    "        if not self.children:\n",
    "            return sum(self.data)\n",
    "        \n",
    "        total = 0\n",
    "        for datum in self.data:\n",
    "            if datum > 0 and datum <= len(self.children):\n",
    "                total += self.children[datum - 1].value\n",
    "        \n",
    "        return total\n",
    "\n",
    "    def add_datum(self, datum):\n",
    "        self.data.append(datum)"
   ]
  },
  {
   "cell_type": "code",
   "execution_count": 7,
   "metadata": {},
   "outputs": [],
   "source": [
    "class State(Enum):\n",
    "    NUM_CHILDREN = 1\n",
    "    NUM_DATA = 2\n",
    "    DATA = 3"
   ]
  },
  {
   "cell_type": "code",
   "execution_count": 8,
   "metadata": {},
   "outputs": [],
   "source": [
    "def create_tree(input):\n",
    "    process_stack = []\n",
    "    state = State.NUM_CHILDREN\n",
    "    num_children = 0\n",
    "    node_num = 0\n",
    "    root = None\n",
    "    \n",
    "    for i in input:\n",
    "        if state == State.NUM_CHILDREN:\n",
    "            # New node\n",
    "            num_children = i\n",
    "            state = State.NUM_DATA\n",
    "\n",
    "        elif state == State.NUM_DATA:\n",
    "            node = LicenceNode(node_num, num_children, i)\n",
    "            node_num += 1\n",
    "\n",
    "            if process_stack:\n",
    "                node.add_parent(process_stack[-1])\n",
    "            else:\n",
    "                root = node\n",
    "            \n",
    "            process_stack.append(node)\n",
    "            \n",
    "            if node.num_children:\n",
    "                state = State.NUM_CHILDREN\n",
    "                continue\n",
    "\n",
    "            state = State.DATA\n",
    "        else:\n",
    "            assert state == State.DATA\n",
    "\n",
    "            while process_stack:\n",
    "                current_node = process_stack[-1]\n",
    "\n",
    "                if current_node.consuming:\n",
    "                    current_node.add_datum(i)\n",
    "                    break\n",
    "\n",
    "                if current_node.parent and current_node.parent.expecting:\n",
    "                    process_stack.pop()\n",
    "                    num_children = i\n",
    "                    state = State.NUM_DATA\n",
    "                    break\n",
    "                \n",
    "                process_stack.pop()\n",
    "                    \n",
    "    return root"
   ]
  },
  {
   "cell_type": "code",
   "execution_count": 9,
   "metadata": {},
   "outputs": [],
   "source": [
    "parsed_input = parse_input(test_input)\n",
    "test_tree = create_tree(parsed_input)"
   ]
  },
  {
   "cell_type": "code",
   "execution_count": 10,
   "metadata": {},
   "outputs": [],
   "source": [
    "def checksum(root):\n",
    "    cs = sum(root.data)\n",
    "    for d in root.decendants:\n",
    "        cs += sum(d.data)\n",
    "    \n",
    "    return cs"
   ]
  },
  {
   "cell_type": "code",
   "execution_count": 11,
   "metadata": {},
   "outputs": [
    {
     "data": {
      "text/plain": [
       "138"
      ]
     },
     "execution_count": 11,
     "metadata": {},
     "output_type": "execute_result"
    }
   ],
   "source": [
    "checksum(test_tree)"
   ]
  },
  {
   "cell_type": "code",
   "execution_count": 12,
   "metadata": {},
   "outputs": [
    {
     "data": {
      "text/plain": [
       "17176"
      ]
     },
     "execution_count": 12,
     "metadata": {},
     "output_type": "execute_result"
    }
   ],
   "source": [
    "puzzle_input = get_puzzle_input('/tmp/day_8.txt')\n",
    "parsed_puzzle_input = parse_input(puzzle_input)\n",
    "len(parsed_puzzle_input)"
   ]
  },
  {
   "cell_type": "code",
   "execution_count": 13,
   "metadata": {},
   "outputs": [],
   "source": [
    "puzzle_tree = create_tree(parsed_puzzle_input)"
   ]
  },
  {
   "cell_type": "code",
   "execution_count": 14,
   "metadata": {},
   "outputs": [
    {
     "data": {
      "text/plain": [
       "43996"
      ]
     },
     "execution_count": 14,
     "metadata": {},
     "output_type": "execute_result"
    }
   ],
   "source": [
    "checksum(puzzle_tree)"
   ]
  },
  {
   "cell_type": "markdown",
   "metadata": {},
   "source": [
    "### Part 2\n",
    "\n",
    "The second check is slightly more complicated: you need to find the value of the root node (A in the example above).\n",
    "\n",
    "The value of a node depends on whether it has child nodes.\n",
    "\n",
    "If a node has no child nodes, its value is the sum of its metadata entries. So, the value of node B is 10+11+12=33, and the value of node D is 99.\n",
    "\n",
    "However, if a node does have child nodes, the metadata entries become indexes which refer to those child nodes. A metadata entry of 1 refers to the first child node, 2 to the second, 3 to the third, and so on. The value of this node is the sum of the values of the child nodes referenced by the metadata entries. If a referenced child node does not exist, that reference is skipped. A child node can be referenced multiple time and counts each time it is referenced. A metadata entry of 0 does not refer to any child node.\n",
    "\n",
    "For example, again using the above nodes:\n",
    "\n",
    "```\n",
    "Node C has one metadata entry, 2. Because node C has only one child node, 2 references a child node which does not exist, and so the value of node C is 0.\n",
    "Node A has three metadata entries: 1, 1, and 2. The 1 references node A's first child node, B, and the 2 references node A's second child node, C. Because node B has a value of 33 and node C has a value of 0, the value of node A is 33+33+0=66.\n",
    "So, in this example, the value of the root node is 66.\n",
    "```\n",
    "\n",
    "What is the value of the root node?"
   ]
  },
  {
   "cell_type": "code",
   "execution_count": 15,
   "metadata": {},
   "outputs": [
    {
     "data": {
      "text/plain": [
       "66"
      ]
     },
     "execution_count": 15,
     "metadata": {},
     "output_type": "execute_result"
    }
   ],
   "source": [
    "test_tree.value"
   ]
  },
  {
   "cell_type": "code",
   "execution_count": 16,
   "metadata": {},
   "outputs": [
    {
     "data": {
      "text/plain": [
       "35189"
      ]
     },
     "execution_count": 16,
     "metadata": {},
     "output_type": "execute_result"
    }
   ],
   "source": [
    "puzzle_tree.value"
   ]
  },
  {
   "cell_type": "code",
   "execution_count": 18,
   "metadata": {},
   "outputs": [
    {
     "data": {
      "text/plain": [
       "1544340993"
      ]
     },
     "execution_count": 18,
     "metadata": {},
     "output_type": "execute_result"
    }
   ],
   "source": [
    "import time\n",
    "int(time.time())"
   ]
  },
  {
   "cell_type": "code",
   "execution_count": null,
   "metadata": {},
   "outputs": [],
   "source": []
  }
 ],
 "metadata": {
  "kernelspec": {
   "display_name": "Python 3",
   "language": "python",
   "name": "python3"
  },
  "language_info": {
   "codemirror_mode": {
    "name": "ipython",
    "version": 3
   },
   "file_extension": ".py",
   "mimetype": "text/x-python",
   "name": "python",
   "nbconvert_exporter": "python",
   "pygments_lexer": "ipython3",
   "version": "3.6.5"
  }
 },
 "nbformat": 4,
 "nbformat_minor": 2
}
