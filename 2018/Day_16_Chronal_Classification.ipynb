{
 "cells": [
  {
   "cell_type": "code",
   "execution_count": 1,
   "metadata": {},
   "outputs": [],
   "source": [
    "import sys\n",
    "sys.path.append(\"..\")"
   ]
  },
  {
   "cell_type": "code",
   "execution_count": 2,
   "metadata": {},
   "outputs": [],
   "source": [
    "import re\n",
    "\n",
    "from resources.breadth_first_solver.breadth_first_solver import BreadthFirstSolver\n",
    "from resources.breadth_first_solver.game import Game\n",
    "from resources.utils import get_puzzle_input"
   ]
  },
  {
   "cell_type": "markdown",
   "metadata": {},
   "source": [
    "### Part 1\n",
    "\n",
    "\n",
    "As you see the Elves defend their hot chocolate successfully, you go back to falling through time. This is going to become a problem.\n",
    "\n",
    "If you're ever going to return to your own time, you need to understand how this device on your wrist works. You have a little while before you reach your next destination, and with a bit of trial and error, you manage to pull up a programming manual on the device's tiny screen.\n",
    "\n",
    "According to the manual, the device has four registers (numbered 0 through 3) that can be manipulated by instructions containing one of 16 opcodes. The registers start with the value 0.\n",
    "\n",
    "Every instruction consists of four values: an opcode, two inputs (named A and B), and an output (named C), in that order. The opcode specifies the behavior of the instruction and how the inputs are interpreted. The output, C, is always treated as a register.\n",
    "\n",
    "In the opcode descriptions below, if something says \"value A\", it means to take the number given as A literally. (This is also called an \"immediate\" value.) If something says \"register A\", it means to use the number given as A to read from (or write to) the register with that number. So, if the opcode addi adds register A and value B, storing the result in register C, and the instruction addi 0 7 3 is encountered, it would add 7 to the value contained by register 0 and store the sum in register 3, never modifying registers 0, 1, or 2 in the process."
   ]
  },
  {
   "cell_type": "code",
   "execution_count": 3,
   "metadata": {},
   "outputs": [],
   "source": [
    "ops = []"
   ]
  },
  {
   "cell_type": "markdown",
   "metadata": {},
   "source": [
    "### Addition\n",
    "\n",
    "```\n",
    "addr (add register) stores into register C the result of adding register A and register B.\n",
    "addi (add immediate) stores into register C the result of adding register A and value B.\n",
    "```"
   ]
  },
  {
   "cell_type": "code",
   "execution_count": 4,
   "metadata": {},
   "outputs": [],
   "source": [
    "def addr(registers, instructions):\n",
    "    output = list(registers)\n",
    "    _, A, B, C = instructions \n",
    "    output[C] = registers[A] + registers[B]\n",
    "    return tuple(output)\n",
    "\n",
    "def addi(registers, instructions):\n",
    "    output = list(registers)\n",
    "    _, A, B, C = instructions \n",
    "    output[C] = registers[A] + B\n",
    "    return tuple(output)\n",
    "\n",
    "ops.extend((addr, addi))"
   ]
  },
  {
   "cell_type": "markdown",
   "metadata": {},
   "source": [
    "### Multiplication\n",
    "\n",
    "```\n",
    "mulr (multiply register) stores into register C the result of multiplying register A and register B.\n",
    "muli (multiply immediate) stores into register C the result of multiplying register A and value B.\n",
    "```"
   ]
  },
  {
   "cell_type": "code",
   "execution_count": 5,
   "metadata": {},
   "outputs": [],
   "source": [
    "def mulr(registers, instructions):\n",
    "    output = list(registers)\n",
    "    _, A, B, C = instructions \n",
    "    output[C] = registers[A] * registers[B]\n",
    "    return tuple(output)\n",
    "\n",
    "def muli(registers, instructions):\n",
    "    output = list(registers)\n",
    "    _, A, B, C = instructions \n",
    "    output[C] = registers[A] * B\n",
    "    return tuple(output)\n",
    "\n",
    "ops.extend((mulr, muli))"
   ]
  },
  {
   "cell_type": "markdown",
   "metadata": {},
   "source": [
    "### Bitwise AND\n",
    "\n",
    "```\n",
    "banr (bitwise AND register) stores into register C the result of the bitwise AND of register A and register B.\n",
    "bani (bitwise AND immediate) stores into register C the result of the bitwise AND of register A and value B.\n",
    "```"
   ]
  },
  {
   "cell_type": "code",
   "execution_count": 6,
   "metadata": {},
   "outputs": [],
   "source": [
    "def banr(registers, instructions):\n",
    "    output = list(registers)\n",
    "    _, A, B, C = instructions \n",
    "    output[C] = registers[A] & registers[B]\n",
    "    return tuple(output)\n",
    "\n",
    "def bani(registers, instructions):\n",
    "    output = list(registers)\n",
    "    _, A, B, C = instructions \n",
    "    output[C] = registers[A] & B\n",
    "    return tuple(output)\n",
    "\n",
    "ops.extend((banr, bani))"
   ]
  },
  {
   "cell_type": "markdown",
   "metadata": {},
   "source": [
    "### Bitwise OR\n",
    "\n",
    "```\n",
    "borr (bitwise OR register) stores into register C the result of the bitwise OR of register A and register B.\n",
    "bori (bitwise OR immediate) stores into register C the result of the bitwise OR of register A and value B.\n",
    "```"
   ]
  },
  {
   "cell_type": "code",
   "execution_count": 7,
   "metadata": {},
   "outputs": [],
   "source": [
    "def borr(registers, instructions):\n",
    "    output = list(registers)\n",
    "    _, A, B, C = instructions \n",
    "    output[C] = registers[A] | registers[B]\n",
    "    return tuple(output)\n",
    "\n",
    "def bori(registers, instructions):\n",
    "    output = list(registers)\n",
    "    _, A, B, C = instructions \n",
    "    output[C] = registers[A] | B\n",
    "    return tuple(output)\n",
    "\n",
    "ops.extend((borr, bori))"
   ]
  },
  {
   "cell_type": "markdown",
   "metadata": {},
   "source": [
    "### Assignment\n",
    "\n",
    "```\n",
    "setr (set register) copies the contents of register A into register C. (Input B is ignored.)\n",
    "seti (set immediate) stores value A into register C. (Input B is ignored.)\n",
    "```\n"
   ]
  },
  {
   "cell_type": "code",
   "execution_count": 8,
   "metadata": {},
   "outputs": [],
   "source": [
    "def setr(registers, instructions):\n",
    "    output = list(registers)\n",
    "    _, A, B, C = instructions\n",
    "    output[C] = registers[A]\n",
    "    return tuple(output)\n",
    "\n",
    "def seti(registers, instructions):\n",
    "    output = list(registers)\n",
    "    _, A, B, C = instructions\n",
    "    output[C] = A\n",
    "    return tuple(output)\n",
    "\n",
    "ops.extend((setr, seti))"
   ]
  },
  {
   "cell_type": "markdown",
   "metadata": {},
   "source": [
    "### Greater-than testing\n",
    "\n",
    "```\n",
    "gtir (greater-than immediate/register) sets register C to 1 if value A is greater than register B. Otherwise, register C is set to 0.\n",
    "gtri (greater-than register/immediate) sets register C to 1 if register A is greater than value B. Otherwise, register C is set to 0.\n",
    "gtrr (greater-than register/register) sets register C to 1 if register A is greater than register B. Otherwise, register C is set to 0.\n",
    "```"
   ]
  },
  {
   "cell_type": "code",
   "execution_count": 9,
   "metadata": {},
   "outputs": [],
   "source": [
    "def gtir(registers, instructions):\n",
    "    output = list(registers)\n",
    "    _, A, B, C = instructions \n",
    "    \n",
    "    output[C] = int(A > registers[B])\n",
    "    return tuple(output)\n",
    "\n",
    "def gtri(registers, instructions):\n",
    "    output = list(registers)\n",
    "    _, A, B, C = instructions \n",
    "    \n",
    "    output[C] = int(registers[A] > B)\n",
    "    return tuple(output)\n",
    "\n",
    "def gtrr(registers, instructions):\n",
    "    output = list(registers)\n",
    "    _, A, B, C = instructions \n",
    "    \n",
    "    output[C] = int(registers[A] > registers[B])\n",
    "    return tuple(output)\n",
    "\n",
    "ops.extend((gtir, gtri, gtrr))"
   ]
  },
  {
   "cell_type": "markdown",
   "metadata": {},
   "source": [
    "### Equality testing\n",
    "\n",
    "```\n",
    "eqir (equal immediate/register) sets register C to 1 if value A is equal to register B. Otherwise, register C is set to 0.\n",
    "eqri (equal register/immediate) sets register C to 1 if register A is equal to value B. Otherwise, register C is set to 0.\n",
    "eqrr (equal register/register) sets register C to 1 if register A is equal to register B. Otherwise, register C is set to 0.\n",
    "```"
   ]
  },
  {
   "cell_type": "code",
   "execution_count": 10,
   "metadata": {},
   "outputs": [],
   "source": [
    "def eqir(registers, instructions):\n",
    "    output = list(registers)\n",
    "    _, A, B, C = instructions \n",
    "    \n",
    "    output[C] = int(A == registers[B])\n",
    "    return tuple(output)\n",
    "\n",
    "def eqri(registers, instructions):\n",
    "    output = list(registers)\n",
    "    _, A, B, C = instructions \n",
    "    \n",
    "    output[C] = int(registers[A] == B)\n",
    "    return tuple(output)\n",
    "\n",
    "def eqrr(registers, instructions):\n",
    "    output = list(registers)\n",
    "    _, A, B, C = instructions \n",
    "    \n",
    "    output[C] = int(registers[A] == registers[B])\n",
    "    return tuple(output)\n",
    "\n",
    "ops.extend((eqir, eqri, eqrr))"
   ]
  },
  {
   "cell_type": "code",
   "execution_count": 11,
   "metadata": {},
   "outputs": [
    {
     "data": {
      "text/plain": [
       "['addr',\n",
       " 'addi',\n",
       " 'mulr',\n",
       " 'muli',\n",
       " 'banr',\n",
       " 'bani',\n",
       " 'borr',\n",
       " 'bori',\n",
       " 'setr',\n",
       " 'seti',\n",
       " 'gtir',\n",
       " 'gtri',\n",
       " 'gtrr',\n",
       " 'eqir',\n",
       " 'eqri',\n",
       " 'eqrr']"
      ]
     },
     "execution_count": 11,
     "metadata": {},
     "output_type": "execute_result"
    }
   ],
   "source": [
    "[op.__name__ for op in ops]"
   ]
  },
  {
   "cell_type": "code",
   "execution_count": 12,
   "metadata": {},
   "outputs": [],
   "source": [
    "def probe(before, instructions, after):\n",
    "    poss_ops  = [op for op in ops if op(before, instructions) == after]\n",
    "    return poss_ops"
   ]
  },
  {
   "cell_type": "code",
   "execution_count": 13,
   "metadata": {},
   "outputs": [],
   "source": [
    "assert addi((3, 2, 1, 1), (9, 2, 1, 2)) == (3, 2, 2, 1)"
   ]
  },
  {
   "cell_type": "code",
   "execution_count": 14,
   "metadata": {},
   "outputs": [],
   "source": [
    " assert {op.__name__ for op in probe((3, 2, 1, 1), (9, 2, 1, 2), (3, 2, 2, 1))} == {'addi', 'mulr', 'seti'}"
   ]
  },
  {
   "cell_type": "markdown",
   "metadata": {},
   "source": [
    "Input like:\n",
    "\n",
    "```\n",
    "Before: [3, 2, 1, 1]\n",
    "9 2 1 2\n",
    "After:  [3, 2, 2, 1]\n",
    "\n",
    "Before: [3, 2, 1, 1]\n",
    "9 2 1 2\n",
    "After:  [3, 2, 2, 1]\n",
    "...\n",
    "```"
   ]
  },
  {
   "cell_type": "code",
   "execution_count": 15,
   "metadata": {},
   "outputs": [],
   "source": [
    "def parse_probes(lines):\n",
    "    re_before = re.compile(r'^Before: \\[([-0-9]+), ([-0-9]+), ([-0-9]+), ([-0-9]+)\\]')\n",
    "    re_after = re.compile(r'^After:  \\[([-0-9]+), ([-0-9]+), ([-0-9]+), ([-0-9]+)\\]')\n",
    "    re_inst = re.compile(r'^([-0-9]+) ([-0-9]+) ([-0-9]+) ([-0-9]+)')\n",
    "    \n",
    "    state = 'BEFORE'\n",
    "    probes = []\n",
    "    \n",
    "    for line in lines:\n",
    "        if state == 'BEFORE':\n",
    "            if re_inst.match(line):\n",
    "                return probes\n",
    "            \n",
    "            match = re_before.match(line)\n",
    "            if not match:\n",
    "                raise ValueError('Not BEFORE line: {}'.format(line))\n",
    "            before = tuple(int(i) for i in match.groups())\n",
    "            state = 'INST'\n",
    "\n",
    "        elif state == 'INST':            \n",
    "            match = re_inst.match(line)\n",
    "            if not match:\n",
    "                raise ValueError('Not INST line: {}'.format(line))\n",
    "            inst = tuple(int(i) for i in match.groups())\n",
    "            state = 'AFTER'\n",
    "            \n",
    "        elif state == 'AFTER':            \n",
    "            match = re_after.match(line)\n",
    "            if not match:\n",
    "                raise ValueError('Not AFTER line: \"{}\"'.format(line))\n",
    "            after = tuple(int(i) for i in match.groups())\n",
    "            probes.append((before, inst, after))\n",
    "            state = 'BEFORE'\n",
    "           "
   ]
  },
  {
   "cell_type": "code",
   "execution_count": 16,
   "metadata": {},
   "outputs": [],
   "source": [
    "puzzle_input = get_puzzle_input('/tmp/day_16.txt')"
   ]
  },
  {
   "cell_type": "code",
   "execution_count": 17,
   "metadata": {},
   "outputs": [],
   "source": [
    "tests = parse_probes(puzzle_input)"
   ]
  },
  {
   "cell_type": "code",
   "execution_count": 18,
   "metadata": {},
   "outputs": [
    {
     "name": "stdout",
     "output_type": "stream",
     "text": [
      "782\n"
     ]
    },
    {
     "data": {
      "text/plain": [
       "[((3, 3, 2, 3), (3, 1, 2, 2), (3, 3, 2, 3)),\n",
       " ((1, 3, 0, 1), (12, 0, 2, 3), (1, 3, 0, 0)),\n",
       " ((0, 3, 2, 0), (14, 2, 3, 0), (1, 3, 2, 0)),\n",
       " ((2, 3, 3, 3), (10, 0, 3, 0), (2, 3, 3, 3)),\n",
       " ((0, 1, 2, 0), (7, 1, 2, 3), (0, 1, 2, 0)),\n",
       " ((3, 1, 2, 0), (7, 1, 2, 2), (3, 1, 0, 0)),\n",
       " ((1, 2, 1, 3), (6, 2, 2, 2), (1, 2, 2, 3)),\n",
       " ((1, 3, 2, 3), (3, 3, 2, 3), (1, 3, 2, 2)),\n",
       " ((0, 1, 2, 0), (8, 0, 0, 1), (0, 0, 2, 0)),\n",
       " ((1, 2, 3, 1), (0, 2, 3, 2), (1, 2, 1, 1))]"
      ]
     },
     "execution_count": 18,
     "metadata": {},
     "output_type": "execute_result"
    }
   ],
   "source": [
    "print(len(tests))\n",
    "tests[0:10]"
   ]
  },
  {
   "cell_type": "code",
   "execution_count": 19,
   "metadata": {},
   "outputs": [
    {
     "data": {
      "text/plain": [
       "590"
      ]
     },
     "execution_count": 19,
     "metadata": {},
     "output_type": "execute_result"
    }
   ],
   "source": [
    "score = 0\n",
    "for test in tests:\n",
    "    valid_ops = probe(*test)\n",
    "    if len(valid_ops) >= 3:\n",
    "        score += 1\n",
    "        \n",
    "score"
   ]
  },
  {
   "cell_type": "markdown",
   "metadata": {},
   "source": [
    "### Part 2\n",
    "\n",
    "Using the samples you collected, work out the number of each opcode and execute the test program (the second section of your puzzle input).\n",
    "\n",
    "What value is contained in register 0 after executing the test program?"
   ]
  },
  {
   "cell_type": "code",
   "execution_count": 20,
   "metadata": {},
   "outputs": [],
   "source": [
    "def possible_ops(tests, max_tests=0):\n",
    "    possible_matches = []\n",
    "\n",
    "    # initialise to any index can be any instuction\n",
    "    for _ in range(len(ops)):\n",
    "        possible_matches.append(set(ops))\n",
    "\n",
    "    num_tests = 0\n",
    "    for before, inst, after in tests:\n",
    "        op_num = inst[0]\n",
    "        \n",
    "        matched_ops = probe(before, inst, after)\n",
    "        possible_matches[op_num] &= set(matched_ops)\n",
    "        \n",
    "        num_tests += 1\n",
    "        if max_tests and num_tests > max_tests:\n",
    "            break\n",
    "        \n",
    "    return possible_matches"
   ]
  },
  {
   "cell_type": "code",
   "execution_count": 21,
   "metadata": {},
   "outputs": [],
   "source": [
    "ops_passing_tests = possible_ops(tests)"
   ]
  },
  {
   "cell_type": "code",
   "execution_count": 22,
   "metadata": {},
   "outputs": [
    {
     "name": "stdout",
     "output_type": "stream",
     "text": [
      "Index 0 ops: ['gtir', 'gtrr', 'eqri']\n",
      "Index 1 ops: ['gtri', 'bani', 'setr', 'bori', 'eqir', 'banr', 'gtrr', 'muli', 'gtir', 'mulr', 'addi', 'eqrr']\n",
      "Index 2 ops: ['mulr', 'addi', 'addr', 'muli']\n",
      "Index 3 ops: ['banr', 'bani']\n",
      "Index 4 ops: ['gtri', 'bani', 'eqir', 'banr', 'gtrr', 'eqri', 'seti', 'gtir', 'eqrr']\n",
      "Index 5 ops: ['bani', 'gtrr', 'eqri', 'gtir', 'eqrr']\n",
      "Index 6 ops: ['muli', 'addr', 'seti']\n",
      "Index 7 ops: ['gtri', 'bani', 'eqir', 'banr', 'gtrr', 'eqri', 'gtir', 'eqrr']\n",
      "Index 8 ops: ['gtri', 'muli', 'bani', 'setr', 'addr', 'borr', 'banr', 'gtrr', 'seti', 'gtir', 'mulr', 'addi', 'bori']\n",
      "Index 9 ops: ['gtir', 'setr']\n",
      "Index 10 ops: ['banr', 'bani', 'setr']\n",
      "Index 11 ops: ['bani', 'eqir', 'gtrr', 'eqri', 'gtir', 'eqrr']\n",
      "Index 12 ops: ['gtri', 'bani', 'banr', 'eqri', 'seti', 'gtir', 'mulr', 'eqrr']\n",
      "Index 13 ops: ['gtri', 'muli', 'bani', 'setr', 'eqir', 'banr', 'gtrr', 'eqri', 'seti', 'gtir', 'mulr', 'eqrr']\n",
      "Index 14 ops: ['gtir', 'gtrr']\n",
      "Index 15 ops: ['banr']\n"
     ]
    }
   ],
   "source": [
    "for i in range(len(ops_passing_tests)):\n",
    "    names = [op.__name__ for op in ops_passing_tests[i]]\n",
    "    print('Index {} ops: {}'.format(i, names))"
   ]
  },
  {
   "cell_type": "markdown",
   "metadata": {},
   "source": [
    "```\n",
    "15 <-> banr\n",
    "3  <-> bani\n",
    "```"
   ]
  },
  {
   "cell_type": "code",
   "execution_count": 23,
   "metadata": {},
   "outputs": [
    {
     "name": "stdout",
     "output_type": "stream",
     "text": [
      "addr [2, 6, 8]\n",
      "addi [1, 2, 8]\n",
      "mulr [1, 2, 8, 12, 13]\n",
      "muli [1, 2, 6, 8, 13]\n",
      "banr [1, 3, 4, 7, 8, 10, 12, 13, 15]\n",
      "bani [1, 3, 4, 5, 7, 8, 10, 11, 12, 13]\n",
      "borr [8]\n",
      "bori [1, 8]\n",
      "setr [1, 8, 9, 10, 13]\n",
      "seti [4, 6, 8, 12, 13]\n",
      "gtir [0, 1, 4, 5, 7, 8, 9, 11, 12, 13, 14]\n",
      "gtri [1, 4, 7, 8, 12, 13]\n",
      "gtrr [0, 1, 4, 5, 7, 8, 11, 13, 14]\n",
      "eqir [1, 4, 7, 11, 13]\n",
      "eqri [0, 4, 5, 7, 11, 12, 13]\n",
      "eqrr [1, 4, 5, 7, 11, 12, 13]\n"
     ]
    }
   ],
   "source": [
    "#reverse_lookup \n",
    "for op in ops:\n",
    "    poss_idxs = []\n",
    "    for i in range(len(ops_passing_tests)):\n",
    "        if op in ops_passing_tests[i]:\n",
    "            poss_idxs.append(i)\n",
    "    print(op.__name__, poss_idxs)\n",
    "        "
   ]
  },
  {
   "cell_type": "code",
   "execution_count": 24,
   "metadata": {},
   "outputs": [],
   "source": [
    "class OperationMapper(Game):   \n",
    "    def __init__(self, ops_passing_tests):\n",
    "        self.ops_passing_tests = ops_passing_tests\n",
    "        self.num_ops = len(ops_passing_tests)\n",
    "\n",
    "    @property\n",
    "    def initial_state(self):\n",
    "        return ()\n",
    "\n",
    "    @property\n",
    "    def ordered_moves(self):\n",
    "        return False\n",
    "\n",
    "    def next_moves(self, state):\n",
    "        mapped = dict(state)\n",
    "        mapped_idxs = set(mapped.keys())\n",
    "        mapped_ops = set(mapped.values())\n",
    "        \n",
    "        shortest_idx = None\n",
    "        shortest_ops = None\n",
    "        for idx in range(self.num_ops):\n",
    "            if idx in mapped_idxs:\n",
    "                continue\n",
    "\n",
    "            remaining_ops = set(self.ops_passing_tests[idx])\n",
    "            remaining_ops -= mapped_ops\n",
    "            \n",
    "            if shortest_idx is None or len(remaining_ops) < len(shortest_ops):\n",
    "                shortest_idx = idx\n",
    "                shortest_ops = remaining_ops\n",
    "                if not shortest_ops:\n",
    "                    # We have an index that can't be mapped\n",
    "                    # No valid further mapping\n",
    "                    break\n",
    "            \n",
    "        return {(shortest_idx, op) for op in shortest_ops} \n",
    "\n",
    "    def next_state(self, state, move):\n",
    "        \"\"\"Next state of the system given move `move` in state `state`.\"\"\"\n",
    "        return state + (move,)\n",
    "\n",
    "    def is_end_state(self, state):\n",
    "        \"\"\"Is the current state `state` an end state of the game.\"\"\"\n",
    "        return len(state) == self.num_ops"
   ]
  },
  {
   "cell_type": "code",
   "execution_count": 25,
   "metadata": {},
   "outputs": [
    {
     "name": "stdout",
     "output_type": "stream",
     "text": [
      "Move 0: examining 1 positions.\n",
      "Move 1: examining 1 positions.\n",
      "Move 2: examining 1 positions.\n",
      "Move 3: examining 1 positions.\n",
      "Move 4: examining 1 positions.\n",
      "Move 5: examining 1 positions.\n",
      "Move 6: examining 1 positions.\n",
      "Move 7: examining 1 positions.\n",
      "Move 8: examining 1 positions.\n",
      "Move 9: examining 1 positions.\n",
      "Move 10: examining 1 positions.\n",
      "Move 11: examining 1 positions.\n",
      "Move 12: examining 1 positions.\n",
      "Move 13: examining 1 positions.\n",
      "Move 14: examining 1 positions.\n",
      "Move 15: examining 1 positions.\n",
      "Move 16: examining 1 positions.\n"
     ]
    },
    {
     "data": {
      "text/plain": [
       "{((15, <function __main__.banr(registers, instructions)>),\n",
       "  (3, <function __main__.bani(registers, instructions)>),\n",
       "  (10, <function __main__.setr(registers, instructions)>),\n",
       "  (9, <function __main__.gtir(registers, instructions)>),\n",
       "  (14, <function __main__.gtrr(registers, instructions)>),\n",
       "  (0, <function __main__.eqri(registers, instructions)>),\n",
       "  (5, <function __main__.eqrr(registers, instructions)>),\n",
       "  (11, <function __main__.eqir(registers, instructions)>),\n",
       "  (7, <function __main__.gtri(registers, instructions)>),\n",
       "  (4, <function __main__.seti(registers, instructions)>),\n",
       "  (12, <function __main__.mulr(registers, instructions)>),\n",
       "  (13, <function __main__.muli(registers, instructions)>),\n",
       "  (6, <function __main__.addr(registers, instructions)>),\n",
       "  (2, <function __main__.addi(registers, instructions)>),\n",
       "  (1, <function __main__.bori(registers, instructions)>),\n",
       "  (8, <function __main__.borr(registers, instructions)>))}"
      ]
     },
     "execution_count": 25,
     "metadata": {},
     "output_type": "execute_result"
    }
   ],
   "source": [
    "op_mapper = OperationMapper(ops_passing_tests)\n",
    "solver = BreadthFirstSolver()\n",
    "solution = solver.solve(op_mapper)\n",
    "solution"
   ]
  },
  {
   "cell_type": "code",
   "execution_count": 26,
   "metadata": {},
   "outputs": [],
   "source": [
    "op_map = dict(list(solution)[0])"
   ]
  },
  {
   "cell_type": "code",
   "execution_count": 27,
   "metadata": {},
   "outputs": [],
   "source": [
    "part2_input = get_puzzle_input('/tmp/day_16_part_2.txt')"
   ]
  },
  {
   "cell_type": "code",
   "execution_count": 28,
   "metadata": {},
   "outputs": [],
   "source": [
    "part_2_instructions = []\n",
    "for line in part2_input:\n",
    "    part_2_instructions.append(tuple(int(i) for i in line.split(' ')))"
   ]
  },
  {
   "cell_type": "code",
   "execution_count": 29,
   "metadata": {},
   "outputs": [
    {
     "data": {
      "text/plain": [
       "[(2, 1, 3, 1), (4, 2, 3, 2), (7, 2, 1, 3), (13, 3, 2, 3), (6, 0, 3, 0)]"
      ]
     },
     "execution_count": 29,
     "metadata": {},
     "output_type": "execute_result"
    }
   ],
   "source": [
    "part_2_instructions[-5:]"
   ]
  },
  {
   "cell_type": "code",
   "execution_count": 30,
   "metadata": {},
   "outputs": [],
   "source": [
    "def solve(instructions, op_map):\n",
    "    registers = (0, 0, 0, 0)\n",
    "    \n",
    "    for step in instructions:\n",
    "        op = op_map[step[0]]\n",
    "        registers = op(registers, step)\n",
    "        \n",
    "    return registers"
   ]
  },
  {
   "cell_type": "code",
   "execution_count": 31,
   "metadata": {},
   "outputs": [
    {
     "data": {
      "text/plain": [
       "(475, 3, 2, 2)"
      ]
     },
     "execution_count": 31,
     "metadata": {},
     "output_type": "execute_result"
    }
   ],
   "source": [
    "solve(part_2_instructions, op_map)"
   ]
  }
 ],
 "metadata": {
  "kernelspec": {
   "display_name": "Python 3",
   "language": "python",
   "name": "python3"
  },
  "language_info": {
   "codemirror_mode": {
    "name": "ipython",
    "version": 3
   },
   "file_extension": ".py",
   "mimetype": "text/x-python",
   "name": "python",
   "nbconvert_exporter": "python",
   "pygments_lexer": "ipython3",
   "version": "3.6.5"
  }
 },
 "nbformat": 4,
 "nbformat_minor": 2
}
