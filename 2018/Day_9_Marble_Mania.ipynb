{
 "cells": [
  {
   "cell_type": "code",
   "execution_count": 1,
   "metadata": {},
   "outputs": [],
   "source": [
    "import sys\n",
    "sys.path.append(\"..\")"
   ]
  },
  {
   "cell_type": "code",
   "execution_count": 2,
   "metadata": {},
   "outputs": [],
   "source": [
    "from collections import Counter, defaultdict\n",
    "from time import time\n",
    "\n",
    "from resources.utils import get_puzzle_input"
   ]
  },
  {
   "cell_type": "markdown",
   "metadata": {},
   "source": [
    "### Part 1\n",
    "\n",
    "The Elves play this game by taking turns arranging the marbles in a circle according to very particular rules. The marbles are numbered starting with 0 and increasing by 1 until every marble has a number.\n",
    "\n",
    "First, the marble numbered 0 is placed in the circle. At this point, while it contains only a single marble, it is still a circle: the marble is both clockwise from itself and counter-clockwise from itself. This marble is designated the current marble.\n",
    "\n",
    "Then, each Elf takes a turn placing the lowest-numbered remaining marble into the circle between the marbles that are 1 and 2 marbles clockwise of the current marble. (When the circle is large enough, this means that there is one marble between the marble that was just placed and the current marble.) The marble that was just placed then becomes the current marble.\n",
    "\n",
    "However, if the marble that is about to be placed has a number which is a multiple of 23, something entirely different happens. First, the current player keeps the marble they would have placed, adding it to their score. In addition, the marble 7 marbles counter-clockwise from the current marble is removed from the circle and also added to the current player's score. The marble located immediately clockwise of the marble that was removed becomes the new current marble.\n",
    "\n",
    "For example, suppose there are 9 players. After the marble with value 0 is placed in the middle, each player (shown in square brackets) takes a turn. The result of each of those turns would produce circles of marbles like this, where clockwise is to the right and the resulting current marble is in parentheses:\n",
    "\n",
    "```\n",
    "[-] (0)\n",
    "[1]  0 (1)\n",
    "[2]  0 (2) 1 \n",
    "[3]  0  2  1 (3)\n",
    "[4]  0 (4) 2  1  3 \n",
    "[5]  0  4  2 (5) 1  3 \n",
    "[6]  0  4  2  5  1 (6) 3 \n",
    "[7]  0  4  2  5  1  6  3 (7)\n",
    "[8]  0 (8) 4  2  5  1  6  3  7 \n",
    "[9]  0  8  4 (9) 2  5  1  6  3  7 \n",
    "[1]  0  8  4  9  2(10) 5  1  6  3  7 \n",
    "[2]  0  8  4  9  2 10  5(11) 1  6  3  7 \n",
    "[3]  0  8  4  9  2 10  5 11  1(12) 6  3  7 \n",
    "[4]  0  8  4  9  2 10  5 11  1 12  6(13) 3  7 \n",
    "[5]  0  8  4  9  2 10  5 11  1 12  6 13  3(14) 7 \n",
    "[6]  0  8  4  9  2 10  5 11  1 12  6 13  3 14  7(15)\n",
    "[7]  0(16) 8  4  9  2 10  5 11  1 12  6 13  3 14  7 15 \n",
    "[8]  0 16  8(17) 4  9  2 10  5 11  1 12  6 13  3 14  7 15 \n",
    "[9]  0 16  8 17  4(18) 9  2 10  5 11  1 12  6 13  3 14  7 15 \n",
    "[1]  0 16  8 17  4 18  9(19) 2 10  5 11  1 12  6 13  3 14  7 15 \n",
    "[2]  0 16  8 17  4 18  9 19  2(20)10  5 11  1 12  6 13  3 14  7 15 \n",
    "[3]  0 16  8 17  4 18  9 19  2 20 10(21) 5 11  1 12  6 13  3 14  7 15 \n",
    "[4]  0 16  8 17  4 18  9 19  2 20 10 21  5(22)11  1 12  6 13  3 14  7 15 \n",
    "[5]  0 16  8 17  4 18(19) 2 20 10 21  5 22 11  1 12  6 13  3 14  7 15 \n",
    "[6]  0 16  8 17  4 18 19  2(24)20 10 21  5 22 11  1 12  6 13  3 14  7 15 \n",
    "[7]  0 16  8 17  4 18 19  2 24 20(25)10 21  5 22 11  1 12  6 13  3 14  7 15\n",
    "```\n",
    "\n",
    "The goal is to be the player with the highest score after the last marble is used up. Assuming the example above ends after the marble numbered 25, the winning score is 23+9=32 (because player 5 kept marble 23 and removed marble 9, while no other player got any points in this very short example game).\n",
    "\n",
    "Here are a few more examples:\n",
    "\n",
    "```\n",
    "10 players; last marble is worth 1618 points: high score is 8317\n",
    "13 players; last marble is worth 7999 points: high score is 146373\n",
    "17 players; last marble is worth 1104 points: high score is 2764\n",
    "21 players; last marble is worth 6111 points: high score is 54718\n",
    "30 players; last marble is worth 5807 points: high score is 37305\n",
    "```\n",
    "\n",
    "What is the winning Elf's score?"
   ]
  },
  {
   "cell_type": "code",
   "execution_count": 3,
   "metadata": {},
   "outputs": [],
   "source": [
    "class CircularBuffer:\n",
    "    def __init__(self, values, position=0):\n",
    "        self.buffer = values\n",
    "        self.position = position\n",
    "        \n",
    "    def __len__(self):\n",
    "        return len(self.buffer)\n",
    "    \n",
    "    def move(self, offset=0):\n",
    "        position = self._position_from_offset(offset)\n",
    "        self.position = position\n",
    "        return position\n",
    "\n",
    "    def value(self, offset=0):\n",
    "        position = self._position_from_offset(offset)\n",
    "        return self.buffer[position]\n",
    "    \n",
    "    def insert(self, value, offset=0):\n",
    "        position = self._position_from_offset(offset)\n",
    "        self.buffer.insert(position, value)\n",
    "        \n",
    "    def remove(self, offset=0):\n",
    "        remove_position = self._position_from_offset(offset)\n",
    "\n",
    "        if remove_position <= self.position:\n",
    "            self.position -= 1\n",
    "        value = self.buffer[remove_position]\n",
    "        del self.buffer[remove_position]\n",
    "        return value\n",
    "\n",
    "    def _move_op(self, offset):\n",
    "        return self._clockwise if offset > 0 else self._anticlockwise\n",
    "    \n",
    "    def _position_from_offset(self, offset):\n",
    "        op = self._move_op(offset)\n",
    "        position = op(abs(offset))\n",
    "        return position\n",
    "        \n",
    "    def _clockwise(self, distance):\n",
    "        position = self.position\n",
    "        remaining_distance = distance\n",
    "        \n",
    "        remaining_to_right = len(self.buffer) - position - 1\n",
    "        if remaining_distance <= remaining_to_right:\n",
    "            position += remaining_distance\n",
    "        else:\n",
    "            position = 0\n",
    "            remaining_distance -= (remaining_to_right + 1)\n",
    "            position += remaining_distance % len(self.buffer)\n",
    "        \n",
    "        return position\n",
    "\n",
    "    def _anticlockwise(self, distance):\n",
    "        position = self.position\n",
    "        remaining_distance = distance\n",
    "        \n",
    "        remaining_to_left = position\n",
    "        if remaining_distance <= remaining_to_left:\n",
    "            position -= remaining_distance\n",
    "        else:\n",
    "            position = len(self.buffer)\n",
    "            remaining_distance -= remaining_to_left\n",
    "            position -= remaining_distance % len(self.buffer)\n",
    "            \n",
    "            if position == len(self.buffer):\n",
    "                position = 0\n",
    "        \n",
    "        return position\n",
    "    \n",
    "    def __str__(self):\n",
    "        vals = []\n",
    "        for pos in range(len(self.buffer)):\n",
    "            val = self.buffer[pos]\n",
    "            if pos == self.position:\n",
    "                vals.append('({})'.format(val))\n",
    "            else:\n",
    "                vals.append(str(val))\n",
    "            \n",
    "        return ' '.join(vals)     "
   ]
  },
  {
   "cell_type": "code",
   "execution_count": 4,
   "metadata": {},
   "outputs": [],
   "source": [
    "circle = CircularBuffer([0, 1, 2, 3], 1)\n",
    "assert CircularBuffer([0, 1, 2, 3], 1).move(7) == 0\n",
    "assert CircularBuffer([0, 1, 2, 3], 2).move(-7) == 3"
   ]
  },
  {
   "cell_type": "code",
   "execution_count": 5,
   "metadata": {},
   "outputs": [
    {
     "name": "stdout",
     "output_type": "stream",
     "text": [
      "0\n",
      "(1) 0\n",
      "0\n",
      "(2) 1 0\n",
      "2\n",
      "2 1 (3) 0\n",
      "0\n",
      "(4) 2 1 3 0\n",
      "2\n",
      "4 2 (5) 1 3 0\n",
      "4\n",
      "4 2 5 1 (6) 3 0\n",
      "6\n",
      "4 2 5 1 6 3 (7) 0\n",
      "0\n",
      "(8) 4 2 5 1 6 3 7 0\n",
      "2\n",
      "8 4 (9) 2 5 1 6 3 7 0\n"
     ]
    }
   ],
   "source": [
    "circle = CircularBuffer([0])\n",
    "\n",
    "for x in range(1, 10):\n",
    "    print(circle.move(2))\n",
    "    circle.insert(x)\n",
    "    print(circle)"
   ]
  },
  {
   "cell_type": "code",
   "execution_count": 6,
   "metadata": {},
   "outputs": [
    {
     "name": "stdout",
     "output_type": "stream",
     "text": [
      "0 16 8 17 4 18 9 19 2 20 10 21 5 (22) 11 1 12 6 13 3 14 7 15\n",
      "0 16 8 17 4 18 (19) 2 20 10 21 5 22 11 1 12 6 13 3 14 7 15\n",
      "0 16 8 17 4 18 19 2 (24) 20 10 21 5 22 11 1 12 6 13 3 14 7 15\n"
     ]
    }
   ],
   "source": [
    "# Make sure the remove step works\n",
    "circle_pre_remove = CircularBuffer(\n",
    "    [0, 16, 8, 17, 4, 18, 9, 19, 2, 20, 10, 21, 5, 22, 11, 1, 12, 6, 13, 3, 14, 7, 15],\n",
    "    13\n",
    ")\n",
    "print(circle_pre_remove)\n",
    "circle_pre_remove.remove(-7)\n",
    "circle_pre_remove.move(-6)\n",
    "print(circle_pre_remove)\n",
    "circle_pre_remove.move(2)\n",
    "circle_pre_remove.insert(24)\n",
    "print(circle_pre_remove)"
   ]
  },
  {
   "cell_type": "code",
   "execution_count": 7,
   "metadata": {},
   "outputs": [],
   "source": [
    "# Part 2 - Fast mode is the point at which we'll never hit deletions and new additions\n",
    "def can_enter_fast_mode(remaining_moves, circle):\n",
    "    max_distance = 50  # Offset to save working out edges (a little bit extra for luck)...\n",
    "    max_distance += remaining_moves  # Additions move us one to the right\n",
    "    max_distance -= remaining_moves // 23 * 7 # Deletions move us 6 back (plus overcounted one above)\n",
    "    return max_distance < len(circle)"
   ]
  },
  {
   "cell_type": "code",
   "execution_count": 8,
   "metadata": {},
   "outputs": [],
   "source": [
    "def solve(num_players, num_pieces):\n",
    "    circle = CircularBuffer([0])\n",
    "    scores = Counter()\n",
    "    current_piece = 1\n",
    "    current_player = 0\n",
    "    fast_mode = False\n",
    "    entering_fast_mode = False\n",
    "    start_time = int(time())\n",
    "    \n",
    "    while current_piece <= num_pieces:\n",
    "        if current_piece % 100000 == 0:\n",
    "            print('Playing piece {} after {}s...'.format(current_piece, int(time() - start_time)))\n",
    "\n",
    "        if current_piece % 23 == 0:\n",
    "            if fast_mode:\n",
    "                circle.move(16)\n",
    "                value = circle.value()             \n",
    "            else:\n",
    "                value = circle.remove(-7)\n",
    "                circle.move(-6)\n",
    "\n",
    "            scores[current_player] += value\n",
    "            scores[current_player] += current_piece\n",
    "            \n",
    "            # Can we go into fast mode ignoring deletions and additions\n",
    "            # as we'll no longer hit anything to the left\n",
    "            if not fast_mode and can_enter_fast_mode(num_pieces - current_piece, circle):\n",
    "                print('Entering fast mode on move {}...'.format(current_piece))\n",
    "                fast_mode = True\n",
    "                # We're no longer going to insert or delete items to account\n",
    "                # For the three we have added before moving back move forward 3\n",
    "                circle.move(3)   \n",
    "        else:\n",
    "            # Nothing to do in fast mode\n",
    "            if not fast_mode:\n",
    "                circle.move(2)\n",
    "                circle.insert(current_piece)\n",
    "        \n",
    "        current_piece += 1\n",
    "        current_player += 1\n",
    "        if current_player >= num_players:\n",
    "            current_player = 0\n",
    "    \n",
    "    return scores.most_common()[0]   "
   ]
  },
  {
   "cell_type": "code",
   "execution_count": 9,
   "metadata": {},
   "outputs": [
    {
     "name": "stdout",
     "output_type": "stream",
     "text": [
      "Entering fast mode on move 736...\n",
      "Entering fast mode on move 3496...\n",
      "Entering fast mode on move 529...\n",
      "Entering fast mode on move 2691...\n",
      "Entering fast mode on move 2553...\n"
     ]
    }
   ],
   "source": [
    "assert solve(9, 25)[1] == 32\n",
    "\n",
    "#10 players; last marble is worth 1618 points: high score is 8317\n",
    "#13 players; last marble is worth 7999 points: high score is 146373\n",
    "#17 players; last marble is worth 1104 points: high score is 2764\n",
    "#21 players; last marble is worth 6111 points: high score is 54718\n",
    "#30 players; last marble is worth 5807 points: high score is 37305\n",
    "\n",
    "assert solve(10, 1618)[1] == 8317\n",
    "assert solve(13, 7999)[1] == 146373\n",
    "assert solve(17, 1104)[1] == 2764\n",
    "assert solve(21, 6111)[1] == 54718\n",
    "assert solve(30, 5807)[1] == 37305"
   ]
  },
  {
   "cell_type": "code",
   "execution_count": 10,
   "metadata": {},
   "outputs": [
    {
     "name": "stdout",
     "output_type": "stream",
     "text": [
      "Entering fast mode on move 736...\n"
     ]
    },
    {
     "data": {
      "text/plain": [
       "(9, 8317)"
      ]
     },
     "execution_count": 10,
     "metadata": {},
     "output_type": "execute_result"
    }
   ],
   "source": [
    "solve(10, 1618)"
   ]
  },
  {
   "cell_type": "code",
   "execution_count": 11,
   "metadata": {},
   "outputs": [
    {
     "name": "stdout",
     "output_type": "stream",
     "text": [
      "Entering fast mode on move 31027...\n",
      "(170, 394486)\n",
      "CPU times: user 268 ms, sys: 6.99 ms, total: 275 ms\n",
      "Wall time: 286 ms\n"
     ]
    }
   ],
   "source": [
    "%%time\n",
    "\n",
    "# 448 players; last marble is worth 71628 points\n",
    "print(solve(448, 71628))"
   ]
  },
  {
   "cell_type": "markdown",
   "metadata": {},
   "source": [
    "### Part 2\n",
    "\n",
    "Amused by the speed of your answer, the Elves are curious:\n",
    "\n",
    "What would the new winning Elf's score be if the number of the last marble were 100 times larger?"
   ]
  },
  {
   "cell_type": "code",
   "execution_count": 13,
   "metadata": {},
   "outputs": [
    {
     "name": "stdout",
     "output_type": "stream",
     "text": [
      "FAST: 19\n",
      "SLOW: 19\n",
      "FAST: 35\n",
      "SLOW: 35\n",
      "FAST: 51\n",
      "SLOW: 51\n",
      "FAST: 67\n",
      "SLOW: 67\n",
      "FAST: 83\n",
      "SLOW: 83\n",
      "FAST: 99\n",
      "SLOW: 99\n",
      "FAST: 115\n",
      "SLOW: 115\n",
      "FAST: 131\n",
      "SLOW: 131\n",
      "FAST: 147\n",
      "SLOW: 147\n",
      "FAST: 163\n",
      "SLOW: 163\n",
      "FAST: 179\n",
      "SLOW: 179\n",
      "FAST: 195\n",
      "SLOW: 195\n",
      "FAST: 211\n",
      "SLOW: 211\n"
     ]
    }
   ],
   "source": [
    "# Test fast mode behaviour\n",
    "# After a point we will never hit addition and deletions to the buffer\n",
    "# so let's work out equivalent behaviour without them\n",
    "\n",
    "mutating_circle = CircularBuffer(list(range(1000)))\n",
    "static_circle = CircularBuffer(list(range(1000)))\n",
    "\n",
    "for x in range(1, 300):\n",
    "    if x % 23 == 0:\n",
    "        if x == 23:\n",
    "            # Hit three extra values that I did actually insert\n",
    "            # Move forward to compensate\n",
    "            static_circle.move(19)\n",
    "        else:\n",
    "            static_circle.move(16)\n",
    "\n",
    "        removed = mutating_circle.remove(-7)\n",
    "        mutating_circle.move(-6)\n",
    "        \n",
    "        print('FAST:', static_circle.value())\n",
    "        print('SLOW:', removed)\n",
    "    else:\n",
    "        mutating_circle.move(2)\n",
    "        mutating_circle.insert('X')"
   ]
  },
  {
   "cell_type": "code",
   "execution_count": 14,
   "metadata": {},
   "outputs": [
    {
     "name": "stdout",
     "output_type": "stream",
     "text": [
      "Playing piece 100000 after 3s...\n",
      "Playing piece 200000 after 8s...\n",
      "Playing piece 300000 after 16s...\n",
      "Playing piece 400000 after 20s...\n",
      "Playing piece 500000 after 46s...\n",
      "Playing piece 600000 after 67s...\n",
      "Playing piece 700000 after 84s...\n",
      "Playing piece 800000 after 94s...\n",
      "Playing piece 900000 after 98s...\n",
      "Playing piece 1000000 after 140s...\n",
      "Playing piece 1100000 after 203s...\n",
      "Playing piece 1200000 after 266s...\n",
      "Playing piece 1300000 after 316s...\n",
      "Playing piece 1400000 after 363s...\n",
      "Playing piece 1500000 after 400s...\n",
      "Playing piece 1600000 after 429s...\n",
      "Playing piece 1700000 after 455s...\n",
      "Playing piece 1800000 after 478s...\n",
      "Playing piece 1900000 after 492s...\n",
      "Playing piece 2000000 after 503s...\n",
      "Playing piece 2100000 after 509s...\n",
      "Playing piece 2200000 after 517s...\n",
      "Playing piece 2300000 after 692s...\n",
      "Playing piece 2400000 after 897s...\n",
      "Playing piece 2500000 after 1026s...\n",
      "Playing piece 2600000 after 1150s...\n",
      "Playing piece 2700000 after 1269s...\n",
      "Playing piece 2800000 after 1383s...\n",
      "Playing piece 2900000 after 1492s...\n",
      "Playing piece 3000000 after 1601s...\n",
      "Entering fast mode on move 3097479...\n",
      "Playing piece 3100000 after 1698s...\n",
      "Playing piece 3200000 after 1698s...\n",
      "Playing piece 3300000 after 1698s...\n",
      "Playing piece 3400000 after 1698s...\n",
      "Playing piece 3500000 after 1698s...\n",
      "Playing piece 3600000 after 1698s...\n",
      "Playing piece 3700000 after 1698s...\n",
      "Playing piece 3800000 after 1698s...\n",
      "Playing piece 3900000 after 1698s...\n",
      "Playing piece 4000000 after 1698s...\n",
      "Playing piece 4100000 after 1698s...\n",
      "Playing piece 4200000 after 1698s...\n",
      "Playing piece 4300000 after 1698s...\n",
      "Playing piece 4400000 after 1698s...\n",
      "Playing piece 4500000 after 1698s...\n",
      "Playing piece 4600000 after 1698s...\n",
      "Playing piece 4700000 after 1698s...\n",
      "Playing piece 4800000 after 1698s...\n",
      "Playing piece 4900000 after 1698s...\n",
      "Playing piece 5000000 after 1698s...\n",
      "Playing piece 5100000 after 1699s...\n",
      "Playing piece 5200000 after 1699s...\n",
      "Playing piece 5300000 after 1699s...\n",
      "Playing piece 5400000 after 1699s...\n",
      "Playing piece 5500000 after 1699s...\n",
      "Playing piece 5600000 after 1699s...\n",
      "Playing piece 5700000 after 1699s...\n",
      "Playing piece 5800000 after 1699s...\n",
      "Playing piece 5900000 after 1699s...\n",
      "Playing piece 6000000 after 1699s...\n",
      "Playing piece 6100000 after 1699s...\n",
      "Playing piece 6200000 after 1699s...\n",
      "Playing piece 6300000 after 1699s...\n",
      "Playing piece 6400000 after 1699s...\n",
      "Playing piece 6500000 after 1699s...\n",
      "Playing piece 6600000 after 1699s...\n",
      "Playing piece 6700000 after 1699s...\n",
      "Playing piece 6800000 after 1699s...\n",
      "Playing piece 6900000 after 1699s...\n",
      "Playing piece 7000000 after 1699s...\n",
      "Playing piece 7100000 after 1699s...\n",
      "(437, 3276488008)\n",
      "CPU times: user 27min 16s, sys: 6.98 s, total: 27min 23s\n",
      "Wall time: 28min 19s\n"
     ]
    }
   ],
   "source": [
    "%%time\n",
    "\n",
    "print(solve(448, 71628 * 100))"
   ]
  },
  {
   "cell_type": "code",
   "execution_count": null,
   "metadata": {},
   "outputs": [],
   "source": []
  }
 ],
 "metadata": {
  "kernelspec": {
   "display_name": "Python 3",
   "language": "python",
   "name": "python3"
  },
  "language_info": {
   "codemirror_mode": {
    "name": "ipython",
    "version": 3
   },
   "file_extension": ".py",
   "mimetype": "text/x-python",
   "name": "python",
   "nbconvert_exporter": "python",
   "pygments_lexer": "ipython3",
   "version": "3.6.5"
  }
 },
 "nbformat": 4,
 "nbformat_minor": 2
}
