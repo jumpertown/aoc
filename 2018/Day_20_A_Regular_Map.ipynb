{
 "cells": [
  {
   "cell_type": "code",
   "execution_count": 1,
   "metadata": {},
   "outputs": [],
   "source": [
    "import sys\n",
    "sys.path.append(\"..\")"
   ]
  },
  {
   "cell_type": "code",
   "execution_count": 2,
   "metadata": {},
   "outputs": [],
   "source": [
    "from collections import deque\n",
    "import re\n",
    "\n",
    "from resources.utils import get_puzzle_input\n",
    "from resources.tree import Node"
   ]
  },
  {
   "cell_type": "code",
   "execution_count": 3,
   "metadata": {},
   "outputs": [],
   "source": [
    "class Area(Node):\n",
    "    def __init__(self, name, start=(0, 0)):\n",
    "        self.start = start\n",
    "        self.end = start\n",
    "        self.directions = []\n",
    "        self.points = {start: 0}\n",
    "        self.num_steps = 0\n",
    "        self.is_cloned = False\n",
    "\n",
    "        super().__init__(name)\n",
    "\n",
    "    @property\n",
    "    def furthest_point(self):\n",
    "        return max(self.points, key=self.points.get)\n",
    "        \n",
    "    @property\n",
    "    def num_doors(self):\n",
    "        parent_doors = self.parent.num_doors if self.parent else 0\n",
    "        my_doors = self.points[self.furthest_point]\n",
    "        \n",
    "        return my_doors + parent_doors\n",
    "        \n",
    "    def add_direction(self, direction):\n",
    "        self.directions.append(direction)\n",
    "\n",
    "        if direction == 'N':\n",
    "            self.end = self.end[0], self.end[1] + 2               \n",
    "        elif direction == 'S':\n",
    "            self.end = self.end[0], self.end[1] - 2\n",
    "        elif direction == 'E':\n",
    "            self.end = self.end[0] + 2, self.end[1]\n",
    "        else:\n",
    "            self.end = self.end[0] - 2, self.end[1]\n",
    "\n",
    "        # May have already reached this point if this is a dead end.\n",
    "        if self.end not in self.points:\n",
    "            self.points[self.end] = len(self.directions)\n",
    "            \n",
    "    def clone(self, clone_parent=True):\n",
    "        cloned_area = Area(\n",
    "            name='{}.CLONE'.format(self.name),\n",
    "            start=self.start\n",
    "        )\n",
    "        \n",
    "        if clone_parent:\n",
    "            cloned_area.add_parent(self.parent)\n",
    "\n",
    "        cloned_area.end = self.end\n",
    "        cloned_area.directions = list(self.directions)\n",
    "        cloned_area.points = dict(self.points)\n",
    "        cloned_area.num_steps = self.num_steps\n",
    "\n",
    "        self.is_cloned = True\n",
    "        return cloned_area\n",
    "\n",
    "    def __repr__(self):\n",
    "        return '<Area 0x:{} name={}, parent={} dirs={} st={} end={}>'.format(\n",
    "            id(self),\n",
    "            self.name,\n",
    "            self.parent.name if self.parent else None,\n",
    "            ''.join(self.directions),\n",
    "            self.start,\n",
    "            self.end\n",
    "        )"
   ]
  },
  {
   "cell_type": "markdown",
   "metadata": {},
   "source": [
    "### Part 1"
   ]
  },
  {
   "cell_type": "code",
   "execution_count": 4,
   "metadata": {},
   "outputs": [],
   "source": [
    "class DoorMap:\n",
    "    def __init__(self, regexp):\n",
    "        # remove the ^$\n",
    "        self.regexp = regexp[1:-1]\n",
    "\n",
    "        self.num_areas = 1\n",
    "        self.root = Area(name=0)\n",
    "\n",
    "        self._create()\n",
    "\n",
    "    @property\n",
    "    def max_doors(self):\n",
    "        return max(area.num_doors for area in self.root.decendants)\n",
    "                \n",
    "    def _create_area(self, parent_stack):\n",
    "        parent = parent_stack[-1]\n",
    "        child = Area(name=self.num_areas, start=parent.end)\n",
    "        self.num_areas += 1\n",
    "        child.add_parent(parent)\n",
    "        return child  \n",
    "        \n",
    "    def _create(self):\n",
    "        instructions = deque(self.regexp)\n",
    "\n",
    "        current_area = None\n",
    "        parent_stack = [self.root]\n",
    "\n",
    "        while instructions:\n",
    "            instruction = instructions.popleft()\n",
    "\n",
    "            # Directions\n",
    "            if instruction in ('N', 'E', 'S', 'W'):\n",
    "                if not current_area:\n",
    "                    current_area = self._create_area(parent_stack)\n",
    "  \n",
    "                current_area.add_direction(instruction)\n",
    "                expecting_sibling = False\n",
    "    \n",
    "            elif instruction == '|':\n",
    "                current_area = None\n",
    "                expecting_sibling = True\n",
    "                \n",
    "            elif instruction == ')':\n",
    "                current_area = None\n",
    "\n",
    "                if expecting_sibling:\n",
    "                    # We didn't get another sibling so we must have\n",
    "                    # hit dead ends and need to continue from where\n",
    "                    # we left off. Copy the current area so we don't\n",
    "                    # mix the roots of the tree.\n",
    "                    current_area = parent_stack[-1].clone()\n",
    "\n",
    "                parent_stack.pop()\n",
    "                expecting_sibling = False\n",
    "                \n",
    "            elif instruction == '(':\n",
    "                parent_stack.append(current_area)\n",
    "                current_area = None\n",
    "                expecting_sibling = False\n",
    "            else:\n",
    "                raise ValueError('Unknown instruction: {}'.format(instruction))\n",
    "\n",
    "        \n",
    "    "
   ]
  },
  {
   "cell_type": "code",
   "execution_count": 5,
   "metadata": {},
   "outputs": [
    {
     "data": {
      "text/plain": [
       "<Area 0x:4465621144 name=0, parent=None dirs= st=(0, 0) end=(0, 0)>"
      ]
     },
     "execution_count": 5,
     "metadata": {},
     "output_type": "execute_result"
    }
   ],
   "source": [
    "door_map = DoorMap('^WNE$')\n",
    "door_map.root"
   ]
  },
  {
   "cell_type": "code",
   "execution_count": 6,
   "metadata": {},
   "outputs": [
    {
     "name": "stdout",
     "output_type": "stream",
     "text": [
      "<Area 0x:4465621312 name=1, parent=0 dirs=WNE st=(0, 0) end=(0, 2)> 3\n"
     ]
    }
   ],
   "source": [
    "for area in door_map.root.decendants:\n",
    "    print(area, area.num_doors)"
   ]
  },
  {
   "cell_type": "code",
   "execution_count": 7,
   "metadata": {},
   "outputs": [],
   "source": [
    "door_map = DoorMap('^ENWWW(NEEE|SSE(EE|N))$')"
   ]
  },
  {
   "cell_type": "code",
   "execution_count": 8,
   "metadata": {},
   "outputs": [
    {
     "name": "stdout",
     "output_type": "stream",
     "text": [
      "<Area 0x:4465393616 name=1, parent=0 dirs=ENWWW st=(0, 0) end=(-4, 2)> 5\n",
      "<Area 0x:4465392888 name=2, parent=1 dirs=NEEE st=(-4, 2) end=(2, 4)> 9\n",
      "<Area 0x:4465393112 name=3, parent=1 dirs=SSE st=(-4, 2) end=(-2, -2)> 8\n",
      "<Area 0x:4465392440 name=4, parent=3 dirs=EE st=(-2, -2) end=(2, -2)> 10\n",
      "<Area 0x:4465392608 name=5, parent=3 dirs=N st=(-2, -2) end=(-2, 0)> 9\n"
     ]
    }
   ],
   "source": [
    "for area in door_map.root.decendants:\n",
    "    print(area, area.num_doors)"
   ]
  },
  {
   "cell_type": "markdown",
   "metadata": {},
   "source": [
    "\n",
    "```\n",
    "In the first example (^WNE$), this would be the north-east corner 3 doors away.\n",
    "In the second example (^ENWWW(NEEE|SSE(EE|N))$), this would be the south-east corner 10 doors away.\n",
    "In the third example (^ENNWSWW(NEWS|)SSSEEN(WNSE|)EE(SWEN|)NNN$), this would be the north-east corner 18 doors away.\n",
    "```"
   ]
  },
  {
   "cell_type": "code",
   "execution_count": 9,
   "metadata": {},
   "outputs": [],
   "source": [
    "for regexp, expected in [\n",
    "    ('^WNE$', 3),\n",
    "    ('^ENWWW(NEEE|SSE(EE|N))$', 10),\n",
    "    ('^ENNWSWW(NEWS|)SSSEEN(WNSE|)EE(SWEN|)NNN$', 18),\n",
    "    ('^ESSWWN(E|NNENN(EESS(WNSE|)SSS|WWWSSSSE(SW|NNNE)))$', 23),\n",
    "    ('^WSSEESWWWNW(S|NENNEEEENN(ESSSSW(NWSW|SSEN)|WSWWN(E|WWS(E|SS))))$', 31)\n",
    "]:\n",
    "    assert DoorMap(regexp).max_doors == expected"
   ]
  },
  {
   "cell_type": "code",
   "execution_count": 10,
   "metadata": {},
   "outputs": [],
   "source": [
    "puzzle_input = get_puzzle_input('/tmp/day_20.txt')"
   ]
  },
  {
   "cell_type": "code",
   "execution_count": 11,
   "metadata": {},
   "outputs": [
    {
     "data": {
      "text/plain": [
       "('^', '$')"
      ]
     },
     "execution_count": 11,
     "metadata": {},
     "output_type": "execute_result"
    }
   ],
   "source": [
    "# Check expected start and end\n",
    "puzzle_input[0][0], puzzle_input[0][-1]"
   ]
  },
  {
   "cell_type": "code",
   "execution_count": 12,
   "metadata": {},
   "outputs": [],
   "source": [
    "puzzle_map = DoorMap(puzzle_input[0])"
   ]
  },
  {
   "cell_type": "code",
   "execution_count": 13,
   "metadata": {},
   "outputs": [
    {
     "data": {
      "text/plain": [
       "3669"
      ]
     },
     "execution_count": 13,
     "metadata": {},
     "output_type": "execute_result"
    }
   ],
   "source": [
    "puzzle_map.max_doors"
   ]
  },
  {
   "cell_type": "markdown",
   "metadata": {},
   "source": [
    "### Part 2"
   ]
  },
  {
   "cell_type": "code",
   "execution_count": 14,
   "metadata": {},
   "outputs": [],
   "source": [
    "point_distances = {}\n",
    "for area in puzzle_map.root.decendants:\n",
    "    furthest_point = area.furthest_point\n",
    "    distance = area.num_doors\n",
    "    furthest_distance = area.points[furthest_point]\n",
    "    \n",
    "    for point, rel_dist in area.points.items():\n",
    "        point_dist = distance + rel_dist - furthest_distance\n",
    "        if point not in point_distances or point_dist < point_distances[point]:\n",
    "            point_distances[point] = point_dist            "
   ]
  },
  {
   "cell_type": "code",
   "execution_count": 15,
   "metadata": {},
   "outputs": [
    {
     "data": {
      "text/plain": [
       "8369"
      ]
     },
     "execution_count": 15,
     "metadata": {},
     "output_type": "execute_result"
    }
   ],
   "source": [
    "sum(1 for v in point_distances.values() if v >= 1000)"
   ]
  }
 ],
 "metadata": {
  "kernelspec": {
   "display_name": "Python 3",
   "language": "python",
   "name": "python3"
  },
  "language_info": {
   "codemirror_mode": {
    "name": "ipython",
    "version": 3
   },
   "file_extension": ".py",
   "mimetype": "text/x-python",
   "name": "python",
   "nbconvert_exporter": "python",
   "pygments_lexer": "ipython3",
   "version": "3.6.5"
  }
 },
 "nbformat": 4,
 "nbformat_minor": 2
}
