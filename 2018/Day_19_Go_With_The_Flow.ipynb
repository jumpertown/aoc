{
 "cells": [
  {
   "cell_type": "code",
   "execution_count": 18,
   "metadata": {},
   "outputs": [],
   "source": [
    "import sys\n",
    "sys.path.append(\"..\")"
   ]
  },
  {
   "cell_type": "code",
   "execution_count": 19,
   "metadata": {},
   "outputs": [],
   "source": [
    "import re\n",
    "from collections import Counter\n",
    "\n",
    "from resources.breadth_first_solver.breadth_first_solver import BreadthFirstSolver\n",
    "from resources.breadth_first_solver.game import Game\n",
    "from resources.utils import get_puzzle_input"
   ]
  },
  {
   "cell_type": "markdown",
   "metadata": {},
   "source": [
    "### Part 1\n",
    "\n",
    "\n",
    "Grab operations from Day 14"
   ]
  },
  {
   "cell_type": "code",
   "execution_count": 20,
   "metadata": {},
   "outputs": [],
   "source": [
    "ops = []"
   ]
  },
  {
   "cell_type": "markdown",
   "metadata": {},
   "source": [
    "### Addition\n",
    "\n",
    "```\n",
    "addr (add register) stores into register C the result of adding register A and register B.\n",
    "addi (add immediate) stores into register C the result of adding register A and value B.\n",
    "```"
   ]
  },
  {
   "cell_type": "code",
   "execution_count": 21,
   "metadata": {},
   "outputs": [],
   "source": [
    "def addr(registers, instructions):\n",
    "    output = list(registers)\n",
    "    _, A, B, C = instructions \n",
    "    output[C] = registers[A] + registers[B]\n",
    "    return tuple(output)\n",
    "\n",
    "def addi(registers, instructions):\n",
    "    output = list(registers)\n",
    "    _, A, B, C = instructions \n",
    "    output[C] = registers[A] + B\n",
    "    return tuple(output)\n",
    "\n",
    "ops.extend((addr, addi))"
   ]
  },
  {
   "cell_type": "markdown",
   "metadata": {},
   "source": [
    "### Multiplication\n",
    "\n",
    "```\n",
    "mulr (multiply register) stores into register C the result of multiplying register A and register B.\n",
    "muli (multiply immediate) stores into register C the result of multiplying register A and value B.\n",
    "```"
   ]
  },
  {
   "cell_type": "code",
   "execution_count": 22,
   "metadata": {},
   "outputs": [],
   "source": [
    "def mulr(registers, instructions):\n",
    "    output = list(registers)\n",
    "    _, A, B, C = instructions \n",
    "    output[C] = registers[A] * registers[B]\n",
    "    return tuple(output)\n",
    "\n",
    "def muli(registers, instructions):\n",
    "    output = list(registers)\n",
    "    _, A, B, C = instructions \n",
    "    output[C] = registers[A] * B\n",
    "    return tuple(output)\n",
    "\n",
    "ops.extend((mulr, muli))"
   ]
  },
  {
   "cell_type": "markdown",
   "metadata": {},
   "source": [
    "### Bitwise AND\n",
    "\n",
    "```\n",
    "banr (bitwise AND register) stores into register C the result of the bitwise AND of register A and register B.\n",
    "bani (bitwise AND immediate) stores into register C the result of the bitwise AND of register A and value B.\n",
    "```"
   ]
  },
  {
   "cell_type": "code",
   "execution_count": 23,
   "metadata": {},
   "outputs": [],
   "source": [
    "def banr(registers, instructions):\n",
    "    output = list(registers)\n",
    "    _, A, B, C = instructions \n",
    "    output[C] = registers[A] & registers[B]\n",
    "    return tuple(output)\n",
    "\n",
    "def bani(registers, instructions):\n",
    "    output = list(registers)\n",
    "    _, A, B, C = instructions \n",
    "    output[C] = registers[A] & B\n",
    "    return tuple(output)\n",
    "\n",
    "ops.extend((banr, bani))"
   ]
  },
  {
   "cell_type": "markdown",
   "metadata": {},
   "source": [
    "### Bitwise OR\n",
    "\n",
    "```\n",
    "borr (bitwise OR register) stores into register C the result of the bitwise OR of register A and register B.\n",
    "bori (bitwise OR immediate) stores into register C the result of the bitwise OR of register A and value B.\n",
    "```"
   ]
  },
  {
   "cell_type": "code",
   "execution_count": 24,
   "metadata": {},
   "outputs": [],
   "source": [
    "def borr(registers, instructions):\n",
    "    output = list(registers)\n",
    "    _, A, B, C = instructions \n",
    "    output[C] = registers[A] | registers[B]\n",
    "    return tuple(output)\n",
    "\n",
    "def bori(registers, instructions):\n",
    "    output = list(registers)\n",
    "    _, A, B, C = instructions \n",
    "    output[C] = registers[A] | B\n",
    "    return tuple(output)\n",
    "\n",
    "ops.extend((borr, bori))"
   ]
  },
  {
   "cell_type": "markdown",
   "metadata": {},
   "source": [
    "### Assignment\n",
    "\n",
    "```\n",
    "setr (set register) copies the contents of register A into register C. (Input B is ignored.)\n",
    "seti (set immediate) stores value A into register C. (Input B is ignored.)\n",
    "```\n"
   ]
  },
  {
   "cell_type": "code",
   "execution_count": 25,
   "metadata": {},
   "outputs": [],
   "source": [
    "def setr(registers, instructions):\n",
    "    output = list(registers)\n",
    "    _, A, B, C = instructions\n",
    "    output[C] = registers[A]\n",
    "    return tuple(output)\n",
    "\n",
    "def seti(registers, instructions):\n",
    "    output = list(registers)\n",
    "    _, A, B, C = instructions\n",
    "    output[C] = A\n",
    "    return tuple(output)\n",
    "\n",
    "ops.extend((setr, seti))"
   ]
  },
  {
   "cell_type": "markdown",
   "metadata": {},
   "source": [
    "### Greater-than testing\n",
    "\n",
    "```\n",
    "gtir (greater-than immediate/register) sets register C to 1 if value A is greater than register B. Otherwise, register C is set to 0.\n",
    "gtri (greater-than register/immediate) sets register C to 1 if register A is greater than value B. Otherwise, register C is set to 0.\n",
    "gtrr (greater-than register/register) sets register C to 1 if register A is greater than register B. Otherwise, register C is set to 0.\n",
    "```"
   ]
  },
  {
   "cell_type": "code",
   "execution_count": 26,
   "metadata": {},
   "outputs": [],
   "source": [
    "def gtir(registers, instructions):\n",
    "    output = list(registers)\n",
    "    _, A, B, C = instructions \n",
    "    \n",
    "    output[C] = int(A > registers[B])\n",
    "    return tuple(output)\n",
    "\n",
    "def gtri(registers, instructions):\n",
    "    output = list(registers)\n",
    "    _, A, B, C = instructions \n",
    "    \n",
    "    output[C] = int(registers[A] > B)\n",
    "    return tuple(output)\n",
    "\n",
    "def gtrr(registers, instructions):\n",
    "    output = list(registers)\n",
    "    _, A, B, C = instructions \n",
    "    \n",
    "    output[C] = int(registers[A] > registers[B])\n",
    "    return tuple(output)\n",
    "\n",
    "ops.extend((gtir, gtri, gtrr))"
   ]
  },
  {
   "cell_type": "markdown",
   "metadata": {},
   "source": [
    "### Equality testing\n",
    "\n",
    "```\n",
    "eqir (equal immediate/register) sets register C to 1 if value A is equal to register B. Otherwise, register C is set to 0.\n",
    "eqri (equal register/immediate) sets register C to 1 if register A is equal to value B. Otherwise, register C is set to 0.\n",
    "eqrr (equal register/register) sets register C to 1 if register A is equal to register B. Otherwise, register C is set to 0.\n",
    "```"
   ]
  },
  {
   "cell_type": "code",
   "execution_count": 27,
   "metadata": {},
   "outputs": [],
   "source": [
    "def eqir(registers, instructions):\n",
    "    output = list(registers)\n",
    "    _, A, B, C = instructions \n",
    "    \n",
    "    output[C] = int(A == registers[B])\n",
    "    return tuple(output)\n",
    "\n",
    "def eqri(registers, instructions):\n",
    "    output = list(registers)\n",
    "    _, A, B, C = instructions \n",
    "    \n",
    "    output[C] = int(registers[A] == B)\n",
    "    return tuple(output)\n",
    "\n",
    "def eqrr(registers, instructions):\n",
    "    output = list(registers)\n",
    "    _, A, B, C = instructions \n",
    "    \n",
    "    output[C] = int(registers[A] == registers[B])\n",
    "    return tuple(output)\n",
    "\n",
    "ops.extend((eqir, eqri, eqrr))"
   ]
  },
  {
   "cell_type": "code",
   "execution_count": 28,
   "metadata": {},
   "outputs": [
    {
     "data": {
      "text/plain": [
       "['addr',\n",
       " 'addi',\n",
       " 'mulr',\n",
       " 'muli',\n",
       " 'banr',\n",
       " 'bani',\n",
       " 'borr',\n",
       " 'bori',\n",
       " 'setr',\n",
       " 'seti',\n",
       " 'gtir',\n",
       " 'gtri',\n",
       " 'gtrr',\n",
       " 'eqir',\n",
       " 'eqri',\n",
       " 'eqrr']"
      ]
     },
     "execution_count": 28,
     "metadata": {},
     "output_type": "execute_result"
    }
   ],
   "source": [
    "[op.__name__ for op in ops]"
   ]
  },
  {
   "cell_type": "code",
   "execution_count": 29,
   "metadata": {},
   "outputs": [],
   "source": [
    "def parse_input(lines):\n",
    "    ip = 0\n",
    "    instructions = []\n",
    "    for line in lines:\n",
    "        parts = line.split(' ')        \n",
    "        if len(parts) == 2:\n",
    "            ip = int(parts[1])\n",
    "        else:\n",
    "            instructions.append((parts[0],) + tuple(int(i) for i in parts[1:]))\n",
    "            \n",
    "    return ip, instructions"
   ]
  },
  {
   "cell_type": "code",
   "execution_count": 38,
   "metadata": {},
   "outputs": [],
   "source": [
    "class InstructionRunner:\n",
    "\n",
    "    def __init__(self, instructions, instruction_register, part_1=True):\n",
    "        self.instructions = instructions\n",
    "        self.instruction_register = instruction_register\n",
    "\n",
    "        if part_1:\n",
    "            self.registers = [0, 0, 0, 0, 0, 0]\n",
    "        else:\n",
    "            self.registers = [1, 0, 0, 0, 0, 0]\n",
    "\n",
    "        self.pointer = 0\n",
    "        self.op_map = {op.__name__: op for op in ops}\n",
    "        self.num_moves = 0\n",
    "        self.finished = False\n",
    "        self.seen_instructions = {}\n",
    "        self.instruction_counter = Counter()\n",
    "                \n",
    "    def move(self):\n",
    "        if self.finished:\n",
    "            raise ValueError('finished...')\n",
    "\n",
    "        # print('registers: {}'.format(self.registers))\n",
    "        try:\n",
    "            instruction = self._instruction  #1\n",
    "            self.update_instruction_register()  #2\n",
    "            \n",
    "            op = self.op_map[instruction[0]]\n",
    "            self.registers = list(op(self.registers, instruction))  #3\n",
    "\n",
    "        except IndexError:\n",
    "            self.finished = True\n",
    "\n",
    "        self.update_instruction_pointer() # 4\n",
    "        \n",
    "        if self.num_moves % 1000000 == 0:\n",
    "            print('Move {}, Registers: {}, Executed: {}'.format(\n",
    "                self.num_moves,\n",
    "                self.registers,\n",
    "                self.instruction_counter\n",
    "            ))\n",
    "            print()\n",
    "\n",
    "        self.num_moves += 1\n",
    "\n",
    "    def update_instruction_register(self):\n",
    "        self.registers[self.instruction_register] = self.pointer\n",
    "        \n",
    "    def update_instruction_pointer(self):\n",
    "        self.pointer = self.registers[self.instruction_register]\n",
    "        self.pointer += 1\n",
    "    \n",
    "    @property\n",
    "    def _instruction(self):\n",
    "        instruction = self.instructions[self.pointer]\n",
    "        self.instruction_counter[self.pointer] += 1\n",
    "        # print('Running', self.pointer, instruction)\n",
    "        return instruction        "
   ]
  },
  {
   "cell_type": "code",
   "execution_count": 39,
   "metadata": {},
   "outputs": [],
   "source": [
    "test_input=\"\"\"#ip 0\n",
    "seti 5 0 1\n",
    "seti 6 0 2\n",
    "addi 0 1 0\n",
    "addr 1 2 3\n",
    "setr 1 0 0\n",
    "seti 8 0 4\n",
    "seti 9 0 5\"\"\".split('\\n')"
   ]
  },
  {
   "cell_type": "code",
   "execution_count": 40,
   "metadata": {},
   "outputs": [
    {
     "data": {
      "text/plain": [
       "(0,\n",
       " [('seti', 5, 0, 1),\n",
       "  ('seti', 6, 0, 2),\n",
       "  ('addi', 0, 1, 0),\n",
       "  ('addr', 1, 2, 3),\n",
       "  ('setr', 1, 0, 0),\n",
       "  ('seti', 8, 0, 4),\n",
       "  ('seti', 9, 0, 5)])"
      ]
     },
     "execution_count": 40,
     "metadata": {},
     "output_type": "execute_result"
    }
   ],
   "source": [
    "test_register, test_instructions = parse_input(test_input)\n",
    "test_register, test_instructions"
   ]
  },
  {
   "cell_type": "code",
   "execution_count": 41,
   "metadata": {},
   "outputs": [],
   "source": [
    "test_runner = InstructionRunner(test_instructions, test_register)"
   ]
  },
  {
   "cell_type": "code",
   "execution_count": 42,
   "metadata": {},
   "outputs": [
    {
     "name": "stdout",
     "output_type": "stream",
     "text": [
      "Move 0, Registers: [0, 5, 0, 0, 0, 0], Executed: Counter({0: 1})\n",
      "\n",
      "[0, 5, 0, 0, 0, 0]\n",
      "[1, 5, 6, 0, 0, 0]\n",
      "[3, 5, 6, 0, 0, 0]\n",
      "[5, 5, 6, 0, 0, 0]\n",
      "[6, 5, 6, 0, 0, 9]\n",
      "[6, 5, 6, 0, 0, 9]\n"
     ]
    }
   ],
   "source": [
    "test_runner = InstructionRunner(test_instructions, test_register)\n",
    "while not test_runner.finished:\n",
    "    test_runner.move()\n",
    "    print(test_runner.registers)\n",
    "    "
   ]
  },
  {
   "cell_type": "code",
   "execution_count": 43,
   "metadata": {},
   "outputs": [],
   "source": [
    "puzzle_input = get_puzzle_input('/tmp/day_19.txt')\n",
    "puzzle_register, puzzle_instructions = parse_input(puzzle_input)"
   ]
  },
  {
   "cell_type": "code",
   "execution_count": 45,
   "metadata": {},
   "outputs": [
    {
     "name": "stdout",
     "output_type": "stream",
     "text": [
      "Move 0, Registers: [0, 0, 16, 0, 0, 0], Executed: Counter({0: 1})\n",
      "\n",
      "Move 1000000, Registers: [114, 909, 2, 398, 0, 138], Executed: Counter({3: 124930, 4: 124930, 5: 124930, 8: 124930, 9: 124930, 10: 124930, 6: 124926, 11: 124793, 2: 138, 12: 137, 13: 137, 14: 137, 15: 137, 7: 4, 0: 1, 17: 1, 18: 1, 19: 1, 20: 1, 21: 1, 22: 1, 23: 1, 24: 1, 25: 1, 26: 1, 1: 1})\n",
      "\n",
      "Move 2000000, Registers: [114, 909, 7, 796, 0, 275], Executed: Counter({3: 249862, 4: 249862, 5: 249862, 8: 249861, 9: 249861, 10: 249861, 6: 249858, 11: 249587, 2: 275, 12: 274, 13: 274, 14: 274, 15: 274, 7: 4, 0: 1, 17: 1, 18: 1, 19: 1, 20: 1, 21: 1, 22: 1, 23: 1, 24: 1, 25: 1, 26: 1, 1: 1})\n",
      "\n",
      "Move 3000000, Registers: [417, 909, 7, 285, 0, 413], Executed: Counter({3: 374793, 4: 374793, 5: 374793, 8: 374792, 9: 374792, 10: 374792, 6: 374788, 11: 374380, 2: 413, 12: 412, 13: 412, 14: 412, 15: 412, 7: 5, 0: 1, 17: 1, 18: 1, 19: 1, 20: 1, 21: 1, 22: 1, 23: 1, 24: 1, 25: 1, 26: 1, 1: 1})\n",
      "\n",
      "Move 4000000, Registers: [417, 909, 2, 684, 0, 550], Executed: Counter({3: 499724, 4: 499724, 5: 499724, 8: 499724, 9: 499724, 10: 499724, 6: 499719, 11: 499175, 2: 550, 12: 549, 13: 549, 14: 549, 15: 549, 7: 5, 0: 1, 17: 1, 18: 1, 19: 1, 20: 1, 21: 1, 22: 1, 23: 1, 24: 1, 25: 1, 26: 1, 1: 1})\n",
      "\n",
      "Move 5000000, Registers: [417, 909, 2, 173, 0, 688], Executed: Counter({3: 624655, 4: 624655, 5: 624655, 8: 624655, 9: 624655, 10: 624655, 6: 624650, 11: 623968, 2: 688, 12: 687, 13: 687, 14: 687, 15: 687, 7: 5, 0: 1, 17: 1, 18: 1, 19: 1, 20: 1, 21: 1, 22: 1, 23: 1, 24: 1, 25: 1, 26: 1, 1: 1})\n",
      "\n",
      "Move 6000000, Registers: [417, 909, 7, 571, 0, 825], Executed: Counter({3: 749587, 4: 749587, 5: 749587, 8: 749586, 9: 749586, 10: 749586, 6: 749582, 11: 748762, 2: 825, 12: 824, 13: 824, 14: 824, 15: 824, 7: 5, 0: 1, 17: 1, 18: 1, 19: 1, 20: 1, 21: 1, 22: 1, 23: 1, 24: 1, 25: 1, 26: 1, 1: 1})\n",
      "\n",
      "[1326, 909, 256, 910, 1, 910]\n"
     ]
    }
   ],
   "source": [
    "puzzle_runner = InstructionRunner(\n",
    "    puzzle_instructions,\n",
    "    puzzle_register,\n",
    "    part_1=True\n",
    ")\n",
    "while not puzzle_runner.finished:\n",
    "    puzzle_runner.move()\n",
    "# for _ in range(100):\n",
    "#     puzzle_runner.move()\n",
    "\n",
    "print(puzzle_runner.registers)"
   ]
  },
  {
   "cell_type": "markdown",
   "metadata": {},
   "source": [
    "### Part 2\n",
    "\n",
    "Now with a 1 in buffer 0"
   ]
  },
  {
   "cell_type": "code",
   "execution_count": 65,
   "metadata": {},
   "outputs": [
    {
     "name": "stdout",
     "output_type": "stream",
     "text": [
      "Move 0, Registers: [1, 0, 16, 0, 0, 0], Executed: Counter({0: 1})\n",
      "\n",
      "Move 1000000, Registers: [0, 10551309, 7, 124998, 0, 1], Executed: Counter({3: 124998, 4: 124998, 5: 124998, 6: 124998, 8: 124997, 9: 124997, 10: 124997, 11: 124997, 0: 1, 17: 1, 18: 1, 19: 1, 20: 1, 21: 1, 22: 1, 23: 1, 24: 1, 25: 1, 27: 1, 28: 1, 29: 1, 30: 1, 31: 1, 32: 1, 33: 1, 34: 1, 35: 1, 1: 1, 2: 1})\n",
      "\n",
      "Move 2000000, Registers: [0, 10551309, 7, 249998, 0, 1], Executed: Counter({3: 249998, 4: 249998, 5: 249998, 6: 249998, 8: 249997, 9: 249997, 10: 249997, 11: 249997, 0: 1, 17: 1, 18: 1, 19: 1, 20: 1, 21: 1, 22: 1, 23: 1, 24: 1, 25: 1, 27: 1, 28: 1, 29: 1, 30: 1, 31: 1, 32: 1, 33: 1, 34: 1, 35: 1, 1: 1, 2: 1})\n",
      "\n",
      "Move 3000000, Registers: [0, 10551309, 7, 374998, 0, 1], Executed: Counter({3: 374998, 4: 374998, 5: 374998, 6: 374998, 8: 374997, 9: 374997, 10: 374997, 11: 374997, 0: 1, 17: 1, 18: 1, 19: 1, 20: 1, 21: 1, 22: 1, 23: 1, 24: 1, 25: 1, 27: 1, 28: 1, 29: 1, 30: 1, 31: 1, 32: 1, 33: 1, 34: 1, 35: 1, 1: 1, 2: 1})\n",
      "\n",
      "Move 4000000, Registers: [0, 10551309, 7, 499998, 0, 1], Executed: Counter({3: 499998, 4: 499998, 5: 499998, 6: 499998, 8: 499997, 9: 499997, 10: 499997, 11: 499997, 0: 1, 17: 1, 18: 1, 19: 1, 20: 1, 21: 1, 22: 1, 23: 1, 24: 1, 25: 1, 27: 1, 28: 1, 29: 1, 30: 1, 31: 1, 32: 1, 33: 1, 34: 1, 35: 1, 1: 1, 2: 1})\n",
      "\n",
      "Move 5000000, Registers: [0, 10551309, 7, 624998, 0, 1], Executed: Counter({3: 624998, 4: 624998, 5: 624998, 6: 624998, 8: 624997, 9: 624997, 10: 624997, 11: 624997, 0: 1, 17: 1, 18: 1, 19: 1, 20: 1, 21: 1, 22: 1, 23: 1, 24: 1, 25: 1, 27: 1, 28: 1, 29: 1, 30: 1, 31: 1, 32: 1, 33: 1, 34: 1, 35: 1, 1: 1, 2: 1})\n",
      "\n",
      "Move 6000000, Registers: [0, 10551309, 7, 749998, 0, 1], Executed: Counter({3: 749998, 4: 749998, 5: 749998, 6: 749998, 8: 749997, 9: 749997, 10: 749997, 11: 749997, 0: 1, 17: 1, 18: 1, 19: 1, 20: 1, 21: 1, 22: 1, 23: 1, 24: 1, 25: 1, 27: 1, 28: 1, 29: 1, 30: 1, 31: 1, 32: 1, 33: 1, 34: 1, 35: 1, 1: 1, 2: 1})\n",
      "\n",
      "Move 7000000, Registers: [0, 10551309, 7, 874998, 0, 1], Executed: Counter({3: 874998, 4: 874998, 5: 874998, 6: 874998, 8: 874997, 9: 874997, 10: 874997, 11: 874997, 0: 1, 17: 1, 18: 1, 19: 1, 20: 1, 21: 1, 22: 1, 23: 1, 24: 1, 25: 1, 27: 1, 28: 1, 29: 1, 30: 1, 31: 1, 32: 1, 33: 1, 34: 1, 35: 1, 1: 1, 2: 1})\n",
      "\n",
      "Move 8000000, Registers: [0, 10551309, 7, 999998, 0, 1], Executed: Counter({3: 999998, 4: 999998, 5: 999998, 6: 999998, 8: 999997, 9: 999997, 10: 999997, 11: 999997, 0: 1, 17: 1, 18: 1, 19: 1, 20: 1, 21: 1, 22: 1, 23: 1, 24: 1, 25: 1, 27: 1, 28: 1, 29: 1, 30: 1, 31: 1, 32: 1, 33: 1, 34: 1, 35: 1, 1: 1, 2: 1})\n",
      "\n",
      "Move 9000000, Registers: [0, 10551309, 7, 1124998, 0, 1], Executed: Counter({3: 1124998, 4: 1124998, 5: 1124998, 6: 1124998, 8: 1124997, 9: 1124997, 10: 1124997, 11: 1124997, 0: 1, 17: 1, 18: 1, 19: 1, 20: 1, 21: 1, 22: 1, 23: 1, 24: 1, 25: 1, 27: 1, 28: 1, 29: 1, 30: 1, 31: 1, 32: 1, 33: 1, 34: 1, 35: 1, 1: 1, 2: 1})\n",
      "\n",
      "Move 10000000, Registers: [0, 10551309, 7, 1249998, 0, 1], Executed: Counter({3: 1249998, 4: 1249998, 5: 1249998, 6: 1249998, 8: 1249997, 9: 1249997, 10: 1249997, 11: 1249997, 0: 1, 17: 1, 18: 1, 19: 1, 20: 1, 21: 1, 22: 1, 23: 1, 24: 1, 25: 1, 27: 1, 28: 1, 29: 1, 30: 1, 31: 1, 32: 1, 33: 1, 34: 1, 35: 1, 1: 1, 2: 1})\n",
      "\n",
      "Move 11000000, Registers: [0, 10551309, 7, 1374998, 0, 1], Executed: Counter({3: 1374998, 4: 1374998, 5: 1374998, 6: 1374998, 8: 1374997, 9: 1374997, 10: 1374997, 11: 1374997, 0: 1, 17: 1, 18: 1, 19: 1, 20: 1, 21: 1, 22: 1, 23: 1, 24: 1, 25: 1, 27: 1, 28: 1, 29: 1, 30: 1, 31: 1, 32: 1, 33: 1, 34: 1, 35: 1, 1: 1, 2: 1})\n",
      "\n",
      "Move 12000000, Registers: [0, 10551309, 7, 1499998, 0, 1], Executed: Counter({3: 1499998, 4: 1499998, 5: 1499998, 6: 1499998, 8: 1499997, 9: 1499997, 10: 1499997, 11: 1499997, 0: 1, 17: 1, 18: 1, 19: 1, 20: 1, 21: 1, 22: 1, 23: 1, 24: 1, 25: 1, 27: 1, 28: 1, 29: 1, 30: 1, 31: 1, 32: 1, 33: 1, 34: 1, 35: 1, 1: 1, 2: 1})\n",
      "\n",
      "Move 13000000, Registers: [0, 10551309, 7, 1624998, 0, 1], Executed: Counter({3: 1624998, 4: 1624998, 5: 1624998, 6: 1624998, 8: 1624997, 9: 1624997, 10: 1624997, 11: 1624997, 0: 1, 17: 1, 18: 1, 19: 1, 20: 1, 21: 1, 22: 1, 23: 1, 24: 1, 25: 1, 27: 1, 28: 1, 29: 1, 30: 1, 31: 1, 32: 1, 33: 1, 34: 1, 35: 1, 1: 1, 2: 1})\n",
      "\n",
      "Move 14000000, Registers: [0, 10551309, 7, 1749998, 0, 1], Executed: Counter({3: 1749998, 4: 1749998, 5: 1749998, 6: 1749998, 8: 1749997, 9: 1749997, 10: 1749997, 11: 1749997, 0: 1, 17: 1, 18: 1, 19: 1, 20: 1, 21: 1, 22: 1, 23: 1, 24: 1, 25: 1, 27: 1, 28: 1, 29: 1, 30: 1, 31: 1, 32: 1, 33: 1, 34: 1, 35: 1, 1: 1, 2: 1})\n",
      "\n",
      "Move 15000000, Registers: [0, 10551309, 7, 1874998, 0, 1], Executed: Counter({3: 1874998, 4: 1874998, 5: 1874998, 6: 1874998, 8: 1874997, 9: 1874997, 10: 1874997, 11: 1874997, 0: 1, 17: 1, 18: 1, 19: 1, 20: 1, 21: 1, 22: 1, 23: 1, 24: 1, 25: 1, 27: 1, 28: 1, 29: 1, 30: 1, 31: 1, 32: 1, 33: 1, 34: 1, 35: 1, 1: 1, 2: 1})\n",
      "\n",
      "Move 16000000, Registers: [0, 10551309, 7, 1999998, 0, 1], Executed: Counter({3: 1999998, 4: 1999998, 5: 1999998, 6: 1999998, 8: 1999997, 9: 1999997, 10: 1999997, 11: 1999997, 0: 1, 17: 1, 18: 1, 19: 1, 20: 1, 21: 1, 22: 1, 23: 1, 24: 1, 25: 1, 27: 1, 28: 1, 29: 1, 30: 1, 31: 1, 32: 1, 33: 1, 34: 1, 35: 1, 1: 1, 2: 1})\n",
      "\n",
      "Move 17000000, Registers: [0, 10551309, 7, 2124998, 0, 1], Executed: Counter({3: 2124998, 4: 2124998, 5: 2124998, 6: 2124998, 8: 2124997, 9: 2124997, 10: 2124997, 11: 2124997, 0: 1, 17: 1, 18: 1, 19: 1, 20: 1, 21: 1, 22: 1, 23: 1, 24: 1, 25: 1, 27: 1, 28: 1, 29: 1, 30: 1, 31: 1, 32: 1, 33: 1, 34: 1, 35: 1, 1: 1, 2: 1})\n",
      "\n",
      "Move 18000000, Registers: [0, 10551309, 7, 2249998, 0, 1], Executed: Counter({3: 2249998, 4: 2249998, 5: 2249998, 6: 2249998, 8: 2249997, 9: 2249997, 10: 2249997, 11: 2249997, 0: 1, 17: 1, 18: 1, 19: 1, 20: 1, 21: 1, 22: 1, 23: 1, 24: 1, 25: 1, 27: 1, 28: 1, 29: 1, 30: 1, 31: 1, 32: 1, 33: 1, 34: 1, 35: 1, 1: 1, 2: 1})\n",
      "\n",
      "Move 19000000, Registers: [0, 10551309, 7, 2374998, 0, 1], Executed: Counter({3: 2374998, 4: 2374998, 5: 2374998, 6: 2374998, 8: 2374997, 9: 2374997, 10: 2374997, 11: 2374997, 0: 1, 17: 1, 18: 1, 19: 1, 20: 1, 21: 1, 22: 1, 23: 1, 24: 1, 25: 1, 27: 1, 28: 1, 29: 1, 30: 1, 31: 1, 32: 1, 33: 1, 34: 1, 35: 1, 1: 1, 2: 1})\n",
      "\n",
      "Move 20000000, Registers: [0, 10551309, 7, 2499998, 0, 1], Executed: Counter({3: 2499998, 4: 2499998, 5: 2499998, 6: 2499998, 8: 2499997, 9: 2499997, 10: 2499997, 11: 2499997, 0: 1, 17: 1, 18: 1, 19: 1, 20: 1, 21: 1, 22: 1, 23: 1, 24: 1, 25: 1, 27: 1, 28: 1, 29: 1, 30: 1, 31: 1, 32: 1, 33: 1, 34: 1, 35: 1, 1: 1, 2: 1})\n",
      "\n",
      "Move 21000000, Registers: [0, 10551309, 7, 2624998, 0, 1], Executed: Counter({3: 2624998, 4: 2624998, 5: 2624998, 6: 2624998, 8: 2624997, 9: 2624997, 10: 2624997, 11: 2624997, 0: 1, 17: 1, 18: 1, 19: 1, 20: 1, 21: 1, 22: 1, 23: 1, 24: 1, 25: 1, 27: 1, 28: 1, 29: 1, 30: 1, 31: 1, 32: 1, 33: 1, 34: 1, 35: 1, 1: 1, 2: 1})\n",
      "\n",
      "Move 22000000, Registers: [0, 10551309, 7, 2749998, 0, 1], Executed: Counter({3: 2749998, 4: 2749998, 5: 2749998, 6: 2749998, 8: 2749997, 9: 2749997, 10: 2749997, 11: 2749997, 0: 1, 17: 1, 18: 1, 19: 1, 20: 1, 21: 1, 22: 1, 23: 1, 24: 1, 25: 1, 27: 1, 28: 1, 29: 1, 30: 1, 31: 1, 32: 1, 33: 1, 34: 1, 35: 1, 1: 1, 2: 1})\n",
      "\n",
      "Move 23000000, Registers: [0, 10551309, 7, 2874998, 0, 1], Executed: Counter({3: 2874998, 4: 2874998, 5: 2874998, 6: 2874998, 8: 2874997, 9: 2874997, 10: 2874997, 11: 2874997, 0: 1, 17: 1, 18: 1, 19: 1, 20: 1, 21: 1, 22: 1, 23: 1, 24: 1, 25: 1, 27: 1, 28: 1, 29: 1, 30: 1, 31: 1, 32: 1, 33: 1, 34: 1, 35: 1, 1: 1, 2: 1})\n",
      "\n",
      "Move 24000000, Registers: [0, 10551309, 7, 2999998, 0, 1], Executed: Counter({3: 2999998, 4: 2999998, 5: 2999998, 6: 2999998, 8: 2999997, 9: 2999997, 10: 2999997, 11: 2999997, 0: 1, 17: 1, 18: 1, 19: 1, 20: 1, 21: 1, 22: 1, 23: 1, 24: 1, 25: 1, 27: 1, 28: 1, 29: 1, 30: 1, 31: 1, 32: 1, 33: 1, 34: 1, 35: 1, 1: 1, 2: 1})\n",
      "\n",
      "Move 25000000, Registers: [0, 10551309, 7, 3124998, 0, 1], Executed: Counter({3: 3124998, 4: 3124998, 5: 3124998, 6: 3124998, 8: 3124997, 9: 3124997, 10: 3124997, 11: 3124997, 0: 1, 17: 1, 18: 1, 19: 1, 20: 1, 21: 1, 22: 1, 23: 1, 24: 1, 25: 1, 27: 1, 28: 1, 29: 1, 30: 1, 31: 1, 32: 1, 33: 1, 34: 1, 35: 1, 1: 1, 2: 1})\n",
      "\n",
      "Move 26000000, Registers: [0, 10551309, 7, 3249998, 0, 1], Executed: Counter({3: 3249998, 4: 3249998, 5: 3249998, 6: 3249998, 8: 3249997, 9: 3249997, 10: 3249997, 11: 3249997, 0: 1, 17: 1, 18: 1, 19: 1, 20: 1, 21: 1, 22: 1, 23: 1, 24: 1, 25: 1, 27: 1, 28: 1, 29: 1, 30: 1, 31: 1, 32: 1, 33: 1, 34: 1, 35: 1, 1: 1, 2: 1})\n",
      "\n"
     ]
    },
    {
     "name": "stdout",
     "output_type": "stream",
     "text": [
      "Move 27000000, Registers: [0, 10551309, 7, 3374998, 0, 1], Executed: Counter({3: 3374998, 4: 3374998, 5: 3374998, 6: 3374998, 8: 3374997, 9: 3374997, 10: 3374997, 11: 3374997, 0: 1, 17: 1, 18: 1, 19: 1, 20: 1, 21: 1, 22: 1, 23: 1, 24: 1, 25: 1, 27: 1, 28: 1, 29: 1, 30: 1, 31: 1, 32: 1, 33: 1, 34: 1, 35: 1, 1: 1, 2: 1})\n",
      "\n",
      "Move 28000000, Registers: [0, 10551309, 7, 3499998, 0, 1], Executed: Counter({3: 3499998, 4: 3499998, 5: 3499998, 6: 3499998, 8: 3499997, 9: 3499997, 10: 3499997, 11: 3499997, 0: 1, 17: 1, 18: 1, 19: 1, 20: 1, 21: 1, 22: 1, 23: 1, 24: 1, 25: 1, 27: 1, 28: 1, 29: 1, 30: 1, 31: 1, 32: 1, 33: 1, 34: 1, 35: 1, 1: 1, 2: 1})\n",
      "\n",
      "Move 29000000, Registers: [0, 10551309, 7, 3624998, 0, 1], Executed: Counter({3: 3624998, 4: 3624998, 5: 3624998, 6: 3624998, 8: 3624997, 9: 3624997, 10: 3624997, 11: 3624997, 0: 1, 17: 1, 18: 1, 19: 1, 20: 1, 21: 1, 22: 1, 23: 1, 24: 1, 25: 1, 27: 1, 28: 1, 29: 1, 30: 1, 31: 1, 32: 1, 33: 1, 34: 1, 35: 1, 1: 1, 2: 1})\n",
      "\n",
      "Move 30000000, Registers: [0, 10551309, 7, 3749998, 0, 1], Executed: Counter({3: 3749998, 4: 3749998, 5: 3749998, 6: 3749998, 8: 3749997, 9: 3749997, 10: 3749997, 11: 3749997, 0: 1, 17: 1, 18: 1, 19: 1, 20: 1, 21: 1, 22: 1, 23: 1, 24: 1, 25: 1, 27: 1, 28: 1, 29: 1, 30: 1, 31: 1, 32: 1, 33: 1, 34: 1, 35: 1, 1: 1, 2: 1})\n",
      "\n",
      "Move 31000000, Registers: [0, 10551309, 7, 3874998, 0, 1], Executed: Counter({3: 3874998, 4: 3874998, 5: 3874998, 6: 3874998, 8: 3874997, 9: 3874997, 10: 3874997, 11: 3874997, 0: 1, 17: 1, 18: 1, 19: 1, 20: 1, 21: 1, 22: 1, 23: 1, 24: 1, 25: 1, 27: 1, 28: 1, 29: 1, 30: 1, 31: 1, 32: 1, 33: 1, 34: 1, 35: 1, 1: 1, 2: 1})\n",
      "\n",
      "Move 32000000, Registers: [0, 10551309, 7, 3999998, 0, 1], Executed: Counter({3: 3999998, 4: 3999998, 5: 3999998, 6: 3999998, 8: 3999997, 9: 3999997, 10: 3999997, 11: 3999997, 0: 1, 17: 1, 18: 1, 19: 1, 20: 1, 21: 1, 22: 1, 23: 1, 24: 1, 25: 1, 27: 1, 28: 1, 29: 1, 30: 1, 31: 1, 32: 1, 33: 1, 34: 1, 35: 1, 1: 1, 2: 1})\n",
      "\n",
      "Move 33000000, Registers: [0, 10551309, 7, 4124998, 0, 1], Executed: Counter({3: 4124998, 4: 4124998, 5: 4124998, 6: 4124998, 8: 4124997, 9: 4124997, 10: 4124997, 11: 4124997, 0: 1, 17: 1, 18: 1, 19: 1, 20: 1, 21: 1, 22: 1, 23: 1, 24: 1, 25: 1, 27: 1, 28: 1, 29: 1, 30: 1, 31: 1, 32: 1, 33: 1, 34: 1, 35: 1, 1: 1, 2: 1})\n",
      "\n",
      "Move 34000000, Registers: [0, 10551309, 7, 4249998, 0, 1], Executed: Counter({3: 4249998, 4: 4249998, 5: 4249998, 6: 4249998, 8: 4249997, 9: 4249997, 10: 4249997, 11: 4249997, 0: 1, 17: 1, 18: 1, 19: 1, 20: 1, 21: 1, 22: 1, 23: 1, 24: 1, 25: 1, 27: 1, 28: 1, 29: 1, 30: 1, 31: 1, 32: 1, 33: 1, 34: 1, 35: 1, 1: 1, 2: 1})\n",
      "\n",
      "Move 35000000, Registers: [0, 10551309, 7, 4374998, 0, 1], Executed: Counter({3: 4374998, 4: 4374998, 5: 4374998, 6: 4374998, 8: 4374997, 9: 4374997, 10: 4374997, 11: 4374997, 0: 1, 17: 1, 18: 1, 19: 1, 20: 1, 21: 1, 22: 1, 23: 1, 24: 1, 25: 1, 27: 1, 28: 1, 29: 1, 30: 1, 31: 1, 32: 1, 33: 1, 34: 1, 35: 1, 1: 1, 2: 1})\n",
      "\n",
      "Move 36000000, Registers: [0, 10551309, 7, 4499998, 0, 1], Executed: Counter({3: 4499998, 4: 4499998, 5: 4499998, 6: 4499998, 8: 4499997, 9: 4499997, 10: 4499997, 11: 4499997, 0: 1, 17: 1, 18: 1, 19: 1, 20: 1, 21: 1, 22: 1, 23: 1, 24: 1, 25: 1, 27: 1, 28: 1, 29: 1, 30: 1, 31: 1, 32: 1, 33: 1, 34: 1, 35: 1, 1: 1, 2: 1})\n",
      "\n",
      "Move 37000000, Registers: [0, 10551309, 7, 4624998, 0, 1], Executed: Counter({3: 4624998, 4: 4624998, 5: 4624998, 6: 4624998, 8: 4624997, 9: 4624997, 10: 4624997, 11: 4624997, 0: 1, 17: 1, 18: 1, 19: 1, 20: 1, 21: 1, 22: 1, 23: 1, 24: 1, 25: 1, 27: 1, 28: 1, 29: 1, 30: 1, 31: 1, 32: 1, 33: 1, 34: 1, 35: 1, 1: 1, 2: 1})\n",
      "\n",
      "Move 38000000, Registers: [0, 10551309, 7, 4749998, 0, 1], Executed: Counter({3: 4749998, 4: 4749998, 5: 4749998, 6: 4749998, 8: 4749997, 9: 4749997, 10: 4749997, 11: 4749997, 0: 1, 17: 1, 18: 1, 19: 1, 20: 1, 21: 1, 22: 1, 23: 1, 24: 1, 25: 1, 27: 1, 28: 1, 29: 1, 30: 1, 31: 1, 32: 1, 33: 1, 34: 1, 35: 1, 1: 1, 2: 1})\n",
      "\n",
      "Move 39000000, Registers: [0, 10551309, 7, 4874998, 0, 1], Executed: Counter({3: 4874998, 4: 4874998, 5: 4874998, 6: 4874998, 8: 4874997, 9: 4874997, 10: 4874997, 11: 4874997, 0: 1, 17: 1, 18: 1, 19: 1, 20: 1, 21: 1, 22: 1, 23: 1, 24: 1, 25: 1, 27: 1, 28: 1, 29: 1, 30: 1, 31: 1, 32: 1, 33: 1, 34: 1, 35: 1, 1: 1, 2: 1})\n",
      "\n",
      "Move 40000000, Registers: [0, 10551309, 7, 4999998, 0, 1], Executed: Counter({3: 4999998, 4: 4999998, 5: 4999998, 6: 4999998, 8: 4999997, 9: 4999997, 10: 4999997, 11: 4999997, 0: 1, 17: 1, 18: 1, 19: 1, 20: 1, 21: 1, 22: 1, 23: 1, 24: 1, 25: 1, 27: 1, 28: 1, 29: 1, 30: 1, 31: 1, 32: 1, 33: 1, 34: 1, 35: 1, 1: 1, 2: 1})\n",
      "\n"
     ]
    },
    {
     "ename": "KeyboardInterrupt",
     "evalue": "",
     "output_type": "error",
     "traceback": [
      "\u001b[0;31m---------------------------------------------------------------------------\u001b[0m",
      "\u001b[0;31mKeyboardInterrupt\u001b[0m                         Traceback (most recent call last)",
      "\u001b[0;32m<ipython-input-65-7f2c511edbf8>\u001b[0m in \u001b[0;36m<module>\u001b[0;34m\u001b[0m\n\u001b[1;32m      1\u001b[0m \u001b[0mpuzzle_runner\u001b[0m \u001b[0;34m=\u001b[0m \u001b[0mInstructionRunner\u001b[0m\u001b[0;34m(\u001b[0m\u001b[0mpuzzle_instructions\u001b[0m\u001b[0;34m,\u001b[0m \u001b[0mpuzzle_register\u001b[0m\u001b[0;34m,\u001b[0m \u001b[0mpart_1\u001b[0m\u001b[0;34m=\u001b[0m\u001b[0;32mFalse\u001b[0m\u001b[0;34m)\u001b[0m\u001b[0;34m\u001b[0m\u001b[0m\n\u001b[1;32m      2\u001b[0m \u001b[0;32mwhile\u001b[0m \u001b[0;32mnot\u001b[0m \u001b[0mpuzzle_runner\u001b[0m\u001b[0;34m.\u001b[0m\u001b[0mfinished\u001b[0m\u001b[0;34m:\u001b[0m\u001b[0;34m\u001b[0m\u001b[0m\n\u001b[0;32m----> 3\u001b[0;31m     \u001b[0mpuzzle_runner\u001b[0m\u001b[0;34m.\u001b[0m\u001b[0mmove\u001b[0m\u001b[0;34m(\u001b[0m\u001b[0;34m)\u001b[0m\u001b[0;34m\u001b[0m\u001b[0m\n\u001b[0m\u001b[1;32m      4\u001b[0m \u001b[0;34m\u001b[0m\u001b[0m\n\u001b[1;32m      5\u001b[0m \u001b[0mprint\u001b[0m\u001b[0;34m(\u001b[0m\u001b[0mpuzzle_runner\u001b[0m\u001b[0;34m.\u001b[0m\u001b[0mregisters\u001b[0m\u001b[0;34m)\u001b[0m\u001b[0;34m\u001b[0m\u001b[0m\n",
      "\u001b[0;32m<ipython-input-63-8a3134e12017>\u001b[0m in \u001b[0;36mmove\u001b[0;34m(self)\u001b[0m\n\u001b[1;32m     28\u001b[0m             \u001b[0;31m#print('Running', instruction)\u001b[0m\u001b[0;34m\u001b[0m\u001b[0;34m\u001b[0m\u001b[0m\n\u001b[1;32m     29\u001b[0m             \u001b[0mop\u001b[0m \u001b[0;34m=\u001b[0m \u001b[0mself\u001b[0m\u001b[0;34m.\u001b[0m\u001b[0mop_map\u001b[0m\u001b[0;34m[\u001b[0m\u001b[0minstruction\u001b[0m\u001b[0;34m[\u001b[0m\u001b[0;36m0\u001b[0m\u001b[0;34m]\u001b[0m\u001b[0;34m]\u001b[0m\u001b[0;34m\u001b[0m\u001b[0m\n\u001b[0;32m---> 30\u001b[0;31m             \u001b[0mself\u001b[0m\u001b[0;34m.\u001b[0m\u001b[0mregisters\u001b[0m \u001b[0;34m=\u001b[0m \u001b[0mlist\u001b[0m\u001b[0;34m(\u001b[0m\u001b[0mop\u001b[0m\u001b[0;34m(\u001b[0m\u001b[0mself\u001b[0m\u001b[0;34m.\u001b[0m\u001b[0mregisters\u001b[0m\u001b[0;34m,\u001b[0m \u001b[0minstruction\u001b[0m\u001b[0;34m)\u001b[0m\u001b[0;34m)\u001b[0m  \u001b[0;31m#3\u001b[0m\u001b[0;34m\u001b[0m\u001b[0m\n\u001b[0m\u001b[1;32m     31\u001b[0m \u001b[0;34m\u001b[0m\u001b[0m\n\u001b[1;32m     32\u001b[0m         \u001b[0;32mexcept\u001b[0m \u001b[0mIndexError\u001b[0m\u001b[0;34m:\u001b[0m\u001b[0;34m\u001b[0m\u001b[0m\n",
      "\u001b[0;32m<ipython-input-24-0aada787fde7>\u001b[0m in \u001b[0;36maddi\u001b[0;34m(registers, instructions)\u001b[0m\n\u001b[1;32m      8\u001b[0m     \u001b[0moutput\u001b[0m \u001b[0;34m=\u001b[0m \u001b[0mlist\u001b[0m\u001b[0;34m(\u001b[0m\u001b[0mregisters\u001b[0m\u001b[0;34m)\u001b[0m\u001b[0;34m\u001b[0m\u001b[0m\n\u001b[1;32m      9\u001b[0m     \u001b[0m_\u001b[0m\u001b[0;34m,\u001b[0m \u001b[0mA\u001b[0m\u001b[0;34m,\u001b[0m \u001b[0mB\u001b[0m\u001b[0;34m,\u001b[0m \u001b[0mC\u001b[0m \u001b[0;34m=\u001b[0m \u001b[0minstructions\u001b[0m\u001b[0;34m\u001b[0m\u001b[0m\n\u001b[0;32m---> 10\u001b[0;31m     \u001b[0moutput\u001b[0m\u001b[0;34m[\u001b[0m\u001b[0mC\u001b[0m\u001b[0;34m]\u001b[0m \u001b[0;34m=\u001b[0m \u001b[0mregisters\u001b[0m\u001b[0;34m[\u001b[0m\u001b[0mA\u001b[0m\u001b[0;34m]\u001b[0m \u001b[0;34m+\u001b[0m \u001b[0mB\u001b[0m\u001b[0;34m\u001b[0m\u001b[0m\n\u001b[0m\u001b[1;32m     11\u001b[0m     \u001b[0;32mreturn\u001b[0m \u001b[0mtuple\u001b[0m\u001b[0;34m(\u001b[0m\u001b[0moutput\u001b[0m\u001b[0;34m)\u001b[0m\u001b[0;34m\u001b[0m\u001b[0m\n\u001b[1;32m     12\u001b[0m \u001b[0;34m\u001b[0m\u001b[0m\n",
      "\u001b[0;31mKeyboardInterrupt\u001b[0m: "
     ]
    }
   ],
   "source": [
    "puzzle_runner = InstructionRunner(puzzle_instructions, puzzle_register, part_1=False)\n",
    "while not puzzle_runner.finished:\n",
    "    puzzle_runner.move()\n",
    "\n",
    "print(puzzle_runner.registers)"
   ]
  },
  {
   "cell_type": "markdown",
   "metadata": {},
   "source": [
    "Examining the registers after running for some time:\n",
    "\n",
    "```\n",
    "Move 39000000, Registers: [0, 10551309, 7, 4874998, 0, 1],\n",
    "Executed: Counter(\n",
    "    {3: 4874998,\n",
    "     4: 4874998,\n",
    "     5: 4874998,\n",
    "     6: 4874998,\n",
    "     8: 4874997,\n",
    "     9: 4874997,\n",
    "     10: 4874997,\n",
    "     11: 4874997,\n",
    "     0: 1,\n",
    "     17: 1,\n",
    "     18: 1,\n",
    "     19: 1, \n",
    "     20: 1,\n",
    "     21: 1,\n",
    "     22: 1, 23: 1, 24: 1, 25: 1, 27: 1, 28: 1, 29: 1, 30: 1, 31: 1, 32: 1, 33: 1, 34: 1, 35: 1, 1: 1, 2: 1})\n",
    "\n",
    "Move 40000000, Registers: [0, 10551309, 7, 4999998, 0, 1],\n",
    "Executed: Counter(\n",
    "    {3: 4999998,\n",
    "     4: 4999998,\n",
    "     5: 4999998,\n",
    "     6: 4999998,\n",
    "     8: 4999997,\n",
    "     9: 4999997,\n",
    "     10: 4999997,\n",
    "     11: 4999997,\n",
    "     0: 1, 17: 1, 18: 1, 19: 1, 20: 1, 21: 1, 22: 1, 23: 1, 24: 1, 25: 1, 27: 1, 28: 1, 29: 1, 30: 1, 31: 1, 32: 1, 33: 1, 34: 1, 35: 1, 1: 1, 2: 1})\n",
    "```\n",
    "\n",
    "Stuck in loop execution 3, 4, 5, 6, 7, 9, 10 and 11 with pointer at 7\n",
    "\n",
    "```\n",
    "3  mulr 5 3 4\n",
    "4  eqrr 4 1 4\n",
    "5  addr 4 2 2\n",
    "6  addi 2 1 2  # Jump \n",
    "7  addr 5 0 0\n",
    "8  addi 3 1 3\n",
    "9  gtrr 3 1 4\n",
    "10 addr 2 4 2\n",
    "11 seti 2 8 2\n",
    "```\n",
    "\n",
    "```\n",
    "pointer = 3\n",
    "inst \n",
    "#3 reg_4 = reg_5 * reg_3\n",
    "#4 \n"
   ]
  },
  {
   "cell_type": "markdown",
   "metadata": {},
   "source": [
    "Puzzle input\n",
    "\n",
    "```\n",
    "#ip 2\n",
    "0  addi 2 16 2 * -> 17 Block B\n",
    "\n",
    "# Block D\n",
    "1  seti 1 1 5    -> reg[5] = 1\n",
    "2  seti 1 1 3    -> reg[3] = 1\n",
    "3  mulr 5 3 4    -> reg[4] = reg[3] * reg[5]\n",
    "4  eqrr 4 1 4    -> reg[4] = reg[4] == reg[1]\n",
    "5  addr 4 2 2  *\n",
    "6  addi 2 1 2  * -> 8\n",
    "7  addr 5 0 0\n",
    "8  addi 3 1 3\n",
    "9  gtrr 3 1 4\n",
    "10 addr 2 4 2  *\n",
    "11 seti 2 8 2  * -> 3\n",
    "12 addi 5 1 5\n",
    "13 gtrr 5 1 4\n",
    "14 addr 4 2 2  *\n",
    "15 seti 1 5 2  * -> 2\n",
    "16 mulr 2 2 2  * -> break!!!\n",
    "\n",
    "# block_B\n",
    "17 addi 1 2 1\n",
    "18 mulr 1 1 1\n",
    "19 mulr 2 1 1\n",
    "20 muli 1 11 1\n",
    "\n",
    "# Block_C\n",
    "21 addi 4 3 4\n",
    "22 mulr 4 2 4\n",
    "23 addi 4 7 4\n",
    "24 addr 1 4 1\n",
    "\n",
    "25 addr 2 0 2  * idx += reg[0] -> 27 with part 2\n",
    "26 seti 0 4 2  * -> 1\n",
    "\n",
    "block_A\n",
    "x = 27\n",
    "27 setr 2 8 4    -> reg[4] = x\n",
    "28 mulr 4 2 4    -> reg[4] = x(x+1)\n",
    "29 addr 2 4 4    -> reg[4] = x + 2 + x(x+1) = x^2 + 2x + 2 \n",
    "30 mulr 2 4 4    -> reg[4] = (x+3)(x^2 + 2x + 2) = x^3 +6x^2 + 6\n",
    "31 muli 4 14 4   -> reg[4] = 14x^3 +84x^2 + 84\n",
    "32 mulr 4 2 4    -> reg[4] = (x+5)(14x^3 +84x^2 + 84) = 14x^4 + 154x^3 + 420x^2 + 84x + 420\n",
    "# sets reg[4] to 10550400\n",
    "\n",
    "33 addr 1 4 1    -> reg[1] += 10550400\n",
    "\n",
    "...\n",
    "34 seti 0 5 0    -> reg[0] = 0\n",
    "35 seti 0 8 2  * -> 1\n",
    "```"
   ]
  },
  {
   "cell_type": "code",
   "execution_count": 1,
   "metadata": {},
   "outputs": [],
   "source": [
    "# 27 setr 2 8 4    -> reg[4] = x\n",
    "# 28 mulr 4 2 4    -> reg[4] = x(x+1)\n",
    "# 29 addr 2 4 4    -> reg[4] = x + 2 + x(x+1) = x^2 + 2x + 2 \n",
    "# 30 mulr 2 4 4    -> reg[4] = (x+3)(x^2 + 2x + 2) = x^3 +6x^2 + 6\n",
    "# 31 muli 4 14 4   -> reg[4] = 14x^3 +84x^2 + 84\n",
    "# 32 mulr 4 2 4    -> reg[4] = (x+5)(14x^3 +84x^2 + 84) = 14x^4 + 154x^3 + 420x^2 + 84x + 420\n",
    "\n",
    "# sets reg[4] to 10550400\n",
    "def block_A():\n",
    "    x = 27\n",
    "    res = x\n",
    "    res *= (x + 1)\n",
    "    res += (x + 2)\n",
    "    res *= (x + 3)\n",
    "    res *= 14\n",
    "    res *= (x + 5)\n",
    "    return res"
   ]
  },
  {
   "cell_type": "code",
   "execution_count": 2,
   "metadata": {},
   "outputs": [
    {
     "data": {
      "text/plain": [
       "10550400"
      ]
     },
     "execution_count": 2,
     "metadata": {},
     "output_type": "execute_result"
    }
   ],
   "source": [
    "block_A()"
   ]
  },
  {
   "cell_type": "code",
   "execution_count": 3,
   "metadata": {},
   "outputs": [],
   "source": [
    "# block_B\n",
    "# 17 addi 1 2 1\n",
    "# 18 mulr 1 1 1\n",
    "# 19 mulr 2 1 1\n",
    "# 20 muli 1 11 1\n",
    "def block_B(buf_1):\n",
    "    x = 17\n",
    "    buf_1 += 2\n",
    "    buf_1 *= buf_1\n",
    "    buf_1 *= (x + 2)\n",
    "    buf_1 *= 11 \n",
    "    return buf_1"
   ]
  },
  {
   "cell_type": "code",
   "execution_count": 4,
   "metadata": {},
   "outputs": [
    {
     "data": {
      "text/plain": [
       "836"
      ]
     },
     "execution_count": 4,
     "metadata": {},
     "output_type": "execute_result"
    }
   ],
   "source": [
    "# registers: [1, 0, 16, 0, 0, 0]\n",
    "# Running 17 ('addi', 1, 2, 1)\n",
    "# registers: [1, 2, 17, 0, 0, 0]\n",
    "# Running 18 ('mulr', 1, 1, 1)\n",
    "# registers: [1, 4, 18, 0, 0, 0]\n",
    "# Running 19 ('mulr', 2, 1, 1)\n",
    "# registers: [1, 76, 19, 0, 0, 0]\n",
    "# Running 20 ('muli', 1, 11, 1)\n",
    "# registers: [1, 836, 20, 0, 0, 0]\n",
    "# Running 21 ('addi', 4, 3, 4)\n",
    "block_B(0)"
   ]
  },
  {
   "cell_type": "code",
   "execution_count": 5,
   "metadata": {},
   "outputs": [],
   "source": [
    "# Block_C\n",
    "# 21 addi 4 3 4\n",
    "# 22 mulr 4 2 4\n",
    "# 23 addi 4 7 4\n",
    "# 24 addr 1 4 1\n",
    "# registers: [1, 836, 20, 0, 0, 0]\n",
    "# Running 21 ('addi', 4, 3, 4)\n",
    "# registers: [1, 836, 21, 0, 3, 0]\n",
    "# Running 22 ('mulr', 4, 2, 4)\n",
    "# registers: [1, 836, 22, 0, 66, 0]\n",
    "# Running 23 ('addi', 4, 7, 4)\n",
    "# registers: [1, 836, 23, 0, 73, 0]\n",
    "# Running 24 ('addr', 1, 4, 1)\n",
    "# registers: [1, 909, 24, 0, 73, 0]\n",
    "def block_C(buf_1, buf_4):\n",
    "    x= 21\n",
    "    buf_4 += 3\n",
    "    buf_4 *= (x + 1)\n",
    "    buf_4 += 7\n",
    "    buf_1 += buf_4\n",
    "    return buf_1    "
   ]
  },
  {
   "cell_type": "code",
   "execution_count": 6,
   "metadata": {},
   "outputs": [
    {
     "data": {
      "text/plain": [
       "909"
      ]
     },
     "execution_count": 6,
     "metadata": {},
     "output_type": "execute_result"
    }
   ],
   "source": [
    "block_C(836, 0)"
   ]
  },
  {
   "cell_type": "code",
   "execution_count": 7,
   "metadata": {},
   "outputs": [],
   "source": [
    "# Block D\n",
    "# 1  seti 1 1 5    -> reg[5] = 1\n",
    "# 2  seti 1 1 3    -> reg[3] = 1\n",
    "# 3  mulr 5 3 4    -> reg[4] = reg[3] * reg[5]\n",
    "# 4  eqrr 4 1 4    -> reg[4] = reg[4] == reg[1]\n",
    "# 5  addr 4 2 2  * -> Would be stuck here if\n",
    "# 6  addi 2 1 2  * -> 8\n",
    "# 7  addr 5 0 0    # THis is the one that break out?\n",
    "# 8  addi 3 1 3\n",
    "# 9  gtrr 3 1 4\n",
    "# 10 addr 2 4 2  *\n",
    "# 11 seti 2 8 2  * -> 3\n",
    "\n",
    "# registers: [0, 10551309, 0, 0, 10550400, 0]\n",
    "# Running 1 ('seti', 1, 1, 5)\n",
    "# registers: [0, 10551309, 1, 0, 10550400, 1]\n",
    "# Running 2 ('seti', 1, 1, 3)\n",
    "# registers: [0, 10551309, 2, 1, 10550400, 1]\n",
    "# Running 3 ('mulr', 5, 3, 4)\n",
    "# registers: [0, 10551309, 3, 1, 1, 1]\n",
    "# Running 4 ('eqrr', 4, 1, 4)\n",
    "# registers: [0, 10551309, 4, 1, 0, 1]\n",
    "# Running 5 ('addr', 4, 2, 2)               -> 6 or 7\n",
    "# registers: [0, 10551309, 5, 1, 0, 1]\n",
    "# Running 6 ('addi', 2, 1, 2)\n",
    "# registers: [0, 10551309, 7, 1, 0, 1]\n",
    "# Running 8 ('addi', 3, 1, 3)\n",
    "# registers: [0, 10551309, 8, 2, 0, 1]\n",
    "# Running 9 ('gtrr', 3, 1, 4)\n",
    "# registers: [0, 10551309, 9, 2, 0, 1]\n",
    "# Running 10 ('addr', 2, 4, 2)\n",
    "# registers: [0, 10551309, 10, 2, 0, 1]\n",
    "# Running 11 ('seti', 2, 8, 2)\n",
    "# registers: [0, 10551309, 2, 2, 0, 1]\n",
    "# Running 3 ('mulr', 5, 3, 4)\n",
    "# registers: [0, 10551309, 3, 2, 2, 1]\n",
    "\n",
    "# 12 addi 5 1 5\n",
    "# 13 gtrr 5 1 4\n",
    "# 14 addr 4 2 2  *\n",
    "# 15 seti 1 5 2  * -> 2\n",
    "# 16 mulr 2 2 2  *\n",
    "def block_D(reg_0, reg_1):\n",
    "    x = 1\n",
    "\n",
    "    reg_5 = 1                      #1\n",
    "    \n",
    "    while True:                    #15\n",
    "        reg_3 = 1                  #2\n",
    "\n",
    "        while True:                #11\n",
    "            reg_4 = reg_3 * reg_5  #3\n",
    "\n",
    "            if reg_4 == reg_1:     #4, 5 and 6\n",
    "                reg_0 += reg_5     #7\n",
    "\n",
    "            reg_3 += 1             #8\n",
    "\n",
    "            if reg_3 > reg_1:      # 9  goto 12 else 11\n",
    "                break              # 10\n",
    "        \n",
    "        reg_5 += 1                 # 12\n",
    "        \n",
    "        if reg_5 > reg_1:          # 13\n",
    "            break                  # 14\n",
    "\n",
    "    return reg_0\n",
    "\n",
    "    "
   ]
  },
  {
   "cell_type": "markdown",
   "metadata": {},
   "source": [
    "Block D increments reg_0 by each of the divisors of reg_1!"
   ]
  },
  {
   "cell_type": "code",
   "execution_count": 8,
   "metadata": {},
   "outputs": [],
   "source": [
    "import math\n",
    "def divisors(n):\n",
    "    divs = [1]\n",
    "    for i in range(2,int(math.sqrt(n))+1):\n",
    "        if n%i == 0:\n",
    "            divs.extend([i,n/i])\n",
    "    divs.extend([n])\n",
    "    return set(divs)"
   ]
  },
  {
   "cell_type": "code",
   "execution_count": 10,
   "metadata": {},
   "outputs": [],
   "source": [
    "def block_D_improved(reg_1):\n",
    "    return int(sum(divisors(reg_1)))"
   ]
  },
  {
   "cell_type": "code",
   "execution_count": 11,
   "metadata": {},
   "outputs": [
    {
     "name": "stdout",
     "output_type": "stream",
     "text": [
      "1 1 1\n",
      "2 3 3\n",
      "3 4 4\n",
      "4 7 7\n",
      "5 6 6\n",
      "6 12 12\n",
      "7 8 8\n",
      "8 15 15\n",
      "9 13 13\n",
      "10 18 18\n",
      "11 12 12\n",
      "12 28 28\n",
      "13 14 14\n",
      "14 24 24\n",
      "15 24 24\n",
      "16 31 31\n",
      "17 18 18\n",
      "18 39 39\n",
      "19 20 20\n",
      "20 42 42\n",
      "21 32 32\n",
      "22 36 36\n",
      "23 24 24\n",
      "24 60 60\n",
      "25 31 31\n",
      "26 42 42\n",
      "27 40 40\n",
      "28 56 56\n",
      "29 30 30\n",
      "30 72 72\n"
     ]
    }
   ],
   "source": [
    "# Check\n",
    "for i in range(1, 31):\n",
    "    print(i, block_D(0, i), block_D_improved(i))"
   ]
  },
  {
   "cell_type": "code",
   "execution_count": 12,
   "metadata": {},
   "outputs": [
    {
     "data": {
      "text/plain": [
       "14562240"
      ]
     },
     "execution_count": 12,
     "metadata": {},
     "output_type": "execute_result"
    }
   ],
   "source": [
    "block_D_improved(10551309)"
   ]
  },
  {
   "cell_type": "code",
   "execution_count": 46,
   "metadata": {},
   "outputs": [],
   "source": [
    "# Putting it all together\n",
    "def full_program(reg_0=0, reg_1=0, reg_4=0, part_1=False):\n",
    "    reg_1 = block_B(reg_1)\n",
    "    print('reg_1', reg_1)\n",
    "    reg_1 = block_C(reg_1, reg_4)\n",
    "    print('reg_1', reg_1)\n",
    "    \n",
    "    if not part_1:\n",
    "        # Block A is skipped in part 1\n",
    "        reg_1 += 10550400\n",
    "        print('reg_1', reg_1)\n",
    "\n",
    "    # Block D\n",
    "    reg_0 += block_D_improved(reg_1)\n",
    "    \n",
    "    return reg_0\n"
   ]
  },
  {
   "cell_type": "code",
   "execution_count": 47,
   "metadata": {},
   "outputs": [
    {
     "name": "stdout",
     "output_type": "stream",
     "text": [
      "reg_1 836\n",
      "reg_1 909\n",
      "reg_1 10551309\n"
     ]
    },
    {
     "data": {
      "text/plain": [
       "14562240"
      ]
     },
     "execution_count": 47,
     "metadata": {},
     "output_type": "execute_result"
    }
   ],
   "source": [
    "full_program()"
   ]
  },
  {
   "cell_type": "code",
   "execution_count": null,
   "metadata": {},
   "outputs": [],
   "source": []
  }
 ],
 "metadata": {
  "kernelspec": {
   "display_name": "Python 3",
   "language": "python",
   "name": "python3"
  },
  "language_info": {
   "codemirror_mode": {
    "name": "ipython",
    "version": 3
   },
   "file_extension": ".py",
   "mimetype": "text/x-python",
   "name": "python",
   "nbconvert_exporter": "python",
   "pygments_lexer": "ipython3",
   "version": "3.6.5"
  }
 },
 "nbformat": 4,
 "nbformat_minor": 2
}
