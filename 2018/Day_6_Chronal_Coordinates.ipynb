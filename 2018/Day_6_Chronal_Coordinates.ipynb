{
 "cells": [
  {
   "cell_type": "code",
   "execution_count": 1,
   "metadata": {},
   "outputs": [],
   "source": [
    "import sys\n",
    "sys.path.append(\"..\")"
   ]
  },
  {
   "cell_type": "code",
   "execution_count": 2,
   "metadata": {},
   "outputs": [],
   "source": [
    "from collections import Counter, namedtuple\n",
    "\n",
    "from resources.utils import get_puzzle_input"
   ]
  },
  {
   "cell_type": "markdown",
   "metadata": {},
   "source": [
    "### Part 1\n",
    "\n",
    "\n",
    "\"Situation critical,\" the device announces. \"Destination indeterminate. Chronal interference detected. Please specify new target coordinates.\"\n",
    "\n",
    "The device then produces a list of coordinates (your puzzle input). Are they places it thinks are safe or dangerous? It recommends you check manual page 729. The Elves did not give you a manual.\n",
    "\n",
    "If they're dangerous, maybe you can minimize the danger by finding the coordinate that gives the largest distance from the other points.\n",
    "\n",
    "Using only the Manhattan distance, determine the area around each coordinate by counting the number of integer X,Y locations that are closest to that coordinate (and aren't tied in distance to any other coordinate).\n",
    "\n",
    "Your goal is to find the size of the largest area that isn't infinite. For example, consider the following list of coordinates:\n",
    "\n",
    "```\n",
    "1, 1\n",
    "1, 6\n",
    "8, 3\n",
    "3, 4\n",
    "5, 5\n",
    "8, 9\n",
    "```\n",
    "\n",
    "If we name these coordinates A through F, we can draw them on a grid, putting 0,0 at the top left:\n",
    "\n",
    "```\n",
    "..........\n",
    ".A........\n",
    "..........\n",
    "........C.\n",
    "...D......\n",
    ".....E....\n",
    ".B........\n",
    "..........\n",
    "..........\n",
    "........F.\n",
    "```\n",
    "\n",
    "This view is partial - the actual grid extends infinitely in all directions. Using the Manhattan distance, each location's closest coordinate can be determined, shown here in lowercase:\n",
    "\n",
    "```\n",
    "aaaaa.cccc\n",
    "aAaaa.cccc\n",
    "aaaddecccc\n",
    "aadddeccCc\n",
    "..dDdeeccc\n",
    "bb.deEeecc\n",
    "bBb.eeee..\n",
    "bbb.eeefff\n",
    "bbb.eeffff\n",
    "bbb.ffffFf\n",
    "```\n",
    "\n",
    "Locations shown as . are equally far from two or more coordinates, and so they don't count as being closest to any.\n",
    "\n",
    "In this example, the areas of coordinates A, B, C, and F are infinite - while not shown here, their areas extend forever outside the visible grid. However, the areas of coordinates D and E are finite: D is closest to 9 locations, and E is closest to 17 (both including the coordinate's location itself). Therefore, in this example, the size of the largest area is 17.\n",
    "\n",
    "What is the size of the largest area that isn't infinite?"
   ]
  },
  {
   "cell_type": "code",
   "execution_count": 3,
   "metadata": {},
   "outputs": [],
   "source": [
    "Point = namedtuple('Point', ['x', 'y'])\n",
    "\n",
    "def manhatten_distance(left, right):\n",
    "    return abs(left.x - right.x) + abs(left.y - right.y)"
   ]
  },
  {
   "cell_type": "code",
   "execution_count": 4,
   "metadata": {},
   "outputs": [],
   "source": [
    "assert manhatten_distance(Point(1, 1), Point(3, 3)) == 4\n",
    "assert manhatten_distance(Point(3, 3), Point(1, 1)) == 4"
   ]
  },
  {
   "cell_type": "code",
   "execution_count": 5,
   "metadata": {},
   "outputs": [],
   "source": [
    "def nearest_point(point, locations):\n",
    "    nearest_point = None\n",
    "    min_distance = None\n",
    "    equidistant = False\n",
    "    for x in range(len(locations)):\n",
    "        distance = manhatten_distance(point, locations[x])\n",
    "        if min_distance is None or distance < min_distance:\n",
    "            nearest_point = x\n",
    "            min_distance = distance\n",
    "            equidistant = False\n",
    "        elif min_distance == distance:\n",
    "            equidistant = True\n",
    "\n",
    "    if equidistant:\n",
    "        return None\n",
    "    else:\n",
    "        return nearest_point           "
   ]
  },
  {
   "cell_type": "code",
   "execution_count": 6,
   "metadata": {},
   "outputs": [],
   "source": [
    "test_points = [\n",
    "    Point(1, 1),\n",
    "    Point(1, 6),\n",
    "    Point(8, 3),\n",
    "    Point(3, 4),\n",
    "    Point(5, 5),\n",
    "    Point(8, 9),\n",
    "]"
   ]
  },
  {
   "cell_type": "code",
   "execution_count": 7,
   "metadata": {},
   "outputs": [],
   "source": [
    "assert nearest_point(Point(1, 1), test_points) == 0\n",
    "assert nearest_point(Point(1, 3), test_points) == 0\n",
    "assert nearest_point(Point(1, 4), test_points) is None\n",
    "assert nearest_point(Point(2, 4), test_points) == 3\n",
    "assert nearest_point(Point(1, 5), test_points) == 1\n",
    "assert nearest_point(Point(5, 7), test_points) == 4"
   ]
  },
  {
   "cell_type": "code",
   "execution_count": 8,
   "metadata": {},
   "outputs": [],
   "source": [
    "def south_east_corner(locations):\n",
    "    max_x = None\n",
    "    max_y = None\n",
    "    \n",
    "    for point in locations:\n",
    "        if max_x is None or point.x > max_x:\n",
    "            max_x = point.x\n",
    "        if max_y is None or point.y > max_y:\n",
    "            max_y = point.y\n",
    "    \n",
    "    return Point(max_x, max_y)           "
   ]
  },
  {
   "cell_type": "code",
   "execution_count": 9,
   "metadata": {},
   "outputs": [],
   "source": [
    "assert south_east_corner(test_points) == Point(8, 9)"
   ]
  },
  {
   "cell_type": "code",
   "execution_count": 10,
   "metadata": {},
   "outputs": [],
   "source": [
    "# Only need to consider points in the up to max x, y\n",
    "# Then exclude areas that touch the right and bottom\n",
    "\n",
    "class NearestGrid:\n",
    "    def __init__(self, locations):\n",
    "        self.locations = locations\n",
    "        self.se_corner = south_east_corner(locations)\n",
    "        self._build_grid()\n",
    "    \n",
    "    def _build_grid(self):\n",
    "        max_x, max_y = self.se_corner\n",
    "        \n",
    "        rows = []\n",
    "        \n",
    "        for y in range(max_y + 1):\n",
    "            columns = []\n",
    "            for x in range (max_x + 1):\n",
    "                point = Point(x, y)\n",
    "                columns.append(nearest_point(point, self.locations))\n",
    "            rows.append(columns)\n",
    "        \n",
    "        self.grid = rows\n",
    "     \n",
    "    @property\n",
    "    def unbounded_areas(self):\n",
    "        unbounded = set()\n",
    "        for row in self.grid:\n",
    "            east = row[-1]\n",
    "            west = row[0]\n",
    "            if east is not None:\n",
    "                unbounded.add(east)\n",
    "            if west is not None:\n",
    "                unbounded.add(west)\n",
    "\n",
    "        for north in self.grid[0]:\n",
    "            if north is not None:\n",
    "                unbounded.add(north)\n",
    "\n",
    "        for south in self.grid[-1]:\n",
    "            if south is not None:\n",
    "                unbounded.add(south)\n",
    "        \n",
    "        return unbounded\n",
    "    \n",
    "    @property\n",
    "    def areas(self):\n",
    "        area_ctr = Counter()\n",
    "        \n",
    "        for row in self.grid:\n",
    "            for col in row:\n",
    "                if col is not None:\n",
    "                    area_ctr[col] += 1\n",
    "        \n",
    "        return area_ctr \n",
    "    \n",
    "    def max_bounded(self):\n",
    "        unbounded = self.unbounded_areas\n",
    "        max_area = None\n",
    "        \n",
    "        for n, v in self.areas.items():\n",
    "            if n in unbounded:\n",
    "                continue\n",
    "            if max_area is None or v > max_area:\n",
    "                max_area = v\n",
    "        \n",
    "        return max_area\n",
    "            \n",
    "\n",
    "    def __str__(self):\n",
    "        row_output = []\n",
    "        for row in self.grid:\n",
    "            col_output = []\n",
    "            for col in row:\n",
    "                if col is None:\n",
    "                    col_output.append('.')\n",
    "                else:\n",
    "                    col_output.append(chr(65 + col))\n",
    "            row_output.append(''.join(col_output))\n",
    "\n",
    "        return '\\n'.join(row_output)\n"
   ]
  },
  {
   "cell_type": "code",
   "execution_count": 11,
   "metadata": {},
   "outputs": [
    {
     "name": "stdout",
     "output_type": "stream",
     "text": [
      "AAAAA.CCC\n",
      "AAAAA.CCC\n",
      "AAADDECCC\n",
      "AADDDECCC\n",
      "..DDDEECC\n",
      "BB.DEEEEC\n",
      "BBB.EEEE.\n",
      "BBB.EEEFF\n",
      "BBB.EEFFF\n",
      "BBB.FFFFF\n"
     ]
    }
   ],
   "source": [
    "grid = NearestGrid(test_points)\n",
    "print(grid)"
   ]
  },
  {
   "cell_type": "code",
   "execution_count": 12,
   "metadata": {},
   "outputs": [
    {
     "data": {
      "text/plain": [
       "{0, 1, 2, 5}"
      ]
     },
     "execution_count": 12,
     "metadata": {},
     "output_type": "execute_result"
    }
   ],
   "source": [
    "grid.unbounded_areas"
   ]
  },
  {
   "cell_type": "code",
   "execution_count": 13,
   "metadata": {},
   "outputs": [
    {
     "data": {
      "text/plain": [
       "17"
      ]
     },
     "execution_count": 13,
     "metadata": {},
     "output_type": "execute_result"
    }
   ],
   "source": [
    "grid.max_bounded()"
   ]
  },
  {
   "cell_type": "code",
   "execution_count": 14,
   "metadata": {},
   "outputs": [],
   "source": [
    "puzzle_input = get_puzzle_input('/tmp/day_6.txt')"
   ]
  },
  {
   "cell_type": "code",
   "execution_count": 15,
   "metadata": {},
   "outputs": [],
   "source": [
    "puzzle_points = []\n",
    "for p in puzzle_input:\n",
    "    x, y = p.split(', ')\n",
    "    puzzle_points.append(Point(int(x), int(y)))"
   ]
  },
  {
   "cell_type": "code",
   "execution_count": 16,
   "metadata": {},
   "outputs": [
    {
     "data": {
      "text/plain": [
       "3907"
      ]
     },
     "execution_count": 16,
     "metadata": {},
     "output_type": "execute_result"
    }
   ],
   "source": [
    "grid = NearestGrid(puzzle_points)\n",
    "grid.max_bounded()"
   ]
  },
  {
   "cell_type": "markdown",
   "metadata": {},
   "source": [
    "### Part 2\n",
    "\n",
    "On the other hand, if the coordinates are safe, maybe the best you can do is try to find a region near as many coordinates as possible.\n",
    "\n",
    "For example, suppose you want the sum of the Manhattan distance to all of the coordinates to be less than 32. For each location, add up the distances to all of the given coordinates; if the total of those distances is less than 32, that location is within the desired region. Using the same coordinates as above, the resulting region looks like this:\n",
    "\n",
    "```\n",
    "..........\n",
    ".A........\n",
    "..........\n",
    "...###..C.\n",
    "..#D###...\n",
    "..###E#...\n",
    ".B.###....\n",
    "..........\n",
    "..........\n",
    "........F.\n",
    "```\n",
    "\n",
    "In particular, consider the highlighted location 4,3 located at the top middle of the region. Its calculation is as follows, where abs() is the absolute value function:\n",
    "\n",
    "```\n",
    "Distance to coordinate A: abs(4-1) + abs(3-1) =  5\n",
    "Distance to coordinate B: abs(4-1) + abs(3-6) =  6\n",
    "Distance to coordinate C: abs(4-8) + abs(3-3) =  4\n",
    "Distance to coordinate D: abs(4-3) + abs(3-4) =  2\n",
    "Distance to coordinate E: abs(4-5) + abs(3-5) =  3\n",
    "Distance to coordinate F: abs(4-8) + abs(3-9) = 10\n",
    "Total distance: 5 + 6 + 4 + 2 + 3 + 10 = 30\n",
    "```\n",
    "\n",
    "Because the total distance to all coordinates (30) is less than 32, the location is within the region.\n",
    "\n",
    "This region, which also includes coordinates D and E, has a total size of 16.\n",
    "\n",
    "Your actual region will need to be much larger than this example, though, instead including all locations with a total distance of less than 10000.\n",
    "\n",
    "What is the size of the region containing all locations which have a total distance to all given coordinates of less than 10000?"
   ]
  },
  {
   "cell_type": "code",
   "execution_count": 17,
   "metadata": {},
   "outputs": [],
   "source": [
    "def total_distance(point, locations):\n",
    "    return sum(manhatten_distance(point, location) for location in locations)"
   ]
  },
  {
   "cell_type": "code",
   "execution_count": 18,
   "metadata": {},
   "outputs": [],
   "source": [
    "assert total_distance(Point(4, 3), test_points) == 30"
   ]
  },
  {
   "cell_type": "code",
   "execution_count": 19,
   "metadata": {},
   "outputs": [],
   "source": [
    "def num_in_dist(points, max_dist):\n",
    "    max_x, max_y = south_east_corner(points)\n",
    "    \n",
    "    # Need to consider extra points off the N,E,S and W of\n",
    "    # the grid. Given the min manhatten distance to any point\n",
    "    # is the extra length the min possible distance to all points\n",
    "    # is max_dist / num of points\n",
    "    offset = max_dist // len(points)\n",
    "    \n",
    "    area = 0\n",
    "    for y in range(-offset, max_y + offset):\n",
    "        for x in range(-offset, max_x + offset):\n",
    "            point = Point(x, y)\n",
    "            \n",
    "            if total_distance(point, points) < max_dist:\n",
    "                area += 1\n",
    "    \n",
    "    return area"
   ]
  },
  {
   "cell_type": "code",
   "execution_count": 20,
   "metadata": {},
   "outputs": [
    {
     "data": {
      "text/plain": [
       "16"
      ]
     },
     "execution_count": 20,
     "metadata": {},
     "output_type": "execute_result"
    }
   ],
   "source": [
    "num_in_dist(test_points, 32)"
   ]
  },
  {
   "cell_type": "code",
   "execution_count": 21,
   "metadata": {},
   "outputs": [
    {
     "data": {
      "text/plain": [
       "42036"
      ]
     },
     "execution_count": 21,
     "metadata": {},
     "output_type": "execute_result"
    }
   ],
   "source": [
    "num_in_dist(puzzle_points, 10000)"
   ]
  },
  {
   "cell_type": "code",
   "execution_count": null,
   "metadata": {},
   "outputs": [],
   "source": []
  }
 ],
 "metadata": {
  "kernelspec": {
   "display_name": "Python 3",
   "language": "python",
   "name": "python3"
  },
  "language_info": {
   "codemirror_mode": {
    "name": "ipython",
    "version": 3
   },
   "file_extension": ".py",
   "mimetype": "text/x-python",
   "name": "python",
   "nbconvert_exporter": "python",
   "pygments_lexer": "ipython3",
   "version": "3.6.5"
  }
 },
 "nbformat": 4,
 "nbformat_minor": 2
}
