{
 "cells": [
  {
   "cell_type": "code",
   "execution_count": 1,
   "metadata": {},
   "outputs": [],
   "source": [
    "import sys\n",
    "sys.path.append(\"..\")"
   ]
  },
  {
   "cell_type": "code",
   "execution_count": 2,
   "metadata": {},
   "outputs": [],
   "source": [
    "from collections import defaultdict\n",
    "from itertools import islice\n",
    "\n",
    "from resources.utils import get_puzzle_input"
   ]
  },
  {
   "cell_type": "markdown",
   "metadata": {},
   "source": [
    "### Part 1\n",
    "\n",
    "\n",
    "The year 518 is significantly more underground than your history books implied. Either that, or you've arrived in a vast cavern network under the North Pole.\n",
    "\n",
    "After exploring a little, you discover a long tunnel that contains a row of small pots as far as you can see to your left and right. A few of them contain plants - someone is trying to grow things in these geothermally-heated caves.\n",
    "\n",
    "The pots are numbered, with 0 in front of you. To the left, the pots are numbered -1, -2, -3, and so on; to the right, 1, 2, 3.... Your puzzle input contains a list of pots from 0 to the right and whether they do (#) or do not (.) currently contain a plant, the initial state. (No other pots currently contain plants.) For example, an initial state of #..##.... indicates that pots 0, 3, and 4 currently contain plants.\n",
    "\n",
    "Your puzzle input also contains some notes you find on a nearby table: someone has been trying to figure out how these plants spread to nearby pots. Based on the notes, for each generation of plants, a given pot has or does not have a plant based on whether that pot (and the two pots on either side of it) had a plant in the last generation. These are written as LLCRR => N, where L are pots to the left, C is the current pot being considered, R are the pots to the right, and N is whether the current pot will have a plant in the next generation. For example:\n",
    "\n",
    "A note like ..#.. => . means that a pot that contains a plant but with no plants within two pots of it will not have a plant in it during the next generation.\n",
    "A note like ##.## => . means that an empty pot with two plants on each side of it will remain empty in the next generation.\n",
    "A note like .##.# => # means that a pot has a plant in a given generation if, in the previous generation, there were plants in that pot, the one immediately to the left, and the one two pots to the right, but not in the ones immediately to the right and two to the left.\n",
    "It's not clear what these plants are for, but you're sure it's important, so you'd like to make sure the current configuration of plants is sustainable by determining what will happen after 20 generations.\n",
    "\n",
    "For example, given the following input:\n",
    "\n",
    "```\n",
    "initial state: #..#.#..##......###...###\n",
    "\n",
    "...## => #\n",
    "..#.. => #\n",
    ".#... => #\n",
    ".#.#. => #\n",
    ".#.## => #\n",
    ".##.. => #\n",
    ".#### => #\n",
    "#.#.# => #\n",
    "#.### => #\n",
    "##.#. => #\n",
    "##.## => #\n",
    "###.. => #\n",
    "###.# => #\n",
    "####. => #\n",
    "For brevity, in this example, only the combinations which do produce a plant are listed. (Your input includes all possible combinations.) Then, the next 20 generations will look like this:\n",
    "\n",
    "                 1         2         3     \n",
    "       0         0         0         0     \n",
    " 0: ...#..#.#..##......###...###...........\n",
    " 1: ...#...#....#.....#..#..#..#...........\n",
    " 2: ...##..##...##....#..#..#..##..........\n",
    " 3: ..#.#...#..#.#....#..#..#...#..........\n",
    " 4: ...#.#..#...#.#...#..#..##..##.........\n",
    " 5: ....#...##...#.#..#..#...#...#.........\n",
    " 6: ....##.#.#....#...#..##..##..##........\n",
    " 7: ...#..###.#...##..#...#...#...#........\n",
    " 8: ...#....##.#.#.#..##..##..##..##.......\n",
    " 9: ...##..#..#####....#...#...#...#.......\n",
    "10: ..#.#..#...#.##....##..##..##..##......\n",
    "11: ...#...##...#.#...#.#...#...#...#......\n",
    "12: ...##.#.#....#.#...#.#..##..##..##.....\n",
    "13: ..#..###.#....#.#...#....#...#...#.....\n",
    "14: ..#....##.#....#.#..##...##..##..##....\n",
    "15: ..##..#..#.#....#....#..#.#...#...#....\n",
    "16: .#.#..#...#.#...##...#...#.#..##..##...\n",
    "17: ..#...##...#.#.#.#...##...#....#...#...\n",
    "18: ..##.#.#....#####.#.#.#...##...##..##..\n",
    "19: .#..###.#..#.#.#######.#.#.#..#.#...#..\n",
    "20: .#....##....#####...#######....#.#..##.\n",
    "```\n",
    "\n",
    "The generation is shown along the left, where 0 is the initial state. The pot numbers are shown along the top, where 0 labels the center pot, negative-numbered pots extend to the left, and positive pots extend toward the right. Remember, the initial state begins at pot 0, which is not the leftmost pot used in this example.\n",
    "\n",
    "After one generation, only seven plants remain. The one in pot 0 matched the rule looking for ..#.., the one in pot 4 matched the rule looking for .#.#., pot 9 matched .##.., and so on.\n",
    "\n",
    "In this example, after 20 generations, the pots shown as # contain plants, the furthest left of which is pot -2, and the furthest right of which is pot 34. Adding up all the numbers of plant-containing pots after the 20th generation produces 325.\n",
    "\n",
    "After 20 generations, what is the sum of the numbers of all pots which contain a plant?"
   ]
  },
  {
   "cell_type": "code",
   "execution_count": 3,
   "metadata": {},
   "outputs": [],
   "source": [
    "test_input = \"\"\"initial state: #..#.#..##......###...###\n",
    "\n",
    "...## => #\n",
    "..#.. => #\n",
    ".#... => #\n",
    ".#.#. => #\n",
    ".#.## => #\n",
    ".##.. => #\n",
    ".#### => #\n",
    "#.#.# => #\n",
    "#.### => #\n",
    "##.#. => #\n",
    "##.## => #\n",
    "###.. => #\n",
    "###.# => #\n",
    "####. => #\"\"\""
   ]
  },
  {
   "cell_type": "code",
   "execution_count": 4,
   "metadata": {},
   "outputs": [],
   "source": [
    "def parse_lines(lines):\n",
    "    initial_state = lines[0][15:]\n",
    "    instructions = [tuple(line.split(' => ')) for line in lines[2:]]\n",
    "    # Just keep the positive ones\n",
    "    instructions = [neighbours for (neighbours, result) in instructions if result == '#']\n",
    "    return initial_state, instructions"
   ]
  },
  {
   "cell_type": "code",
   "execution_count": 5,
   "metadata": {},
   "outputs": [
    {
     "data": {
      "text/plain": [
       "('#..#.#..##......###...###',\n",
       " ['...##',\n",
       "  '..#..',\n",
       "  '.#...',\n",
       "  '.#.#.',\n",
       "  '.#.##',\n",
       "  '.##..',\n",
       "  '.####',\n",
       "  '#.#.#',\n",
       "  '#.###',\n",
       "  '##.#.',\n",
       "  '##.##',\n",
       "  '###..',\n",
       "  '###.#',\n",
       "  '####.'])"
      ]
     },
     "execution_count": 5,
     "metadata": {},
     "output_type": "execute_result"
    }
   ],
   "source": [
    "test_lines = test_input.split('\\n')\n",
    "test_state, test_instructions = parse_lines(test_lines)\n",
    "test_state, test_instructions"
   ]
  },
  {
   "cell_type": "code",
   "execution_count": 6,
   "metadata": {},
   "outputs": [
    {
     "data": {
      "text/plain": [
       "('##.#....#..#......#..######..#.####.....#......##.##.##...#..#....#.#.##..##.##.#.#..#.#....#.#..#.#',\n",
       " ['#####',\n",
       "  '.#..#',\n",
       "  '#..#.',\n",
       "  '#...#',\n",
       "  '...##',\n",
       "  '##..#',\n",
       "  '.#.##',\n",
       "  '#.###',\n",
       "  '.##.#',\n",
       "  '.#...',\n",
       "  '##...',\n",
       "  '##.##',\n",
       "  '##.#.',\n",
       "  '#.##.'])"
      ]
     },
     "execution_count": 6,
     "metadata": {},
     "output_type": "execute_result"
    }
   ],
   "source": [
    "puzzle_input = get_puzzle_input('/tmp/day_12.txt')\n",
    "puzzle_state, puzzle_instructions = parse_lines(puzzle_input)\n",
    "puzzle_state, puzzle_instructions"
   ]
  },
  {
   "cell_type": "code",
   "execution_count": 7,
   "metadata": {},
   "outputs": [],
   "source": [
    "class PlantPots:\n",
    "    def __init__(self, initial_state, instructions):\n",
    "        self.min_plant = 0 \n",
    "        self.max_plant = len(initial_state)\n",
    "        self.instructions = set(instructions)\n",
    "        \n",
    "        self.state = defaultdict(lambda *_: '.')\n",
    "        for x in range(len(initial_state)):\n",
    "            self.state[x] = initial_state[x]\n",
    "\n",
    "    def is_plant(self, idx):\n",
    "        return self.state[idx] == '#'\n",
    "    \n",
    "    def will_be_plant(self, idx):\n",
    "        neighbours = []\n",
    "        for x in range(idx - 2, idx + 3):\n",
    "            neighbours.append(self.state[x])\n",
    "            \n",
    "        return ''.join(neighbours) in self.instructions\n",
    "\n",
    "    @property\n",
    "    def checksum(self):\n",
    "        cs = 0\n",
    "        for x in range(self.min_plant, self.max_plant + 1):\n",
    "            if self.is_plant(x):\n",
    "                cs += x\n",
    "        \n",
    "        return cs\n",
    "    \n",
    "    def __repr__(self):\n",
    "        output = []\n",
    "        for x in range(self.min_plant, self.max_plant + 1):\n",
    "            output.append(self.state[x])\n",
    "        return ''.join(output)\n",
    "\n",
    "    def __iter__(self):\n",
    "        return self\n",
    "    \n",
    "    def __next__(self):\n",
    "        next_state = defaultdict(lambda *_: '.')\n",
    "        for x in range(self.min_plant - 2, self.max_plant + 3):\n",
    "            is_plant = self.will_be_plant(x)\n",
    "            if x < self.min_plant and is_plant:\n",
    "                self.min_plant = x\n",
    "            if x > self.max_plant and is_plant:\n",
    "                self.max_plant = x\n",
    "            \n",
    "            if is_plant:\n",
    "                next_state[x] = '#'\n",
    "                \n",
    "        self.state = next_state\n",
    "        \n",
    "        return self\n"
   ]
  },
  {
   "cell_type": "code",
   "execution_count": 8,
   "metadata": {},
   "outputs": [
    {
     "data": {
      "text/plain": [
       "#..#.#..##......###...###."
      ]
     },
     "execution_count": 8,
     "metadata": {},
     "output_type": "execute_result"
    }
   ],
   "source": [
    "test_pots = PlantPots(test_state, test_instructions)\n",
    "test_pots"
   ]
  },
  {
   "cell_type": "code",
   "execution_count": 9,
   "metadata": {},
   "outputs": [],
   "source": [
    "assert test_pots.is_plant(3)\n",
    "assert not test_pots.will_be_plant(3)"
   ]
  },
  {
   "cell_type": "code",
   "execution_count": 10,
   "metadata": {},
   "outputs": [],
   "source": [
    "next(test_pots)\n",
    "assert str(test_pots) == '#...#....#.....#..#..#..#.'"
   ]
  },
  {
   "cell_type": "code",
   "execution_count": 11,
   "metadata": {},
   "outputs": [
    {
     "data": {
      "text/plain": [
       "325"
      ]
     },
     "execution_count": 11,
     "metadata": {},
     "output_type": "execute_result"
    }
   ],
   "source": [
    "test_pots = PlantPots(test_state, test_instructions)\n",
    "list(islice(test_pots, 20, 20))\n",
    "test_pots.checksum"
   ]
  },
  {
   "cell_type": "code",
   "execution_count": 12,
   "metadata": {},
   "outputs": [
    {
     "data": {
      "text/plain": [
       "3241"
      ]
     },
     "execution_count": 12,
     "metadata": {},
     "output_type": "execute_result"
    }
   ],
   "source": [
    "puzzle_pots = PlantPots(puzzle_state, puzzle_instructions)\n",
    "list(islice(puzzle_pots, 20, 20))\n",
    "puzzle_pots.checksum"
   ]
  },
  {
   "cell_type": "markdown",
   "metadata": {},
   "source": [
    "### Part 2"
   ]
  },
  {
   "cell_type": "code",
   "execution_count": 13,
   "metadata": {},
   "outputs": [
    {
     "name": "stdout",
     "output_type": "stream",
     "text": [
      "2 2169 91\n",
      "3 2230 61\n",
      "4 2655 425\n",
      "5 2896 241\n",
      "6 2986 90\n",
      "7 2932 -54\n",
      "8 2708 -224\n",
      "9 2677 -31\n",
      "10 2766 89\n",
      "11 2197 -569\n",
      "12 2581 384\n",
      "13 2687 106\n",
      "14 2813 126\n",
      "15 3188 375\n",
      "16 3212 24\n",
      "17 2909 -303\n",
      "18 2857 -52\n",
      "19 3131 274\n",
      "20 3241 110\n",
      "21 3045 -196\n",
      "22 3200 155\n",
      "23 2844 -356\n",
      "24 3197 353\n",
      "25 2967 -230\n",
      "26 3394 427\n",
      "27 3485 91\n",
      "28 2935 -550\n",
      "29 2558 -377\n",
      "30 2696 138\n",
      "31 3274 578\n",
      "32 3214 -60\n",
      "33 2920 -294\n",
      "34 3096 176\n",
      "35 3172 76\n",
      "36 3032 -140\n",
      "37 2919 -113\n",
      "38 2661 -258\n",
      "39 2596 -65\n",
      "40 2458 -138\n",
      "41 2812 354\n",
      "42 2987 175\n",
      "43 3196 209\n",
      "44 3296 100\n",
      "45 3243 -53\n",
      "46 3130 -113\n",
      "47 3449 319\n",
      "48 3219 -230\n",
      "49 3291 72\n",
      "50 3431 140\n",
      "51 3438 7\n",
      "52 3152 -286\n",
      "53 3258 106\n",
      "54 3359 101\n",
      "55 3662 303\n",
      "56 3587 -75\n",
      "57 3661 74\n",
      "58 3660 -1\n",
      "59 3628 -32\n",
      "60 3857 229\n",
      "61 3947 90\n",
      "62 3941 -6\n",
      "63 3855 -86\n",
      "64 3925 70\n",
      "65 4187 262\n",
      "66 4276 89\n",
      "67 4310 34\n",
      "68 4275 -35\n",
      "69 4366 91\n",
      "70 4338 -28\n",
      "71 4286 -52\n",
      "72 4313 27\n",
      "73 4298 -15\n",
      "74 4300 2\n",
      "75 4457 157\n",
      "76 4569 112\n",
      "77 4558 -11\n",
      "78 4384 -174\n",
      "79 4366 -18\n",
      "80 4485 119\n",
      "81 4725 240\n",
      "82 4788 63\n",
      "83 4717 -71\n",
      "84 4557 -160\n",
      "85 4692 135\n",
      "86 4923 231\n",
      "87 5095 172\n",
      "88 5053 -42\n",
      "89 4861 -192\n",
      "90 5004 143\n",
      "91 5071 67\n",
      "92 5349 278\n",
      "93 5407 58\n",
      "94 5061 -346\n",
      "95 5180 119\n",
      "96 5115 -65\n",
      "97 5290 175\n",
      "98 5282 -8\n",
      "99 5389 107\n",
      "100 5492 103\n",
      "101 5598 106\n",
      "102 5546 -52\n",
      "103 5564 18\n",
      "104 5582 18\n",
      "105 5737 155\n",
      "106 5933 196\n",
      "107 5875 -58\n",
      "108 5731 -144\n",
      "109 5804 73\n",
      "110 5889 85\n",
      "111 6003 114\n",
      "112 5988 -15\n",
      "113 6103 115\n",
      "114 6124 21\n",
      "115 6207 83\n",
      "116 6291 84\n",
      "117 6346 55\n",
      "118 6401 55\n",
      "119 6456 55\n",
      "120 6511 55\n",
      "121 6566 55\n",
      "122 6621 55\n",
      "123 6676 55\n",
      "124 6731 55\n",
      "125 6786 55\n",
      "126 6841 55\n",
      "127 6896 55\n",
      "128 6951 55\n",
      "129 7006 55\n",
      "130 7061 55\n",
      "131 7116 55\n",
      "132 7171 55\n",
      "133 7226 55\n",
      "134 7281 55\n",
      "135 7336 55\n",
      "136 7391 55\n",
      "137 7446 55\n",
      "138 7501 55\n",
      "139 7556 55\n",
      "140 7611 55\n",
      "141 7666 55\n",
      "142 7721 55\n",
      "143 7776 55\n",
      "144 7831 55\n",
      "145 7886 55\n",
      "146 7941 55\n",
      "147 7996 55\n",
      "148 8051 55\n",
      "149 8106 55\n",
      "150 8161 55\n",
      "151 8216 55\n",
      "152 8271 55\n",
      "153 8326 55\n",
      "154 8381 55\n",
      "155 8436 55\n",
      "156 8491 55\n",
      "157 8546 55\n",
      "158 8601 55\n",
      "159 8656 55\n",
      "160 8711 55\n",
      "161 8766 55\n",
      "162 8821 55\n",
      "163 8876 55\n",
      "164 8931 55\n",
      "165 8986 55\n",
      "166 9041 55\n",
      "167 9096 55\n",
      "168 9151 55\n",
      "169 9206 55\n",
      "170 9261 55\n",
      "171 9316 55\n",
      "172 9371 55\n",
      "173 9426 55\n",
      "174 9481 55\n",
      "175 9536 55\n",
      "176 9591 55\n",
      "177 9646 55\n",
      "178 9701 55\n",
      "179 9756 55\n",
      "180 9811 55\n",
      "181 9866 55\n",
      "182 9921 55\n",
      "183 9976 55\n",
      "184 10031 55\n",
      "185 10086 55\n",
      "186 10141 55\n",
      "187 10196 55\n",
      "188 10251 55\n",
      "189 10306 55\n",
      "190 10361 55\n",
      "191 10416 55\n",
      "192 10471 55\n",
      "193 10526 55\n",
      "194 10581 55\n",
      "195 10636 55\n",
      "196 10691 55\n",
      "197 10746 55\n",
      "198 10801 55\n",
      "199 10856 55\n",
      "200 10911 55\n"
     ]
    }
   ],
   "source": [
    "puzzle_pots = PlantPots(puzzle_state, puzzle_instructions)\n",
    "seen_states = set()\n",
    "states = []\n",
    "\n",
    "x = 1\n",
    "for _ in islice(puzzle_pots, 200):\n",
    "    state = str(puzzle_pots), puzzle_pots.checksum\n",
    "    states.append(state)\n",
    "    \n",
    "    if x > 1:\n",
    "        print(x, state[1], state[1] - states[-2][1])\n",
    "    \n",
    "    x+= 1\n"
   ]
  },
  {
   "cell_type": "code",
   "execution_count": 14,
   "metadata": {},
   "outputs": [
    {
     "data": {
      "text/plain": [
       "2749999999911"
      ]
     },
     "execution_count": 14,
     "metadata": {},
     "output_type": "execute_result"
    }
   ],
   "source": [
    "# From the 117th generation the checksum increments by 55 each time\n",
    "# it's a 'floater' moving to the right each time\n",
    "(50000000000 - 117) * 55 + 6346"
   ]
  },
  {
   "cell_type": "code",
   "execution_count": null,
   "metadata": {},
   "outputs": [],
   "source": []
  }
 ],
 "metadata": {
  "kernelspec": {
   "display_name": "Python 3",
   "language": "python",
   "name": "python3"
  },
  "language_info": {
   "codemirror_mode": {
    "name": "ipython",
    "version": 3
   },
   "file_extension": ".py",
   "mimetype": "text/x-python",
   "name": "python",
   "nbconvert_exporter": "python",
   "pygments_lexer": "ipython3",
   "version": "3.6.5"
  }
 },
 "nbformat": 4,
 "nbformat_minor": 2
}
