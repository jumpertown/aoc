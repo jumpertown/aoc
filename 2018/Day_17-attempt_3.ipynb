{
 "cells": [
  {
   "cell_type": "markdown",
   "metadata": {},
   "source": [
    "This solution is hideous - but I never want to touch this puzzle again"
   ]
  },
  {
   "cell_type": "code",
   "execution_count": 1,
   "metadata": {},
   "outputs": [],
   "source": [
    "import sys\n",
    "sys.path.append(\"..\")"
   ]
  },
  {
   "cell_type": "code",
   "execution_count": 2,
   "metadata": {},
   "outputs": [],
   "source": [
    "from enum import Enum\n",
    "\n",
    "import re\n",
    "\n",
    "from resources.utils import get_puzzle_input"
   ]
  },
  {
   "cell_type": "code",
   "execution_count": 3,
   "metadata": {},
   "outputs": [],
   "source": [
    "class Direction(Enum):\n",
    "    UP = 0\n",
    "    LEFT = 1\n",
    "    RIGHT = 2\n",
    "    DOWN = 3\n",
    "    \n",
    "ordered_directions = (\n",
    "    Direction.UP,\n",
    "    Direction.LEFT,\n",
    "    Direction.RIGHT,\n",
    "    Direction.DOWN,\n",
    ")\n",
    "    \n",
    "MOVE_MAP = {\n",
    "    Direction.LEFT: (-1, 0),\n",
    "    Direction.RIGHT: (1, 0),\n",
    "    Direction.UP: (0, -1),\n",
    "    Direction.DOWN: (0, 1),\n",
    "}\n",
    "\n",
    "def direction_move(pos, direction):\n",
    "    offset_x, offset_y = MOVE_MAP[direction]\n",
    "    return pos[0] + offset_x, pos[1] + offset_y"
   ]
  },
  {
   "cell_type": "markdown",
   "metadata": {},
   "source": [
    "### Part 1"
   ]
  },
  {
   "cell_type": "code",
   "execution_count": 4,
   "metadata": {},
   "outputs": [],
   "source": [
    "test_input = \"\"\"x=495, y=2..7\n",
    "y=7, x=495..501\n",
    "x=501, y=3..7\n",
    "x=498, y=2..4\n",
    "x=506, y=1..2\n",
    "x=498, y=10..13\n",
    "x=504, y=10..13\n",
    "y=13, x=498..504\"\"\".split('\\n')"
   ]
  },
  {
   "cell_type": "code",
   "execution_count": 5,
   "metadata": {},
   "outputs": [],
   "source": [
    "def parse_input(lines):\n",
    "    line_re = re.compile('^([xy])=([0-9]+), [xy]=([0-9]+)..([0-9]+)')\n",
    "    clay = []\n",
    "\n",
    "    for line in lines:\n",
    "        match = line_re.match(line)\n",
    "        if not match:\n",
    "            raise ValueError('Cannot parse line: {}'.format(line))\n",
    "        \n",
    "        first_coord, single_val, range_start, range_end = match.groups()\n",
    "        \n",
    "        clay_range = range(int(range_start), int(range_end) + 1)\n",
    "        single_val = int(single_val)\n",
    "        \n",
    "        if first_coord=='x':\n",
    "            clay.extend([(single_val, pos) for pos in clay_range])\n",
    "        else:\n",
    "            clay.extend([(pos, single_val) for pos in clay_range])\n",
    "            \n",
    "    return set(clay)   "
   ]
  },
  {
   "cell_type": "markdown",
   "metadata": {},
   "source": [
    "\n",
    "```\n",
    "   44444455555555\n",
    "   99999900000000\n",
    "   45678901234567\n",
    " 0 ......+.......\n",
    " 1 ............#.\n",
    " 2 .#..#.......#.\n",
    " 3 .#..#..#......\n",
    " 4 .#..#..#......\n",
    " 5 .#.....#......\n",
    " 6 .#.....#......\n",
    " 7 .#######......\n",
    " 8 ..............\n",
    " 9 ..............\n",
    "10 ....#.....#...\n",
    "11 ....#.....#...\n",
    "12 ....#.....#...\n",
    "13 ....#######...\n",
    "```"
   ]
  },
  {
   "cell_type": "code",
   "execution_count": 6,
   "metadata": {},
   "outputs": [],
   "source": [
    "test_clay = parse_input(test_input)"
   ]
  },
  {
   "cell_type": "code",
   "execution_count": 7,
   "metadata": {},
   "outputs": [],
   "source": [
    "def is_sand(pos, max_y, clay, water):\n",
    "    return (\n",
    "        pos[1] <= max_y and\n",
    "        pos not in clay and\n",
    "        pos not in water\n",
    "    )"
   ]
  },
  {
   "cell_type": "code",
   "execution_count": 8,
   "metadata": {},
   "outputs": [],
   "source": [
    "def fill_layer(pos, max_y, clay, water):\n",
    "    drainage_points = []\n",
    "    layer_points = {pos}\n",
    "    \n",
    "    down = direction_move(pos, Direction.DOWN)\n",
    "    \n",
    "    if pos[1] >= max_y:\n",
    "        return layer_points, []\n",
    "\n",
    "    if is_sand(down, max_y, clay, water):\n",
    "        return layer_points, [down]\n",
    "\n",
    "    for direction in Direction.LEFT, Direction.RIGHT:\n",
    "        curr_pos = pos\n",
    "        while True:\n",
    "            curr_pos = direction_move(curr_pos, direction)\n",
    "            if not is_sand(curr_pos, max_y, clay, water):\n",
    "                break\n",
    "            layer_points.add(curr_pos)\n",
    "            down = direction_move(curr_pos, Direction.DOWN)\n",
    "            if is_sand(down, max_y, clay, water):\n",
    "                drainage_points.append(down)\n",
    "                break\n",
    "    \n",
    "    if not drainage_points:\n",
    "        water |= layer_points\n",
    "    \n",
    "    return layer_points, drainage_points"
   ]
  },
  {
   "cell_type": "code",
   "execution_count": 9,
   "metadata": {},
   "outputs": [],
   "source": [
    "def drip_position(start, max_y, clay, water):\n",
    "    pos = start\n",
    "    path = set()\n",
    "    drip_stack = []\n",
    "    drip_fill_points = []\n",
    "    final_positions = set()\n",
    "    first_decision_point = None\n",
    "\n",
    "    while True:\n",
    "        visited, drainage_points = fill_layer(pos, max_y, clay, water)\n",
    "        path |= visited\n",
    "\n",
    "        if not drainage_points:\n",
    "            break\n",
    "\n",
    "        if len(drainage_points) == 2:\n",
    "            drip_stack.append(drainage_points[1])\n",
    "\n",
    "        pos = drainage_points[0]\n",
    "        path.add(pos)\n",
    "\n",
    "    return drip_stack, path"
   ]
  },
  {
   "cell_type": "code",
   "execution_count": 10,
   "metadata": {},
   "outputs": [],
   "source": [
    "def pour(source, clay):\n",
    "    max_y = max(y for _, y in clay)\n",
    "    water = set()\n",
    "    reached = set()\n",
    "    drip_num = 0\n",
    "    drip_stack = [source]\n",
    "    prev_final_position = None\n",
    "    fork_points = set()\n",
    "\n",
    "    while(drip_stack):\n",
    "        start = drip_stack[-1]\n",
    "\n",
    "        if drip_num % 100 == 0:\n",
    "            print('Pouring drip {}, reached: {}'.format(\n",
    "                drip_num,\n",
    "                len(reached)\n",
    "            ))\n",
    "\n",
    "        num_previous_reached = len(reached)\n",
    "        num_previous_water = len(water)\n",
    "\n",
    "        forks, path = drip_position(\n",
    "            start=start,\n",
    "            max_y=max_y,\n",
    "            clay=clay,\n",
    "            water=water\n",
    "        )\n",
    "        new_forks = [f for f in forks if f not in fork_points]\n",
    "\n",
    "        fork_points |= set(new_forks)\n",
    "        drip_stack.extend(new_forks)\n",
    "        reached |= path\n",
    "\n",
    "        if (\n",
    "            len(reached) == num_previous_reached and\n",
    "            len(water) == num_previous_water and\n",
    "            not new_forks\n",
    "        ):\n",
    "            #print('popped')\n",
    "            drip_stack.pop()\n",
    "\n",
    "        drip_num += 1\n",
    "    \n",
    "    return reached, water  "
   ]
  },
  {
   "cell_type": "code",
   "execution_count": 11,
   "metadata": {},
   "outputs": [],
   "source": [
    "def plot_grid(reached, sand, water, file=None):\n",
    "    min_x = None\n",
    "    min_y = None\n",
    "    max_x = None\n",
    "    max_y = None\n",
    "    \n",
    "    for x, y in sand:\n",
    "        if max_x is None or x > max_x:\n",
    "            max_x = x\n",
    "        if min_x is None or x < min_x:\n",
    "            min_x = x\n",
    "        if max_y is None or y > max_y:\n",
    "            max_y = y\n",
    "        if min_y is None or y < min_y:\n",
    "            min_y = y\n",
    "    \n",
    "    with open(file, 'w') as fh:\n",
    "        for y in range (min_y - 2, max_y + 2):\n",
    "            line = []\n",
    "            for x in range (min_x - 3, max_x + 3):\n",
    "                point = x, y\n",
    "                if point in water:\n",
    "                    char = '~'\n",
    "                elif point in sand:\n",
    "                    char = '#'\n",
    "                elif point in reached:\n",
    "                    char = '|'\n",
    "                else:\n",
    "                    char = '.'\n",
    "\n",
    "                line.append(char)\n",
    "            fh.write(''.join(line))\n",
    "            fh.write('\\n')"
   ]
  },
  {
   "cell_type": "code",
   "execution_count": 12,
   "metadata": {},
   "outputs": [
    {
     "name": "stdout",
     "output_type": "stream",
     "text": [
      "Pouring drip 0, reached: 0\n"
     ]
    },
    {
     "data": {
      "text/plain": [
       "58"
      ]
     },
     "execution_count": 12,
     "metadata": {},
     "output_type": "execute_result"
    }
   ],
   "source": [
    "test_reached, test_water = pour((500, 0), test_clay)\n",
    "len(test_reached)"
   ]
  },
  {
   "cell_type": "code",
   "execution_count": 13,
   "metadata": {},
   "outputs": [],
   "source": [
    "plot_grid(test_reached, test_clay, test_water, '/tmp/test.txt')"
   ]
  },
  {
   "cell_type": "code",
   "execution_count": 14,
   "metadata": {},
   "outputs": [],
   "source": [
    "puzzle_input = get_puzzle_input('/tmp/day_17.txt')"
   ]
  },
  {
   "cell_type": "code",
   "execution_count": 15,
   "metadata": {},
   "outputs": [],
   "source": [
    "puzzle_clay = parse_input(puzzle_input)"
   ]
  },
  {
   "cell_type": "code",
   "execution_count": 16,
   "metadata": {},
   "outputs": [
    {
     "name": "stdout",
     "output_type": "stream",
     "text": [
      "Pouring drip 0, reached: 0\n",
      "Pouring drip 100, reached: 2006\n",
      "Pouring drip 200, reached: 3731\n",
      "Pouring drip 300, reached: 7344\n",
      "Pouring drip 400, reached: 9007\n",
      "Pouring drip 500, reached: 10871\n",
      "Pouring drip 600, reached: 12678\n",
      "Pouring drip 700, reached: 14438\n",
      "Pouring drip 800, reached: 15670\n",
      "Pouring drip 900, reached: 18151\n",
      "Pouring drip 1000, reached: 21937\n",
      "Pouring drip 1100, reached: 27508\n",
      "Pouring drip 1200, reached: 29137\n",
      "Pouring drip 1300, reached: 30463\n"
     ]
    }
   ],
   "source": [
    "reached, water = pour((500, 0), puzzle_clay)"
   ]
  },
  {
   "cell_type": "code",
   "execution_count": 17,
   "metadata": {},
   "outputs": [
    {
     "data": {
      "text/plain": [
       "31955"
      ]
     },
     "execution_count": 17,
     "metadata": {},
     "output_type": "execute_result"
    }
   ],
   "source": [
    "len(reached)"
   ]
  },
  {
   "cell_type": "code",
   "execution_count": 18,
   "metadata": {},
   "outputs": [
    {
     "data": {
      "text/plain": [
       "6"
      ]
     },
     "execution_count": 18,
     "metadata": {},
     "output_type": "execute_result"
    }
   ],
   "source": [
    "#Aggghhh!!!! Missed this line in the text\n",
    "top = min(y for _, y in puzzle_clay)\n",
    "top"
   ]
  },
  {
   "cell_type": "code",
   "execution_count": 19,
   "metadata": {},
   "outputs": [
    {
     "data": {
      "text/plain": [
       "31949"
      ]
     },
     "execution_count": 19,
     "metadata": {},
     "output_type": "execute_result"
    }
   ],
   "source": [
    "len([_ for (_, y) in list(reached) if y >= top])"
   ]
  },
  {
   "cell_type": "code",
   "execution_count": 20,
   "metadata": {},
   "outputs": [],
   "source": [
    "plot_grid(reached, puzzle_clay, water, '/tmp/puzzle_solution.txt')"
   ]
  },
  {
   "cell_type": "markdown",
   "metadata": {},
   "source": [
    "### Part 2"
   ]
  },
  {
   "cell_type": "code",
   "execution_count": 21,
   "metadata": {},
   "outputs": [
    {
     "data": {
      "text/plain": [
       "26384"
      ]
     },
     "execution_count": 21,
     "metadata": {},
     "output_type": "execute_result"
    }
   ],
   "source": [
    "len(water)"
   ]
  },
  {
   "cell_type": "markdown",
   "metadata": {},
   "source": [
    "Failing on this shape for some time due to breaking out early if we've\n",
    "already hit the paths. Needed to check whether we had identified further\n",
    "still water\n",
    "\n",
    "```\n",
    "0\n",
    "10123456789012345678901234\n",
    "2....#......|.............\n",
    "3....#......|.........#...\n",
    "4....#......|.........#...\n",
    "5....#||||||||||......#...\n",
    "6....#~~~~~~~~#~#.....#...\n",
    "7....#~~~~~~~~#~#.....#...\n",
    "8....#~~~~~~~~#~#.....#...\n",
    "9....#~~~~~~~~###.....#...\n",
    "0....#~~~~~~~~~~~~~~~~#...\n",
    "1....#~~~~~~~~~~~~~~~~#...\n",
    "2....#~~~~~~~~~~~~~~~~#...\n",
    "3....#~~~~~~~~~~~~~~~~#...\n",
    "4....##################...\n",
    "5.........................\n",
    "```"
   ]
  },
  {
   "cell_type": "code",
   "execution_count": 22,
   "metadata": {},
   "outputs": [
    {
     "name": "stdout",
     "output_type": "stream",
     "text": [
      "Pouring drip 0, reached: 0\n"
     ]
    }
   ],
   "source": [
    "problem_shape_input=[\n",
    "    'x=4, y=2..14',\n",
    "    'y=14, x=4..21',\n",
    "    'x=21, y=3..14',\n",
    "    'x=13, y=6..9',\n",
    "    'y=9, x=13..15',\n",
    "    'x=15, y=6..9'\n",
    "]\n",
    "problem_shape = parse_input(problem_shape_input)\n",
    "problem_shape_reached, problem_shape_water = pour((11, 0), problem_shape)\n",
    "len(problem_shape_reached), len(problem_shape_water)\n",
    "plot_grid(\n",
    "    problem_shape_reached,\n",
    "    problem_shape,\n",
    "    problem_shape_water,\n",
    "    '/tmp/problem_shape.txt'\n",
    ")"
   ]
  },
  {
   "cell_type": "code",
   "execution_count": null,
   "metadata": {},
   "outputs": [],
   "source": []
  }
 ],
 "metadata": {
  "kernelspec": {
   "display_name": "Python 3",
   "language": "python",
   "name": "python3"
  },
  "language_info": {
   "codemirror_mode": {
    "name": "ipython",
    "version": 3
   },
   "file_extension": ".py",
   "mimetype": "text/x-python",
   "name": "python",
   "nbconvert_exporter": "python",
   "pygments_lexer": "ipython3",
   "version": "3.6.5"
  }
 },
 "nbformat": 4,
 "nbformat_minor": 2
}
