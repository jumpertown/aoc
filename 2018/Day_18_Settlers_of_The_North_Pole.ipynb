{
 "cells": [
  {
   "cell_type": "code",
   "execution_count": 1,
   "metadata": {},
   "outputs": [],
   "source": [
    "import sys\n",
    "sys.path.append(\"..\")"
   ]
  },
  {
   "cell_type": "code",
   "execution_count": 2,
   "metadata": {},
   "outputs": [],
   "source": [
    "from collections import Counter, defaultdict\n",
    "from enum import Enum\n",
    "\n",
    "from resources.utils import get_puzzle_input"
   ]
  },
  {
   "cell_type": "code",
   "execution_count": 3,
   "metadata": {},
   "outputs": [],
   "source": [
    "def adjacent(point):\n",
    "    offsets = (\n",
    "        (0, 1),\n",
    "        (1, 1),\n",
    "        (1, 0),\n",
    "        (1, -1),\n",
    "        (0, -1),\n",
    "        (-1, -1),\n",
    "        (-1, 0),\n",
    "        (-1, 1)\n",
    "    )\n",
    "    return [(point[0] + x, point[1] + y) for (x, y) in offsets]\n",
    "\n",
    "def direction_move(pos, direction):\n",
    "    offset_x, offset_y = MOVE_MAP[direction]\n",
    "    return pos[0] + offset_x, pos[1] + offset_y"
   ]
  },
  {
   "cell_type": "markdown",
   "metadata": {},
   "source": [
    "### Part 1\n",
    "\n",
    "\n",
    "On the outskirts of the North Pole base construction project, many Elves are collecting lumber.\n",
    "\n",
    "The lumber collection area is 50 acres by 50 acres; each acre can be either open ground (.), trees (|), or a lumberyard (#). You take a scan of the area (your puzzle input).\n",
    "\n",
    "Strange magic is at work here: each minute, the landscape looks entirely different. In exactly one minute, an open acre can fill with trees, a wooded acre can be converted to a lumberyard, or a lumberyard can be cleared to open ground (the lumber having been sent to other projects).\n",
    "\n",
    "The change to each acre is based entirely on the contents of that acre as well as the number of open, wooded, or lumberyard acres adjacent to it at the start of each minute. Here, \"adjacent\" means any of the eight acres surrounding that acre. (Acres on the edges of the lumber collection area might have fewer than eight adjacent acres; the missing acres aren't counted.)\n",
    "\n",
    "In particular:\n",
    "\n",
    "* An open acre will become filled with trees if three or more adjacent acres contained trees. Otherwise, nothing happens.\n",
    "* An acre filled with trees will become a lumberyard if three or more adjacent acres were lumberyards. Otherwise, nothing happens.\n",
    "* An acre containing a lumberyard will remain a lumberyard if it was adjacent to at least one other lumberyard and at least one acre containing trees. Otherwise, it becomes open.\n",
    "* These changes happen across all acres simultaneously, each of them using the state of all acres at the beginning of the minute and changing to their new form by the end of that same minute. Changes that happen during the minute don't affect each other."
   ]
  },
  {
   "cell_type": "code",
   "execution_count": 4,
   "metadata": {},
   "outputs": [],
   "source": [
    "class Arena:\n",
    "    def __init__(self, initial_state):\n",
    "        self.state = dict(initial_state)\n",
    "        self.initial_state = dict(initial_state)\n",
    "        self.max_x, self.max_y = self._dims()\n",
    "    \n",
    "    def _dims(self):\n",
    "        max_x = None\n",
    "        max_y = None\n",
    "        for x, y in self.state:\n",
    "            if max_x is None or x > max_x:\n",
    "                max_x = x\n",
    "            if max_y is None or y > max_y:\n",
    "                max_y = y\n",
    "\n",
    "        return max_x, max_y\n",
    "    \n",
    "    def move(self):\n",
    "        new_state = dict(self.state)\n",
    "        \n",
    "        for x in range (0, self.max_x + 1):\n",
    "            for y in range (0, self.max_y + 1):\n",
    "                point = x, y\n",
    "                neighbours = self.neighbours(point)\n",
    "                my_state = self.state[point]\n",
    "                \n",
    "                # An open acre will become filled with trees if three or more\n",
    "                # adjacent acres contained trees. Otherwise, nothing happens.\n",
    "                if my_state == '.' and neighbours['|'] >= 3:\n",
    "                    new_state[point] = '|'\n",
    "                \n",
    "                # An acre filled with trees will become a lumberyard if three or more\n",
    "                # adjacent acres were lumberyards. Otherwise, nothing happens.\n",
    "                elif my_state == '|' and neighbours['#'] >= 3:\n",
    "                    new_state[point] = '#'\n",
    "\n",
    "                # An acre containing a lumberyard will remain a lumberyard if it was\n",
    "                # adjacent to at least one other lumberyard and at least one acre containing trees.\n",
    "                # Otherwise, it becomes open.\n",
    "                elif my_state == '#' and (neighbours['#'] < 1 or neighbours['|'] < 1):\n",
    "                    new_state[point] = '.'\n",
    "                 \n",
    "                # Otherwise, nothing happens.\n",
    "                else:\n",
    "                    new_state[point] = my_state\n",
    "                    \n",
    "        self.state = new_state\n",
    "        \n",
    "    def count(self):\n",
    "        counter = Counter()\n",
    "        for x in range (0, self.max_x + 1):\n",
    "            for y in range (0, self.max_y + 1):\n",
    "                point = x, y\n",
    "                counter[self.state[point]] += 1\n",
    "                \n",
    "        return counter\n",
    "        \n",
    "    def neighbours(self, point):\n",
    "        neighbours_found = Counter()\n",
    "        \n",
    "        for neighbour in adjacent(point):\n",
    "            if neighbour in self.state:\n",
    "                neighbours_found[self.state[neighbour]] += 1\n",
    "        return neighbours_found\n",
    "\n",
    "    def __hash__(self):\n",
    "        return hash(tuple(sorted(self.state.items())))\n",
    "\n",
    "    def __repr__(self):\n",
    "        lines = []\n",
    "        for y in range (0, self.max_y + 1):\n",
    "            line = []\n",
    "            for x in range (0, self.max_x + 1):\n",
    "                char = self.state.get((x, y), '.')\n",
    "                line.append(char)\n",
    "            lines.append(''.join(line))\n",
    "        \n",
    "        return '\\n'.join(lines)"
   ]
  },
  {
   "cell_type": "code",
   "execution_count": 5,
   "metadata": {},
   "outputs": [],
   "source": [
    "def parse_input(lines):\n",
    "    y = 0\n",
    "    grid = {}\n",
    "    for line in lines:\n",
    "        x = 0\n",
    "        for char in line:\n",
    "            grid[x, y] = char\n",
    "            x += 1        \n",
    "        y += 1\n",
    "    return Arena(grid)"
   ]
  },
  {
   "cell_type": "code",
   "execution_count": 6,
   "metadata": {},
   "outputs": [],
   "source": [
    "test_input = \"\"\".#.#...|#.\n",
    ".....#|##|\n",
    ".|..|...#.\n",
    "..|#.....#\n",
    "#.#|||#|#|\n",
    "...#.||...\n",
    ".|....|...\n",
    "||...#|.#|\n",
    "|.||||..|.\n",
    "...#.|..|.\n",
    "\"\"\".split('\\n')"
   ]
  },
  {
   "cell_type": "code",
   "execution_count": 7,
   "metadata": {},
   "outputs": [],
   "source": [
    "test_grid = parse_input(test_input)"
   ]
  },
  {
   "cell_type": "code",
   "execution_count": 8,
   "metadata": {},
   "outputs": [
    {
     "name": "stdout",
     "output_type": "stream",
     "text": [
      ".#.#...|#.\n",
      ".....#|##|\n",
      ".|..|...#.\n",
      "..|#.....#\n",
      "#.#|||#|#|\n",
      "...#.||...\n",
      ".|....|...\n",
      "||...#|.#|\n",
      "|.||||..|.\n",
      "...#.|..|.\n",
      "\n",
      "=======\n",
      "Move 1\n",
      ".......##.\n",
      "......|###\n",
      ".|..|...#.\n",
      "..|#||...#\n",
      "..##||.|#|\n",
      "...#||||..\n",
      "||...|||..\n",
      "|||||.||.|\n",
      "||||||||||\n",
      "....||..|.\n",
      "\n",
      "=======\n",
      "Move 2\n",
      ".......#..\n",
      "......|#..\n",
      ".|.|||....\n",
      "..##|||..#\n",
      "..###|||#|\n",
      "...#|||||.\n",
      "|||||||||.\n",
      "||||||||||\n",
      "||||||||||\n",
      ".|||||||||\n",
      "\n",
      "=======\n",
      "Move 3\n",
      ".......#..\n",
      "....|||#..\n",
      ".|.||||...\n",
      "..###|||.#\n",
      "...##|||#|\n",
      ".||##|||||\n",
      "||||||||||\n",
      "||||||||||\n",
      "||||||||||\n",
      "||||||||||\n",
      "\n",
      "=======\n",
      "Move 4\n",
      ".....|.#..\n",
      "...||||#..\n",
      ".|.#||||..\n",
      "..###||||#\n",
      "...###||#|\n",
      "|||##|||||\n",
      "||||||||||\n",
      "||||||||||\n",
      "||||||||||\n",
      "||||||||||\n",
      "\n",
      "=======\n",
      "Move 5\n",
      "....|||#..\n",
      "...||||#..\n",
      ".|.##||||.\n",
      "..####|||#\n",
      ".|.###||#|\n",
      "|||###||||\n",
      "||||||||||\n",
      "||||||||||\n",
      "||||||||||\n",
      "||||||||||\n",
      "\n",
      "=======\n",
      "Move 6\n",
      "...||||#..\n",
      "...||||#..\n",
      ".|.###|||.\n",
      "..#.##|||#\n",
      "|||#.##|#|\n",
      "|||###||||\n",
      "||||#|||||\n",
      "||||||||||\n",
      "||||||||||\n",
      "||||||||||\n",
      "\n",
      "=======\n",
      "Move 7\n",
      "...||||#..\n",
      "..||#|##..\n",
      ".|.####||.\n",
      "||#..##||#\n",
      "||##.##|#|\n",
      "|||####|||\n",
      "|||###||||\n",
      "||||||||||\n",
      "||||||||||\n",
      "||||||||||\n",
      "\n",
      "=======\n",
      "Move 8\n",
      "..||||##..\n",
      "..|#####..\n",
      "|||#####|.\n",
      "||#...##|#\n",
      "||##..###|\n",
      "||##.###||\n",
      "|||####|||\n",
      "||||#|||||\n",
      "||||||||||\n",
      "||||||||||\n",
      "\n",
      "=======\n",
      "Move 9\n",
      "..||###...\n",
      ".||#####..\n",
      "||##...##.\n",
      "||#....###\n",
      "|##....##|\n",
      "||##..###|\n",
      "||######||\n",
      "|||###||||\n",
      "||||||||||\n",
      "||||||||||\n",
      "\n",
      "=======\n",
      "Move 10\n",
      ".||##.....\n",
      "||###.....\n",
      "||##......\n",
      "|##.....##\n",
      "|##.....##\n",
      "|##....##|\n",
      "||##.####|\n",
      "||#####|||\n",
      "||||#|||||\n",
      "||||||||||\n"
     ]
    },
    {
     "data": {
      "text/plain": [
       "Counter({'.': 32, '|': 37, '#': 31})"
      ]
     },
     "execution_count": 8,
     "metadata": {},
     "output_type": "execute_result"
    }
   ],
   "source": [
    "test_grid = parse_input(test_input)\n",
    "print(test_grid)\n",
    "for i in range(1, 11):\n",
    "    test_grid.move()\n",
    "    print()\n",
    "    print('=======')\n",
    "    print('Move', i)\n",
    "    print(test_grid)\n",
    "    \n",
    "test_grid.count()"
   ]
  },
  {
   "cell_type": "code",
   "execution_count": 9,
   "metadata": {},
   "outputs": [
    {
     "data": {
      "text/plain": [
       "1147"
      ]
     },
     "execution_count": 9,
     "metadata": {},
     "output_type": "execute_result"
    }
   ],
   "source": [
    "counter = test_grid.count()\n",
    "counter['|'] * counter['#']"
   ]
  },
  {
   "cell_type": "code",
   "execution_count": 10,
   "metadata": {},
   "outputs": [],
   "source": [
    "puzzle_input = get_puzzle_input('/tmp/day_18.txt')"
   ]
  },
  {
   "cell_type": "code",
   "execution_count": 11,
   "metadata": {},
   "outputs": [
    {
     "data": {
      "text/plain": [
       "560091"
      ]
     },
     "execution_count": 11,
     "metadata": {},
     "output_type": "execute_result"
    }
   ],
   "source": [
    "puzzle_grid = parse_input(puzzle_input)\n",
    "for i in range(10):\n",
    "    puzzle_grid.move()\n",
    "    \n",
    "counter = puzzle_grid.count()\n",
    "counter['|'] * counter['#']"
   ]
  },
  {
   "cell_type": "markdown",
   "metadata": {},
   "source": [
    "### Part 2\n",
    "\n",
    "This important natural resource will need to last for at least thousands of years. Are the Elves collecting this lumber sustainably?\n",
    "\n",
    "What will the total resource value of the lumber collection area be after 1000000000 minutes?"
   ]
  },
  {
   "cell_type": "code",
   "execution_count": 12,
   "metadata": {},
   "outputs": [],
   "source": [
    "prev_states = set()\n",
    "state_hist = []\n",
    "puzzle_grid = parse_input(puzzle_input)\n",
    "while True:\n",
    "    state = hash(puzzle_grid)\n",
    "    state_hist.append(state)\n",
    "    if state in prev_states:\n",
    "        break\n",
    "    prev_states.add(state)\n",
    "    puzzle_grid.move()"
   ]
  },
  {
   "cell_type": "code",
   "execution_count": 13,
   "metadata": {},
   "outputs": [
    {
     "data": {
      "text/plain": [
       "443"
      ]
     },
     "execution_count": 13,
     "metadata": {},
     "output_type": "execute_result"
    }
   ],
   "source": [
    "seen_state = state_hist[-1]\n",
    "state_hist.index(seen_state)"
   ]
  },
  {
   "cell_type": "code",
   "execution_count": 14,
   "metadata": {},
   "outputs": [
    {
     "data": {
      "text/plain": [
       "472"
      ]
     },
     "execution_count": 14,
     "metadata": {},
     "output_type": "execute_result"
    }
   ],
   "source": [
    "len(state_hist)"
   ]
  },
  {
   "cell_type": "code",
   "execution_count": 15,
   "metadata": {},
   "outputs": [
    {
     "data": {
      "text/plain": [
       "(-326903804210044452, -326903804210044452)"
      ]
     },
     "execution_count": 15,
     "metadata": {},
     "output_type": "execute_result"
    }
   ],
   "source": [
    "state_hist[471], state_hist[443]"
   ]
  },
  {
   "cell_type": "code",
   "execution_count": 17,
   "metadata": {},
   "outputs": [
    {
     "data": {
      "text/plain": [
       "468"
      ]
     },
     "execution_count": 17,
     "metadata": {},
     "output_type": "execute_result"
    }
   ],
   "source": [
    "target_index = 443 + ((1000000000 - 443) % (471 - 443))\n",
    "target_index"
   ]
  },
  {
   "cell_type": "code",
   "execution_count": 18,
   "metadata": {},
   "outputs": [
    {
     "data": {
      "text/plain": [
       "(-326903804210044452, Counter({'.': 1582, '#': 333, '|': 585}))"
      ]
     },
     "execution_count": 18,
     "metadata": {},
     "output_type": "execute_result"
    }
   ],
   "source": [
    "# Double check they are the same\n",
    "puzzle_grid = parse_input(puzzle_input)\n",
    "for i in range(443):\n",
    "    puzzle_grid.move()\n",
    "    \n",
    "hash(puzzle_grid), puzzle_grid.count()"
   ]
  },
  {
   "cell_type": "code",
   "execution_count": 19,
   "metadata": {},
   "outputs": [
    {
     "data": {
      "text/plain": [
       "(-326903804210044452, Counter({'.': 1582, '#': 333, '|': 585}))"
      ]
     },
     "execution_count": 19,
     "metadata": {},
     "output_type": "execute_result"
    }
   ],
   "source": [
    "puzzle_grid = parse_input(puzzle_input)\n",
    "for i in range(471):\n",
    "    puzzle_grid.move()\n",
    "    \n",
    "hash(puzzle_grid), puzzle_grid.count()"
   ]
  },
  {
   "cell_type": "code",
   "execution_count": 20,
   "metadata": {},
   "outputs": [
    {
     "data": {
      "text/plain": [
       "202301"
      ]
     },
     "execution_count": 20,
     "metadata": {},
     "output_type": "execute_result"
    }
   ],
   "source": [
    "puzzle_grid = parse_input(puzzle_input)\n",
    "for i in range(target_index):\n",
    "    puzzle_grid.move()\n",
    "    \n",
    "counter = puzzle_grid.count()\n",
    "counter['|'] * counter['#']"
   ]
  }
 ],
 "metadata": {
  "kernelspec": {
   "display_name": "Python 3",
   "language": "python",
   "name": "python3"
  },
  "language_info": {
   "codemirror_mode": {
    "name": "ipython",
    "version": 3
   },
   "file_extension": ".py",
   "mimetype": "text/x-python",
   "name": "python",
   "nbconvert_exporter": "python",
   "pygments_lexer": "ipython3",
   "version": "3.6.5"
  }
 },
 "nbformat": 4,
 "nbformat_minor": 2
}
