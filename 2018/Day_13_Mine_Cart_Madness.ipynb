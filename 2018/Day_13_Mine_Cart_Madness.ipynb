{
 "cells": [
  {
   "cell_type": "code",
   "execution_count": 1,
   "metadata": {},
   "outputs": [],
   "source": [
    "import sys\n",
    "sys.path.append(\"..\")"
   ]
  },
  {
   "cell_type": "code",
   "execution_count": 2,
   "metadata": {},
   "outputs": [],
   "source": [
    "from enum import Enum\n",
    "from resources.utils import get_puzzle_input"
   ]
  },
  {
   "cell_type": "markdown",
   "metadata": {},
   "source": [
    "### Part 1\n",
    "\n",
    "A crop of this size requires significant logistics to transport produce, soil, fertilizer, and so on. The Elves are very busy pushing things around in carts on some kind of rudimentary system of tracks they've come up with.\n",
    "\n",
    "Seeing as how cart-and-track systems don't appear in recorded history for another 1000 years, the Elves seem to be making this up as they go along. They haven't even figured out how to avoid collisions yet.\n",
    "\n",
    "You map out the tracks (your puzzle input) and see where you can help.\n",
    "\n",
    "Tracks consist of straight paths (| and -), curves (/ and \\), and intersections (+). Curves connect exactly two perpendicular pieces of track; for example, this is a closed loop:\n",
    "\n",
    "```\n",
    "\n",
    "/----\\\n",
    "|    |\n",
    "|    |\n",
    "\\----/\n",
    "```\n",
    "\n",
    "Intersections occur when two perpendicular paths cross. At an intersection, a cart is capable of turning left, turning right, or continuing straight. Here are two loops connected by two intersections:\n",
    "\n",
    "```\n",
    "\n",
    "/-----\\\n",
    "|     |\n",
    "|  /--+--\\\n",
    "|  |  |  |\n",
    "\\--+--/  |\n",
    "   |     |\n",
    "   \\-----/\n",
    "```\n",
    "\n",
    "Several carts are also on the tracks. Carts always face either up (^), down (v), left (<), or right (>). (On your initial map, the track under each cart is a straight path matching the direction the cart is facing.)\n",
    "\n",
    "Each time a cart has the option to turn (by arriving at any intersection), it turns left the first time, goes straight the second time, turns right the third time, and then repeats those directions starting again with left the fourth time, straight the fifth time, and so on. This process is independent of the particular intersection at which the cart has arrived - that is, the cart has no per-intersection memory.\n",
    "\n",
    "Carts all move at the same speed; they take turns moving a single step at a time. They do this based on their current location: carts on the top row move first (acting from left to right), then carts on the second row move (again from left to right), then carts on the third row, and so on. Once each cart has moved one step, the process repeats; each of these loops is called a tick.\n",
    "\n",
    "For example, suppose there are two carts on a straight track:\n",
    "\n",
    "```\n",
    "\n",
    "|  |  |  |  |\n",
    "v  |  |  |  |\n",
    "|  v  v  |  |\n",
    "|  |  |  v  X\n",
    "|  |  ^  ^  |\n",
    "^  ^  |  |  |\n",
    "|  |  |  |  |\n",
    "```\n",
    "\n",
    "First, the top cart moves. It is facing down (v), so it moves down one square. Second, the bottom cart moves. It is facing up (^), so it moves up one square. Because all carts have moved, the first tick ends. Then, the process repeats, starting with the first cart. The first cart moves down, then the second cart moves up - right into the first cart, colliding with it! (The location of the crash is marked with an X.) This ends the second and last tick.\n",
    "\n",
    "Here is a longer example:\n",
    "\n",
    "```\n",
    "\n",
    "/->-\\        \n",
    "|   |  /----\\\n",
    "| /-+--+-\\  |\n",
    "| | |  | v  |\n",
    "\\-+-/  \\-+--/\n",
    "  \\------/   \n",
    "\n",
    "/-->\\        \n",
    "|   |  /----\\\n",
    "| /-+--+-\\  |\n",
    "| | |  | |  |\n",
    "\\-+-/  \\->--/\n",
    "  \\------/   \n",
    "\n",
    "/---v        \n",
    "|   |  /----\\\n",
    "| /-+--+-\\  |\n",
    "| | |  | |  |\n",
    "\\-+-/  \\-+>-/\n",
    "  \\------/   \n",
    "\n",
    "/---\\        \n",
    "|   v  /----\\\n",
    "| /-+--+-\\  |\n",
    "| | |  | |  |\n",
    "\\-+-/  \\-+->/\n",
    "  \\------/   \n",
    "\n",
    "/---\\        \n",
    "|   |  /----\\\n",
    "| /->--+-\\  |\n",
    "| | |  | |  |\n",
    "\\-+-/  \\-+--^\n",
    "  \\------/   \n",
    "\n",
    "/---\\        \n",
    "|   |  /----\\\n",
    "| /-+>-+-\\  |\n",
    "| | |  | |  ^\n",
    "\\-+-/  \\-+--/\n",
    "  \\------/   \n",
    "\n",
    "/---\\        \n",
    "|   |  /----\\\n",
    "| /-+->+-\\  ^\n",
    "| | |  | |  |\n",
    "\\-+-/  \\-+--/\n",
    "  \\------/   \n",
    "\n",
    "/---\\        \n",
    "|   |  /----<\n",
    "| /-+-->-\\  |\n",
    "| | |  | |  |\n",
    "\\-+-/  \\-+--/\n",
    "  \\------/   \n",
    "\n",
    "/---\\        \n",
    "|   |  /---<\\\n",
    "| /-+--+>\\  |\n",
    "| | |  | |  |\n",
    "\\-+-/  \\-+--/\n",
    "  \\------/   \n",
    "\n",
    "/---\\        \n",
    "|   |  /--<-\\\n",
    "| /-+--+-v  |\n",
    "| | |  | |  |\n",
    "\\-+-/  \\-+--/\n",
    "  \\------/   \n",
    "\n",
    "/---\\        \n",
    "|   |  /-<--\\\n",
    "| /-+--+-\\  |\n",
    "| | |  | v  |\n",
    "\\-+-/  \\-+--/\n",
    "  \\------/   \n",
    "\n",
    "/---\\        \n",
    "|   |  /<---\\\n",
    "| /-+--+-\\  |\n",
    "| | |  | |  |\n",
    "\\-+-/  \\-<--/\n",
    "  \\------/   \n",
    "\n",
    "/---\\        \n",
    "|   |  v----\\\n",
    "| /-+--+-\\  |\n",
    "| | |  | |  |\n",
    "\\-+-/  \\<+--/\n",
    "  \\------/   \n",
    "\n",
    "/---\\        \n",
    "|   |  /----\\\n",
    "| /-+--v-\\  |\n",
    "| | |  | |  |\n",
    "\\-+-/  ^-+--/\n",
    "  \\------/   \n",
    "\n",
    "/---\\        \n",
    "|   |  /----\\\n",
    "| /-+--+-\\  |\n",
    "| | |  X |  |\n",
    "\\-+-/  \\-+--/\n",
    "  \\------/\n",
    "```\n",
    "\n",
    "After following their respective paths for a while, the carts eventually crash. To help prevent crashes, you'd like to know the location of the first crash. Locations are given in X,Y coordinates, where the furthest left column is X=0 and the furthest top row is Y=0:\n",
    "\n",
    "```\n",
    "\n",
    "           111\n",
    " 0123456789012\n",
    "0/---\\        \n",
    "1|   |  /----\\\n",
    "2| /-+--+-\\  |\n",
    "3| | |  X |  |\n",
    "4\\-+-/  \\-+--/\n",
    "5  \\------/\n",
    "\n",
    "```\n",
    "\n",
    "In this example, the location of the first crash is 7,3."
   ]
  },
  {
   "cell_type": "code",
   "execution_count": 3,
   "metadata": {},
   "outputs": [],
   "source": [
    "class Direction(Enum):\n",
    "    LEFT = '>'\n",
    "    RIGHT = '<'\n",
    "    UP = '^'\n",
    "    DOWN = 'v'\n",
    "    NEXT = '+'\n",
    "    \n",
    "class Turn(Enum):\n",
    "    LEFT = '>'\n",
    "    RIGHT = '<'\n",
    "    STRAIGHT = '-'\n",
    "    \n",
    "track_map = {\n",
    "    '<': (Direction.LEFT, '-'),\n",
    "    '>': (Direction.RIGHT, '-'),\n",
    "    '^': (Direction.UP, '|'),\n",
    "    'v': (Direction.DOWN, '|'),\n",
    "}\n",
    "\n",
    "move_map = {\n",
    "    Direction.LEFT: (-1, 0),\n",
    "    Direction.RIGHT: (1, 0),\n",
    "    Direction.UP: (0, -1),\n",
    "    Direction.DOWN: (0, 1),\n",
    "}\n",
    "\n",
    "turn_map = {\n",
    "    (Direction.LEFT, Turn.LEFT): Direction.DOWN,\n",
    "    (Direction.RIGHT, Turn.LEFT): Direction.UP,\n",
    "    (Direction.UP, Turn.LEFT): Direction.LEFT,\n",
    "    (Direction.DOWN, Turn.LEFT): Direction.RIGHT,\n",
    "    (Direction.LEFT, Turn.RIGHT): Direction.UP,\n",
    "    (Direction.RIGHT, Turn.RIGHT): Direction.DOWN,\n",
    "    (Direction.UP, Turn.RIGHT): Direction.RIGHT,\n",
    "    (Direction.DOWN, Turn.RIGHT): Direction.LEFT,\n",
    "    (Direction.LEFT, Turn.STRAIGHT): Direction.LEFT,\n",
    "    (Direction.RIGHT, Turn.STRAIGHT): Direction.RIGHT,\n",
    "    (Direction.UP, Turn.STRAIGHT): Direction.UP,\n",
    "    (Direction.DOWN, Turn.STRAIGHT): Direction.DOWN,\n",
    "}\n",
    "\n",
    "direction_map = {\n",
    "    ('/', Direction.UP): Direction.RIGHT,\n",
    "    ('/', Direction.LEFT): Direction.DOWN,\n",
    "    ('/', Direction.DOWN): Direction.LEFT,\n",
    "    ('/', Direction.RIGHT): Direction.UP,\n",
    "    ('-', Direction.LEFT): Direction.LEFT,\n",
    "    ('-', Direction.RIGHT): Direction.RIGHT,\n",
    "    ('|', Direction.UP): Direction.UP,\n",
    "    ('|', Direction.DOWN): Direction.DOWN,\n",
    "    ('\\\\', Direction.DOWN): Direction.RIGHT,\n",
    "    ('\\\\', Direction.RIGHT): Direction.DOWN,\n",
    "    ('\\\\', Direction.LEFT): Direction.UP,\n",
    "    ('\\\\', Direction.UP): Direction.LEFT,\n",
    "    ('+', Direction.UP): Direction.NEXT,\n",
    "    ('+', Direction.LEFT): Direction.NEXT,\n",
    "    ('+', Direction.DOWN): Direction.NEXT,\n",
    "    ('+', Direction.RIGHT): Direction.NEXT,   \n",
    "}\n"
   ]
  },
  {
   "cell_type": "code",
   "execution_count": 4,
   "metadata": {},
   "outputs": [],
   "source": [
    "class Cart:\n",
    "    def __init__(self, id, x, y, direction):\n",
    "        self.id = id\n",
    "        self.x = x\n",
    "        self.y = y\n",
    "        self.direction = direction\n",
    "        self.turn_choice = Turn.LEFT\n",
    "        \n",
    "    @property\n",
    "    def position(self):\n",
    "        return self.x, self.y\n",
    "        \n",
    "    def move(self, track):\n",
    "        x_delta, y_delta = move_map[self.direction]\n",
    "        self.x += x_delta\n",
    "        self.y += y_delta\n",
    "        track_char = track[(self.x, self.y)]\n",
    "        direction = direction_map[(track_char, self.direction)]\n",
    "        if direction == Direction.NEXT:\n",
    "            turn = self.rotate_turn()\n",
    "            self.direction = turn_map[self.direction, turn]\n",
    "        else:\n",
    "            self.direction = direction\n",
    "            \n",
    "    def rotate_turn(self):\n",
    "        turn_choice = self.turn_choice\n",
    "        self.turn_choice = {\n",
    "            Turn.LEFT: Turn.STRAIGHT,\n",
    "            Turn.STRAIGHT: Turn.RIGHT,\n",
    "            Turn.RIGHT: Turn.LEFT\n",
    "        }[turn_choice]\n",
    "        \n",
    "        return turn_choice\n",
    "\n",
    "    def __hash__(self):\n",
    "        return hash(self.id)\n",
    "\n",
    "    def __eq__(self, other):\n",
    "        return isinstance(self, type(other)) and self.id == other.id\n",
    "\n",
    "    def __lt__(self, other):\n",
    "        return self.y < other.y or (self.y == other.y and self.x < other.x)\n",
    "    \n",
    "    def __repr__(self):\n",
    "        return \"<{}: {},{},{}>\".format(\n",
    "            self.id,\n",
    "            self.x,\n",
    "            self.y,\n",
    "            self.direction,\n",
    "        )"
   ]
  },
  {
   "cell_type": "code",
   "execution_count": 5,
   "metadata": {},
   "outputs": [
    {
     "data": {
      "text/plain": [
       "['/->-\\\\        ',\n",
       " '|   |  /----\\\\',\n",
       " '| /-+--+-\\\\  |',\n",
       " '| | |  | v  |',\n",
       " '\\\\-+-/  \\\\-+--/',\n",
       " '  \\\\------/']"
      ]
     },
     "execution_count": 5,
     "metadata": {},
     "output_type": "execute_result"
    }
   ],
   "source": [
    "test_track_input = r\"\"\"/->-\\        \n",
    "|   |  /----\\\n",
    "| /-+--+-\\  |\n",
    "| | |  | v  |\n",
    "\\-+-/  \\-+--/\n",
    "  \\------/\"\"\".split('\\n')\n",
    "test_track_input"
   ]
  },
  {
   "cell_type": "code",
   "execution_count": 6,
   "metadata": {},
   "outputs": [],
   "source": [
    "def parse_track(lines):\n",
    "    carts = []\n",
    "    track = {}\n",
    "\n",
    "    for y in range(len(lines)):\n",
    "        line = lines[y]\n",
    "        print\n",
    "        for x in range(len(line)):\n",
    "            position = x, y\n",
    "            char = line[x]\n",
    "            if char == ' ':\n",
    "                continue\n",
    "            if char in track_map:\n",
    "                direction, track_char = track_map[char]\n",
    "                carts.append(Cart(\n",
    "                    id=len(carts),\n",
    "                    x=x,\n",
    "                    y=y,\n",
    "                    direction=direction\n",
    "                ))\n",
    "            else:\n",
    "                track_char = char\n",
    "            \n",
    "            track[position] = track_char\n",
    "    \n",
    "    return track, carts\n",
    "                "
   ]
  },
  {
   "cell_type": "code",
   "execution_count": 7,
   "metadata": {},
   "outputs": [],
   "source": [
    "test_track, carts = parse_track(test_track_input)"
   ]
  },
  {
   "cell_type": "code",
   "execution_count": 8,
   "metadata": {},
   "outputs": [
    {
     "data": {
      "text/plain": [
       "[<0: 2,0,Direction.RIGHT>, <1: 9,3,Direction.DOWN>]"
      ]
     },
     "execution_count": 8,
     "metadata": {},
     "output_type": "execute_result"
    }
   ],
   "source": [
    "carts"
   ]
  },
  {
   "cell_type": "code",
   "execution_count": 9,
   "metadata": {},
   "outputs": [
    {
     "name": "stdout",
     "output_type": "stream",
     "text": [
      "| <1: 9,3,Direction.DOWN>\n",
      "+ <1: 9,4,Direction.RIGHT>\n",
      "- <1: 10,4,Direction.RIGHT>\n",
      "- <1: 11,4,Direction.RIGHT>\n",
      "/ <1: 12,4,Direction.UP>\n",
      "| <1: 12,3,Direction.UP>\n",
      "| <1: 12,2,Direction.UP>\n",
      "\\ <1: 12,1,Direction.LEFT>\n",
      "- <1: 11,1,Direction.LEFT>\n",
      "- <1: 10,1,Direction.LEFT>\n"
     ]
    }
   ],
   "source": [
    "cart_1 = carts[1]\n",
    "for _ in range(10):\n",
    "    print(test_track[cart_1.position], cart_1)\n",
    "    cart_1.move(test_track)"
   ]
  },
  {
   "cell_type": "code",
   "execution_count": 10,
   "metadata": {},
   "outputs": [],
   "source": [
    "def solve(input, max_moves=0, tracked_cart_ids=()):\n",
    "    move = 0\n",
    "    track, carts = parse_track(input)\n",
    "\n",
    "    tracked_carts = [cart for cart in carts if cart.id in tracked_cart_ids]\n",
    "\n",
    "    print(carts)\n",
    "    remaining_carts = carts\n",
    "    collisions = []\n",
    "    \n",
    "    while True:\n",
    "        if move % 10000 == 0:\n",
    "            print('move: {} remaining: {}'.format(move, len(remaining_carts)))\n",
    "        move += 1\n",
    "        if max_moves and move > max_moves:\n",
    "            return collisions, remaining_carts\n",
    "\n",
    "        sorted_carts = sorted(remaining_carts)\n",
    "        for cart in sorted_carts:\n",
    "            if cart not in remaining_carts:\n",
    "                continue\n",
    "\n",
    "            if cart in tracked_carts:\n",
    "                print(track[cart.position], cart)\n",
    "\n",
    "            cart.move(track)\n",
    "            \n",
    "            for other_cart in remaining_carts:\n",
    "                if cart != other_cart and cart.position == other_cart.position:\n",
    "                    collisions.append(cart.position)\n",
    "                    remaining_carts = [\n",
    "                        c\n",
    "                        for c in remaining_carts\n",
    "                        if c not in (cart, other_cart)\n",
    "                    ]\n",
    "            \n",
    "            if len(remaining_carts) <= 1:\n",
    "                return collisions, remaining_carts\n",
    "        "
   ]
  },
  {
   "cell_type": "code",
   "execution_count": 11,
   "metadata": {},
   "outputs": [
    {
     "name": "stdout",
     "output_type": "stream",
     "text": [
      "[<0: 2,0,Direction.RIGHT>, <1: 9,3,Direction.DOWN>]\n",
      "move: 0 remaining: 2\n"
     ]
    },
    {
     "data": {
      "text/plain": [
       "([(7, 3)], [])"
      ]
     },
     "execution_count": 11,
     "metadata": {},
     "output_type": "execute_result"
    }
   ],
   "source": [
    "solve(test_track_input)"
   ]
  },
  {
   "cell_type": "code",
   "execution_count": 12,
   "metadata": {},
   "outputs": [],
   "source": [
    "def get_puzzle_input(file):\n",
    "    \"\"\"Return the puzzle input as a list.\"\"\"\n",
    "    with open(file) as fh:\n",
    "        lines = fh.readlines()\n",
    "    return [l.rstrip() for l in lines if l.rstrip()]"
   ]
  },
  {
   "cell_type": "code",
   "execution_count": 13,
   "metadata": {},
   "outputs": [],
   "source": [
    "puzzle_input = get_puzzle_input('/tmp/day_13.txt')"
   ]
  },
  {
   "cell_type": "code",
   "execution_count": 14,
   "metadata": {},
   "outputs": [
    {
     "name": "stdout",
     "output_type": "stream",
     "text": [
      "[<0: 148,13,Direction.UP>, <1: 25,15,Direction.RIGHT>, <2: 47,19,Direction.RIGHT>, <3: 5,38,Direction.DOWN>, <4: 8,47,Direction.RIGHT>, <5: 118,64,Direction.RIGHT>, <6: 36,67,Direction.UP>, <7: 82,68,Direction.DOWN>, <8: 127,72,Direction.RIGHT>, <9: 133,84,Direction.RIGHT>, <10: 80,88,Direction.UP>, <11: 85,101,Direction.LEFT>, <12: 130,113,Direction.UP>, <13: 12,121,Direction.DOWN>, <14: 94,128,Direction.RIGHT>, <15: 6,132,Direction.DOWN>, <16: 64,134,Direction.LEFT>]\n",
      "move: 0 remaining: 17\n",
      "move: 10000 remaining: 3\n",
      "move: 20000 remaining: 3\n"
     ]
    },
    {
     "data": {
      "text/plain": [
       "(79, 128)"
      ]
     },
     "execution_count": 14,
     "metadata": {},
     "output_type": "execute_result"
    }
   ],
   "source": [
    "# Part 1\n",
    "collisions, _ = solve(puzzle_input)\n",
    "collisions[0]"
   ]
  },
  {
   "cell_type": "code",
   "execution_count": 15,
   "metadata": {},
   "outputs": [
    {
     "name": "stdout",
     "output_type": "stream",
     "text": [
      "[<0: 148,13,Direction.UP>, <1: 25,15,Direction.RIGHT>, <2: 47,19,Direction.RIGHT>, <3: 5,38,Direction.DOWN>, <4: 8,47,Direction.RIGHT>, <5: 118,64,Direction.RIGHT>, <6: 36,67,Direction.UP>, <7: 82,68,Direction.DOWN>, <8: 127,72,Direction.RIGHT>, <9: 133,84,Direction.RIGHT>, <10: 80,88,Direction.UP>, <11: 85,101,Direction.LEFT>, <12: 130,113,Direction.UP>, <13: 12,121,Direction.DOWN>, <14: 94,128,Direction.RIGHT>, <15: 6,132,Direction.DOWN>, <16: 64,134,Direction.LEFT>]\n",
      "move: 0 remaining: 17\n",
      "| <0: 148,13,Direction.UP>\n",
      "\\ <0: 148,12,Direction.LEFT>\n",
      "- <0: 147,12,Direction.LEFT>\n",
      "+ <0: 146,12,Direction.DOWN>\n",
      "| <0: 146,13,Direction.DOWN>\n",
      "| <0: 146,14,Direction.DOWN>\n",
      "| <0: 146,15,Direction.DOWN>\n",
      "| <0: 146,16,Direction.DOWN>\n",
      "| <0: 146,17,Direction.DOWN>\n",
      "| <0: 146,18,Direction.DOWN>\n"
     ]
    },
    {
     "data": {
      "text/plain": [
       "([],\n",
       " [<0: 146,19,Direction.DOWN>,\n",
       "  <1: 32,12,Direction.RIGHT>,\n",
       "  <2: 53,15,Direction.RIGHT>,\n",
       "  <3: 6,47,Direction.RIGHT>,\n",
       "  <4: 11,40,Direction.UP>,\n",
       "  <5: 121,57,Direction.UP>,\n",
       "  <6: 32,61,Direction.UP>,\n",
       "  <7: 87,73,Direction.RIGHT>,\n",
       "  <8: 130,65,Direction.RIGHT>,\n",
       "  <9: 133,76,Direction.LEFT>,\n",
       "  <10: 74,84,Direction.LEFT>,\n",
       "  <11: 81,107,Direction.DOWN>,\n",
       "  <12: 127,106,Direction.LEFT>,\n",
       "  <13: 16,127,Direction.DOWN>,\n",
       "  <14: 100,124,Direction.RIGHT>,\n",
       "  <15: 10,138,Direction.UP>,\n",
       "  <16: 65,139,Direction.DOWN>])"
      ]
     },
     "execution_count": 15,
     "metadata": {},
     "output_type": "execute_result"
    }
   ],
   "source": [
    "# Tracking was useful in debugging\n",
    "solve(puzzle_input, 10, (0,))"
   ]
  },
  {
   "cell_type": "markdown",
   "metadata": {},
   "source": [
    "### Part 2\n",
    "\n",
    "After four very expensive crashes, a tick ends with only one cart remaining; its final location is 6,4.\n",
    "\n",
    "What is the location of the last cart at the end of the first tick where it is the only cart left?"
   ]
  },
  {
   "cell_type": "code",
   "execution_count": 16,
   "metadata": {},
   "outputs": [
    {
     "name": "stdout",
     "output_type": "stream",
     "text": [
      "[<0: 148,13,Direction.UP>, <1: 25,15,Direction.RIGHT>, <2: 47,19,Direction.RIGHT>, <3: 5,38,Direction.DOWN>, <4: 8,47,Direction.RIGHT>, <5: 118,64,Direction.RIGHT>, <6: 36,67,Direction.UP>, <7: 82,68,Direction.DOWN>, <8: 127,72,Direction.RIGHT>, <9: 133,84,Direction.RIGHT>, <10: 80,88,Direction.UP>, <11: 85,101,Direction.LEFT>, <12: 130,113,Direction.UP>, <13: 12,121,Direction.DOWN>, <14: 94,128,Direction.RIGHT>, <15: 6,132,Direction.DOWN>, <16: 64,134,Direction.LEFT>]\n",
      "move: 0 remaining: 17\n",
      "move: 10000 remaining: 3\n",
      "move: 20000 remaining: 3\n"
     ]
    },
    {
     "data": {
      "text/plain": [
       "(3, 42)"
      ]
     },
     "execution_count": 16,
     "metadata": {},
     "output_type": "execute_result"
    }
   ],
   "source": [
    "# Part 2\n",
    "_, remaining = solve(puzzle_input)\n",
    "remaining[0].position"
   ]
  },
  {
   "cell_type": "code",
   "execution_count": null,
   "metadata": {},
   "outputs": [],
   "source": []
  }
 ],
 "metadata": {
  "kernelspec": {
   "display_name": "Python 3",
   "language": "python",
   "name": "python3"
  },
  "language_info": {
   "codemirror_mode": {
    "name": "ipython",
    "version": 3
   },
   "file_extension": ".py",
   "mimetype": "text/x-python",
   "name": "python",
   "nbconvert_exporter": "python",
   "pygments_lexer": "ipython3",
   "version": "3.6.5"
  }
 },
 "nbformat": 4,
 "nbformat_minor": 2
}
