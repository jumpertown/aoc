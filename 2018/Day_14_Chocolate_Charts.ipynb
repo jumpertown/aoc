{
 "cells": [
  {
   "cell_type": "code",
   "execution_count": 1,
   "metadata": {},
   "outputs": [],
   "source": [
    "import sys\n",
    "sys.path.append(\"..\")"
   ]
  },
  {
   "cell_type": "code",
   "execution_count": 2,
   "metadata": {},
   "outputs": [],
   "source": [
    "from resources.utils import get_puzzle_input"
   ]
  },
  {
   "cell_type": "markdown",
   "metadata": {},
   "source": [
    "### Part 1\n",
    "\n",
    "Only two recipes are on the board: the first recipe got a score of 3, the second, 7. Each of the two Elves has a current recipe: the first Elf starts with the first recipe, and the second Elf starts with the second recipe.\n",
    "\n",
    "To create new recipes, the two Elves combine their current recipes. This creates new recipes from the digits of the sum of the current recipes' scores. With the current recipes' scores of 3 and 7, their sum is 10, and so two new recipes would be created: the first with score 1 and the second with score 0. If the current recipes' scores were 2 and 3, the sum, 5, would only create one recipe (with a score of 5) with its single digit.\n",
    "\n",
    "The new recipes are added to the end of the scoreboard in the order they are created. So, after the first round, the scoreboard is 3, 7, 1, 0.\n",
    "\n",
    "After all new recipes are added to the scoreboard, each Elf picks a new current recipe. To do this, the Elf steps forward through the scoreboard a number of recipes equal to 1 plus the score of their current recipe. So, after the first round, the first Elf moves forward 1 + 3 = 4 times, while the second Elf moves forward 1 + 7 = 8 times. If they run out of recipes, they loop back around to the beginning. After the first round, both Elves happen to loop around until they land on the same recipe that they had in the beginning; in general, they will move to different recipes.\n",
    "\n",
    "Drawing the first Elf as parentheses and the second Elf as square brackets, they continue this process:\n",
    "\n",
    "```\n",
    "(3)[7]\n",
    "(3)[7] 1  0 \n",
    " 3  7  1 [0](1) 0 \n",
    " 3  7  1  0 [1] 0 (1)\n",
    "(3) 7  1  0  1  0 [1] 2 \n",
    " 3  7  1  0 (1) 0  1  2 [4]\n",
    " 3  7  1 [0] 1  0 (1) 2  4  5 \n",
    " 3  7  1  0 [1] 0  1  2 (4) 5  1 \n",
    " 3 (7) 1  0  1  0 [1] 2  4  5  1  5 \n",
    " 3  7  1  0  1  0  1  2 [4](5) 1  5  8 \n",
    " 3 (7) 1  0  1  0  1  2  4  5  1  5  8 [9]\n",
    " 3  7  1  0  1  0  1 [2] 4 (5) 1  5  8  9  1  6 \n",
    " 3  7  1  0  1  0  1  2  4  5 [1] 5  8  9  1 (6) 7 \n",
    " 3  7  1  0 (1) 0  1  2  4  5  1  5 [8] 9  1  6  7  7 \n",
    " 3  7 [1] 0  1  0 (1) 2  4  5  1  5  8  9  1  6  7  7  9 \n",
    " 3  7  1  0 [1] 0  1  2 (4) 5  1  5  8  9  1  6  7  7  9  2 \n",
    " ```\n",
    " \n",
    "The Elves think their skill will improve after making a few recipes (your puzzle input). However, that could take ages; you can speed this up considerably by identifying the scores of the ten recipes after that. For example:\n",
    "\n",
    "If the Elves think their skill will improve after making 9 recipes, the scores of the ten recipes after the first nine on the scoreboard would be 5158916779 (highlighted in the last line of the diagram).\n",
    "After 5 recipes, the scores of the next ten would be 0124515891.\n",
    "After 18 recipes, the scores of the next ten would be 9251071085.\n",
    "After 2018 recipes, the scores of the next ten would be 5941429882.\n",
    "What are the scores of the ten recipes immediately after the number of recipes in your puzzle input?"
   ]
  },
  {
   "cell_type": "code",
   "execution_count": 11,
   "metadata": {},
   "outputs": [],
   "source": [
    "def new_recipes(recipe_1, recipe_2):\n",
    "    mixed = recipe_1 + recipe_2\n",
    "    if mixed >= 10:\n",
    "        return (mixed // 10, mixed % 10)\n",
    "    else:\n",
    "        return (mixed % 10, )"
   ]
  },
  {
   "cell_type": "code",
   "execution_count": 12,
   "metadata": {},
   "outputs": [],
   "source": [
    "assert new_recipes(3, 7) == (1, 0)\n",
    "assert new_recipes(2, 3) == (5, )"
   ]
  },
  {
   "cell_type": "code",
   "execution_count": 42,
   "metadata": {},
   "outputs": [],
   "source": [
    "def score(num_turns):\n",
    "    scoreboard = [3, 7]\n",
    "    elf_1_pos = 0\n",
    "    elf_2_pos = 1\n",
    "    \n",
    "    while len(scoreboard) < num_turns + 10:\n",
    "        elf_1_score = scoreboard[elf_1_pos]\n",
    "        elf_2_score = scoreboard[elf_2_pos]\n",
    "        elf_1_pos = (elf_1_pos + 1 + elf_1_score) % len(scoreboard)\n",
    "        elf_2_pos = (elf_2_pos + 1 + elf_2_score) % len(scoreboard)\n",
    "        scoreboard.extend(new_recipes(scoreboard[elf_1_pos], scoreboard[elf_2_pos]))\n",
    "    \n",
    "    return ''.join(str(s) for s in scoreboard[num_turns:num_turns + 10])        "
   ]
  },
  {
   "cell_type": "code",
   "execution_count": 43,
   "metadata": {},
   "outputs": [],
   "source": [
    "# After 5 recipes, the scores of the next ten would be 0124515891.\n",
    "# After 18 recipes, the scores of the next ten would be 9251071085.\n",
    "# After 2018 recipes, the scores of the next ten would be 5941429882.\n",
    "assert score(9) == '5158916779'\n",
    "assert score(5) == '0124515891'\n",
    "assert score(18) == '9251071085'\n",
    "assert score(2018) == '5941429882'\n"
   ]
  },
  {
   "cell_type": "code",
   "execution_count": 44,
   "metadata": {},
   "outputs": [
    {
     "data": {
      "text/plain": [
       "'5482326119'"
      ]
     },
     "execution_count": 44,
     "metadata": {},
     "output_type": "execute_result"
    }
   ],
   "source": [
    "score(846021)"
   ]
  },
  {
   "cell_type": "markdown",
   "metadata": {},
   "source": [
    "### Part 2"
   ]
  },
  {
   "cell_type": "markdown",
   "metadata": {},
   "source": [
    "As it turns out, you got the Elves' plan backwards. They actually want to know how many recipes appear on the scoreboard to the left of the first recipes whose scores are the digits from your puzzle input.\n",
    "\n",
    "```\n",
    "51589 first appears after 9 recipes.\n",
    "01245 first appears after 5 recipes.\n",
    "92510 first appears after 18 recipes.\n",
    "59414 first appears after 2018 recipes.\n",
    "```\n",
    "\n",
    "How many recipes appear on the scoreboard to the left of the score sequence in your puzzle input?"
   ]
  },
  {
   "cell_type": "code",
   "execution_count": 86,
   "metadata": {},
   "outputs": [],
   "source": [
    "def recipes_to_left(score_to_match): \n",
    "    score_to_match_tuple = tuple(int(char) for char in score_to_match)\n",
    "    scoreboard = [3, 7]\n",
    "    elf_1_pos = 0\n",
    "    elf_2_pos = 1\n",
    "    \n",
    "    def found():\n",
    "        offset = len(score_to_match_tuple)\n",
    "        score_board_len = len(scoreboard)\n",
    "        if score_board_len < offset:\n",
    "            return 0\n",
    "\n",
    "        # Small optimisation of only checking the whole sequence if the first two\n",
    "        # numbers match. If the numbers are evenly distributed we'll only do the\n",
    "        # full check 1 in 100 times\n",
    "        to_the_left = score_board_len - offset\n",
    "        if (\n",
    "            scoreboard[-1] == score_to_match_tuple[-1] and\n",
    "            scoreboard[-2] == score_to_match_tuple[-2] and\n",
    "            tuple(scoreboard[-offset:]) == score_to_match_tuple\n",
    "        ):\n",
    "            return to_the_left\n",
    "\n",
    "        if (\n",
    "            scoreboard[-2] == score_to_match_tuple[-1] and\n",
    "            scoreboard[-3] == score_to_match_tuple[-2] and\n",
    "            tuple(scoreboard[-(offset + 1):-1]) == score_to_match_tuple\n",
    "        ):\n",
    "            return to_the_left - 1\n",
    "                 \n",
    "        return 0\n",
    "        \n",
    "    \n",
    "    while not found():\n",
    "        if len(scoreboard) % 1000000 == 0:\n",
    "            print('Number of recipes: ', len(scoreboard))\n",
    "        elf_1_score = scoreboard[elf_1_pos]\n",
    "        elf_2_score = scoreboard[elf_2_pos]\n",
    "        elf_1_pos = (elf_1_pos + 1 + elf_1_score) % len(scoreboard)\n",
    "        elf_2_pos = (elf_2_pos + 1 + elf_2_score) % len(scoreboard)\n",
    "        scoreboard.extend(new_recipes(scoreboard[elf_1_pos], scoreboard[elf_2_pos]))\n",
    "        #print(scoreboard)\n",
    "    \n",
    "    return found()"
   ]
  },
  {
   "cell_type": "code",
   "execution_count": 87,
   "metadata": {},
   "outputs": [],
   "source": [
    "# As it turns out, you got the Elves' plan backwards. They actually want to know how many recipes appear on the scoreboard to the left of the first recipes whose scores are the digits from your puzzle input.\n",
    "\n",
    "# 51589 first appears after 9 recipes.\n",
    "# 01245 first appears after 5 recipes.\n",
    "# 92510 first appears after 18 recipes.\n",
    "# 59414 first appears after 2018 recipes.\n",
    "\n",
    "assert score('51589') == 9\n",
    "assert score('01245') == 5\n",
    "assert score('92510') == 18\n",
    "assert score('59414') == 2018"
   ]
  },
  {
   "cell_type": "code",
   "execution_count": 88,
   "metadata": {},
   "outputs": [
    {
     "name": "stdout",
     "output_type": "stream",
     "text": [
      "Number of recipes:  4000000\n",
      "Number of recipes:  5000000\n",
      "Number of recipes:  6000000\n",
      "Number of recipes:  7000000\n",
      "Number of recipes:  8000000\n",
      "Number of recipes:  9000000\n",
      "Number of recipes:  10000000\n",
      "Number of recipes:  11000000\n",
      "Number of recipes:  12000000\n",
      "Number of recipes:  14000000\n",
      "Number of recipes:  15000000\n",
      "Number of recipes:  16000000\n",
      "Number of recipes:  17000000\n",
      "Number of recipes:  19000000\n",
      "Number of recipes:  20000000\n",
      "Recipes to left:  20368140\n",
      "CPU times: user 21.8 s, sys: 152 ms, total: 21.9 s\n",
      "Wall time: 22 s\n"
     ]
    }
   ],
   "source": [
    "%%time\n",
    "\n",
    "print('Recipes to left: ', score('846021'))"
   ]
  },
  {
   "cell_type": "code",
   "execution_count": null,
   "metadata": {},
   "outputs": [],
   "source": []
  }
 ],
 "metadata": {
  "kernelspec": {
   "display_name": "Python 3",
   "language": "python",
   "name": "python3"
  },
  "language_info": {
   "codemirror_mode": {
    "name": "ipython",
    "version": 3
   },
   "file_extension": ".py",
   "mimetype": "text/x-python",
   "name": "python",
   "nbconvert_exporter": "python",
   "pygments_lexer": "ipython3",
   "version": "3.6.5"
  }
 },
 "nbformat": 4,
 "nbformat_minor": 2
}
