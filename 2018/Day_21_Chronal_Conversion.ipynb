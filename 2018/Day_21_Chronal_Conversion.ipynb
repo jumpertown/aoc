{
 "cells": [
  {
   "cell_type": "code",
   "execution_count": 14,
   "metadata": {},
   "outputs": [],
   "source": [
    "import sys\n",
    "sys.path.append(\"..\")"
   ]
  },
  {
   "cell_type": "code",
   "execution_count": 15,
   "metadata": {},
   "outputs": [],
   "source": [
    "import re\n",
    "from collections import Counter\n",
    "\n",
    "from resources.breadth_first_solver.breadth_first_solver import BreadthFirstSolver\n",
    "from resources.breadth_first_solver.game import Game\n",
    "from resources.utils import get_puzzle_input"
   ]
  },
  {
   "cell_type": "markdown",
   "metadata": {},
   "source": [
    "### Part 1\n",
    "\n",
    "\n",
    "Grab operations from Day 14 and 19"
   ]
  },
  {
   "cell_type": "code",
   "execution_count": 16,
   "metadata": {},
   "outputs": [],
   "source": [
    "ops = []"
   ]
  },
  {
   "cell_type": "markdown",
   "metadata": {},
   "source": [
    "### Addition\n",
    "\n",
    "```\n",
    "addr (add register) stores into register C the result of adding register A and register B.\n",
    "addi (add immediate) stores into register C the result of adding register A and value B.\n",
    "```"
   ]
  },
  {
   "cell_type": "code",
   "execution_count": 17,
   "metadata": {},
   "outputs": [],
   "source": [
    "def addr(registers, instructions):\n",
    "    output = list(registers)\n",
    "    _, A, B, C = instructions \n",
    "    output[C] = registers[A] + registers[B]\n",
    "    return tuple(output)\n",
    "\n",
    "def addi(registers, instructions):\n",
    "    output = list(registers)\n",
    "    _, A, B, C = instructions \n",
    "    output[C] = registers[A] + B\n",
    "    return tuple(output)\n",
    "\n",
    "ops.extend((addr, addi))"
   ]
  },
  {
   "cell_type": "markdown",
   "metadata": {},
   "source": [
    "### Multiplication\n",
    "\n",
    "```\n",
    "mulr (multiply register) stores into register C the result of multiplying register A and register B.\n",
    "muli (multiply immediate) stores into register C the result of multiplying register A and value B.\n",
    "```"
   ]
  },
  {
   "cell_type": "code",
   "execution_count": 18,
   "metadata": {},
   "outputs": [],
   "source": [
    "def mulr(registers, instructions):\n",
    "    output = list(registers)\n",
    "    _, A, B, C = instructions \n",
    "    output[C] = registers[A] * registers[B]\n",
    "    return tuple(output)\n",
    "\n",
    "def muli(registers, instructions):\n",
    "    output = list(registers)\n",
    "    _, A, B, C = instructions \n",
    "    output[C] = registers[A] * B\n",
    "    return tuple(output)\n",
    "\n",
    "ops.extend((mulr, muli))"
   ]
  },
  {
   "cell_type": "markdown",
   "metadata": {},
   "source": [
    "### Bitwise AND\n",
    "\n",
    "```\n",
    "banr (bitwise AND register) stores into register C the result of the bitwise AND of register A and register B.\n",
    "bani (bitwise AND immediate) stores into register C the result of the bitwise AND of register A and value B.\n",
    "```"
   ]
  },
  {
   "cell_type": "code",
   "execution_count": 19,
   "metadata": {},
   "outputs": [],
   "source": [
    "def banr(registers, instructions):\n",
    "    output = list(registers)\n",
    "    _, A, B, C = instructions \n",
    "    output[C] = registers[A] & registers[B]\n",
    "    return tuple(output)\n",
    "\n",
    "def bani(registers, instructions):\n",
    "    output = list(registers)\n",
    "    _, A, B, C = instructions \n",
    "    output[C] = registers[A] & B\n",
    "    return tuple(output)\n",
    "\n",
    "ops.extend((banr, bani))"
   ]
  },
  {
   "cell_type": "markdown",
   "metadata": {},
   "source": [
    "### Bitwise OR\n",
    "\n",
    "```\n",
    "borr (bitwise OR register) stores into register C the result of the bitwise OR of register A and register B.\n",
    "bori (bitwise OR immediate) stores into register C the result of the bitwise OR of register A and value B.\n",
    "```"
   ]
  },
  {
   "cell_type": "code",
   "execution_count": 20,
   "metadata": {},
   "outputs": [],
   "source": [
    "def borr(registers, instructions):\n",
    "    output = list(registers)\n",
    "    _, A, B, C = instructions \n",
    "    output[C] = registers[A] | registers[B]\n",
    "    return tuple(output)\n",
    "\n",
    "def bori(registers, instructions):\n",
    "    output = list(registers)\n",
    "    _, A, B, C = instructions \n",
    "    output[C] = registers[A] | B\n",
    "    return tuple(output)\n",
    "\n",
    "ops.extend((borr, bori))"
   ]
  },
  {
   "cell_type": "markdown",
   "metadata": {},
   "source": [
    "### Assignment\n",
    "\n",
    "```\n",
    "setr (set register) copies the contents of register A into register C. (Input B is ignored.)\n",
    "seti (set immediate) stores value A into register C. (Input B is ignored.)\n",
    "```\n"
   ]
  },
  {
   "cell_type": "code",
   "execution_count": 21,
   "metadata": {},
   "outputs": [],
   "source": [
    "def setr(registers, instructions):\n",
    "    output = list(registers)\n",
    "    _, A, B, C = instructions\n",
    "    output[C] = registers[A]\n",
    "    return tuple(output)\n",
    "\n",
    "def seti(registers, instructions):\n",
    "    output = list(registers)\n",
    "    _, A, B, C = instructions\n",
    "    output[C] = A\n",
    "    return tuple(output)\n",
    "\n",
    "ops.extend((setr, seti))"
   ]
  },
  {
   "cell_type": "markdown",
   "metadata": {},
   "source": [
    "### Greater-than testing\n",
    "\n",
    "```\n",
    "gtir (greater-than immediate/register) sets register C to 1 if value A is greater than register B. Otherwise, register C is set to 0.\n",
    "gtri (greater-than register/immediate) sets register C to 1 if register A is greater than value B. Otherwise, register C is set to 0.\n",
    "gtrr (greater-than register/register) sets register C to 1 if register A is greater than register B. Otherwise, register C is set to 0.\n",
    "```"
   ]
  },
  {
   "cell_type": "code",
   "execution_count": 22,
   "metadata": {},
   "outputs": [],
   "source": [
    "def gtir(registers, instructions):\n",
    "    output = list(registers)\n",
    "    _, A, B, C = instructions \n",
    "    \n",
    "    output[C] = int(A > registers[B])\n",
    "    return tuple(output)\n",
    "\n",
    "def gtri(registers, instructions):\n",
    "    output = list(registers)\n",
    "    _, A, B, C = instructions \n",
    "    \n",
    "    output[C] = int(registers[A] > B)\n",
    "    return tuple(output)\n",
    "\n",
    "def gtrr(registers, instructions):\n",
    "    output = list(registers)\n",
    "    _, A, B, C = instructions \n",
    "    \n",
    "    output[C] = int(registers[A] > registers[B])\n",
    "    return tuple(output)\n",
    "\n",
    "ops.extend((gtir, gtri, gtrr))"
   ]
  },
  {
   "cell_type": "markdown",
   "metadata": {},
   "source": [
    "### Equality testing\n",
    "\n",
    "```\n",
    "eqir (equal immediate/register) sets register C to 1 if value A is equal to register B. Otherwise, register C is set to 0.\n",
    "eqri (equal register/immediate) sets register C to 1 if register A is equal to value B. Otherwise, register C is set to 0.\n",
    "eqrr (equal register/register) sets register C to 1 if register A is equal to register B. Otherwise, register C is set to 0.\n",
    "```"
   ]
  },
  {
   "cell_type": "code",
   "execution_count": 23,
   "metadata": {},
   "outputs": [],
   "source": [
    "def eqir(registers, instructions):\n",
    "    output = list(registers)\n",
    "    _, A, B, C = instructions \n",
    "    \n",
    "    output[C] = int(A == registers[B])\n",
    "    return tuple(output)\n",
    "\n",
    "def eqri(registers, instructions):\n",
    "    output = list(registers)\n",
    "    _, A, B, C = instructions \n",
    "    \n",
    "    output[C] = int(registers[A] == B)\n",
    "    return tuple(output)\n",
    "\n",
    "def eqrr(registers, instructions):\n",
    "    output = list(registers)\n",
    "    _, A, B, C = instructions \n",
    "    \n",
    "    output[C] = int(registers[A] == registers[B])\n",
    "    return tuple(output)\n",
    "\n",
    "ops.extend((eqir, eqri, eqrr))"
   ]
  },
  {
   "cell_type": "code",
   "execution_count": 24,
   "metadata": {},
   "outputs": [
    {
     "data": {
      "text/plain": [
       "['addr',\n",
       " 'addi',\n",
       " 'mulr',\n",
       " 'muli',\n",
       " 'banr',\n",
       " 'bani',\n",
       " 'borr',\n",
       " 'bori',\n",
       " 'setr',\n",
       " 'seti',\n",
       " 'gtir',\n",
       " 'gtri',\n",
       " 'gtrr',\n",
       " 'eqir',\n",
       " 'eqri',\n",
       " 'eqrr']"
      ]
     },
     "execution_count": 24,
     "metadata": {},
     "output_type": "execute_result"
    }
   ],
   "source": [
    "[op.__name__ for op in ops]"
   ]
  },
  {
   "cell_type": "code",
   "execution_count": 25,
   "metadata": {},
   "outputs": [],
   "source": [
    "def parse_input(lines):\n",
    "    ip = 0\n",
    "    instructions = []\n",
    "    for line in lines:\n",
    "        parts = line.split(' ')        \n",
    "        if len(parts) == 2:\n",
    "            ip = int(parts[1])\n",
    "        else:\n",
    "            instructions.append((parts[0],) + tuple(int(i) for i in parts[1:]))\n",
    "            \n",
    "    return ip, instructions"
   ]
  },
  {
   "cell_type": "markdown",
   "metadata": {},
   "source": [
    "Puzzle input:\n",
    "\n",
    "```\n",
    "#ip 4\n",
    "\n",
    "# Section Zero checks and operator and resets all buffers\n",
    " 0: seti 123 0 5\n",
    " 1: bani 5 456 5\n",
    " 2: eqri 5 72 5\n",
    " 3: addr 5 4 4\n",
    " 4: seti 0 0 4\n",
    " 5: seti 0 9 5\n",
    "\n",
    "# Section A\n",
    " 6: bori 5 65536 3\n",
    " 7: seti 10828530 0 5\n",
    " 8: bani 3 255 2\n",
    " 9: addr 5 2 5\n",
    "10: bani 5 16777215 5\n",
    "11: muli 5 65899 5\n",
    "12: bani 5 16777215 5\n",
    "13: gtir 256 3 2\n",
    "14: addr 2 4 4\n",
    "15: addi 4 1 4\n",
    "\n",
    "\n",
    "16: seti 27 4 4\n",
    "17: seti 0 4 2\n",
    "18: addi 2 1 1\n",
    "19: muli 1 256 1\n",
    "20: gtrr 1 3 1\n",
    "21: addr 1 4 4\n",
    "22: addi 4 1 4\n",
    "23: seti 25 9 4\n",
    "24: addi 2 1 2\n",
    "25: seti 17 9 4\n",
    "26: setr 2 8 3\n",
    "27: seti 7 9 4\n",
    "28: eqrr 5 0 2\n",
    "29: addr 2 4 4\n",
    "30: seti 5 5 4\n",
    "```\n"
   ]
  },
  {
   "cell_type": "code",
   "execution_count": 27,
   "metadata": {},
   "outputs": [
    {
     "data": {
      "text/plain": [
       "(4,\n",
       " [('seti', 123, 0, 5),\n",
       "  ('bani', 5, 456, 5),\n",
       "  ('eqri', 5, 72, 5),\n",
       "  ('addr', 5, 4, 4),\n",
       "  ('seti', 0, 0, 4),\n",
       "  ('seti', 0, 9, 5),\n",
       "  ('bori', 5, 65536, 3),\n",
       "  ('seti', 10828530, 0, 5),\n",
       "  ('bani', 3, 255, 2),\n",
       "  ('addr', 5, 2, 5),\n",
       "  ('bani', 5, 16777215, 5),\n",
       "  ('muli', 5, 65899, 5),\n",
       "  ('bani', 5, 16777215, 5),\n",
       "  ('gtir', 256, 3, 2),\n",
       "  ('addr', 2, 4, 4),\n",
       "  ('addi', 4, 1, 4),\n",
       "  ('seti', 27, 4, 4),\n",
       "  ('seti', 0, 4, 2),\n",
       "  ('addi', 2, 1, 1),\n",
       "  ('muli', 1, 256, 1),\n",
       "  ('gtrr', 1, 3, 1),\n",
       "  ('addr', 1, 4, 4),\n",
       "  ('addi', 4, 1, 4),\n",
       "  ('seti', 25, 9, 4),\n",
       "  ('addi', 2, 1, 2),\n",
       "  ('seti', 17, 9, 4),\n",
       "  ('setr', 2, 8, 3),\n",
       "  ('seti', 7, 9, 4),\n",
       "  ('eqrr', 5, 0, 2),\n",
       "  ('addr', 2, 4, 4),\n",
       "  ('seti', 5, 5, 4)])"
      ]
     },
     "execution_count": 27,
     "metadata": {},
     "output_type": "execute_result"
    }
   ],
   "source": [
    "puzzle_input = get_puzzle_input('/tmp/day_21.txt')\n",
    "puzzle_ip, puzzle_instructions = parse_input(puzzle_input)\n",
    "puzzle_ip, puzzle_instructions"
   ]
  },
  {
   "cell_type": "code",
   "execution_count": 83,
   "metadata": {},
   "outputs": [],
   "source": [
    "class InstructionRunner:\n",
    "\n",
    "    def __init__(self, instructions, instruction_register, buffer_0):\n",
    "        self.instructions = instructions\n",
    "        self.instruction_register = instruction_register\n",
    "        self.registers = [buffer_0, 0, 0, 0, 0, 0]\n",
    "\n",
    "        self.pointer = 0\n",
    "        self.op_map = {op.__name__: op for op in ops}\n",
    "        self.num_moves = 0\n",
    "        self.finished = False\n",
    "        self.seen_instructions = {}\n",
    "        self.instruction_counter = Counter()\n",
    "                \n",
    "    def move(self):\n",
    "        if self.finished:\n",
    "            raise ValueError('finished...')\n",
    "\n",
    "        #print('registers: {}\\n'.format(self.registers))\n",
    "        try:\n",
    "            instruction = self._instruction  #1\n",
    "            self.update_instruction_register()  #2\n",
    "            \n",
    "            op = self.op_map[instruction[0]]\n",
    "            self.registers = list(op(self.registers, instruction))  #3\n",
    "\n",
    "        except IndexError:\n",
    "            self.finished = True\n",
    "\n",
    "        self.update_instruction_pointer() # 4\n",
    "        \n",
    "        if self.num_moves % 10000000 == 0:\n",
    "            print('Move {}, Registers: {}, Executed: {}'.format(\n",
    "                self.num_moves,\n",
    "                self.registers,\n",
    "                self.instruction_counter\n",
    "            ))\n",
    "            print()\n",
    "\n",
    "        self.num_moves += 1\n",
    "\n",
    "    def update_instruction_register(self):\n",
    "        self.registers[self.instruction_register] = self.pointer\n",
    "        \n",
    "    def update_instruction_pointer(self):\n",
    "        self.pointer = self.registers[self.instruction_register]\n",
    "        self.pointer += 1\n",
    "    \n",
    "    @property\n",
    "    def _instruction(self):\n",
    "        instruction = self.instructions[self.pointer]\n",
    "        self.instruction_counter[self.pointer] += 1\n",
    "#         if self.pointer == 28:\n",
    "#             print('Pos 28:', instruction, self.registers)\n",
    "        #print('Running', self.pointer, instruction)\n",
    "        return instruction        "
   ]
  },
  {
   "cell_type": "code",
   "execution_count": 85,
   "metadata": {},
   "outputs": [
    {
     "data": {
      "text/plain": [
       "[('seti', 123, 0, 5),\n",
       " ('bani', 5, 456, 5),\n",
       " ('eqri', 5, 72, 5),\n",
       " ('addr', 5, 4, 4),\n",
       " ('seti', 0, 0, 4),\n",
       " ('seti', 0, 9, 5),\n",
       " ('bori', 5, 65536, 3),\n",
       " ('seti', 10828530, 0, 5),\n",
       " ('bani', 3, 255, 2),\n",
       " ('addr', 5, 2, 5),\n",
       " ('bani', 5, 16777215, 5),\n",
       " ('muli', 5, 65899, 5),\n",
       " ('bani', 5, 16777215, 5),\n",
       " ('gtir', 256, 3, 2),\n",
       " ('addr', 2, 4, 4),\n",
       " ('addi', 4, 1, 4),\n",
       " ('seti', 27, 4, 4),\n",
       " ('seti', 0, 4, 2),\n",
       " ('addi', 2, 1, 1),\n",
       " ('muli', 1, 256, 1),\n",
       " ('gtrr', 1, 3, 1),\n",
       " ('addr', 1, 4, 4),\n",
       " ('addi', 4, 1, 4),\n",
       " ('seti', 25, 9, 4),\n",
       " ('addi', 2, 1, 2),\n",
       " ('seti', 17, 9, 4),\n",
       " ('setr', 2, 8, 3),\n",
       " ('seti', 7, 9, 4),\n",
       " ('eqrr', 5, 0, 2),\n",
       " ('addr', 2, 4, 4),\n",
       " ('seti', 5, 5, 4)]"
      ]
     },
     "execution_count": 85,
     "metadata": {},
     "output_type": "execute_result"
    }
   ],
   "source": [
    "puzzle_instructions"
   ]
  },
  {
   "cell_type": "code",
   "execution_count": 95,
   "metadata": {},
   "outputs": [
    {
     "data": {
      "text/plain": [
       "[5809920, 949837]"
      ]
     },
     "execution_count": 95,
     "metadata": {},
     "output_type": "execute_result"
    }
   ],
   "source": [
    "history[-2:]"
   ]
  },
  {
   "cell_type": "code",
   "execution_count": 96,
   "metadata": {},
   "outputs": [
    {
     "data": {
      "text/plain": [
       "[949837,\n",
       " 479218,\n",
       " 4264239,\n",
       " 11992644,\n",
       " 7288689,\n",
       " 6795766,\n",
       " 10558483,\n",
       " 1487368,\n",
       " 13538325,\n",
       " 13023098]"
      ]
     },
     "execution_count": 96,
     "metadata": {},
     "output_type": "execute_result"
    }
   ],
   "source": [
    "history[:10]"
   ]
  },
  {
   "cell_type": "code",
   "execution_count": 92,
   "metadata": {},
   "outputs": [
    {
     "name": "stdout",
     "output_type": "stream",
     "text": [
      "0 ('seti', 123, 0, 5)\n",
      "Move 0, Registers: [202209, 0, 0, 0, 0, 123], Executed: Counter({0: 1})\n",
      "\n",
      "1 ('bani', 5, 456, 5)\n",
      "2 ('eqri', 5, 72, 5)\n",
      "3 ('addr', 5, 4, 4)\n",
      "5 ('seti', 0, 9, 5)\n",
      "6 ('bori', 5, 65536, 3)\n",
      "7 ('seti', 10828530, 0, 5)\n",
      "8 ('bani', 3, 255, 2)\n",
      "9 ('addr', 5, 2, 5)\n",
      "10 ('bani', 5, 16777215, 5)\n",
      "11 ('muli', 5, 65899, 5)\n",
      "12 ('bani', 5, 16777215, 5)\n",
      "13 ('gtir', 256, 3, 2)\n",
      "14 ('addr', 2, 4, 4)\n",
      "15 ('addi', 4, 1, 4)\n",
      "17 ('seti', 0, 4, 2)\n",
      "18 ('seti', 23, 1, 4)\n",
      "24 ('addi', 2, 1, 2)\n",
      "25 ('seti', 17, 9, 4)\n",
      "18 ('seti', 23, 1, 4)\n",
      "24 ('addi', 2, 1, 2)\n",
      "25 ('seti', 17, 9, 4)\n",
      "18 ('seti', 23, 1, 4)\n",
      "24 ('addi', 2, 1, 2)\n",
      "25 ('seti', 17, 9, 4)\n",
      "18 ('seti', 23, 1, 4)\n",
      "24 ('addi', 2, 1, 2)\n",
      "25 ('seti', 17, 9, 4)\n",
      "18 ('seti', 23, 1, 4)\n",
      "24 ('addi', 2, 1, 2)\n",
      "25 ('seti', 17, 9, 4)\n",
      "18 ('seti', 23, 1, 4)\n",
      "24 ('addi', 2, 1, 2)\n",
      "25 ('seti', 17, 9, 4)\n",
      "18 ('seti', 23, 1, 4)\n",
      "24 ('addi', 2, 1, 2)\n",
      "25 ('seti', 17, 9, 4)\n",
      "18 ('seti', 23, 1, 4)\n",
      "24 ('addi', 2, 1, 2)\n",
      "25 ('seti', 17, 9, 4)\n",
      "18 ('seti', 23, 1, 4)\n",
      "24 ('addi', 2, 1, 2)\n",
      "25 ('seti', 17, 9, 4)\n",
      "18 ('seti', 23, 1, 4)\n",
      "24 ('addi', 2, 1, 2)\n",
      "25 ('seti', 17, 9, 4)\n",
      "18 ('seti', 23, 1, 4)\n",
      "24 ('addi', 2, 1, 2)\n",
      "25 ('seti', 17, 9, 4)\n",
      "18 ('seti', 23, 1, 4)\n"
     ]
    }
   ],
   "source": [
    "# Check order\n",
    "runner = InstructionRunner(quick_instructions, puzzle_ip, 202209)\n",
    "for _ in range(50):\n",
    "    print(runner.pointer, runner.instructions[runner.pointer])\n",
    "    runner.move()  "
   ]
  },
  {
   "cell_type": "markdown",
   "metadata": {},
   "source": [
    "```\n",
    " 6: bori 5 65536 3\n",
    " 7: seti 10828530 0 5\n",
    " 8: bani 3 255 2\n",
    " 9: addr 5 2 5\n",
    "10: bani 5 16777215 5\n",
    "11: muli 5 65899 5\n",
    "12: bani 5 16777215 5\n",
    "13: gtir 256 3 2\n",
    "14: addr 2 4 4\n",
    "15: addi 4 1 4\n",
    "\n",
    "('seti', 123, 0, 5),    reg[5] = 123    Binary And Check\n",
    "  ('bani', 5, 456, 5),  123 & 456\n",
    "  ('eqri', 5, 72, 5),   reg[5] = 1\n",
    "  ('addr', 5, 4, 4),    skip ahead\n",
    "  ('seti', 0, 0, 4),    <- not hit\n",
    "  \n",
    "  ('seti', 0, 9, 5),    <- starts here reg[5] = 0\n",
    "\n",
    "  section_A\n",
    "  ('bori', 5, 65536, 3),     -> reg[3] = 65536     2**16\n",
    "  ('seti', 10828530, 0, 5),  -> reg[5] = 10828530\n",
    "  ('bani', 3, 255, 2),       -> reg[2] = 0         2**8 - 1\n",
    "  ('addr', 5, 2, 5),         -> reg[5] = 10828530\n",
    "  ('bani', 5, 16777215, 5),\n",
    "  ('muli', 5, 65899, 5),\n",
    "  ('bani', 5, 16777215, 5),\n",
    "  ('gtir', 256, 3, 2),\n",
    "  ('addr', 2, 4, 4),    <- skips ahead if reg_2 = 1\n",
    "```"
   ]
  },
  {
   "cell_type": "code",
   "execution_count": 123,
   "metadata": {},
   "outputs": [],
   "source": [
    "#  6: bori 5 65536 3\n",
    "#  7: seti 10828530 0 5\n",
    "#  8: bani 3 255 2\n",
    "#  9: addr 5 2 5\n",
    "# 10: bani 5 16777215 5\n",
    "# 11: muli 5 65899 5\n",
    "# 12: bani 5 16777215 5\n",
    "# 13: gtir 256 3 2\n",
    "# 14: addr 2 4 4\n",
    "# 15: addi 4 1 4   -> 17\n",
    "\n",
    "# 16: seti 27 4 4  -> 28\n",
    "\n",
    "# 17: seti 0 4 2\n",
    "# 18: addi 2 1 1\n",
    "# 19: muli 1 256 1\n",
    "# 20: gtrr 1 3 1\n",
    "# 21: addr 1 4 4\n",
    "# 22: addi 4 1 4\n",
    "# 23: seti 25 9 4\n",
    "# 24: addi 2 1 2\n",
    "# 25: seti 17 9 4\n",
    "\n",
    "# 26: setr 2 8 3\n",
    "# 27: seti 7 9 4\n",
    "# 28: eqrr 5 0 2\n",
    "# 29: addr 2 4 4\n",
    "# 30: seti 5 5 4\n",
    "\n",
    "def program(reg_0):\n",
    "    solutions = set()\n",
    "    history = []\n",
    "\n",
    "    reg_1 = 0\n",
    "    reg_2 = 0\n",
    "    reg_3 = 0\n",
    "    reg_5 = 0                            #5\n",
    "    \n",
    "    while True:                          #30\n",
    "        reg_3 = reg_5 | 2**16            #6\n",
    "\n",
    "        reg_5 = 10828530                 #7\n",
    "\n",
    "        while True:                      #27\n",
    "            reg_2 = (2**8 - 1) & reg_3   #8\n",
    "            reg_5 += reg_2               #9\n",
    "            reg_5 &= 16777215            #10\n",
    "            reg_5 *= 65899               #11\n",
    "            reg_5 &= 16777215            #12\n",
    "\n",
    "            # If True -> \n",
    "            if 256 > reg_3:              #13 and 14\n",
    "                break  # -> 28           #16\n",
    "\n",
    "            reg_2 = 0                    #15 and 17\n",
    "\n",
    "            # 18: addi 2 1 1\n",
    "            # 19: muli 1 256 1\n",
    "            # 20: gtrr 1 3 1\n",
    "            # 21: addr 1 4 4 -> 23 if reg_1\n",
    "            # 22: addi 4 1 4 -> 24\n",
    "            # 23: seti 25 9 4 -> 26\n",
    "            # 24: addi 2 1 2  \n",
    "            # 25: seti 17 9 4 -> 18\n",
    "#             while True:                  #25\n",
    "#                 reg_1 = reg_2 + 1        #18\n",
    "#                 reg_1 *= 256             #19\n",
    "#                 if reg_1 > reg_3:        #20 and 21\n",
    "#                     break                #23\n",
    "#                 reg_2 += 1               #22 and 24\n",
    "\n",
    "#             reg_3 = reg_2                #26\n",
    "            \n",
    "            # Above loop basically does:\n",
    "            reg_3 //= 256                  # Replacement 18-25\n",
    "\n",
    "        #print('reg_5 ', reg_5)\n",
    "        if reg_5 in solutions:\n",
    "            return history\n",
    "\n",
    "        history.append(reg_5)\n",
    "        solutions.add(reg_5)\n",
    "        #break\n",
    "        # 28: eqrr 5 0 2   \n",
    "        # 29: addr 2 4 4\n",
    "        # 30: seti 5 5 4  -> 6\n",
    "        if reg_5 == reg_0:               #28\n",
    "            print('Finished')            #29\n",
    "            break\n",
    "    "
   ]
  },
  {
   "cell_type": "code",
   "execution_count": 124,
   "metadata": {},
   "outputs": [
    {
     "data": {
      "text/plain": [
       "(11992, 11777564)"
      ]
     },
     "execution_count": 124,
     "metadata": {},
     "output_type": "execute_result"
    }
   ],
   "source": [
    "history = program(0)\n",
    "len(history), history[-1]"
   ]
  }
 ],
 "metadata": {
  "kernelspec": {
   "display_name": "Python 3",
   "language": "python",
   "name": "python3"
  },
  "language_info": {
   "codemirror_mode": {
    "name": "ipython",
    "version": 3
   },
   "file_extension": ".py",
   "mimetype": "text/x-python",
   "name": "python",
   "nbconvert_exporter": "python",
   "pygments_lexer": "ipython3",
   "version": "3.6.5"
  }
 },
 "nbformat": 4,
 "nbformat_minor": 2
}
