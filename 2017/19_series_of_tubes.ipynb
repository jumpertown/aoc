{
 "cells": [
  {
   "cell_type": "markdown",
   "metadata": {},
   "source": [
    "```\n",
    "     |          \n",
    "     |  +--+    \n",
    "     A  |  C    \n",
    " F---|----E|--+ \n",
    "     |  |  |  D \n",
    "     +B-+  +--+\n",
    "```"
   ]
  },
  {
   "cell_type": "code",
   "execution_count": 1,
   "metadata": {},
   "outputs": [],
   "source": [
    "def parse_grid(lines):\n",
    "    grid = []\n",
    "    for l in lines:\n",
    "        grid.append(list(l))\n",
    "    return grid"
   ]
  },
  {
   "cell_type": "code",
   "execution_count": 2,
   "metadata": {},
   "outputs": [],
   "source": [
    "test_lines = [\n",
    "    '     |',          \n",
    "    '     |  +--+',    \n",
    "    '     A  |  C',   \n",
    "    ' F---|----E|--+', \n",
    "    '     |  |  |  D', \n",
    "    '     +B-+  +--+',\n",
    "]"
   ]
  },
  {
   "cell_type": "code",
   "execution_count": 3,
   "metadata": {},
   "outputs": [
    {
     "data": {
      "text/plain": [
       "[[' ', ' ', ' ', ' ', ' ', '|'],\n",
       " [' ', ' ', ' ', ' ', ' ', '|', ' ', ' ', '+', '-', '-', '+'],\n",
       " [' ', ' ', ' ', ' ', ' ', 'A', ' ', ' ', '|', ' ', ' ', 'C'],\n",
       " [' ', 'F', '-', '-', '-', '|', '-', '-', '-', '-', 'E', '|', '-', '-', '+'],\n",
       " [' ', ' ', ' ', ' ', ' ', '|', ' ', ' ', '|', ' ', ' ', '|', ' ', ' ', 'D'],\n",
       " [' ', ' ', ' ', ' ', ' ', '+', 'B', '-', '+', ' ', ' ', '+', '-', '-', '+']]"
      ]
     },
     "execution_count": 3,
     "metadata": {},
     "output_type": "execute_result"
    }
   ],
   "source": [
    "test_grid = parse_grid(test_lines)\n",
    "test_grid"
   ]
  },
  {
   "cell_type": "code",
   "execution_count": 4,
   "metadata": {},
   "outputs": [],
   "source": [
    "from enum import Enum\n",
    "class Direction(Enum):\n",
    "    UP = 1\n",
    "    DOWN = 2\n",
    "    LEFT = 3\n",
    "    RIGHT = 4"
   ]
  },
  {
   "cell_type": "code",
   "execution_count": 5,
   "metadata": {},
   "outputs": [],
   "source": [
    "class MazeSolver(object):    \n",
    "    def __init__(self, grid):\n",
    "        self.grid = grid\n",
    "        self.y_position = 0\n",
    "        self.x_position = grid[0].index('|')\n",
    "        self.direction = Direction.DOWN\n",
    "        \n",
    "    def forward(self):\n",
    "        move_map = {\n",
    "            Direction.UP: (0, -1),\n",
    "            Direction.DOWN: (0, 1),\n",
    "            Direction.LEFT: (-1, 0),\n",
    "            Direction.RIGHT: (1, 0),            \n",
    "        }\n",
    "        x_delta, y_delta = move_map[self.direction]\n",
    "        self.x_position += x_delta\n",
    "        self.y_position += y_delta\n",
    "    \n",
    "    def change_direction(self):\n",
    "        if self.direction in (Direction.UP, Direction.DOWN):\n",
    "            if self.x_position and self.grid[self.y_position][self.x_position - 1] not in ('|', ' '):\n",
    "                self.direction = Direction.LEFT\n",
    "            else:\n",
    "                self.direction = Direction.RIGHT\n",
    "        else:\n",
    "            if (\n",
    "                self.y_position and\n",
    "                len(self.grid[self.y_position - 1]) > self.x_position and\n",
    "                self.grid[self.y_position - 1][self.x_position] not in ('-', ' ')\n",
    "            ):\n",
    "                self.direction = Direction.UP\n",
    "            else:\n",
    "                self.direction = Direction.DOWN\n",
    "        self.forward()\n",
    "        \n",
    "    def solve(self, max_moves=None, log_moves=False):\n",
    "        solution = []\n",
    "        moves = 0\n",
    "        while True:\n",
    "            try:\n",
    "                character = self.grid[self.y_position][self.x_position]\n",
    "            except IndexError:\n",
    "                break\n",
    "            \n",
    "            if log_moves:\n",
    "                print(character, self.x_position, self.y_position, self.direction)\n",
    "            if character == ' ':\n",
    "                break\n",
    "            if character == '+':\n",
    "                self.change_direction()\n",
    "            elif character in ('|', '-'):\n",
    "                self.forward()\n",
    "            else:\n",
    "                solution.append(character)\n",
    "                self.forward()\n",
    "            moves += 1\n",
    "            if max_moves and moves > max_moves:\n",
    "                break\n",
    "        \n",
    "        return solution, moves\n",
    "\n",
    "    "
   ]
  },
  {
   "cell_type": "code",
   "execution_count": 6,
   "metadata": {},
   "outputs": [
    {
     "name": "stdout",
     "output_type": "stream",
     "text": [
      "| 5 0 Direction.DOWN\n",
      "| 5 1 Direction.DOWN\n",
      "A 5 2 Direction.DOWN\n",
      "| 5 3 Direction.DOWN\n",
      "| 5 4 Direction.DOWN\n",
      "+ 5 5 Direction.DOWN\n",
      "B 6 5 Direction.RIGHT\n",
      "- 7 5 Direction.RIGHT\n",
      "+ 8 5 Direction.RIGHT\n",
      "| 8 4 Direction.UP\n",
      "- 8 3 Direction.UP\n",
      "| 8 2 Direction.UP\n",
      "+ 8 1 Direction.UP\n",
      "- 9 1 Direction.RIGHT\n",
      "- 10 1 Direction.RIGHT\n",
      "+ 11 1 Direction.RIGHT\n",
      "C 11 2 Direction.DOWN\n",
      "| 11 3 Direction.DOWN\n",
      "| 11 4 Direction.DOWN\n",
      "+ 11 5 Direction.DOWN\n",
      "- 12 5 Direction.RIGHT\n",
      "- 13 5 Direction.RIGHT\n",
      "+ 14 5 Direction.RIGHT\n",
      "D 14 4 Direction.UP\n",
      "+ 14 3 Direction.UP\n",
      "- 13 3 Direction.LEFT\n",
      "- 12 3 Direction.LEFT\n",
      "| 11 3 Direction.LEFT\n",
      "E 10 3 Direction.LEFT\n",
      "- 9 3 Direction.LEFT\n",
      "- 8 3 Direction.LEFT\n",
      "- 7 3 Direction.LEFT\n",
      "- 6 3 Direction.LEFT\n",
      "| 5 3 Direction.LEFT\n",
      "- 4 3 Direction.LEFT\n",
      "- 3 3 Direction.LEFT\n",
      "- 2 3 Direction.LEFT\n",
      "F 1 3 Direction.LEFT\n",
      "  0 3 Direction.LEFT\n"
     ]
    },
    {
     "data": {
      "text/plain": [
       "(['A', 'B', 'C', 'D', 'E', 'F'], 38)"
      ]
     },
     "execution_count": 6,
     "metadata": {},
     "output_type": "execute_result"
    }
   ],
   "source": [
    "solver = MazeSolver(test_grid)\n",
    "solver.solve(None, True)"
   ]
  },
  {
   "cell_type": "code",
   "execution_count": 7,
   "metadata": {},
   "outputs": [],
   "source": [
    "with open('tubes.txt') as fh:\n",
    "    lines = fh.readlines()\n",
    "lines = [l.rstrip() for l in lines]"
   ]
  },
  {
   "cell_type": "code",
   "execution_count": 8,
   "metadata": {},
   "outputs": [
    {
     "data": {
      "text/plain": [
       "'                                                                           |'"
      ]
     },
     "execution_count": 8,
     "metadata": {},
     "output_type": "execute_result"
    }
   ],
   "source": [
    "lines[0]"
   ]
  },
  {
   "cell_type": "code",
   "execution_count": 9,
   "metadata": {},
   "outputs": [],
   "source": [
    "grid = parse_grid(lines)"
   ]
  },
  {
   "cell_type": "code",
   "execution_count": 10,
   "metadata": {},
   "outputs": [],
   "source": [
    "solver = MazeSolver(grid)\n",
    "solution, moves = solver.solve()"
   ]
  },
  {
   "cell_type": "code",
   "execution_count": 11,
   "metadata": {},
   "outputs": [
    {
     "data": {
      "text/plain": [
       "'DTOUFARJQ'"
      ]
     },
     "execution_count": 11,
     "metadata": {},
     "output_type": "execute_result"
    }
   ],
   "source": [
    "''.join(solution)"
   ]
  },
  {
   "cell_type": "code",
   "execution_count": 12,
   "metadata": {},
   "outputs": [
    {
     "data": {
      "text/plain": [
       "16642"
      ]
     },
     "execution_count": 12,
     "metadata": {},
     "output_type": "execute_result"
    }
   ],
   "source": [
    "moves"
   ]
  }
 ],
 "metadata": {
  "kernelspec": {
   "display_name": "Python 3",
   "language": "python",
   "name": "python3"
  },
  "language_info": {
   "codemirror_mode": {
    "name": "ipython",
    "version": 3
   },
   "file_extension": ".py",
   "mimetype": "text/x-python",
   "name": "python",
   "nbconvert_exporter": "python",
   "pygments_lexer": "ipython3",
   "version": "3.6.0"
  }
 },
 "nbformat": 4,
 "nbformat_minor": 2
}
