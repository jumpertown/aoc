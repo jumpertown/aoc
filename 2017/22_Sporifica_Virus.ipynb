{
 "cells": [
  {
   "cell_type": "code",
   "execution_count": 1,
   "metadata": {},
   "outputs": [],
   "source": [
    "from enum import Enum\n",
    "from collections import defaultdict"
   ]
  },
  {
   "cell_type": "code",
   "execution_count": 2,
   "metadata": {},
   "outputs": [],
   "source": [
    "# Utils\n",
    "tadd = lambda a, b: tuple(map(sum, zip(a, b)))\n",
    "assert tadd((1, 2), (3, 4)) == (4, 6)"
   ]
  },
  {
   "cell_type": "markdown",
   "metadata": {},
   "source": [
    "```\n",
    "If the current node is infected, it turns to its right. Otherwise, it turns to its left. (Turning is done in-place; the current node does not change.)\n",
    "If the current node is clean, it becomes infected. Otherwise, it becomes cleaned. (This is done after the node is considered for the purposes of changing direction.)\n",
    "The virus carrier moves forward one node in the direction it is facing.\n",
    "```"
   ]
  },
  {
   "cell_type": "code",
   "execution_count": 3,
   "metadata": {},
   "outputs": [],
   "source": [
    "class Direction(Enum):\n",
    "    UP = 1\n",
    "    DOWN = 2\n",
    "    LEFT = 3\n",
    "    RIGHT = 4\n",
    "    \n",
    "    def turn_left(self):\n",
    "        left_map = {\n",
    "            Direction.UP: Direction.LEFT,\n",
    "            Direction.DOWN: Direction.RIGHT,\n",
    "            Direction.LEFT: Direction.DOWN,\n",
    "            Direction.RIGHT: Direction.UP,\n",
    "        }\n",
    "        return left_map[self]\n",
    "    \n",
    "    def turn_right(self):\n",
    "        right_map = {\n",
    "            Direction.UP: Direction.RIGHT,\n",
    "            Direction.DOWN: Direction.LEFT,\n",
    "            Direction.LEFT: Direction.UP,\n",
    "            Direction.RIGHT: Direction.DOWN,\n",
    "        }\n",
    "        return right_map[self]\n",
    "    \n",
    "    def reverse(self):\n",
    "        reverse_map = {\n",
    "            Direction.UP: Direction.DOWN,\n",
    "            Direction.DOWN: Direction.UP,\n",
    "            Direction.LEFT: Direction.RIGHT,\n",
    "            Direction.RIGHT: Direction.LEFT,\n",
    "        }\n",
    "        return reverse_map[self]\n",
    "    \n",
    "    def dont_turn(self):\n",
    "        return self\n",
    "    \n",
    "    def move_forward(self, position):\n",
    "        delta_map = {\n",
    "            Direction.UP: (0, 1),\n",
    "            Direction.DOWN: (0, -1),\n",
    "            Direction.LEFT: (-1, 0),\n",
    "            Direction.RIGHT: (1, 0),\n",
    "        }\n",
    "        return tadd(position, delta_map[self])\n",
    "\n",
    "\n",
    "assert Direction.UP.turn_left() == Direction.LEFT\n",
    "assert Direction.RIGHT.turn_right() == Direction.DOWN\n",
    "assert Direction.UP.move_forward((1,1)) == (1,2)"
   ]
  },
  {
   "cell_type": "markdown",
   "metadata": {},
   "source": [
    "```\n",
    "Decide which way to turn based on the current node:\n",
    "If it is clean, it turns left.\n",
    "If it is weakened, it does not turn, and will continue moving in the same direction.\n",
    "If it is infected, it turns right.\n",
    "If it is flagged, it reverses direction, and will go back the way it came.\n",
    "```"
   ]
  },
  {
   "cell_type": "code",
   "execution_count": 4,
   "metadata": {},
   "outputs": [],
   "source": [
    "class NodeState(Enum):\n",
    "    CLEAN = 1\n",
    "    WEAKENED = 2\n",
    "    INFECTED = 3\n",
    "    FLAGGED = 4\n",
    "    CLEAN_PART_1 = 5\n",
    "    INFECTED_PART_1 = 6\n",
    "    \n",
    "    def transition(self):\n",
    "        transition_map = {\n",
    "            NodeState.CLEAN: NodeState.WEAKENED,\n",
    "            NodeState.WEAKENED: NodeState.INFECTED,\n",
    "            NodeState.INFECTED: NodeState.FLAGGED,\n",
    "            NodeState.FLAGGED: NodeState.CLEAN,\n",
    "            NodeState.CLEAN_PART_1: NodeState.INFECTED_PART_1,\n",
    "            NodeState.INFECTED_PART_1: NodeState.CLEAN_PART_1,\n",
    "        }\n",
    "        return transition_map[self]\n",
    "    \n",
    "    def turn(self, direction):\n",
    "        turn_map = {\n",
    "            NodeState.CLEAN: direction.turn_left,\n",
    "            NodeState.WEAKENED: direction.dont_turn,\n",
    "            NodeState.INFECTED: direction.turn_right,\n",
    "            NodeState.FLAGGED: direction.reverse,\n",
    "            NodeState.CLEAN_PART_1: direction.turn_left,\n",
    "            NodeState.INFECTED_PART_1: direction.turn_right,\n",
    "        }\n",
    "        return turn_map[self]()\n",
    "        "
   ]
  },
  {
   "cell_type": "code",
   "execution_count": 5,
   "metadata": {},
   "outputs": [],
   "source": [
    "class SporificaVirus(object):\n",
    "    def __init__(self, cluster_map, default_state=NodeState.CLEAN):\n",
    "        self.cluster_map = defaultdict(lambda:default_state, cluster_map)\n",
    "        self.default_state = default_state\n",
    "        self.direction = Direction.UP\n",
    "        self.position = (0, 0)\n",
    "        self.num_infections = 0\n",
    "        \n",
    "    def burst(self):\n",
    "        node_state = self.cluster_map[self.position]        \n",
    "        self.direction = node_state.turn(self.direction)\n",
    "        new_state = node_state.transition()\n",
    "        \n",
    "        if new_state in (NodeState.INFECTED, NodeState.INFECTED_PART_1):\n",
    "            self.num_infections += 1\n",
    "        if new_state == self.default_state:\n",
    "            del self.cluster_map[self.position]\n",
    "        else:\n",
    "            self.cluster_map[self.position] = new_state\n",
    "\n",
    "        self.position = self.direction.move_forward(self.position)"
   ]
  },
  {
   "cell_type": "markdown",
   "metadata": {},
   "source": [
    "Sample map:\n",
    "```\n",
    "..#\n",
    "#..\n",
    "...\n",
    "```"
   ]
  },
  {
   "cell_type": "code",
   "execution_count": 6,
   "metadata": {},
   "outputs": [],
   "source": [
    "def map_to_tuples(lines, infected_state=NodeState.INFECTED):\n",
    "    infected_map = dict()\n",
    "    x_start = -(len(lines[0]) // 2)\n",
    "    y = len(lines) // 2\n",
    "    \n",
    "    for l in lines:\n",
    "        x = x_start\n",
    "        for c in list(l):\n",
    "            if c == '#':\n",
    "                infected_map[(x, y)] = infected_state\n",
    "            x += 1\n",
    "        y -= 1\n",
    "    return infected_map\n",
    "\n",
    "assert map_to_tuples(['..#', '#..', '...']) == {\n",
    "    (1, 1): NodeState.INFECTED,\n",
    "    (-1, 0): NodeState.INFECTED\n",
    "}"
   ]
  },
  {
   "cell_type": "code",
   "execution_count": 7,
   "metadata": {},
   "outputs": [],
   "source": [
    "virus = SporificaVirus(\n",
    "    map_to_tuples(['..#', '#..', '...'], NodeState.INFECTED_PART_1),\n",
    "    default_state=NodeState.CLEAN_PART_1\n",
    ")\n",
    "for r in range(70):\n",
    "    virus.burst()\n",
    "assert virus.num_infections == 41"
   ]
  },
  {
   "cell_type": "code",
   "execution_count": 8,
   "metadata": {},
   "outputs": [],
   "source": [
    "virus = SporificaVirus(\n",
    "    map_to_tuples(['..#', '#..', '...'], NodeState.INFECTED_PART_1),\n",
    "    default_state=NodeState.CLEAN_PART_1\n",
    ")\n",
    "for r in range(10000):\n",
    "    virus.burst()\n",
    "assert virus.num_infections == 5587"
   ]
  },
  {
   "cell_type": "code",
   "execution_count": 9,
   "metadata": {},
   "outputs": [],
   "source": [
    "with open('infection_map.txt') as fh:\n",
    "    lines = fh.readlines()\n",
    "lines = [l.strip() for l in lines]"
   ]
  },
  {
   "cell_type": "code",
   "execution_count": 10,
   "metadata": {},
   "outputs": [
    {
     "data": {
      "text/plain": [
       "5240"
      ]
     },
     "execution_count": 10,
     "metadata": {},
     "output_type": "execute_result"
    }
   ],
   "source": [
    "virus = SporificaVirus(\n",
    "    map_to_tuples(lines, NodeState.INFECTED_PART_1),\n",
    "    default_state=NodeState.CLEAN_PART_1\n",
    ")\n",
    "for r in range(10000):\n",
    "    virus.burst()\n",
    "virus.num_infections"
   ]
  },
  {
   "cell_type": "markdown",
   "metadata": {},
   "source": [
    "## Part 2"
   ]
  },
  {
   "cell_type": "code",
   "execution_count": 11,
   "metadata": {},
   "outputs": [],
   "source": [
    "virus = SporificaVirus(map_to_tuples(['..#', '#..', '...']))\n",
    "for r in range(100):\n",
    "    virus.burst()\n",
    "assert virus.num_infections == 26"
   ]
  },
  {
   "cell_type": "code",
   "execution_count": 12,
   "metadata": {},
   "outputs": [
    {
     "name": "stdout",
     "output_type": "stream",
     "text": [
      "Progress 0\n",
      "Progress 1000000\n",
      "Progress 2000000\n",
      "Progress 3000000\n",
      "Progress 4000000\n",
      "Progress 5000000\n",
      "Progress 6000000\n",
      "Progress 7000000\n",
      "Progress 8000000\n",
      "Progress 9000000\n"
     ]
    },
    {
     "data": {
      "text/plain": [
       "2512144"
      ]
     },
     "execution_count": 12,
     "metadata": {},
     "output_type": "execute_result"
    }
   ],
   "source": [
    "virus = SporificaVirus(map_to_tuples(lines))\n",
    "for r in range(10000000):\n",
    "    if r % 1000000 == 0:\n",
    "        print('Progress', r)\n",
    "    virus.burst()\n",
    "virus.num_infections"
   ]
  },
  {
   "cell_type": "code",
   "execution_count": null,
   "metadata": {},
   "outputs": [],
   "source": []
  }
 ],
 "metadata": {
  "kernelspec": {
   "display_name": "Python 3",
   "language": "python",
   "name": "python3"
  },
  "language_info": {
   "codemirror_mode": {
    "name": "ipython",
    "version": 3
   },
   "file_extension": ".py",
   "mimetype": "text/x-python",
   "name": "python",
   "nbconvert_exporter": "python",
   "pygments_lexer": "ipython3",
   "version": "3.6.0"
  }
 },
 "nbformat": 4,
 "nbformat_minor": 2
}
