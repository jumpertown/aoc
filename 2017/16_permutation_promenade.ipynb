{
 "cells": [
  {
   "cell_type": "markdown",
   "metadata": {},
   "source": [
    "```\n",
    "Spin, written sX, makes X programs move from the end to the front, but maintain their order otherwise. (For example, s3 on abcde produces cdeab).\n",
    "Exchange, written xA/B, makes the programs at positions A and B swap places.\n",
    "Partner, written pA/B, makes the programs named A and B swap places.\n",
    "```"
   ]
  },
  {
   "cell_type": "code",
   "execution_count": 1,
   "metadata": {},
   "outputs": [],
   "source": [
    "import re"
   ]
  },
  {
   "cell_type": "code",
   "execution_count": 2,
   "metadata": {},
   "outputs": [],
   "source": [
    "def spin_move(state, split_at):\n",
    "    return state[-split_at:] + state[:-split_at]"
   ]
  },
  {
   "cell_type": "code",
   "execution_count": 3,
   "metadata": {},
   "outputs": [],
   "source": [
    "assert spin_move(['a', 'b', 'c', 'd', 'e'], 3) ==  ['c', 'd', 'e', 'a', 'b']\n",
    "assert spin_move(['a', 'b', 'c', 'd', 'e'], 1) ==  ['e', 'a', 'b', 'c', 'd']"
   ]
  },
  {
   "cell_type": "code",
   "execution_count": 4,
   "metadata": {},
   "outputs": [],
   "source": [
    "def exchange_move(state, pos1, pos2):\n",
    "    new_state = list(state)\n",
    "    char1 = state[pos1]\n",
    "    char2 = state[pos2]\n",
    "    new_state[pos1] = char2\n",
    "    new_state[pos2] = char1\n",
    "    return new_state"
   ]
  },
  {
   "cell_type": "code",
   "execution_count": 5,
   "metadata": {},
   "outputs": [],
   "source": [
    "assert exchange_move(['a', 'b', 'c', 'd', 'e'], 1, 3) == ['a', 'd', 'c', 'b', 'e']"
   ]
  },
  {
   "cell_type": "code",
   "execution_count": 6,
   "metadata": {},
   "outputs": [],
   "source": [
    "def partner_move(state, char1, char2):\n",
    "    new_state = list(state)\n",
    "    pos1 = state.index(char1)\n",
    "    pos2 = state.index(char2)\n",
    "    new_state[pos1] = char2\n",
    "    new_state[pos2] = char1\n",
    "    return new_state"
   ]
  },
  {
   "cell_type": "code",
   "execution_count": 7,
   "metadata": {},
   "outputs": [],
   "source": [
    "assert partner_move(['a', 'b', 'c', 'd', 'e'], 'b', 'e') == ['a', 'e', 'c', 'd', 'b']"
   ]
  },
  {
   "cell_type": "code",
   "execution_count": 8,
   "metadata": {},
   "outputs": [],
   "source": [
    "def play_moves(moves, num_characters, repeat=1, progress_every=100000):\n",
    "    game_state = [chr(x) for x in range(97, 97 + num_characters)]    \n",
    "    seen_states = {}\n",
    "\n",
    "    move_map = {\n",
    "        's': re.compile(r'^s([0-9]+)$'),\n",
    "        'x': re.compile(r'^x([0-9]+)/([0-9]+)$'),\n",
    "        'p': re.compile(r'^p([a-p]+)/([a-p]+)$')\n",
    "    }\n",
    "\n",
    "    for i in range(repeat):\n",
    "        if i % progress_every == 0:\n",
    "            print('Examined', i)\n",
    "        for m in moves:\n",
    "            if not m:\n",
    "                continue\n",
    "            move_type = m[0]\n",
    "            regexp = move_map[move_type]\n",
    "            parsed = regexp.match(m)\n",
    "            groups = parsed.groups()\n",
    "            if move_type == 's':\n",
    "                split_at = int(groups[0])\n",
    "                game_state = spin_move(game_state, split_at)\n",
    "            elif move_type == 'x':\n",
    "                pos1 = int(groups[0])\n",
    "                pos2 = int(groups[1])\n",
    "                game_state = exchange_move(game_state, pos1, pos2)\n",
    "            elif move_type == 'p':\n",
    "                char1 = groups[0]\n",
    "                char2 = groups[1]\n",
    "                game_state = partner_move(game_state, char1, char2)\n",
    "            else:\n",
    "                raise ValueError(\"Unknown move {}\".format(m))\n",
    "\n",
    "        # Look for previously seen states\n",
    "        str_state = ''.join(game_state)\n",
    "        if str_state in seen_states:\n",
    "            return 'seen {} at {} and {}'.format(str_state, seen_states[str_state], i)\n",
    "        seen_states[str_state] = i\n",
    "\n",
    "    return ''.join(game_state)"
   ]
  },
  {
   "cell_type": "markdown",
   "metadata": {},
   "source": [
    "```\n",
    "s1, a spin of size 1: eabcd.\n",
    "x3/4, swapping the last two programs: eabdc.\n",
    "pe/b, swapping programs e and b: baedc.\n",
    "```"
   ]
  },
  {
   "cell_type": "code",
   "execution_count": 9,
   "metadata": {},
   "outputs": [
    {
     "name": "stdout",
     "output_type": "stream",
     "text": [
      "Examined 0\n"
     ]
    }
   ],
   "source": [
    "assert play_moves(['s1', 'x3/4', 'pe/b'], 5) == 'baedc'"
   ]
  },
  {
   "cell_type": "code",
   "execution_count": 10,
   "metadata": {},
   "outputs": [],
   "source": [
    "with open('dance.txt') as fh:\n",
    "    puzzle_input = fh.read().split(',')"
   ]
  },
  {
   "cell_type": "code",
   "execution_count": 11,
   "metadata": {},
   "outputs": [
    {
     "name": "stdout",
     "output_type": "stream",
     "text": [
      "Examined 0\n"
     ]
    },
    {
     "data": {
      "text/plain": [
       "'padheomkgjfnblic'"
      ]
     },
     "execution_count": 11,
     "metadata": {},
     "output_type": "execute_result"
    }
   ],
   "source": [
    "play_moves(puzzle_input, 16)"
   ]
  },
  {
   "cell_type": "code",
   "execution_count": 12,
   "metadata": {},
   "outputs": [
    {
     "name": "stdout",
     "output_type": "stream",
     "text": [
      "Examined 0\n"
     ]
    },
    {
     "data": {
      "text/plain": [
       "'seen baedc at 0 and 4'"
      ]
     },
     "execution_count": 12,
     "metadata": {},
     "output_type": "execute_result"
    }
   ],
   "source": [
    "# Only 120 Permutations\n",
    "play_moves(['s1', 'x3/4', 'pe/b'], 5, 1000000001)"
   ]
  },
  {
   "cell_type": "code",
   "execution_count": 13,
   "metadata": {},
   "outputs": [
    {
     "name": "stdout",
     "output_type": "stream",
     "text": [
      "Examined 0\n"
     ]
    },
    {
     "data": {
      "text/plain": [
       "'seen padheomkgjfnblic at 0 and 60'"
      ]
     },
     "execution_count": 13,
     "metadata": {},
     "output_type": "execute_result"
    }
   ],
   "source": [
    "# 2E+13 permuatation but this is the birthday paradox isn't it?\n",
    "play_moves(puzzle_input, 16, 1000000001)"
   ]
  },
  {
   "cell_type": "code",
   "execution_count": 14,
   "metadata": {},
   "outputs": [
    {
     "data": {
      "text/plain": [
       "40"
      ]
     },
     "execution_count": 14,
     "metadata": {},
     "output_type": "execute_result"
    }
   ],
   "source": [
    "1000000000 % 60"
   ]
  },
  {
   "cell_type": "code",
   "execution_count": 15,
   "metadata": {},
   "outputs": [
    {
     "name": "stdout",
     "output_type": "stream",
     "text": [
      "Examined 0\n"
     ]
    },
    {
     "data": {
      "text/plain": [
       "'bfcdeakhijmlgopn'"
      ]
     },
     "execution_count": 15,
     "metadata": {},
     "output_type": "execute_result"
    }
   ],
   "source": [
    "play_moves(puzzle_input, 16, 40)"
   ]
  },
  {
   "cell_type": "code",
   "execution_count": 19,
   "metadata": {},
   "outputs": [
    {
     "data": {
      "text/plain": [
       "5383767.044807303"
      ]
     },
     "execution_count": 19,
     "metadata": {},
     "output_type": "execute_result"
    }
   ],
   "source": [
    "# Returned earlier than expected from b'day parardox\n",
    "# (say calling rand() with the previous sequence as the seed)\n",
    "# https://betterexplained.com/articles/understanding-the-birthday-paradox/\n",
    "# Expected number of iterations before a match:\n",
    "import math\n",
    "1.177 * math.sqrt(math.factorial(16))"
   ]
  },
  {
   "cell_type": "markdown",
   "metadata": {},
   "source": [
    "## Thoughts?\n",
    "\n",
    "Loved this one. Unless I was a bit lucky it looks like we have a pretty shonky shuffling algo. here.\n",
    "\n",
    "Considering a cyclic buffer we can see that the spin move is just a rotation\n",
    "\n",
    "```\n",
    "  a                     d\n",
    "f   b  --> s(N/2) --> c   e\n",
    "e   c    rotate 180   b   f\n",
    "  d                     a\n",
    "```\n",
    "\n",
    "Hence `spin` will return to its initial position when `sum(spins) % N == 0`\n",
    "\n",
    "The `partner` and `exchange` move give back the original state when repeated:\n",
    "\n",
    "```\n",
    "'abcdef' --> dance('x3/4', 'pe/b') --> dance('x3/4', 'pe/b') --> 'abcdef'\n",
    "```\n",
    "\n",
    "Given `spin` doesn't change the cyclic order, a combination of `spin` and `partner` moves will return to its initial state when sum(spins) % N == 0 && num_dances % 2 == 0.\n",
    "\n",
    "So the only thing that changes the order is `spin` + `exchange`. What determines the periodicity of repeating this sequence?\n",
    "\n"
   ]
  },
  {
   "cell_type": "code",
   "execution_count": null,
   "metadata": {},
   "outputs": [],
   "source": []
  }
 ],
 "metadata": {
  "kernelspec": {
   "display_name": "Python 3",
   "language": "python",
   "name": "python3"
  },
  "language_info": {
   "codemirror_mode": {
    "name": "ipython",
    "version": 3
   },
   "file_extension": ".py",
   "mimetype": "text/x-python",
   "name": "python",
   "nbconvert_exporter": "python",
   "pygments_lexer": "ipython3",
   "version": "3.6.0"
  }
 },
 "nbformat": 4,
 "nbformat_minor": 2
}
