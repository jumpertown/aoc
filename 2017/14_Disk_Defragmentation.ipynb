{
 "cells": [
  {
   "cell_type": "markdown",
   "metadata": {},
   "source": [
    "Copied over from week 10"
   ]
  },
  {
   "cell_type": "code",
   "execution_count": 1,
   "metadata": {},
   "outputs": [],
   "source": [
    "from functools import reduce"
   ]
  },
  {
   "cell_type": "code",
   "execution_count": 2,
   "metadata": {},
   "outputs": [],
   "source": [
    "def apply_jump(jump_size, position, input_list):\n",
    "    overlap = jump_size - (len(input_list) - position)\n",
    "    if overlap < 0:\n",
    "        overlap = 0\n",
    "    section = list(input_list[position: position + jump_size])\n",
    "    if jump_size > len(input_list):\n",
    "        print(\"Unhandled jump size\", jump_size)\n",
    "    if overlap:\n",
    "        section += input_list[0: overlap]\n",
    "    section.reverse()\n",
    "    \n",
    "    # overlay reversal on original list\n",
    "    new_input_list = input_list[0:position]\n",
    "    new_input_list += section[0:jump_size - overlap]\n",
    "    if not overlap:\n",
    "        new_input_list += input_list[position + jump_size:]\n",
    "    else:\n",
    "        new_input_list[0:overlap] = section[-overlap:]\n",
    "    \n",
    "    return new_input_list\n",
    "    "
   ]
  },
  {
   "cell_type": "code",
   "execution_count": 3,
   "metadata": {},
   "outputs": [],
   "source": [
    "def solve(skip, position, buckets, jumps):\n",
    "    for j in jumps:\n",
    "        buckets = apply_jump(j, position, buckets)\n",
    "        position = (position + skip + j) % len(buckets)\n",
    "        #print(j, position, buckets)\n",
    "        skip += 1\n",
    "    return skip, position, buckets"
   ]
  },
  {
   "cell_type": "code",
   "execution_count": 4,
   "metadata": {},
   "outputs": [],
   "source": [
    "def to_ascii(input_str):\n",
    "    return [ord(s) for s in input_str] + [17, 31, 73, 47, 23]\n"
   ]
  },
  {
   "cell_type": "code",
   "execution_count": 5,
   "metadata": {},
   "outputs": [],
   "source": [
    "def make_dense_hash(sparse_hash):\n",
    "    res = []\n",
    "    assert len(sparse_hash) == 256\n",
    "    for i in range(16):\n",
    "        res.append(reduce(lambda i, j: i ^ j, sparse_hash[i*16: (i+1) * 16]))\n",
    "    return res\n",
    "        "
   ]
  },
  {
   "cell_type": "code",
   "execution_count": 6,
   "metadata": {},
   "outputs": [],
   "source": [
    "def knot_hash(input_str):\n",
    "    jumps = to_ascii(input_str)\n",
    "    position = 0\n",
    "    skip = 0\n",
    "    buckets = list(range(256))\n",
    "    \n",
    "    for i in range(64):\n",
    "        skip, position, buckets = solve(skip, position, buckets, jumps)\n",
    "    \n",
    "    sparse_hash = buckets\n",
    "    dense_hash = make_dense_hash(sparse_hash)\n",
    "    return \"\".join([\"{:#04x}\".format(d)[2:] for d in dense_hash])\n"
   ]
  },
  {
   "cell_type": "markdown",
   "metadata": {},
   "source": [
    "## Week 14 starts here\n",
    "\n",
    "```\n",
    "Continuing this process, the first 8 rows and columns for key flqrgnkx appear as follows, using # to denote used squares, and . to denote free ones:\n",
    "\n",
    "##.#.#..-->\n",
    ".#.#.#.#   \n",
    "....#.#.   \n",
    "#.#.##.#   \n",
    ".##.#...   \n",
    "##..#..#   \n",
    ".#...#..   \n",
    "##.#.##.-->\n",
    "|      |   \n",
    "V      V\n",
    "```"
   ]
  },
  {
   "cell_type": "code",
   "execution_count": 7,
   "metadata": {},
   "outputs": [
    {
     "data": {
      "text/plain": [
       "'d4f76bdcbf838f8416ccfa8bc6d1f9e6'"
      ]
     },
     "execution_count": 7,
     "metadata": {},
     "output_type": "execute_result"
    }
   ],
   "source": [
    "knot_hash('flqrgnkx-0')"
   ]
  },
  {
   "cell_type": "code",
   "execution_count": 8,
   "metadata": {},
   "outputs": [],
   "source": [
    "# Google, cut and paste\n",
    "binary = lambda x:\"\".join(reversed( [i+j for i,j in zip( *[ [\"{0:04b}\".format(int(c,16)) for c in reversed(\"0\"+x)][n::2] for n in [1,0] ] ) ] ))"
   ]
  },
  {
   "cell_type": "code",
   "execution_count": 9,
   "metadata": {},
   "outputs": [
    {
     "name": "stdout",
     "output_type": "stream",
     "text": [
      "11010100\n",
      "01010101\n",
      "00001010\n",
      "10101101\n",
      "01101000\n",
      "11001001\n",
      "01000100\n",
      "11010110\n"
     ]
    }
   ],
   "source": [
    "for i in range(8):\n",
    "    print(binary(knot_hash('flqrgnkx-{}'.format(i)))[:8])"
   ]
  },
  {
   "cell_type": "code",
   "execution_count": 10,
   "metadata": {},
   "outputs": [],
   "source": [
    "def get_hashes(key):\n",
    "    hashes = list()\n",
    "    for i in range(128):\n",
    "        hashes.append(binary(knot_hash('{}-{}'.format(key, i))))\n",
    "    return hashes   "
   ]
  },
  {
   "cell_type": "code",
   "execution_count": 11,
   "metadata": {},
   "outputs": [],
   "source": [
    "def get_used(hashes):\n",
    "    return sum(h.count('1') for h in hashes)"
   ]
  },
  {
   "cell_type": "code",
   "execution_count": 12,
   "metadata": {},
   "outputs": [
    {
     "data": {
      "text/plain": [
       "8108"
      ]
     },
     "execution_count": 12,
     "metadata": {},
     "output_type": "execute_result"
    }
   ],
   "source": [
    "get_used(get_hashes('flqrgnkx'))"
   ]
  },
  {
   "cell_type": "code",
   "execution_count": 13,
   "metadata": {},
   "outputs": [
    {
     "data": {
      "text/plain": [
       "8304"
      ]
     },
     "execution_count": 13,
     "metadata": {},
     "output_type": "execute_result"
    }
   ],
   "source": [
    "get_used(get_hashes('hwlqcszp'))"
   ]
  },
  {
   "cell_type": "code",
   "execution_count": 14,
   "metadata": {},
   "outputs": [],
   "source": [
    "def hashes_to_grid(hashes):\n",
    "    return [list(h) for h in hashes]"
   ]
  },
  {
   "cell_type": "code",
   "execution_count": 15,
   "metadata": {},
   "outputs": [],
   "source": [
    "def gen_neighbours(x, y, size=128):\n",
    "    inf_neighbours = (\n",
    "        # (x+1, y-1),\n",
    "        (x+1, y),\n",
    "        # (x+1, y+1),\n",
    "        (x, y-1),\n",
    "        (x, y+1),\n",
    "        # (x-1, y-1),\n",
    "        (x-1, y),\n",
    "        # (x-1, y+1),\n",
    "    )\n",
    "    return (\n",
    "        (x, y) for (x, y) in inf_neighbours\n",
    "        if x >= 0 and x < size and\n",
    "        y >= 0 and y < size\n",
    "    )"
   ]
  },
  {
   "cell_type": "code",
   "execution_count": 16,
   "metadata": {},
   "outputs": [
    {
     "data": {
      "text/plain": [
       "[(13, 12), (12, 11), (12, 13), (11, 12)]"
      ]
     },
     "execution_count": 16,
     "metadata": {},
     "output_type": "execute_result"
    }
   ],
   "source": [
    "list(gen_neighbours(12, 12))"
   ]
  },
  {
   "cell_type": "code",
   "execution_count": 17,
   "metadata": {},
   "outputs": [],
   "source": [
    "def unseen_used_neighbours(grid, x, y):\n",
    "    return [(x, y) for (x, y) in gen_neighbours(x, y) if grid[x][y] == '1']    "
   ]
  },
  {
   "cell_type": "code",
   "execution_count": 18,
   "metadata": {},
   "outputs": [],
   "source": [
    "def defrag(grid):\n",
    "    num_groups = 0\n",
    "    for x in range(len(grid)):\n",
    "        for y in range(len(grid)):\n",
    "            if grid[x][y] != '1':\n",
    "                continue\n",
    "            num_groups += 1\n",
    "            grid[x][y] = '*'\n",
    "            stack = unseen_used_neighbours(grid, x, y)\n",
    "            while stack:\n",
    "                stack_x, stack_y = stack.pop()\n",
    "                grid[stack_x][stack_y] = '*'\n",
    "                stack += unseen_used_neighbours(grid, stack_x, stack_y)\n",
    "    return num_groups       "
   ]
  },
  {
   "cell_type": "code",
   "execution_count": 19,
   "metadata": {},
   "outputs": [
    {
     "data": {
      "text/plain": [
       "1242"
      ]
     },
     "execution_count": 19,
     "metadata": {},
     "output_type": "execute_result"
    }
   ],
   "source": [
    "grid = hashes_to_grid(get_hashes('flqrgnkx'))\n",
    "defrag(grid)"
   ]
  },
  {
   "cell_type": "code",
   "execution_count": 20,
   "metadata": {},
   "outputs": [
    {
     "data": {
      "text/plain": [
       "1018"
      ]
     },
     "execution_count": 20,
     "metadata": {},
     "output_type": "execute_result"
    }
   ],
   "source": [
    "grid = hashes_to_grid(get_hashes('hwlqcszp'))\n",
    "defrag(grid)"
   ]
  },
  {
   "cell_type": "code",
   "execution_count": null,
   "metadata": {},
   "outputs": [],
   "source": []
  }
 ],
 "metadata": {
  "kernelspec": {
   "display_name": "Python 3",
   "language": "python",
   "name": "python3"
  },
  "language_info": {
   "codemirror_mode": {
    "name": "ipython",
    "version": 3
   },
   "file_extension": ".py",
   "mimetype": "text/x-python",
   "name": "python",
   "nbconvert_exporter": "python",
   "pygments_lexer": "ipython3",
   "version": "3.6.0"
  }
 },
 "nbformat": 4,
 "nbformat_minor": 2
}
