{
 "cells": [
  {
   "cell_type": "code",
   "execution_count": 1,
   "metadata": {},
   "outputs": [],
   "source": [
    "import re\n",
    "import numpy as np"
   ]
  },
  {
   "cell_type": "code",
   "execution_count": 2,
   "metadata": {},
   "outputs": [],
   "source": [
    "rotation_map_2 = {\n",
    "    0: 1,\n",
    "    1: 3,\n",
    "    2: 0,\n",
    "    3: 2,    \n",
    "}\n",
    "\n",
    "rotation_map_3 = {\n",
    "    0: 2,\n",
    "    1: 5,\n",
    "    2: 8,\n",
    "    3: 1,\n",
    "    4: 4,\n",
    "    5: 7,\n",
    "    6: 0,\n",
    "    7: 3,\n",
    "    8: 6,\n",
    "}\n",
    "\n",
    "reflection_map_2 = {\n",
    "    0: 2,\n",
    "    1: 3,\n",
    "    2: 0,\n",
    "    3: 1,\n",
    "}\n",
    "\n",
    "reflection_map_3 = {\n",
    "    0: 6,\n",
    "    1: 7,\n",
    "    2: 8,\n",
    "    3: 3,\n",
    "    4: 4,\n",
    "    5: 5,\n",
    "    6: 0,\n",
    "    7: 1,\n",
    "    8: 2,\n",
    "}\n",
    "\n",
    "def grid_op (grid, op_map):\n",
    "    output = list(grid)\n",
    "    for old_pos, new_pos in op_map.items():\n",
    "        output[new_pos] = grid[old_pos]\n",
    "    return output\n",
    "\n",
    "rot2 = lambda x: grid_op(x, rotation_map_2)\n",
    "refl2 = lambda x: grid_op(x, reflection_map_2)\n",
    "rot3 = lambda x: grid_op(x, rotation_map_3)\n",
    "refl3 = lambda x: grid_op(x, reflection_map_3)"
   ]
  },
  {
   "cell_type": "code",
   "execution_count": 3,
   "metadata": {},
   "outputs": [],
   "source": [
    "test_grid = ['a', 'b', 'c', 'd', 'e', 'f', 'g', 'h', 'i']\n",
    "assert rot3(rot3(rot3(test_grid))) == ['c', 'f', 'i', 'b', 'e', 'h', 'a', 'd', 'g']"
   ]
  },
  {
   "cell_type": "code",
   "execution_count": 4,
   "metadata": {},
   "outputs": [],
   "source": [
    "def all_3_grids(grid):\n",
    "    return [\n",
    "        grid,\n",
    "        rot3(grid),\n",
    "        rot3(rot3(grid)),\n",
    "        rot3(rot3(rot3(grid))),\n",
    "        refl3(grid),\n",
    "        rot3(refl3(grid)),\n",
    "        rot3(rot3(refl3(grid))),\n",
    "        rot3(rot3(rot3(refl3(grid)))),        \n",
    "    ]\n",
    "\n",
    "def all_2_grids(grid):\n",
    "    return [\n",
    "        grid,\n",
    "        rot2(grid),\n",
    "        rot2(rot2(grid)),\n",
    "        rot2(rot2(rot2(grid))),\n",
    "        refl2(grid),\n",
    "        rot2(refl2(grid)),\n",
    "        rot2(rot2(refl2(grid))),\n",
    "        rot2(rot2(rot2(refl2(grid)))),        \n",
    "    ]"
   ]
  },
  {
   "cell_type": "code",
   "execution_count": 5,
   "metadata": {},
   "outputs": [
    {
     "data": {
      "text/plain": [
       "[['a', 'b', 'c', 'd', 'e', 'f', 'g', 'h', 'i'],\n",
       " ['g', 'd', 'a', 'h', 'e', 'b', 'i', 'f', 'c'],\n",
       " ['i', 'h', 'g', 'f', 'e', 'd', 'c', 'b', 'a'],\n",
       " ['c', 'f', 'i', 'b', 'e', 'h', 'a', 'd', 'g'],\n",
       " ['g', 'h', 'i', 'd', 'e', 'f', 'a', 'b', 'c'],\n",
       " ['a', 'd', 'g', 'b', 'e', 'h', 'c', 'f', 'i'],\n",
       " ['c', 'b', 'a', 'f', 'e', 'd', 'i', 'h', 'g'],\n",
       " ['i', 'f', 'c', 'h', 'e', 'b', 'g', 'd', 'a']]"
      ]
     },
     "execution_count": 5,
     "metadata": {},
     "output_type": "execute_result"
    }
   ],
   "source": [
    "all_3_grids(test_grid)"
   ]
  },
  {
   "cell_type": "code",
   "execution_count": 6,
   "metadata": {},
   "outputs": [],
   "source": [
    "def binary_grid_to_num(grid):\n",
    "    \"\"\"Expecting lists of []'0', '1']\"\"\"\n",
    "    if len(grid) == 9:\n",
    "        grids = all_3_grids(grid)\n",
    "    else:\n",
    "        grids = all_2_grids(grid)\n",
    "    return min(int(''.join(g), 2) for g in grids)"
   ]
  },
  {
   "cell_type": "code",
   "execution_count": 7,
   "metadata": {},
   "outputs": [],
   "source": [
    "assert binary_grid_to_num(['1', '1', '0', '1', '1', '1', '1', '1', '1']) == 255\n",
    "assert binary_grid_to_num(['0', '1', '1', '1', '1', '1', '1', '1', '1']) == 255\n",
    "assert binary_grid_to_num(['1', '0', '0', '1']) == 6"
   ]
  },
  {
   "cell_type": "markdown",
   "metadata": {},
   "source": [
    "```\n",
    "##/#. => .../.#./..#\n",
    "##/## => #.#/.##/.##\n",
    ".../.../... => ##../.#../##../#..#\n",
    "#../.../... => ..#./##.#/#.##/....\n",
    "```"
   ]
  },
  {
   "cell_type": "code",
   "execution_count": 8,
   "metadata": {},
   "outputs": [],
   "source": [
    "fractal_re = re.compile('^([/#.]+) => ([/#.]+)$')"
   ]
  },
  {
   "cell_type": "code",
   "execution_count": 9,
   "metadata": {},
   "outputs": [
    {
     "name": "stdout",
     "output_type": "stream",
     "text": [
      ".../.../... ##../.#../##../#..#\n"
     ]
    }
   ],
   "source": [
    "m = fractal_re.match('.../.../... => ##../.#../##../#..#')\n",
    "print(m[1], m[2])"
   ]
  },
  {
   "cell_type": "code",
   "execution_count": 10,
   "metadata": {},
   "outputs": [],
   "source": [
    "def grid_string_to_num(grid_str):\n",
    "    ret = grid_str\n",
    "    for k, v in {'#': '1', '.': '0', '/': ''}.items():\n",
    "        ret = ret.replace(k, v)\n",
    "    return binary_grid_to_num(list(ret))\n",
    "\n",
    "assert grid_string_to_num('#./.#') == 6"
   ]
  },
  {
   "cell_type": "code",
   "execution_count": 11,
   "metadata": {},
   "outputs": [],
   "source": [
    "def input_to_mappings(lines):\n",
    "    fractal_map = dict()\n",
    "    for l in lines:\n",
    "        m = fractal_re.match(l)\n",
    "        if not m:\n",
    "            continue\n",
    "        size = 2 if len(m[1]) == 5 else 3\n",
    "        key = (size, grid_string_to_num(m[1]))\n",
    "        val = [list(l) for l in m[2].split('/')]\n",
    "        fractal_map[key] = val\n",
    "    return fractal_map"
   ]
  },
  {
   "cell_type": "code",
   "execution_count": 12,
   "metadata": {},
   "outputs": [
    {
     "data": {
      "text/plain": [
       "{(2, 1): [['#', '#', '.'], ['#', '.', '.'], ['.', '.', '.']],\n",
       " (3, 107): [['#', '.', '.', '#'],\n",
       "  ['.', '.', '.', '.'],\n",
       "  ['.', '.', '.', '.'],\n",
       "  ['#', '.', '.', '#']]}"
      ]
     },
     "execution_count": 12,
     "metadata": {},
     "output_type": "execute_result"
    }
   ],
   "source": [
    "test_lines = [\n",
    "    '../.# => ##./#../...',\n",
    "    '.#./..#/### => #..#/..../..../#..#'\n",
    "]\n",
    "input_to_mappings(test_lines)"
   ]
  },
  {
   "cell_type": "code",
   "execution_count": 13,
   "metadata": {},
   "outputs": [],
   "source": [
    "def split_grid(grid):\n",
    "    size = 2 if len(grid) % 2 == 0 else 3\n",
    "    arr = np.array(grid)\n",
    "    output = list()\n",
    "    for x in range(0, len(arr)- 1, size):\n",
    "        for y in range(0, len(arr)- 1, size):\n",
    "            output.append(list(arr[x:x+size,y:y+size].flatten()))\n",
    "    return output"
   ]
  },
  {
   "cell_type": "code",
   "execution_count": 14,
   "metadata": {},
   "outputs": [],
   "source": [
    "assert split_grid([['a', 'b'], ['c', 'd']]) == [['a', 'b', 'c', 'd']]\n",
    "assert split_grid([\n",
    "    ['a', 'b', 'c', 'd'],\n",
    "    ['e', 'f', 'g', 'h'],\n",
    "    ['i', 'j', 'k', 'l'],\n",
    "    ['m', 'n', 'o', 'p']]\n",
    ") == [\n",
    "    ['a', 'b', 'e', 'f'],\n",
    "    ['c', 'd', 'g', 'h'],\n",
    "    ['i', 'j', 'm', 'n'],\n",
    "    ['k', 'l', 'o', 'p']]\n",
    "assert split_grid([\n",
    "    ['a', 'b', 'c'],\n",
    "    ['d', 'e', 'f'],\n",
    "    ['g', 'h', 'i'],\n",
    "]) == [['a', 'b', 'c', 'd', 'e', 'f', 'g', 'h', 'i']]\n",
    "assert split_grid([\n",
    "    ['a', 'b', 'c', 'd', 'e', 'f'],\n",
    "    ['g', 'h', 'i', 'j', 'k', 'l'],\n",
    "    ['m', 'n', 'o', 'p', 'q', 'r'],\n",
    "    ['s', 't', 'u', 'v', 'w', 'x'],\n",
    "    ['y', 'z', '0', '1', '2', '3'],\n",
    "    ['4', '5', '6', '7', '8', '9'],\n",
    "]) == [\n",
    "    ['a', 'b', 'g', 'h'],\n",
    "    ['c', 'd', 'i', 'j'],\n",
    "    ['e', 'f', 'k', 'l'],\n",
    "    ['m', 'n', 's', 't'],\n",
    "    ['o', 'p', 'u', 'v'],\n",
    "    ['q', 'r', 'w', 'x'],\n",
    "    ['y', 'z', '4', '5'],\n",
    "    ['0', '1', '6', '7'],\n",
    "    ['2', '3', '8', '9']\n",
    "]"
   ]
  },
  {
   "cell_type": "code",
   "execution_count": 15,
   "metadata": {},
   "outputs": [],
   "source": [
    "l = split_grid(np.arange(81).reshape((9, 9)))\n",
    "assert l[0] == [0, 1, 2, 9, 10, 11, 18, 19, 20]\n",
    "assert l[-1] == [60, 61, 62, 69, 70, 71, 78, 79, 80]"
   ]
  },
  {
   "cell_type": "code",
   "execution_count": 16,
   "metadata": {},
   "outputs": [],
   "source": [
    "def join_grids(grids, col_size):\n",
    "    size = len(grids[0]) \n",
    "    cols = size * col_size\n",
    "    rows = len(grids) // col_size * size\n",
    "    arr = np.empty((rows, cols), dtype='object')\n",
    "    i = 0\n",
    "    for x in range(0, len(arr), size):\n",
    "        for y in range(0, len(arr), size):\n",
    "            arr[x:x+size,y:y+size] = grids[i]\n",
    "            i += 1\n",
    "    return arr.tolist()\n",
    "\n",
    "assert join_grids([\n",
    "    [['0', '1'], ['2', '3']],\n",
    "    [['4', '5'], ['6', '7']],\n",
    "    [['8', '9'], ['10', '11']],\n",
    "    [['12', '13'], ['14', '15']],\n",
    "], 2) == [\n",
    "    ['0', '1', '4', '5'],\n",
    "    ['2', '3', '6', '7'],\n",
    "    ['8', '9', '12', '13'],\n",
    "    ['10', '11', '14', '15'], \n",
    "]\n",
    "\n",
    "l = join_grids([\n",
    "    [['#', '#', '.'], ['.', '.', '.'], ['.', '.', '#']],\n",
    "    [['.', '#', '.'], ['.', '#', '.'], ['#', '#', '.']],\n",
    "    [['.', '#', '.'], ['.', '#', '.'], ['#', '#', '.']],\n",
    "    [['#', '#', '.'], ['.', '.', '.'], ['.', '.', '#']],\n",
    "    [['.', '#', '.'], ['.', '#', '.'], ['#', '#', '.']],\n",
    "    [['#', '.', '.'], ['.', '.', '#'], ['#', '#', '.']],\n",
    "    [['.', '.', '.'], ['.', '#', '#'], ['.', '#', '#']],\n",
    "    [['#', '#', '.'], ['.', '.', '.'], ['.', '.', '#']],\n",
    "    [['#', '#', '.'], ['.', '.', '.'], ['.', '.', '#']]\n",
    "], 3)\n",
    "assert l[0] == ['#', '#', '.', '.', '#', '.', '.', '#', '.']\n",
    "assert l[-1] == ['.', '#', '#', '.', '.', '#', '.', '.', '#']"
   ]
  },
  {
   "cell_type": "code",
   "execution_count": 17,
   "metadata": {},
   "outputs": [],
   "source": [
    "def play(initial_grid, fractal_map):\n",
    "    mini_grids = list()\n",
    "    for s in split_grid(initial_grid):\n",
    "        size = 2 if len(s) == 4 else 3 \n",
    "        col_len = len(initial_grid) // size\n",
    "        key = (size, grid_string_to_num(''.join(s)))\n",
    "        mini_grids.append(fractal_map[key])\n",
    "    grid = join_grids(mini_grids, col_len)\n",
    "    return grid"
   ]
  },
  {
   "cell_type": "markdown",
   "metadata": {},
   "source": [
    "Initial grid:\n",
    "```\n",
    ".#.\n",
    "..#\n",
    "###\n",
    "```"
   ]
  },
  {
   "cell_type": "code",
   "execution_count": 18,
   "metadata": {},
   "outputs": [
    {
     "name": "stdout",
     "output_type": "stream",
     "text": [
      "[['#', '.', '.', '#'], ['.', '.', '.', '.'], ['.', '.', '.', '.'], ['#', '.', '.', '#']]\n"
     ]
    },
    {
     "data": {
      "text/plain": [
       "[['#', '#', '.', '#', '#', '.'],\n",
       " ['#', '.', '.', '#', '.', '.'],\n",
       " ['.', '.', '.', '.', '.', '.'],\n",
       " ['#', '#', '.', '#', '#', '.'],\n",
       " ['#', '.', '.', '#', '.', '.'],\n",
       " ['.', '.', '.', '.', '.', '.']]"
      ]
     },
     "execution_count": 18,
     "metadata": {},
     "output_type": "execute_result"
    }
   ],
   "source": [
    "initial_grid = [['.', '#', '.'], ['.', '.', '#'], ['#', '#', '#']]\n",
    "g = play(initial_grid, input_to_mappings(test_lines))\n",
    "print(g)\n",
    "play(g, input_to_mappings(test_lines))"
   ]
  },
  {
   "cell_type": "code",
   "execution_count": 19,
   "metadata": {},
   "outputs": [],
   "source": [
    "with open('fractal_art.txt') as fh:\n",
    "    lines = fh.readlines()\n",
    "lines = [l.strip() for l in lines]\n",
    "fractal_mapping = input_to_mappings(lines)"
   ]
  },
  {
   "cell_type": "code",
   "execution_count": 20,
   "metadata": {},
   "outputs": [],
   "source": [
    "grid = [['.', '#', '.'], ['.', '.', '#'], ['#', '#', '#']]\n",
    "for i in range(5):\n",
    "    grid = play(grid, fractal_mapping)"
   ]
  },
  {
   "cell_type": "code",
   "execution_count": 21,
   "metadata": {},
   "outputs": [
    {
     "data": {
      "text/plain": [
       "123"
      ]
     },
     "execution_count": 21,
     "metadata": {},
     "output_type": "execute_result"
    }
   ],
   "source": [
    "c = 0\n",
    "for i in grid:\n",
    "    c += sum(1 for j in i if j == '#')\n",
    "c"
   ]
  },
  {
   "cell_type": "code",
   "execution_count": 22,
   "metadata": {},
   "outputs": [],
   "source": [
    "grid = [['.', '#', '.'], ['.', '.', '#'], ['#', '#', '#']]\n",
    "for i in range(18):\n",
    "    grid = play(grid, fractal_mapping)"
   ]
  },
  {
   "cell_type": "code",
   "execution_count": 23,
   "metadata": {},
   "outputs": [
    {
     "data": {
      "text/plain": [
       "1984683"
      ]
     },
     "execution_count": 23,
     "metadata": {},
     "output_type": "execute_result"
    }
   ],
   "source": [
    "c = 0\n",
    "for i in grid:\n",
    "    c += sum(1 for j in i if j == '#')\n",
    "c"
   ]
  },
  {
   "cell_type": "code",
   "execution_count": null,
   "metadata": {},
   "outputs": [],
   "source": []
  }
 ],
 "metadata": {
  "kernelspec": {
   "display_name": "Python 3",
   "language": "python",
   "name": "python3"
  },
  "language_info": {
   "codemirror_mode": {
    "name": "ipython",
    "version": 3
   },
   "file_extension": ".py",
   "mimetype": "text/x-python",
   "name": "python",
   "nbconvert_exporter": "python",
   "pygments_lexer": "ipython3",
   "version": "3.6.0"
  }
 },
 "nbformat": 4,
 "nbformat_minor": 2
}
