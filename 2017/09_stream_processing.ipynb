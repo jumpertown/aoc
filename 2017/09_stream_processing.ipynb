{
 "cells": [
  {
   "cell_type": "markdown",
   "metadata": {},
   "source": [
    "```\n",
    "<>, empty garbage.\n",
    "<random characters>, garbage containing random characters.\n",
    "<<<<>, because the extra < are ignored.\n",
    "<{!>}>, because the first > is canceled.\n",
    "<!!>, because the second ! is canceled, allowing the > to terminate the garbage.\n",
    "<!!!>>, because the second ! and the first > are canceled.\n",
    "<{o\"i!a,<{i<a>, which ends at the first >.\n",
    "\n",
    "{}, 1 group.\n",
    "{{{}}}, 3 groups.\n",
    "{{},{}}, also 3 groups.\n",
    "{{{},{},{{}}}}, 6 groups.\n",
    "{<{},{},{{}}>}, 1 group (which itself contains garbage).\n",
    "{<a>,<a>,<a>,<a>}, 1 group.\n",
    "{{<a>},{<a>},{<a>},{<a>}}, 5 groups.\n",
    "{{<!>},{<!>},{<!>},{<a>}}, 2 groups (since all but the last > are canceled).\n",
    "```"
   ]
  },
  {
   "cell_type": "code",
   "execution_count": 1,
   "metadata": {},
   "outputs": [],
   "source": [
    "from enum import Enum"
   ]
  },
  {
   "cell_type": "code",
   "execution_count": 2,
   "metadata": {},
   "outputs": [],
   "source": [
    "GROUP_SEPARATOR = ','\n",
    "START_GROUP = '{'\n",
    "END_GROUP = '}'\n",
    "START_GARBAGE = '<'\n",
    "END_GARBAGE = '>'\n",
    "IGNORE = '!'\n",
    "\n",
    "class State(Enum):\n",
    "    OUTSIDE_GROUP = GROUP_SEPARATOR\n",
    "    IN_GROUP = START_GROUP\n",
    "    GARBAGE = START_GARBAGE\n",
    "    IGNORE = IGNORE"
   ]
  },
  {
   "cell_type": "code",
   "execution_count": 3,
   "metadata": {},
   "outputs": [],
   "source": [
    "def outside_group_move(character, state):\n",
    "    state_transition_map = {\n",
    "        START_GARBAGE: (0, [State.OUTSIDE_GROUP, State.GARBAGE], False, False),\n",
    "        START_GROUP: (0, [State.IN_GROUP], False, False),\n",
    "        END_GROUP: (-1, [State.OUTSIDE_GROUP], True, False)\n",
    "    }\n",
    "    if character in state_transition_map:\n",
    "        return state_transition_map[character]\n",
    "    else:\n",
    "        return 0, [State.OUTSIDE_GROUP], False, False"
   ]
  },
  {
   "cell_type": "code",
   "execution_count": 4,
   "metadata": {},
   "outputs": [],
   "source": [
    "def in_group_move(character, state):\n",
    "    state_transition_map = {\n",
    "        START_GROUP: (1, [State.IN_GROUP], False, False),\n",
    "        END_GROUP: (0, [State.OUTSIDE_GROUP], True, False),\n",
    "        START_GARBAGE: (0, [State.IN_GROUP,State.GARBAGE], False, False),\n",
    "    }\n",
    "    if character in state_transition_map:\n",
    "        return state_transition_map[character]\n",
    "    else:\n",
    "        return 0, [State.IN_GROUP], False, False"
   ]
  },
  {
   "cell_type": "code",
   "execution_count": 5,
   "metadata": {},
   "outputs": [],
   "source": [
    "def garbage_move(character, state):\n",
    "    s = list(state)\n",
    "    if character == END_GARBAGE:\n",
    "        s.pop()\n",
    "        return 0, s, False, False\n",
    "    \n",
    "    if character == IGNORE:\n",
    "        s[-1] = State.IGNORE\n",
    "        return 0, s, False, False\n",
    "    \n",
    "    return 0, state, False, True\n",
    "   "
   ]
  },
  {
   "cell_type": "code",
   "execution_count": 6,
   "metadata": {},
   "outputs": [],
   "source": [
    "assert garbage_move('>', [State.IN_GROUP, State.GARBAGE]) == (0, [State.IN_GROUP], False, False)\n",
    "assert garbage_move('!', [State.IN_GROUP, State.GARBAGE]) == (0, [State.IN_GROUP, State.IGNORE], False, False)"
   ]
  },
  {
   "cell_type": "code",
   "execution_count": 7,
   "metadata": {},
   "outputs": [],
   "source": [
    "def ignore_move(character, state):\n",
    "    s = list(state)\n",
    "    s[-1] = State.GARBAGE\n",
    "    return 0, s, False, False\n"
   ]
  },
  {
   "cell_type": "code",
   "execution_count": 8,
   "metadata": {},
   "outputs": [],
   "source": [
    "move_map = {\n",
    "    State.OUTSIDE_GROUP: outside_group_move,\n",
    "    State.IN_GROUP: in_group_move,\n",
    "    State.GARBAGE: garbage_move,\n",
    "    State.IGNORE: ignore_move,   \n",
    "}"
   ]
  },
  {
   "cell_type": "markdown",
   "metadata": {},
   "source": [
    "```\n",
    "{}, score of 1.\n",
    "{{{}}}, score of 1 + 2 + 3 = 6.\n",
    "{{},{}}, score of 1 + 2 + 2 = 5.\n",
    "{{{},{},{{}}}}, score of 1 + 2 + 3 + 3 + 3 + 4 = 16.\n",
    "{<a>,<a>,<a>,<a>}, score of 1.\n",
    "{{<ab>},{<ab>},{<ab>},{<ab>}}, score of 1 + 2 + 2 + 2 + 2 = 9.\n",
    "{{<!!>},{<!!>},{<!!>},{<!!>}}, score of 1 + 2 + 2 + 2 + 2 = 9.\n",
    "{{<a!>},{<a!>},{<a!>},{<ab>}}, score of 1 + 2 = 3.\n",
    "```"
   ]
  },
  {
   "cell_type": "code",
   "execution_count": 9,
   "metadata": {},
   "outputs": [],
   "source": [
    "def solve(stream):\n",
    "    state = [State.IN_GROUP]\n",
    "    level = 0\n",
    "    score = 0\n",
    "    garbage = 0\n",
    "    for c in stream:\n",
    "        level_change, state, does_score, is_garbage = move_map[state[-1]](c, state)\n",
    "        #print(c, level_change, state, does_score)\n",
    "        level += level_change\n",
    "        if does_score:\n",
    "            score += level\n",
    "        if is_garbage:\n",
    "            garbage += 1\n",
    "    return score, garbage   "
   ]
  },
  {
   "cell_type": "code",
   "execution_count": 10,
   "metadata": {},
   "outputs": [],
   "source": [
    "assert solve('{}') == (1, 0)\n",
    "assert solve('{{{}}}') == (6, 0)\n",
    "assert solve('{{},{}}') == (5, 0)\n",
    "assert solve('{{{},{},{{}}}}') == (16, 0)\n",
    "assert solve('{<a>,<a>,<a>,<a>}') == (1, 4)\n",
    "assert solve('{{<ab>},{<ab>},{<ab>},{<ab>}}') == (9, 8)\n",
    "assert solve('{{<!!>},{<!!>},{<!!>},{<!!>}}') == (9, 0)\n",
    "assert solve('{{<a!>},{<a!>},{<a!>},{<ab>}}') == (3, 17)"
   ]
  },
  {
   "cell_type": "code",
   "execution_count": 11,
   "metadata": {},
   "outputs": [
    {
     "data": {
      "text/plain": [
       "(3, 17)"
      ]
     },
     "execution_count": 11,
     "metadata": {},
     "output_type": "execute_result"
    }
   ],
   "source": [
    "solve('{{<a!>},{<a!>},{<a!>},{<ab>}}')\n"
   ]
  },
  {
   "cell_type": "code",
   "execution_count": 12,
   "metadata": {},
   "outputs": [],
   "source": [
    "with open('garbage_stream.txt') as fh:\n",
    "    input = fh.read()"
   ]
  },
  {
   "cell_type": "code",
   "execution_count": 13,
   "metadata": {},
   "outputs": [
    {
     "data": {
      "text/plain": [
       "(14204, 6622)"
      ]
     },
     "execution_count": 13,
     "metadata": {},
     "output_type": "execute_result"
    }
   ],
   "source": [
    "solve(input)"
   ]
  },
  {
   "cell_type": "code",
   "execution_count": null,
   "metadata": {},
   "outputs": [],
   "source": []
  }
 ],
 "metadata": {
  "kernelspec": {
   "display_name": "Python 3",
   "language": "python",
   "name": "python3"
  },
  "language_info": {
   "codemirror_mode": {
    "name": "ipython",
    "version": 3
   },
   "file_extension": ".py",
   "mimetype": "text/x-python",
   "name": "python",
   "nbconvert_exporter": "python",
   "pygments_lexer": "ipython3",
   "version": "3.6.0"
  }
 },
 "nbformat": 4,
 "nbformat_minor": 2
}
