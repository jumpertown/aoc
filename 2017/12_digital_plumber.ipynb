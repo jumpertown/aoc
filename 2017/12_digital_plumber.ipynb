{
 "cells": [
  {
   "cell_type": "markdown",
   "metadata": {},
   "source": [
    "```\n",
    "0 <-> 2\n",
    "1 <-> 1\n",
    "2 <-> 0, 3, 4\n",
    "3 <-> 2, 4\n",
    "4 <-> 2, 3, 6\n",
    "5 <-> 6\n",
    "6 <-> 4, 5\n",
    "```"
   ]
  },
  {
   "cell_type": "code",
   "execution_count": 1,
   "metadata": {},
   "outputs": [],
   "source": [
    "import re"
   ]
  },
  {
   "cell_type": "code",
   "execution_count": 2,
   "metadata": {},
   "outputs": [],
   "source": [
    "def make_connections(lines):\n",
    "    regexp = r'([0-9]+) <-> ([0-9, ]+)$'\n",
    "    connections = {}\n",
    "    for l in lines:\n",
    "        l = l.strip()\n",
    "        m = re.match(regexp, l)\n",
    "        if m:\n",
    "            g = m.groups()\n",
    "            direct = g[1].split(',')\n",
    "            direct  = [int(d.strip()) for d in direct]\n",
    "            connections[int(g[0])] = direct\n",
    "            \n",
    "    return connections\n",
    "        "
   ]
  },
  {
   "cell_type": "code",
   "execution_count": 3,
   "metadata": {},
   "outputs": [],
   "source": [
    "input = [\n",
    "    '0 <-> 2',\n",
    "    '1 <-> 1',\n",
    "    '2 <-> 0, 3, 4',\n",
    "    '3 <-> 2, 4',\n",
    "    '4 <-> 2, 3, 6',\n",
    "    '5 <-> 6',\n",
    "    '6 <-> 4, 5',\n",
    "]"
   ]
  },
  {
   "cell_type": "code",
   "execution_count": 4,
   "metadata": {},
   "outputs": [],
   "source": [
    "connections = make_connections(input)"
   ]
  },
  {
   "cell_type": "code",
   "execution_count": 5,
   "metadata": {},
   "outputs": [],
   "source": [
    "def connected_to(num, seen):\n",
    "    local_seen  = set(seen)\n",
    "    local_seen.add(num)\n",
    "    direct = connections[num]\n",
    "    new = set(direct) - local_seen\n",
    "    l = [connected_to(n, local_seen) for n in new]\n",
    "    if l:\n",
    "        return local_seen | set.union(*l)\n",
    "    else:\n",
    "        return local_seen\n"
   ]
  },
  {
   "cell_type": "code",
   "execution_count": 6,
   "metadata": {},
   "outputs": [],
   "source": [
    "assert connected_to(0, set()) == {0, 2, 3, 4, 5, 6}"
   ]
  },
  {
   "cell_type": "code",
   "execution_count": 7,
   "metadata": {},
   "outputs": [],
   "source": [
    "with open('digital_plumber.txt') as fh:\n",
    "    lines = fh.readlines()\n",
    "connections = make_connections(lines)"
   ]
  },
  {
   "cell_type": "code",
   "execution_count": 8,
   "metadata": {},
   "outputs": [],
   "source": [
    "relatives = connected_to(0, set())"
   ]
  },
  {
   "cell_type": "code",
   "execution_count": 9,
   "metadata": {},
   "outputs": [
    {
     "data": {
      "text/plain": [
       "145"
      ]
     },
     "execution_count": 9,
     "metadata": {},
     "output_type": "execute_result"
    }
   ],
   "source": [
    "len(relatives)"
   ]
  },
  {
   "cell_type": "code",
   "execution_count": 10,
   "metadata": {},
   "outputs": [
    {
     "name": "stdout",
     "output_type": "stream",
     "text": [
      "207\n"
     ]
    }
   ],
   "source": [
    "remaining = set(connections.keys())\n",
    "groups = 0\n",
    "for i in list(connections.keys()):\n",
    "    if i in remaining:\n",
    "        groups += 1\n",
    "        relatives = connected_to(i, set())       \n",
    "        remaining -= relatives\n",
    "        #print(len(relatives), len(remaining), len(remaining - relatives))\n",
    "print(groups)\n",
    "    "
   ]
  }
 ],
 "metadata": {
  "kernelspec": {
   "display_name": "Python 3",
   "language": "python",
   "name": "python3"
  },
  "language_info": {
   "codemirror_mode": {
    "name": "ipython",
    "version": 3
   },
   "file_extension": ".py",
   "mimetype": "text/x-python",
   "name": "python",
   "nbconvert_exporter": "python",
   "pygments_lexer": "ipython3",
   "version": "3.6.0"
  }
 },
 "nbformat": 4,
 "nbformat_minor": 2
}
