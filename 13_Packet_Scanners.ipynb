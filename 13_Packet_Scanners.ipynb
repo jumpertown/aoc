{
 "cells": [
  {
   "cell_type": "markdown",
   "metadata": {},
   "source": [
    "```\n",
    "0: 3\n",
    "1: 2\n",
    "4: 4\n",
    "6: 4\n",
    "This means that there is a layer immediately inside the firewall (with range 3), a second layer immediately after that (with range 2), a third layer which begins at depth 4 (with range 4), and a fourth layer which begins at depth 6 (also with range 4). Visually, it might look like this:\n",
    "\n",
    " 0   1   2   3   4   5   6\n",
    "[ ] [ ] ... ... [ ] ... [ ]\n",
    "[ ] [ ]         [ ]     [ ]\n",
    "[ ]             [ ]     [ ]\n",
    "                [ ]     [ ]\n",
    "```"
   ]
  },
  {
   "cell_type": "code",
   "execution_count": 1,
   "metadata": {},
   "outputs": [],
   "source": [
    "import re"
   ]
  },
  {
   "cell_type": "code",
   "execution_count": 2,
   "metadata": {},
   "outputs": [],
   "source": [
    "def parse_input(lines):\n",
    "    regexp = r'^([0-9]+): ([0-9]+)$'\n",
    "    current_pos = 0\n",
    "    scanners = []\n",
    "    for l in lines:\n",
    "        m = re.match(regexp, l)\n",
    "        if not m:\n",
    "            continue\n",
    "        g = m.groups()\n",
    "        scanner_depth = int(g[0])\n",
    "        scanner_range = int(g[1])\n",
    "        for i in range(current_pos, scanner_depth):\n",
    "            scanners.append(None)\n",
    "        scanners.append((scanner_range, 0, 1))\n",
    "        current_pos = scanner_depth + 1\n",
    "    return scanners"
   ]
  },
  {
   "cell_type": "code",
   "execution_count": 3,
   "metadata": {},
   "outputs": [],
   "source": [
    "assert parse_input([\n",
    "    '0: 3',\n",
    "    '1: 2',\n",
    "    '4: 4',\n",
    "    '6: 4',\n",
    "]) == [(3, 0, 1), (2, 0, 1), None, None, (4, 0, 1), None, (4, 0, 1)]"
   ]
  },
  {
   "cell_type": "code",
   "execution_count": 4,
   "metadata": {},
   "outputs": [],
   "source": [
    "def scanner_move(scanners):\n",
    "    new_pos = []\n",
    "    for s in scanners:\n",
    "        if not s:\n",
    "            new_pos.append(None)\n",
    "            continue\n",
    "        scanner_range, scanner_pos, scanner_direction = s\n",
    "        \n",
    "        # Do we change direction\n",
    "        if scanner_pos == 0:\n",
    "            scanner_direction = 1\n",
    "        if scanner_pos == scanner_range - 1:\n",
    "            scanner_direction = -1\n",
    "            \n",
    "        if scanner_range == 1:\n",
    "            # Can't move\n",
    "            new_pos.append((1, 0, 1))\n",
    "            continue\n",
    "        \n",
    "        new_pos.append((scanner_range, scanner_pos + scanner_direction, scanner_direction))    \n",
    "    return new_pos"
   ]
  },
  {
   "cell_type": "code",
   "execution_count": 5,
   "metadata": {},
   "outputs": [
    {
     "data": {
      "text/plain": [
       "[(3, 0, -1), (2, 0, -1), None, None, (4, 2, -1), None, (4, 2, -1)]"
      ]
     },
     "execution_count": 5,
     "metadata": {},
     "output_type": "execute_result"
    }
   ],
   "source": [
    "assert scanner_move([(3, 0, 1), (2, 0, 1), None, None, (4, 0, 1), None, (4, 0, 1)]) == [(3, 1, 1), (2, 1, 1), None, None, (4, 1, 1), None, (4, 1, 1)]\n",
    "scanner_move([(3, 1, 1), (2, 1, 1), None, None, (4, 1, 1), None, (4, 1, 1)])\n",
    "scanner_move([(3, 2, 1), (2, 0, -1), None, None, (4, 2, 1), None, (4, 2, 1)])\n",
    "scanner_move([(3, 1, -1), (2, 1, 1), None, None, (4, 3, 1), None, (4, 3, 1)])"
   ]
  },
  {
   "cell_type": "code",
   "execution_count": 6,
   "metadata": {},
   "outputs": [],
   "source": [
    "def play_game(scanners, delay=0, find_first=False):\n",
    "    player_pos = -1\n",
    "    caught = []\n",
    "    \n",
    "    # Wait for delay picoseconds\n",
    "    for l in range(delay):\n",
    "        scanners = scanner_move(scanners)\n",
    "        \n",
    "    for l in range(len(scanners)):\n",
    "        # print(scanners)\n",
    "        # Player move\n",
    "        player_pos += 1\n",
    "        if scanners[player_pos] and scanners[player_pos][1] == 0:\n",
    "            caught.append((player_pos, scanners[player_pos][0]))\n",
    "            if find_first:\n",
    "                return caught\n",
    "        # Scanner Move\n",
    "        scanners = scanner_move(scanners)\n",
    "        \n",
    "    return caught\n",
    "    "
   ]
  },
  {
   "cell_type": "code",
   "execution_count": 7,
   "metadata": {},
   "outputs": [],
   "source": [
    "assert(play_game(parse_input([\n",
    "    '0: 3',\n",
    "    '1: 2',\n",
    "    '4: 4',\n",
    "    '6: 4',\n",
    "])) == [(0, 3), (6, 4)])"
   ]
  },
  {
   "cell_type": "code",
   "execution_count": 8,
   "metadata": {},
   "outputs": [],
   "source": [
    "with open('scanners.txt') as fh:\n",
    "    lines  = fh.readlines()\n",
    "lines = [l.strip() for l in lines]"
   ]
  },
  {
   "cell_type": "code",
   "execution_count": 9,
   "metadata": {},
   "outputs": [],
   "source": [
    "result = play_game(parse_input(lines))"
   ]
  },
  {
   "cell_type": "code",
   "execution_count": 10,
   "metadata": {},
   "outputs": [
    {
     "data": {
      "text/plain": [
       "[(0, 4), (8, 5), (20, 6), (22, 12), (28, 8)]"
      ]
     },
     "execution_count": 10,
     "metadata": {},
     "output_type": "execute_result"
    }
   ],
   "source": [
    "result"
   ]
  },
  {
   "cell_type": "code",
   "execution_count": 11,
   "metadata": {},
   "outputs": [
    {
     "data": {
      "text/plain": [
       "648"
      ]
     },
     "execution_count": 11,
     "metadata": {},
     "output_type": "execute_result"
    }
   ],
   "source": [
    "sum([a * b for (a, b) in result])"
   ]
  },
  {
   "cell_type": "code",
   "execution_count": 12,
   "metadata": {},
   "outputs": [],
   "source": [
    "def get_delay(scanners, skip=1, initial_delay=0):\n",
    "    delay = initial_delay\n",
    "    while True:\n",
    "        if delay % 100 == 0:\n",
    "            print('Trying delay: ', delay)\n",
    "        caught = play_game(list(scanners), delay, find_first=True)\n",
    "        if not caught:\n",
    "            break\n",
    "        # Scanner at depth one only has two positions\n",
    "        delay += skip\n",
    "    return delay   "
   ]
  },
  {
   "cell_type": "code",
   "execution_count": 13,
   "metadata": {},
   "outputs": [
    {
     "name": "stdout",
     "output_type": "stream",
     "text": [
      "Trying delay:  0\n"
     ]
    }
   ],
   "source": [
    "assert get_delay(parse_input([\n",
    "    '0: 3',\n",
    "    '1: 2',\n",
    "    '4: 4',\n",
    "    '6: 4',\n",
    "])) == 10"
   ]
  },
  {
   "cell_type": "code",
   "execution_count": 14,
   "metadata": {},
   "outputs": [
    {
     "name": "stdout",
     "output_type": "stream",
     "text": [
      "Trying delay:  0\n",
      "Trying delay:  100\n",
      "Trying delay:  200\n",
      "Trying delay:  300\n",
      "Trying delay:  400\n",
      "Trying delay:  500\n",
      "Trying delay:  600\n",
      "Trying delay:  700\n",
      "Trying delay:  800\n",
      "Trying delay:  900\n",
      "Trying delay:  1000\n",
      "Trying delay:  1100\n",
      "Trying delay:  1200\n"
     ]
    },
    {
     "ename": "KeyboardInterrupt",
     "evalue": "",
     "output_type": "error",
     "traceback": [
      "\u001b[0;31m---------------------------------------------------------------------------\u001b[0m",
      "\u001b[0;31mKeyboardInterrupt\u001b[0m                         Traceback (most recent call last)",
      "\u001b[0;32m<ipython-input-14-5d523987e167>\u001b[0m in \u001b[0;36m<module>\u001b[0;34m()\u001b[0m\n\u001b[0;32m----> 1\u001b[0;31m \u001b[0mget_delay\u001b[0m\u001b[0;34m(\u001b[0m\u001b[0mparse_input\u001b[0m\u001b[0;34m(\u001b[0m\u001b[0mlines\u001b[0m\u001b[0;34m)\u001b[0m\u001b[0;34m)\u001b[0m\u001b[0;34m\u001b[0m\u001b[0m\n\u001b[0m",
      "\u001b[0;32m<ipython-input-12-82eb8e69d218>\u001b[0m in \u001b[0;36mget_delay\u001b[0;34m(scanners, skip, initial_delay)\u001b[0m\n\u001b[1;32m      4\u001b[0m         \u001b[0;32mif\u001b[0m \u001b[0mdelay\u001b[0m \u001b[0;34m%\u001b[0m \u001b[0;36m100\u001b[0m \u001b[0;34m==\u001b[0m \u001b[0;36m0\u001b[0m\u001b[0;34m:\u001b[0m\u001b[0;34m\u001b[0m\u001b[0m\n\u001b[1;32m      5\u001b[0m             \u001b[0mprint\u001b[0m\u001b[0;34m(\u001b[0m\u001b[0;34m'Trying delay: '\u001b[0m\u001b[0;34m,\u001b[0m \u001b[0mdelay\u001b[0m\u001b[0;34m)\u001b[0m\u001b[0;34m\u001b[0m\u001b[0m\n\u001b[0;32m----> 6\u001b[0;31m         \u001b[0mcaught\u001b[0m \u001b[0;34m=\u001b[0m \u001b[0mplay_game\u001b[0m\u001b[0;34m(\u001b[0m\u001b[0mlist\u001b[0m\u001b[0;34m(\u001b[0m\u001b[0mscanners\u001b[0m\u001b[0;34m)\u001b[0m\u001b[0;34m,\u001b[0m \u001b[0mdelay\u001b[0m\u001b[0;34m,\u001b[0m \u001b[0mfind_first\u001b[0m\u001b[0;34m=\u001b[0m\u001b[0;32mTrue\u001b[0m\u001b[0;34m)\u001b[0m\u001b[0;34m\u001b[0m\u001b[0m\n\u001b[0m\u001b[1;32m      7\u001b[0m         \u001b[0;32mif\u001b[0m \u001b[0;32mnot\u001b[0m \u001b[0mcaught\u001b[0m\u001b[0;34m:\u001b[0m\u001b[0;34m\u001b[0m\u001b[0m\n\u001b[1;32m      8\u001b[0m             \u001b[0;32mbreak\u001b[0m\u001b[0;34m\u001b[0m\u001b[0m\n",
      "\u001b[0;32m<ipython-input-6-c4914e61126e>\u001b[0m in \u001b[0;36mplay_game\u001b[0;34m(scanners, delay, find_first)\u001b[0m\n\u001b[1;32m      5\u001b[0m     \u001b[0;31m# Wait for delay picoseconds\u001b[0m\u001b[0;34m\u001b[0m\u001b[0;34m\u001b[0m\u001b[0m\n\u001b[1;32m      6\u001b[0m     \u001b[0;32mfor\u001b[0m \u001b[0ml\u001b[0m \u001b[0;32min\u001b[0m \u001b[0mrange\u001b[0m\u001b[0;34m(\u001b[0m\u001b[0mdelay\u001b[0m\u001b[0;34m)\u001b[0m\u001b[0;34m:\u001b[0m\u001b[0;34m\u001b[0m\u001b[0m\n\u001b[0;32m----> 7\u001b[0;31m         \u001b[0mscanners\u001b[0m \u001b[0;34m=\u001b[0m \u001b[0mscanner_move\u001b[0m\u001b[0;34m(\u001b[0m\u001b[0mscanners\u001b[0m\u001b[0;34m)\u001b[0m\u001b[0;34m\u001b[0m\u001b[0m\n\u001b[0m\u001b[1;32m      8\u001b[0m \u001b[0;34m\u001b[0m\u001b[0m\n\u001b[1;32m      9\u001b[0m     \u001b[0;32mfor\u001b[0m \u001b[0ml\u001b[0m \u001b[0;32min\u001b[0m \u001b[0mrange\u001b[0m\u001b[0;34m(\u001b[0m\u001b[0mlen\u001b[0m\u001b[0;34m(\u001b[0m\u001b[0mscanners\u001b[0m\u001b[0;34m)\u001b[0m\u001b[0;34m)\u001b[0m\u001b[0;34m:\u001b[0m\u001b[0;34m\u001b[0m\u001b[0m\n",
      "\u001b[0;32m<ipython-input-4-42878304d090>\u001b[0m in \u001b[0;36mscanner_move\u001b[0;34m(scanners)\u001b[0m\n\u001b[1;32m     18\u001b[0m             \u001b[0;32mcontinue\u001b[0m\u001b[0;34m\u001b[0m\u001b[0m\n\u001b[1;32m     19\u001b[0m \u001b[0;34m\u001b[0m\u001b[0m\n\u001b[0;32m---> 20\u001b[0;31m         \u001b[0mnew_pos\u001b[0m\u001b[0;34m.\u001b[0m\u001b[0mappend\u001b[0m\u001b[0;34m(\u001b[0m\u001b[0;34m(\u001b[0m\u001b[0mscanner_range\u001b[0m\u001b[0;34m,\u001b[0m \u001b[0mscanner_pos\u001b[0m \u001b[0;34m+\u001b[0m \u001b[0mscanner_direction\u001b[0m\u001b[0;34m,\u001b[0m \u001b[0mscanner_direction\u001b[0m\u001b[0;34m)\u001b[0m\u001b[0;34m)\u001b[0m\u001b[0;34m\u001b[0m\u001b[0m\n\u001b[0m\u001b[1;32m     21\u001b[0m     \u001b[0;32mreturn\u001b[0m \u001b[0mnew_pos\u001b[0m\u001b[0;34m\u001b[0m\u001b[0m\n",
      "\u001b[0;31mKeyboardInterrupt\u001b[0m: "
     ]
    }
   ],
   "source": [
    "get_delay(parse_input(lines))"
   ]
  },
  {
   "cell_type": "markdown",
   "metadata": {},
   "source": [
    "# Way too slow!!"
   ]
  },
  {
   "cell_type": "code",
   "execution_count": 15,
   "metadata": {},
   "outputs": [],
   "source": [
    "def scanners_to_fast_scanners(scanners):\n",
    "    fast_scanners = []\n",
    "    idx = 0\n",
    "    for s in scanners:\n",
    "        if s:\n",
    "            fast_scanners.append((idx, 2 * (s[0]-1)))\n",
    "        idx += 1\n",
    "    return fast_scanners "
   ]
  },
  {
   "cell_type": "code",
   "execution_count": 16,
   "metadata": {},
   "outputs": [],
   "source": [
    "assert scanners_to_fast_scanners(parse_input([\n",
    "    '0: 3',\n",
    "    '1: 2',\n",
    "    '4: 4',\n",
    "    '6: 4',\n",
    "])) == [(0, 4), (1, 2), (4, 6), (6, 6)]"
   ]
  },
  {
   "cell_type": "code",
   "execution_count": 17,
   "metadata": {},
   "outputs": [],
   "source": [
    "def get_delay_fast(scanners, skip=1, initial_delay=0, log_every=100000):\n",
    "    fast_scanners = scanners_to_fast_scanners(scanners)\n",
    "    delay = initial_delay\n",
    "    while True:\n",
    "        if delay % log_every == 0:\n",
    "            print('Trying delay: ', delay)\n",
    "        caught = [depth for (depth, repeat) in fast_scanners if (depth + delay) % repeat == 0] \n",
    "        if not caught:\n",
    "            break\n",
    "        # Scanner at depth one only has two positions\n",
    "        delay += skip\n",
    "    return delay"
   ]
  },
  {
   "cell_type": "code",
   "execution_count": 18,
   "metadata": {},
   "outputs": [
    {
     "name": "stdout",
     "output_type": "stream",
     "text": [
      "Trying delay:  0\n"
     ]
    }
   ],
   "source": [
    "assert get_delay_fast(parse_input([\n",
    "    '0: 3',\n",
    "    '1: 2',\n",
    "    '4: 4',\n",
    "    '6: 4',\n",
    "])) == 10"
   ]
  },
  {
   "cell_type": "code",
   "execution_count": 19,
   "metadata": {},
   "outputs": [
    {
     "name": "stdout",
     "output_type": "stream",
     "text": [
      "Trying delay:  100000\n",
      "Trying delay:  200000\n",
      "Trying delay:  300000\n",
      "Trying delay:  400000\n",
      "Trying delay:  500000\n",
      "Trying delay:  600000\n",
      "Trying delay:  700000\n",
      "Trying delay:  800000\n",
      "Trying delay:  900000\n",
      "Trying delay:  1000000\n",
      "Trying delay:  1100000\n",
      "Trying delay:  1200000\n",
      "Trying delay:  1300000\n",
      "Trying delay:  1400000\n",
      "Trying delay:  1500000\n",
      "Trying delay:  1600000\n",
      "Trying delay:  1700000\n",
      "Trying delay:  1800000\n",
      "Trying delay:  1900000\n",
      "Trying delay:  2000000\n",
      "Trying delay:  2100000\n",
      "Trying delay:  2200000\n",
      "Trying delay:  2300000\n",
      "Trying delay:  2400000\n",
      "Trying delay:  2500000\n",
      "Trying delay:  2600000\n",
      "Trying delay:  2700000\n",
      "Trying delay:  2800000\n",
      "Trying delay:  2900000\n",
      "Trying delay:  3000000\n",
      "Trying delay:  3100000\n",
      "Trying delay:  3200000\n",
      "Trying delay:  3300000\n",
      "Trying delay:  3400000\n",
      "Trying delay:  3500000\n",
      "Trying delay:  3600000\n",
      "Trying delay:  3700000\n",
      "Trying delay:  3800000\n",
      "Trying delay:  3900000\n"
     ]
    },
    {
     "data": {
      "text/plain": [
       "3933124"
      ]
     },
     "execution_count": 19,
     "metadata": {},
     "output_type": "execute_result"
    }
   ],
   "source": [
    "get_delay_fast(parse_input(lines), 2, 22800)"
   ]
  },
  {
   "cell_type": "code",
   "execution_count": null,
   "metadata": {},
   "outputs": [],
   "source": []
  }
 ],
 "metadata": {
  "kernelspec": {
   "display_name": "Python 3",
   "language": "python",
   "name": "python3"
  },
  "language_info": {
   "codemirror_mode": {
    "name": "ipython",
    "version": 3
   },
   "file_extension": ".py",
   "mimetype": "text/x-python",
   "name": "python",
   "nbconvert_exporter": "python",
   "pygments_lexer": "ipython3",
   "version": "3.6.0"
  }
 },
 "nbformat": 4,
 "nbformat_minor": 2
}
