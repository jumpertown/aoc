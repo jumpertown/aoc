{
 "cells": [
  {
   "cell_type": "code",
   "execution_count": 1,
   "metadata": {},
   "outputs": [],
   "source": [
    "def to_grid(directions):\n",
    "    grid = {\n",
    "        'n': 0,\n",
    "        'ne': 0,\n",
    "        'se': 0,\n",
    "        's': 0,\n",
    "        'sw': 0,\n",
    "        'nw': 0,\n",
    "    }\n",
    "    for direction in directions:\n",
    "        grid[direction] += 1\n",
    "    return dict(grid)"
   ]
  },
  {
   "cell_type": "code",
   "execution_count": 2,
   "metadata": {},
   "outputs": [
    {
     "data": {
      "text/plain": [
       "{'n': 0, 'ne': 0, 'nw': 0, 's': 0, 'se': 2, 'sw': 3}"
      ]
     },
     "execution_count": 2,
     "metadata": {},
     "output_type": "execute_result"
    }
   ],
   "source": [
    "to_grid('se,sw,se,sw,sw'.split(','))"
   ]
  },
  {
   "cell_type": "code",
   "execution_count": 3,
   "metadata": {},
   "outputs": [],
   "source": [
    "def reduce_grid_dimensions(grid):\n",
    "    reduced_grid = dict(grid)\n",
    "    \n",
    "    # Reduce dimensions\n",
    "    for comb1, comb2, target in (\n",
    "        ('ne', 'nw', 'n'),  # ne + nw = n\n",
    "        ('se', 'sw', 's'),\n",
    "        ('se', 'nw', None),  # Opposites\n",
    "        ('sw', 'ne', None),\n",
    "        ('s', 'n', None),\n",
    "        ('s', 'ne', 'se'),  # Now down to max three dirs s + ne = s\n",
    "        ('s', 'nw', 'sw'),  # brings down to two.\n",
    "        ('n', 'se', 'ne'),\n",
    "        ('n', 'sw', 'nw')    \n",
    "    ):\n",
    "        steps = min([reduced_grid[comb1], reduced_grid[comb2]])\n",
    "        reduced_grid[comb1] = reduced_grid[comb1] - steps if reduced_grid[comb1] > steps else 0\n",
    "        reduced_grid[comb2] = reduced_grid[comb2] - steps if reduced_grid[comb2] > steps else 0\n",
    "        if target:\n",
    "            reduced_grid[target] += steps\n",
    "\n",
    "    return dict(reduced_grid)"
   ]
  },
  {
   "cell_type": "code",
   "execution_count": 4,
   "metadata": {},
   "outputs": [
    {
     "data": {
      "text/plain": [
       "{'n': 0, 'ne': 0, 'nw': 0, 's': 2, 'se': 2, 'sw': 0}"
      ]
     },
     "execution_count": 4,
     "metadata": {},
     "output_type": "execute_result"
    }
   ],
   "source": [
    "path = 'n,n,ne,ne,ne,ne,ne,se,se,se,se,se,se,se,s,s,s,sw,sw,sw,sw,sw,sw,nw,nw,nw,nw'\n",
    "grid = to_grid(path.split(','))\n",
    "reduce_grid_dimensions(grid)"
   ]
  },
  {
   "cell_type": "code",
   "execution_count": 5,
   "metadata": {},
   "outputs": [],
   "source": [
    "with open('hex_path.txt') as fh:\n",
    "    puzzle_input = fh.read()"
   ]
  },
  {
   "cell_type": "code",
   "execution_count": 6,
   "metadata": {},
   "outputs": [],
   "source": [
    "puzzle_input = puzzle_input.strip()\n",
    "puzzle_input = puzzle_input.split(',')"
   ]
  },
  {
   "cell_type": "code",
   "execution_count": 7,
   "metadata": {},
   "outputs": [],
   "source": [
    "grid = reduce_grid_dimensions(to_grid(puzzle_input))"
   ]
  },
  {
   "cell_type": "code",
   "execution_count": 8,
   "metadata": {},
   "outputs": [
    {
     "data": {
      "text/plain": [
       "{'n': 0, 'ne': 0, 'nw': 0, 's': 489, 'se': 258, 'sw': 0}"
      ]
     },
     "execution_count": 8,
     "metadata": {},
     "output_type": "execute_result"
    }
   ],
   "source": [
    "grid"
   ]
  },
  {
   "cell_type": "code",
   "execution_count": 9,
   "metadata": {},
   "outputs": [
    {
     "name": "stdout",
     "output_type": "stream",
     "text": [
      "1544\n"
     ]
    }
   ],
   "source": [
    "mx = 0\n",
    "for s in range(len(puzzle_input)):\n",
    "    grid = reduce_grid_dimensions(to_grid(puzzle_input[0:s]))\n",
    "    dist = (sum(grid.values()))\n",
    "    if dist > mx:\n",
    "        mx = dist\n",
    "print(mx)"
   ]
  },
  {
   "cell_type": "code",
   "execution_count": null,
   "metadata": {},
   "outputs": [],
   "source": []
  }
 ],
 "metadata": {
  "kernelspec": {
   "display_name": "Python 3",
   "language": "python",
   "name": "python3"
  },
  "language_info": {
   "codemirror_mode": {
    "name": "ipython",
    "version": 3
   },
   "file_extension": ".py",
   "mimetype": "text/x-python",
   "name": "python",
   "nbconvert_exporter": "python",
   "pygments_lexer": "ipython3",
   "version": "3.6.0"
  }
 },
 "nbformat": 4,
 "nbformat_minor": 2
}
